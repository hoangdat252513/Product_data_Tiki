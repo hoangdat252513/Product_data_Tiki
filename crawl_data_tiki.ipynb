{
  "nbformat": 4,
  "nbformat_minor": 0,
  "metadata": {
    "colab": {
      "provenance": [],
      "toc_visible": true
    },
    "kernelspec": {
      "name": "python3",
      "display_name": "Python 3"
    },
    "language_info": {
      "name": "python"
    }
  },
  "cells": [
    {
      "cell_type": "code",
      "execution_count": null,
      "metadata": {
        "id": "tIiq4rQh8aMO"
      },
      "outputs": [],
      "source": [
        "import pandas as pd\n",
        "import numpy as np\n",
        "import requests\n",
        "import time\n",
        "import random\n",
        "from tqdm import tqdm\n",
        "import json"
      ]
    },
    {
      "cell_type": "code",
      "source": [
        "cookies = {\n",
        "    'TIKI_GUEST_TOKEN': '92ab101f-ce6b-23b0-8985-82fc8ecc43e9',\n",
        "    'TOKENS': '{%22access_token%22:%22CDtngIjEHO9wkPSdZVicmvoLpq4eTN7F%22}',\n",
        "    'delivery_zone': 'Vk4wMzkwMDYwMDE= ',\n",
        "    '_gid': 'GA1.2.1538172037.1686981394',\n",
        "    'tiki_client_id': '1634355494.1686981394',\n",
        "    '_gcl_au': '1.1.1078875446.1686981434',\n",
        "    '_hjSessionUser_522327': 'eyJpZCI6IjNmZjg1NWQ0LTFhMjYtNWFlZS1hMTk5LTYzZTk1M2M2OWEwZSIsImNyZWF0ZWQiOjE2Nzg1Mzg0ODgwNTksImV4aXN0aW5nIjp0cnVlfQ==',\n",
        "    '__uidac': '484ad2540e4996ff9a668885198c8b7d',\n",
        "    '__iid': '749',\n",
        "    '__iid': '749',\n",
        "    '__su': '0',\n",
        "    '__su': '0',\n",
        "    '_hjSession_522327': 'eyJpZCI6IjQzZDk4ZDZkLWM4NzYtNDFkOC1iNjIwLTAwMjc3M2ViYzE1OCIsImNyZWF0ZWQiOjE2ODcwMjg1MzY3NTUsImluU2FtcGxlIjpmYWxzZX0=',\n",
        "    '_hjAbsoluteSessionInProgress': '0',\n",
        "    'TIKI_RECOMMENDATION': '3dee37885d9ce0baa553e8946f887771',\n",
        "    'TKSESSID': '143776d84cdbb8d3a6c7238419c4c9dd',\n",
        "    'amp_99d374': '_90Wq28kHCLmjvSvgy_E8a...1h35fdpb6.1h35fdqll.o.1f.27',\n",
        "    '_ga': 'GA1.1.1634355494.1686981394',\n",
        "    '_hjIncludedInSessionSample_522327': '0',\n",
        "    'cto_bundle': 'y3KALV9QNnVvSkVDNnhRQ29xcXpKQ2wyMk5rSnpvUTRQRnEyTVRJTGklMkZHSWJZMzZyODBxMWkzUHgyekxBR2x6Rm5HOXlzYUdxeFAlMkJwWjdaUVNPS1JNMWRST2QxSlZxbDAlMkJCN1JOcmRxV0cxR3BYclMyRDFIYnExTE5DJTJGZXVKbFdCdVVt',\n",
        "    '_ga_GSD4ETCY1D': 'GS1.1.1687032364.5.0.1687032538.60.0.0'\n",
        "}\n",
        "\n",
        "headers = {\n",
        "    'User-Agent': 'Mozilla/5.0 (Windows NT 10.0; Win64; x64) AppleWebKit/537.36 (KHTML, like Gecko) Chrome/114.0.0.0 Safari/537.36 Edg/114.0.1823.51',\n",
        "    'Accept': 'application/json, text/plain, */*',\n",
        "    'Accept-Language': 'en-US,en;q=0.9',\n",
        "    'Referer': 'https://tiki.vn/sach-kien-thuc-tong-hop/c873',\n",
        "    'x-guest-token': 'CDtngIjEHO9wkPSdZVicmvoLpq4eTN7F',\n",
        "    'Connection': 'keep-alive',\n",
        "    'TE': 'Trailers',\n",
        "}\n",
        "\n",
        "params = {\n",
        "    'limit': '100',\n",
        "    'include': 'advertisement',\n",
        "    'aggregations': '2',\n",
        "    'trackity_id': '92ab101f-ce6b-23b0-8985-82fc8ecc43e9',\n",
        "    'category': '873',\n",
        "    'page': '1',\n",
        "    'urlKey':  'sach-kien-thuc-tong-hop',\n",
        "}"
      ],
      "metadata": {
        "id": "RSqZHkq5Csxi"
      },
      "execution_count": null,
      "outputs": []
    },
    {
      "cell_type": "markdown",
      "source": [
        "# Take product Id"
      ],
      "metadata": {
        "id": "5Vgmwmw2HH9d"
      }
    },
    {
      "cell_type": "markdown",
      "source": [
        "https://tiki.vn/laptop-may-vi-tinh-linh-kien/c1846\n",
        "\n",
        "https://tiki.vn/sach-kien-thuc-tong-hop/c873"
      ],
      "metadata": {
        "id": "w5oCy5Ho8bd4"
      }
    },
    {
      "cell_type": "code",
      "source": [
        "product_id = []\n",
        "i = 1\n",
        "while True:\n",
        "    params['page'] = i\n",
        "    response = requests.get('https://tiki.vn/api/personalish/v1/blocks/listings', headers = headers, params = params) # cookies = cookies\n",
        "    if response.status_code == 200: # access succeed\n",
        "        print('access succeed page {}'.format(i))\n",
        "        for record in response.json().get('data'):\n",
        "            product_id.append({'id': record.get('id')})\n",
        "    elif response.status_code >= 400: # access error\n",
        "        break\n",
        "    i += 1\n",
        "    time.sleep(random.randrange(3, 5))\n",
        "\n",
        "df = pd.DataFrame(product_id)\n",
        "df.to_csv('product_id_data_tiki.csv', index = False)\n",
        "df"
      ],
      "metadata": {
        "colab": {
          "base_uri": "https://localhost:8080/",
          "height": 857
        },
        "id": "8PQm4uunAxI9",
        "outputId": "afd6a747-f503-4c5b-b3a7-44d58c06005a"
      },
      "execution_count": null,
      "outputs": [
        {
          "output_type": "stream",
          "name": "stdout",
          "text": [
            "access succeed page 1\n",
            "access succeed page 2\n",
            "access succeed page 3\n",
            "access succeed page 4\n",
            "access succeed page 5\n",
            "access succeed page 6\n",
            "access succeed page 7\n",
            "access succeed page 8\n",
            "access succeed page 9\n",
            "access succeed page 10\n",
            "access succeed page 11\n",
            "access succeed page 12\n",
            "access succeed page 13\n",
            "access succeed page 14\n",
            "access succeed page 15\n",
            "access succeed page 16\n",
            "access succeed page 17\n",
            "access succeed page 18\n",
            "access succeed page 19\n",
            "access succeed page 20\n",
            "access succeed page 21\n",
            "access succeed page 22\n",
            "access succeed page 23\n",
            "access succeed page 24\n",
            "access succeed page 25\n"
          ]
        },
        {
          "output_type": "execute_result",
          "data": {
            "text/plain": [
              "             id\n",
              "0      73787185\n",
              "1     161008715\n",
              "2      74362508\n",
              "3     115795395\n",
              "4      21367457\n",
              "...         ...\n",
              "1995  205218124\n",
              "1996  212324229\n",
              "1997  213794737\n",
              "1998  127250552\n",
              "1999  215727474\n",
              "\n",
              "[2000 rows x 1 columns]"
            ],
            "text/html": [
              "\n",
              "  <div id=\"df-2b373955-c4e7-4ed2-80a5-00c01ccc0595\">\n",
              "    <div class=\"colab-df-container\">\n",
              "      <div>\n",
              "<style scoped>\n",
              "    .dataframe tbody tr th:only-of-type {\n",
              "        vertical-align: middle;\n",
              "    }\n",
              "\n",
              "    .dataframe tbody tr th {\n",
              "        vertical-align: top;\n",
              "    }\n",
              "\n",
              "    .dataframe thead th {\n",
              "        text-align: right;\n",
              "    }\n",
              "</style>\n",
              "<table border=\"1\" class=\"dataframe\">\n",
              "  <thead>\n",
              "    <tr style=\"text-align: right;\">\n",
              "      <th></th>\n",
              "      <th>id</th>\n",
              "    </tr>\n",
              "  </thead>\n",
              "  <tbody>\n",
              "    <tr>\n",
              "      <th>0</th>\n",
              "      <td>73787185</td>\n",
              "    </tr>\n",
              "    <tr>\n",
              "      <th>1</th>\n",
              "      <td>161008715</td>\n",
              "    </tr>\n",
              "    <tr>\n",
              "      <th>2</th>\n",
              "      <td>74362508</td>\n",
              "    </tr>\n",
              "    <tr>\n",
              "      <th>3</th>\n",
              "      <td>115795395</td>\n",
              "    </tr>\n",
              "    <tr>\n",
              "      <th>4</th>\n",
              "      <td>21367457</td>\n",
              "    </tr>\n",
              "    <tr>\n",
              "      <th>...</th>\n",
              "      <td>...</td>\n",
              "    </tr>\n",
              "    <tr>\n",
              "      <th>1995</th>\n",
              "      <td>205218124</td>\n",
              "    </tr>\n",
              "    <tr>\n",
              "      <th>1996</th>\n",
              "      <td>212324229</td>\n",
              "    </tr>\n",
              "    <tr>\n",
              "      <th>1997</th>\n",
              "      <td>213794737</td>\n",
              "    </tr>\n",
              "    <tr>\n",
              "      <th>1998</th>\n",
              "      <td>127250552</td>\n",
              "    </tr>\n",
              "    <tr>\n",
              "      <th>1999</th>\n",
              "      <td>215727474</td>\n",
              "    </tr>\n",
              "  </tbody>\n",
              "</table>\n",
              "<p>2000 rows × 1 columns</p>\n",
              "</div>\n",
              "      <button class=\"colab-df-convert\" onclick=\"convertToInteractive('df-2b373955-c4e7-4ed2-80a5-00c01ccc0595')\"\n",
              "              title=\"Convert this dataframe to an interactive table.\"\n",
              "              style=\"display:none;\">\n",
              "        \n",
              "  <svg xmlns=\"http://www.w3.org/2000/svg\" height=\"24px\"viewBox=\"0 0 24 24\"\n",
              "       width=\"24px\">\n",
              "    <path d=\"M0 0h24v24H0V0z\" fill=\"none\"/>\n",
              "    <path d=\"M18.56 5.44l.94 2.06.94-2.06 2.06-.94-2.06-.94-.94-2.06-.94 2.06-2.06.94zm-11 1L8.5 8.5l.94-2.06 2.06-.94-2.06-.94L8.5 2.5l-.94 2.06-2.06.94zm10 10l.94 2.06.94-2.06 2.06-.94-2.06-.94-.94-2.06-.94 2.06-2.06.94z\"/><path d=\"M17.41 7.96l-1.37-1.37c-.4-.4-.92-.59-1.43-.59-.52 0-1.04.2-1.43.59L10.3 9.45l-7.72 7.72c-.78.78-.78 2.05 0 2.83L4 21.41c.39.39.9.59 1.41.59.51 0 1.02-.2 1.41-.59l7.78-7.78 2.81-2.81c.8-.78.8-2.07 0-2.86zM5.41 20L4 18.59l7.72-7.72 1.47 1.35L5.41 20z\"/>\n",
              "  </svg>\n",
              "      </button>\n",
              "      \n",
              "  <style>\n",
              "    .colab-df-container {\n",
              "      display:flex;\n",
              "      flex-wrap:wrap;\n",
              "      gap: 12px;\n",
              "    }\n",
              "\n",
              "    .colab-df-convert {\n",
              "      background-color: #E8F0FE;\n",
              "      border: none;\n",
              "      border-radius: 50%;\n",
              "      cursor: pointer;\n",
              "      display: none;\n",
              "      fill: #1967D2;\n",
              "      height: 32px;\n",
              "      padding: 0 0 0 0;\n",
              "      width: 32px;\n",
              "    }\n",
              "\n",
              "    .colab-df-convert:hover {\n",
              "      background-color: #E2EBFA;\n",
              "      box-shadow: 0px 1px 2px rgba(60, 64, 67, 0.3), 0px 1px 3px 1px rgba(60, 64, 67, 0.15);\n",
              "      fill: #174EA6;\n",
              "    }\n",
              "\n",
              "    [theme=dark] .colab-df-convert {\n",
              "      background-color: #3B4455;\n",
              "      fill: #D2E3FC;\n",
              "    }\n",
              "\n",
              "    [theme=dark] .colab-df-convert:hover {\n",
              "      background-color: #434B5C;\n",
              "      box-shadow: 0px 1px 3px 1px rgba(0, 0, 0, 0.15);\n",
              "      filter: drop-shadow(0px 1px 2px rgba(0, 0, 0, 0.3));\n",
              "      fill: #FFFFFF;\n",
              "    }\n",
              "  </style>\n",
              "\n",
              "      <script>\n",
              "        const buttonEl =\n",
              "          document.querySelector('#df-2b373955-c4e7-4ed2-80a5-00c01ccc0595 button.colab-df-convert');\n",
              "        buttonEl.style.display =\n",
              "          google.colab.kernel.accessAllowed ? 'block' : 'none';\n",
              "\n",
              "        async function convertToInteractive(key) {\n",
              "          const element = document.querySelector('#df-2b373955-c4e7-4ed2-80a5-00c01ccc0595');\n",
              "          const dataTable =\n",
              "            await google.colab.kernel.invokeFunction('convertToInteractive',\n",
              "                                                     [key], {});\n",
              "          if (!dataTable) return;\n",
              "\n",
              "          const docLinkHtml = 'Like what you see? Visit the ' +\n",
              "            '<a target=\"_blank\" href=https://colab.research.google.com/notebooks/data_table.ipynb>data table notebook</a>'\n",
              "            + ' to learn more about interactive tables.';\n",
              "          element.innerHTML = '';\n",
              "          dataTable['output_type'] = 'display_data';\n",
              "          await google.colab.output.renderOutput(dataTable, element);\n",
              "          const docLink = document.createElement('div');\n",
              "          docLink.innerHTML = docLinkHtml;\n",
              "          element.appendChild(docLink);\n",
              "        }\n",
              "      </script>\n",
              "    </div>\n",
              "  </div>\n",
              "  "
            ]
          },
          "metadata": {},
          "execution_count": 7
        }
      ]
    },
    {
      "cell_type": "markdown",
      "source": [
        "# Take product data from product Id"
      ],
      "metadata": {
        "id": "ywUJg2IVQ3LE"
      }
    },
    {
      "cell_type": "code",
      "source": [
        "headers = {\n",
        "    'User-Agent': 'Mozilla/5.0 (Windows NT 10.0; Win64; x64) AppleWebKit/537.36 (KHTML, like Gecko) Chrome/114.0.0.0 Safari/537.36 Edg/114.0.1823.43',\n",
        "    'Accept': 'application/json, text/plain, */*',\n",
        "    'Accept-Language': 'en-US,en;q=0.9',\n",
        "    'Referer': 'https://tiki.vn/nhung-tu-nhan-cua-dia-ly-p73787185.html?itm_campaign=CTP_YPD_TKA_PLA_UNK_ALL_UNK_UNK_UNK_UNK_X.124269_Y.1222467_Z.2137272_CN.Nhung-Tu-Nhan-Cua-%C4%90ia-Ly&itm_medium=CPC&itm_source=tiki-ads&spid=74220460',\n",
        "    'x-guest-token': 'CDtngIjEHO9wkPSdZVicmvoLpq4eTN7F',\n",
        "    'Connection': 'keep-alive',\n",
        "    'TE': 'Trailers',\n",
        "}\n",
        "\n",
        "params = {\n",
        "    'platform': 'web',\n",
        "    'spid': '74220460'\n",
        "}"
      ],
      "metadata": {
        "id": "lMfhzEUBRuEh"
      },
      "execution_count": null,
      "outputs": []
    },
    {
      "cell_type": "code",
      "source": [
        "def parse_product(json):\n",
        "    data = dict()\n",
        "    data['id'] = json.get('id')\n",
        "    data['product_name'] = json.get('meta_title')\n",
        "    data['product_type'] = json.get('type')\n",
        "    data['inventory_status'] = json.get('inventory_status')\n",
        "    data['day_ago_created'] = json.get('day_ago_created')\n",
        "    data['favourite_count'] = json.get('favourite_count')\n",
        "    data['list_price'] = json.get('list_price')\n",
        "    data['original_price'] = json.get('original_price')\n",
        "    data['price'] = json.get('price')\n",
        "    data['discount'] = json.get('discount')\n",
        "    data['discount_rate'] = json.get('discount_rate')\n",
        "    data['quantity_sold'] = json.get('all_time_quantity_sold')\n",
        "    data['rating_average'] = json.get('rating_average')\n",
        "    data['review_count'] = json.get('review_count')\n",
        "\n",
        "    if data['inventory_status'] != 'out_of_stock':\n",
        "        stock = json.get('stock_item')\n",
        "        if stock != []:\n",
        "            data['stock_item_qty'] = json.get('stock_item')['qty']\n",
        "            data['stock_item_max_sale_qty'] = json.get('stock_item')['max_sale_qty']\n",
        "            data['stock_item_min_sale_qty'] = json.get('stock_item')['min_sale_qty']\n",
        "        else:\n",
        "            data['stock_item_qty'] = np.nan\n",
        "            data['stock_item_max_sale_qty'] = np.nan\n",
        "            data['stock_item_min_sale_qty'] = np.nan\n",
        "    else:\n",
        "            data['stock_item_qty'] = np.nan\n",
        "            data['stock_item_max_sale_qty'] = np.nan\n",
        "            data['stock_item_min_sale_qty'] = np.nan\n",
        "\n",
        "    data['short_url'] = json.get('short_url')\n",
        "    data['sku'] = json.get('sku')\n",
        "    data['short_description'] = json.get('short_description')\n",
        "\n",
        "    warranty_time = json.get('warranty_info')\n",
        "    if (warranty_time == []) or (not warranty_time):\n",
        "        data['warranty_time'] = np.nan\n",
        "        data['warranty_type'] = np.nan\n",
        "    else:\n",
        "        len_info = len(json.get('warranty_info'))\n",
        "        data['warranty_time'] = json.get('warranty_info')[0]['value']\n",
        "        if len_info > 1:\n",
        "            data['warranty_type'] = json.get('warranty_info')[1]['value']\n",
        "        else:\n",
        "            data['warranty_type'] = np.nan\n",
        "\n",
        "    return data"
      ],
      "metadata": {
        "id": "i4-mQhzAFqeV"
      },
      "execution_count": null,
      "outputs": []
    },
    {
      "cell_type": "code",
      "source": [
        "p_id = 253297668\n",
        "asd = requests.get('https://tiki.vn/api/v2/products/{}'.format(p_id),  headers=headers, params=params, cookies=cookies)\n",
        "asd"
      ],
      "metadata": {
        "colab": {
          "base_uri": "https://localhost:8080/"
        },
        "id": "woKr0w5VXLE8",
        "outputId": "b0756d24-2fe1-4feb-dbe2-78608e83292e"
      },
      "execution_count": null,
      "outputs": [
        {
          "output_type": "execute_result",
          "data": {
            "text/plain": [
              "<Response [200]>"
            ]
          },
          "metadata": {},
          "execution_count": 22
        }
      ]
    },
    {
      "cell_type": "code",
      "source": [
        "k = asd.json().get('warranty_info')\n",
        "k"
      ],
      "metadata": {
        "id": "HPXj3VvsXYLD"
      },
      "execution_count": null,
      "outputs": []
    },
    {
      "cell_type": "code",
      "source": [
        "list_pid = df['id'].to_list()\n",
        "product_data = []\n",
        "for p_id in tqdm(list_pid, total = len(list_pid)):\n",
        "    response = requests.get('https://tiki.vn/api/v2/products/{}'.format(p_id),  headers=headers, params=params, cookies=cookies)\n",
        "    if response.status_code == 200:\n",
        "        print('Crawl data with product_id {}'.format(p_id))\n",
        "        try:\n",
        "            product_data.append(parse_product(response.json()))\n",
        "        except json.JSONDecodeError as e:\n",
        "            print(f\"Error parsing JSON for product_id {p_id}: {e}\")\n",
        "            continue\n",
        "    time.sleep(random.randrange(3, 5))\n",
        "df_product = pd.DataFrame(product_data)\n",
        "df_product.to_csv('product_data_tiki.csv', index=False)"
      ],
      "metadata": {
        "colab": {
          "base_uri": "https://localhost:8080/"
        },
        "id": "Es5YpkTZSjm_",
        "outputId": "54b0fa2e-83d2-4f9e-d3c0-803b974baece"
      },
      "execution_count": null,
      "outputs": [
        {
          "output_type": "stream",
          "name": "stderr",
          "text": [
            "\r  0%|          | 0/2000 [00:00<?, ?it/s]"
          ]
        },
        {
          "output_type": "stream",
          "name": "stdout",
          "text": [
            "Crawl data with product_id 73787185\n"
          ]
        },
        {
          "output_type": "stream",
          "name": "stderr",
          "text": [
            "\r  0%|          | 1/2000 [00:04<2:25:10,  4.36s/it]"
          ]
        },
        {
          "output_type": "stream",
          "name": "stdout",
          "text": [
            "Crawl data with product_id 161008715\n"
          ]
        },
        {
          "output_type": "stream",
          "name": "stderr",
          "text": [
            "\r  0%|          | 2/2000 [00:07<2:05:39,  3.77s/it]"
          ]
        },
        {
          "output_type": "stream",
          "name": "stdout",
          "text": [
            "Crawl data with product_id 74362508\n"
          ]
        },
        {
          "output_type": "stream",
          "name": "stderr",
          "text": [
            "\r  0%|          | 3/2000 [00:12<2:13:57,  4.02s/it]"
          ]
        },
        {
          "output_type": "stream",
          "name": "stdout",
          "text": [
            "Crawl data with product_id 115795395\n"
          ]
        },
        {
          "output_type": "stream",
          "name": "stderr",
          "text": [
            "\r  0%|          | 4/2000 [00:16<2:17:16,  4.13s/it]"
          ]
        },
        {
          "output_type": "stream",
          "name": "stdout",
          "text": [
            "Crawl data with product_id 21367457\n"
          ]
        },
        {
          "output_type": "stream",
          "name": "stderr",
          "text": [
            "\r  0%|          | 5/2000 [00:20<2:19:23,  4.19s/it]"
          ]
        },
        {
          "output_type": "stream",
          "name": "stdout",
          "text": [
            "Crawl data with product_id 207256575\n"
          ]
        },
        {
          "output_type": "stream",
          "name": "stderr",
          "text": [
            "\r  0%|          | 6/2000 [00:24<2:20:44,  4.23s/it]"
          ]
        },
        {
          "output_type": "stream",
          "name": "stdout",
          "text": [
            "Crawl data with product_id 73787185\n"
          ]
        },
        {
          "output_type": "stream",
          "name": "stderr",
          "text": [
            "\r  0%|          | 7/2000 [00:28<2:11:09,  3.95s/it]"
          ]
        },
        {
          "output_type": "stream",
          "name": "stdout",
          "text": [
            "Crawl data with product_id 74362508\n"
          ]
        },
        {
          "output_type": "stream",
          "name": "stderr",
          "text": [
            "\r  0%|          | 8/2000 [00:31<2:04:31,  3.75s/it]"
          ]
        },
        {
          "output_type": "stream",
          "name": "stdout",
          "text": [
            "Crawl data with product_id 204078065\n"
          ]
        },
        {
          "output_type": "stream",
          "name": "stderr",
          "text": [
            "\r  0%|          | 9/2000 [00:34<2:00:09,  3.62s/it]"
          ]
        },
        {
          "output_type": "stream",
          "name": "stdout",
          "text": [
            "Crawl data with product_id 94173458\n"
          ]
        },
        {
          "output_type": "stream",
          "name": "stderr",
          "text": [
            "\r  0%|          | 10/2000 [00:38<1:57:17,  3.54s/it]"
          ]
        },
        {
          "output_type": "stream",
          "name": "stdout",
          "text": [
            "Crawl data with product_id 63587072\n"
          ]
        },
        {
          "output_type": "stream",
          "name": "stderr",
          "text": [
            "\r  1%|          | 11/2000 [00:42<2:05:37,  3.79s/it]"
          ]
        },
        {
          "output_type": "stream",
          "name": "stdout",
          "text": [
            "Crawl data with product_id 192020150\n"
          ]
        },
        {
          "output_type": "stream",
          "name": "stderr",
          "text": [
            "\r  1%|          | 12/2000 [00:47<2:11:03,  3.96s/it]"
          ]
        },
        {
          "output_type": "stream",
          "name": "stdout",
          "text": [
            "Crawl data with product_id 208289682\n"
          ]
        },
        {
          "output_type": "stream",
          "name": "stderr",
          "text": [
            "\r  1%|          | 13/2000 [00:50<2:04:33,  3.76s/it]"
          ]
        },
        {
          "output_type": "stream",
          "name": "stdout",
          "text": [
            "Crawl data with product_id 69644752\n"
          ]
        },
        {
          "output_type": "stream",
          "name": "stderr",
          "text": [
            "\r  1%|          | 14/2000 [00:53<2:00:26,  3.64s/it]"
          ]
        },
        {
          "output_type": "stream",
          "name": "stdout",
          "text": [
            "Crawl data with product_id 159484590\n"
          ]
        },
        {
          "output_type": "stream",
          "name": "stderr",
          "text": [
            "\r  1%|          | 15/2000 [00:58<2:07:07,  3.84s/it]"
          ]
        },
        {
          "output_type": "stream",
          "name": "stdout",
          "text": [
            "Crawl data with product_id 188940817\n"
          ]
        },
        {
          "output_type": "stream",
          "name": "stderr",
          "text": [
            "\r  1%|          | 16/2000 [01:02<2:11:48,  3.99s/it]"
          ]
        },
        {
          "output_type": "stream",
          "name": "stdout",
          "text": [
            "Crawl data with product_id 97594364\n"
          ]
        },
        {
          "output_type": "stream",
          "name": "stderr",
          "text": [
            "\r  1%|          | 17/2000 [01:06<2:15:15,  4.09s/it]"
          ]
        },
        {
          "output_type": "stream",
          "name": "stdout",
          "text": [
            "Crawl data with product_id 198414891\n"
          ]
        },
        {
          "output_type": "stream",
          "name": "stderr",
          "text": [
            "\r  1%|          | 18/2000 [01:10<2:17:34,  4.16s/it]"
          ]
        },
        {
          "output_type": "stream",
          "name": "stdout",
          "text": [
            "Crawl data with product_id 215141307\n"
          ]
        },
        {
          "output_type": "stream",
          "name": "stderr",
          "text": [
            "\r  1%|          | 19/2000 [01:15<2:19:20,  4.22s/it]"
          ]
        },
        {
          "output_type": "stream",
          "name": "stdout",
          "text": [
            "Crawl data with product_id 208289515\n"
          ]
        },
        {
          "output_type": "stream",
          "name": "stderr",
          "text": [
            "\r  1%|          | 20/2000 [01:18<2:10:35,  3.96s/it]"
          ]
        },
        {
          "output_type": "stream",
          "name": "stdout",
          "text": [
            "Crawl data with product_id 215699676\n"
          ]
        },
        {
          "output_type": "stream",
          "name": "stderr",
          "text": [
            "\r  1%|          | 21/2000 [01:22<2:04:08,  3.76s/it]"
          ]
        },
        {
          "output_type": "stream",
          "name": "stdout",
          "text": [
            "Crawl data with product_id 136143567\n"
          ]
        },
        {
          "output_type": "stream",
          "name": "stderr",
          "text": [
            "\r  1%|          | 22/2000 [01:25<1:59:38,  3.63s/it]"
          ]
        },
        {
          "output_type": "stream",
          "name": "stdout",
          "text": [
            "Crawl data with product_id 59049716\n"
          ]
        },
        {
          "output_type": "stream",
          "name": "stderr",
          "text": [
            "\r  1%|          | 23/2000 [01:28<1:56:49,  3.55s/it]"
          ]
        },
        {
          "output_type": "stream",
          "name": "stdout",
          "text": [
            "Crawl data with product_id 215185958\n"
          ]
        },
        {
          "output_type": "stream",
          "name": "stderr",
          "text": [
            "\r  1%|          | 24/2000 [01:32<1:54:52,  3.49s/it]"
          ]
        },
        {
          "output_type": "stream",
          "name": "stdout",
          "text": [
            "Crawl data with product_id 202895291\n"
          ]
        },
        {
          "output_type": "stream",
          "name": "stderr",
          "text": [
            "\r  1%|▏         | 25/2000 [01:36<2:03:01,  3.74s/it]"
          ]
        },
        {
          "output_type": "stream",
          "name": "stdout",
          "text": [
            "Crawl data with product_id 155550591\n"
          ]
        },
        {
          "output_type": "stream",
          "name": "stderr",
          "text": [
            "\r  1%|▏         | 26/2000 [01:39<1:58:57,  3.62s/it]"
          ]
        },
        {
          "output_type": "stream",
          "name": "stdout",
          "text": [
            "Crawl data with product_id 206676975\n"
          ]
        },
        {
          "output_type": "stream",
          "name": "stderr",
          "text": [
            "\r  1%|▏         | 27/2000 [01:43<2:05:45,  3.82s/it]"
          ]
        },
        {
          "output_type": "stream",
          "name": "stdout",
          "text": [
            "Crawl data with product_id 249157126\n"
          ]
        },
        {
          "output_type": "stream",
          "name": "stderr",
          "text": [
            "\r  1%|▏         | 28/2000 [01:48<2:10:51,  3.98s/it]"
          ]
        },
        {
          "output_type": "stream",
          "name": "stdout",
          "text": [
            "Crawl data with product_id 208289682\n"
          ]
        },
        {
          "output_type": "stream",
          "name": "stderr",
          "text": [
            "\r  1%|▏         | 29/2000 [01:51<2:03:58,  3.77s/it]"
          ]
        },
        {
          "output_type": "stream",
          "name": "stdout",
          "text": [
            "Crawl data with product_id 106365090\n"
          ]
        },
        {
          "output_type": "stream",
          "name": "stderr",
          "text": [
            "\r  2%|▏         | 30/2000 [01:55<2:09:27,  3.94s/it]"
          ]
        },
        {
          "output_type": "stream",
          "name": "stdout",
          "text": [
            "Crawl data with product_id 153521878\n"
          ]
        },
        {
          "output_type": "stream",
          "name": "stderr",
          "text": [
            "\r  2%|▏         | 31/2000 [01:59<2:03:11,  3.75s/it]"
          ]
        },
        {
          "output_type": "stream",
          "name": "stdout",
          "text": [
            "Crawl data with product_id 208124554\n"
          ]
        },
        {
          "output_type": "stream",
          "name": "stderr",
          "text": [
            "\r  2%|▏         | 32/2000 [02:02<1:58:46,  3.62s/it]"
          ]
        },
        {
          "output_type": "stream",
          "name": "stdout",
          "text": [
            "Crawl data with product_id 78632968\n"
          ]
        },
        {
          "output_type": "stream",
          "name": "stderr",
          "text": [
            "\r  2%|▏         | 33/2000 [02:05<1:55:55,  3.54s/it]"
          ]
        },
        {
          "output_type": "stream",
          "name": "stdout",
          "text": [
            "Crawl data with product_id 187827445\n"
          ]
        },
        {
          "output_type": "stream",
          "name": "stderr",
          "text": [
            "\r  2%|▏         | 34/2000 [02:09<1:53:45,  3.47s/it]"
          ]
        },
        {
          "output_type": "stream",
          "name": "stdout",
          "text": [
            "Crawl data with product_id 145288031\n"
          ]
        },
        {
          "output_type": "stream",
          "name": "stderr",
          "text": [
            "\r  2%|▏         | 35/2000 [02:12<1:54:03,  3.48s/it]"
          ]
        },
        {
          "output_type": "stream",
          "name": "stdout",
          "text": [
            "Crawl data with product_id 195801673\n"
          ]
        },
        {
          "output_type": "stream",
          "name": "stderr",
          "text": [
            "\r  2%|▏         | 36/2000 [02:17<2:02:07,  3.73s/it]"
          ]
        },
        {
          "output_type": "stream",
          "name": "stdout",
          "text": [
            "Crawl data with product_id 69644752\n"
          ]
        },
        {
          "output_type": "stream",
          "name": "stderr",
          "text": [
            "\r  2%|▏         | 37/2000 [02:21<2:08:03,  3.91s/it]"
          ]
        },
        {
          "output_type": "stream",
          "name": "stdout",
          "text": [
            "Crawl data with product_id 69624539\n"
          ]
        },
        {
          "output_type": "stream",
          "name": "stderr",
          "text": [
            "\r  2%|▏         | 38/2000 [02:25<2:12:02,  4.04s/it]"
          ]
        },
        {
          "output_type": "stream",
          "name": "stdout",
          "text": [
            "Crawl data with product_id 179952621\n"
          ]
        },
        {
          "output_type": "stream",
          "name": "stderr",
          "text": [
            "\r  2%|▏         | 39/2000 [02:29<2:04:54,  3.82s/it]"
          ]
        },
        {
          "output_type": "stream",
          "name": "stdout",
          "text": [
            "Crawl data with product_id 161256053\n"
          ]
        },
        {
          "output_type": "stream",
          "name": "stderr",
          "text": [
            "\r  2%|▏         | 40/2000 [02:33<2:09:46,  3.97s/it]"
          ]
        },
        {
          "output_type": "stream",
          "name": "stdout",
          "text": [
            "Crawl data with product_id 225912339\n"
          ]
        },
        {
          "output_type": "stream",
          "name": "stderr",
          "text": [
            "\r  2%|▏         | 41/2000 [02:37<2:15:09,  4.14s/it]"
          ]
        },
        {
          "output_type": "stream",
          "name": "stdout",
          "text": [
            "Crawl data with product_id 172206434\n"
          ]
        },
        {
          "output_type": "stream",
          "name": "stderr",
          "text": [
            "\r  2%|▏         | 42/2000 [02:41<2:07:13,  3.90s/it]"
          ]
        },
        {
          "output_type": "stream",
          "name": "stdout",
          "text": [
            "Crawl data with product_id 67271338\n"
          ]
        },
        {
          "output_type": "stream",
          "name": "stderr",
          "text": [
            "\r  2%|▏         | 43/2000 [02:45<2:11:40,  4.04s/it]"
          ]
        },
        {
          "output_type": "stream",
          "name": "stdout",
          "text": [
            "Crawl data with product_id 199039045\n"
          ]
        },
        {
          "output_type": "stream",
          "name": "stderr",
          "text": [
            "\r  2%|▏         | 44/2000 [02:49<2:14:13,  4.12s/it]"
          ]
        },
        {
          "output_type": "stream",
          "name": "stdout",
          "text": [
            "Crawl data with product_id 243093004\n"
          ]
        },
        {
          "output_type": "stream",
          "name": "stderr",
          "text": [
            "\r  2%|▏         | 45/2000 [02:53<2:06:23,  3.88s/it]"
          ]
        },
        {
          "output_type": "stream",
          "name": "stdout",
          "text": [
            "Crawl data with product_id 230079413\n"
          ]
        },
        {
          "output_type": "stream",
          "name": "stderr",
          "text": [
            "\r  2%|▏         | 46/2000 [02:57<2:10:41,  4.01s/it]"
          ]
        },
        {
          "output_type": "stream",
          "name": "stdout",
          "text": [
            "Crawl data with product_id 203231463\n"
          ]
        },
        {
          "output_type": "stream",
          "name": "stderr",
          "text": [
            "\r  2%|▏         | 47/2000 [03:01<2:13:51,  4.11s/it]"
          ]
        },
        {
          "output_type": "stream",
          "name": "stdout",
          "text": [
            "Crawl data with product_id 187843301\n"
          ]
        },
        {
          "output_type": "stream",
          "name": "stderr",
          "text": [
            "\r  2%|▏         | 48/2000 [03:05<2:05:58,  3.87s/it]"
          ]
        },
        {
          "output_type": "stream",
          "name": "stdout",
          "text": [
            "Crawl data with product_id 70743650\n"
          ]
        },
        {
          "output_type": "stream",
          "name": "stderr",
          "text": [
            "\r  2%|▏         | 49/2000 [03:09<2:10:21,  4.01s/it]"
          ]
        },
        {
          "output_type": "stream",
          "name": "stdout",
          "text": [
            "Crawl data with product_id 94906643\n"
          ]
        },
        {
          "output_type": "stream",
          "name": "stderr",
          "text": [
            "\r  2%|▎         | 50/2000 [03:12<2:03:29,  3.80s/it]"
          ]
        },
        {
          "output_type": "stream",
          "name": "stdout",
          "text": [
            "Crawl data with product_id 49317816\n"
          ]
        },
        {
          "output_type": "stream",
          "name": "stderr",
          "text": [
            "\r  3%|▎         | 51/2000 [03:16<1:58:40,  3.65s/it]"
          ]
        },
        {
          "output_type": "stream",
          "name": "stdout",
          "text": [
            "Crawl data with product_id 200780132\n"
          ]
        },
        {
          "output_type": "stream",
          "name": "stderr",
          "text": [
            "\r  3%|▎         | 52/2000 [03:20<2:05:20,  3.86s/it]"
          ]
        },
        {
          "output_type": "stream",
          "name": "stdout",
          "text": [
            "Crawl data with product_id 216203823\n"
          ]
        },
        {
          "output_type": "stream",
          "name": "stderr",
          "text": [
            "\r  3%|▎         | 53/2000 [03:24<2:09:40,  4.00s/it]"
          ]
        },
        {
          "output_type": "stream",
          "name": "stdout",
          "text": [
            "Crawl data with product_id 136539753\n"
          ]
        },
        {
          "output_type": "stream",
          "name": "stderr",
          "text": [
            "\r  3%|▎         | 54/2000 [03:28<2:03:14,  3.80s/it]"
          ]
        },
        {
          "output_type": "stream",
          "name": "stdout",
          "text": [
            "Crawl data with product_id 188960734\n"
          ]
        },
        {
          "output_type": "stream",
          "name": "stderr",
          "text": [
            "\r  3%|▎         | 55/2000 [03:31<1:58:33,  3.66s/it]"
          ]
        },
        {
          "output_type": "stream",
          "name": "stdout",
          "text": [
            "Crawl data with product_id 198414191\n"
          ]
        },
        {
          "output_type": "stream",
          "name": "stderr",
          "text": [
            "\r  3%|▎         | 56/2000 [03:36<2:06:55,  3.92s/it]"
          ]
        },
        {
          "output_type": "stream",
          "name": "stdout",
          "text": [
            "Crawl data with product_id 205928390\n"
          ]
        },
        {
          "output_type": "stream",
          "name": "stderr",
          "text": [
            "\r  3%|▎         | 57/2000 [03:39<2:01:36,  3.76s/it]"
          ]
        },
        {
          "output_type": "stream",
          "name": "stdout",
          "text": [
            "Crawl data with product_id 247289798\n"
          ]
        },
        {
          "output_type": "stream",
          "name": "stderr",
          "text": [
            "\r  3%|▎         | 58/2000 [03:43<2:07:05,  3.93s/it]"
          ]
        },
        {
          "output_type": "stream",
          "name": "stdout",
          "text": [
            "Crawl data with product_id 202891560\n"
          ]
        },
        {
          "output_type": "stream",
          "name": "stderr",
          "text": [
            "\r  3%|▎         | 59/2000 [03:48<2:10:52,  4.05s/it]"
          ]
        },
        {
          "output_type": "stream",
          "name": "stdout",
          "text": [
            "Crawl data with product_id 148802202\n"
          ]
        },
        {
          "output_type": "stream",
          "name": "stderr",
          "text": [
            "\r  3%|▎         | 60/2000 [03:51<2:03:56,  3.83s/it]"
          ]
        },
        {
          "output_type": "stream",
          "name": "stdout",
          "text": [
            "Crawl data with product_id 77105703\n"
          ]
        },
        {
          "output_type": "stream",
          "name": "stderr",
          "text": [
            "\r  3%|▎         | 61/2000 [03:55<2:08:30,  3.98s/it]"
          ]
        },
        {
          "output_type": "stream",
          "name": "stdout",
          "text": [
            "Crawl data with product_id 111582631\n"
          ]
        },
        {
          "output_type": "stream",
          "name": "stderr",
          "text": [
            "\r  3%|▎         | 62/2000 [03:59<2:11:29,  4.07s/it]"
          ]
        },
        {
          "output_type": "stream",
          "name": "stdout",
          "text": [
            "Crawl data with product_id 145977554\n"
          ]
        },
        {
          "output_type": "stream",
          "name": "stderr",
          "text": [
            "\r  3%|▎         | 63/2000 [04:03<2:04:25,  3.85s/it]"
          ]
        },
        {
          "output_type": "stream",
          "name": "stdout",
          "text": [
            "Crawl data with product_id 77900446\n"
          ]
        },
        {
          "output_type": "stream",
          "name": "stderr",
          "text": [
            "\r  3%|▎         | 64/2000 [04:07<2:10:55,  4.06s/it]"
          ]
        },
        {
          "output_type": "stream",
          "name": "stdout",
          "text": [
            "Crawl data with product_id 207345031\n"
          ]
        },
        {
          "output_type": "stream",
          "name": "stderr",
          "text": [
            "\r  3%|▎         | 65/2000 [04:11<2:03:59,  3.84s/it]"
          ]
        },
        {
          "output_type": "stream",
          "name": "stdout",
          "text": [
            "Crawl data with product_id 94803796\n"
          ]
        },
        {
          "output_type": "stream",
          "name": "stderr",
          "text": [
            "\r  3%|▎         | 66/2000 [04:15<2:08:29,  3.99s/it]"
          ]
        },
        {
          "output_type": "stream",
          "name": "stdout",
          "text": [
            "Crawl data with product_id 57905707\n"
          ]
        },
        {
          "output_type": "stream",
          "name": "stderr",
          "text": [
            "\r  3%|▎         | 67/2000 [04:18<2:02:13,  3.79s/it]"
          ]
        },
        {
          "output_type": "stream",
          "name": "stdout",
          "text": [
            "Crawl data with product_id 130996088\n"
          ]
        },
        {
          "output_type": "stream",
          "name": "stderr",
          "text": [
            "\r  3%|▎         | 68/2000 [04:23<2:07:21,  3.96s/it]"
          ]
        },
        {
          "output_type": "stream",
          "name": "stdout",
          "text": [
            "Crawl data with product_id 89294863\n"
          ]
        },
        {
          "output_type": "stream",
          "name": "stderr",
          "text": [
            "\r  3%|▎         | 69/2000 [04:27<2:10:42,  4.06s/it]"
          ]
        },
        {
          "output_type": "stream",
          "name": "stdout",
          "text": [
            "Crawl data with product_id 35740871\n"
          ]
        },
        {
          "output_type": "stream",
          "name": "stderr",
          "text": [
            "\r  4%|▎         | 70/2000 [04:30<2:03:24,  3.84s/it]"
          ]
        },
        {
          "output_type": "stream",
          "name": "stdout",
          "text": [
            "Crawl data with product_id 192909304\n"
          ]
        },
        {
          "output_type": "stream",
          "name": "stderr",
          "text": [
            "\r  4%|▎         | 71/2000 [04:35<2:07:35,  3.97s/it]"
          ]
        },
        {
          "output_type": "stream",
          "name": "stdout",
          "text": [
            "Crawl data with product_id 210277408\n"
          ]
        },
        {
          "output_type": "stream",
          "name": "stderr",
          "text": [
            "\r  4%|▎         | 72/2000 [04:39<2:10:48,  4.07s/it]"
          ]
        },
        {
          "output_type": "stream",
          "name": "stdout",
          "text": [
            "Crawl data with product_id 148008757\n"
          ]
        },
        {
          "output_type": "stream",
          "name": "stderr",
          "text": [
            "\r  4%|▎         | 73/2000 [04:42<2:05:26,  3.91s/it]"
          ]
        },
        {
          "output_type": "stream",
          "name": "stdout",
          "text": [
            "Crawl data with product_id 111582638\n"
          ]
        },
        {
          "output_type": "stream",
          "name": "stderr",
          "text": [
            "\r  4%|▎         | 74/2000 [04:46<1:59:50,  3.73s/it]"
          ]
        },
        {
          "output_type": "stream",
          "name": "stdout",
          "text": [
            "Crawl data with product_id 192339430\n"
          ]
        },
        {
          "output_type": "stream",
          "name": "stderr",
          "text": [
            "\r  4%|▍         | 75/2000 [04:50<2:05:34,  3.91s/it]"
          ]
        },
        {
          "output_type": "stream",
          "name": "stdout",
          "text": [
            "Crawl data with product_id 145288035\n"
          ]
        },
        {
          "output_type": "stream",
          "name": "stderr",
          "text": [
            "\r  4%|▍         | 76/2000 [04:53<2:00:02,  3.74s/it]"
          ]
        },
        {
          "output_type": "stream",
          "name": "stdout",
          "text": [
            "Crawl data with product_id 91120169\n"
          ]
        },
        {
          "output_type": "stream",
          "name": "stderr",
          "text": [
            "\r  4%|▍         | 77/2000 [04:57<1:56:33,  3.64s/it]"
          ]
        },
        {
          "output_type": "stream",
          "name": "stdout",
          "text": [
            "Crawl data with product_id 137241901\n"
          ]
        },
        {
          "output_type": "stream",
          "name": "stderr",
          "text": [
            "\r  4%|▍         | 78/2000 [05:00<1:53:41,  3.55s/it]"
          ]
        },
        {
          "output_type": "stream",
          "name": "stdout",
          "text": [
            "Crawl data with product_id 192339905\n"
          ]
        },
        {
          "output_type": "stream",
          "name": "stderr",
          "text": [
            "\r  4%|▍         | 79/2000 [05:03<1:51:18,  3.48s/it]"
          ]
        },
        {
          "output_type": "stream",
          "name": "stdout",
          "text": [
            "Crawl data with product_id 199901869\n"
          ]
        },
        {
          "output_type": "stream",
          "name": "stderr",
          "text": [
            "\r  4%|▍         | 80/2000 [05:08<1:59:21,  3.73s/it]"
          ]
        },
        {
          "output_type": "stream",
          "name": "stdout",
          "text": [
            "Crawl data with product_id 203231461\n"
          ]
        },
        {
          "output_type": "stream",
          "name": "stderr",
          "text": [
            "\r  4%|▍         | 81/2000 [05:12<2:05:18,  3.92s/it]"
          ]
        },
        {
          "output_type": "stream",
          "name": "stdout",
          "text": [
            "Crawl data with product_id 162865518\n"
          ]
        },
        {
          "output_type": "stream",
          "name": "stderr",
          "text": [
            "\r  4%|▍         | 82/2000 [05:16<2:09:16,  4.04s/it]"
          ]
        },
        {
          "output_type": "stream",
          "name": "stdout",
          "text": [
            "Crawl data with product_id 53716221\n"
          ]
        },
        {
          "output_type": "stream",
          "name": "stderr",
          "text": [
            "\r  4%|▍         | 83/2000 [05:21<2:12:01,  4.13s/it]"
          ]
        },
        {
          "output_type": "stream",
          "name": "stdout",
          "text": [
            "Crawl data with product_id 188960732\n"
          ]
        },
        {
          "output_type": "stream",
          "name": "stderr",
          "text": [
            "\r  4%|▍         | 84/2000 [05:24<2:04:15,  3.89s/it]"
          ]
        },
        {
          "output_type": "stream",
          "name": "stdout",
          "text": [
            "Crawl data with product_id 105778970\n"
          ]
        },
        {
          "output_type": "stream",
          "name": "stderr",
          "text": [
            "\r  4%|▍         | 85/2000 [05:27<1:58:52,  3.72s/it]"
          ]
        },
        {
          "output_type": "stream",
          "name": "stdout",
          "text": [
            "Crawl data with product_id 185873054\n"
          ]
        },
        {
          "output_type": "stream",
          "name": "stderr",
          "text": [
            "\r  4%|▍         | 86/2000 [05:31<1:55:06,  3.61s/it]"
          ]
        },
        {
          "output_type": "stream",
          "name": "stdout",
          "text": [
            "Crawl data with product_id 204661038\n"
          ]
        },
        {
          "output_type": "stream",
          "name": "stderr",
          "text": [
            "\r  4%|▍         | 87/2000 [05:35<2:02:00,  3.83s/it]"
          ]
        },
        {
          "output_type": "stream",
          "name": "stdout",
          "text": [
            "Crawl data with product_id 10297987\n"
          ]
        },
        {
          "output_type": "stream",
          "name": "stderr",
          "text": [
            "\r  4%|▍         | 88/2000 [05:39<2:06:40,  3.97s/it]"
          ]
        },
        {
          "output_type": "stream",
          "name": "stdout",
          "text": [
            "Crawl data with product_id 253297724\n"
          ]
        },
        {
          "output_type": "stream",
          "name": "stderr",
          "text": [
            "\r  4%|▍         | 89/2000 [05:43<2:00:29,  3.78s/it]"
          ]
        },
        {
          "output_type": "stream",
          "name": "stdout",
          "text": [
            "Crawl data with product_id 90866359\n"
          ]
        },
        {
          "output_type": "stream",
          "name": "stderr",
          "text": [
            "\r  4%|▍         | 90/2000 [05:46<1:56:03,  3.65s/it]"
          ]
        },
        {
          "output_type": "stream",
          "name": "stdout",
          "text": [
            "Crawl data with product_id 249693332\n"
          ]
        },
        {
          "output_type": "stream",
          "name": "stderr",
          "text": [
            "\r  5%|▍         | 91/2000 [05:49<1:52:44,  3.54s/it]"
          ]
        },
        {
          "output_type": "stream",
          "name": "stdout",
          "text": [
            "Crawl data with product_id 45299959\n"
          ]
        },
        {
          "output_type": "stream",
          "name": "stderr",
          "text": [
            "\r  5%|▍         | 92/2000 [05:54<2:00:07,  3.78s/it]"
          ]
        },
        {
          "output_type": "stream",
          "name": "stdout",
          "text": [
            "Crawl data with product_id 22438813\n"
          ]
        },
        {
          "output_type": "stream",
          "name": "stderr",
          "text": [
            "\r  5%|▍         | 93/2000 [05:58<2:05:16,  3.94s/it]"
          ]
        },
        {
          "output_type": "stream",
          "name": "stdout",
          "text": [
            "Crawl data with product_id 11885884\n"
          ]
        },
        {
          "output_type": "stream",
          "name": "stderr",
          "text": [
            "\r  5%|▍         | 94/2000 [06:02<2:08:58,  4.06s/it]"
          ]
        },
        {
          "output_type": "stream",
          "name": "stdout",
          "text": [
            "Crawl data with product_id 49459956\n"
          ]
        },
        {
          "output_type": "stream",
          "name": "stderr",
          "text": [
            "\r  5%|▍         | 95/2000 [06:07<2:15:24,  4.26s/it]"
          ]
        },
        {
          "output_type": "stream",
          "name": "stdout",
          "text": [
            "Crawl data with product_id 243106866\n"
          ]
        },
        {
          "output_type": "stream",
          "name": "stderr",
          "text": [
            "\r  5%|▍         | 96/2000 [06:11<2:06:21,  3.98s/it]"
          ]
        },
        {
          "output_type": "stream",
          "name": "stdout",
          "text": [
            "Crawl data with product_id 208904481\n"
          ]
        },
        {
          "output_type": "stream",
          "name": "stderr",
          "text": [
            "\r  5%|▍         | 97/2000 [06:14<2:00:01,  3.78s/it]"
          ]
        },
        {
          "output_type": "stream",
          "name": "stdout",
          "text": [
            "Crawl data with product_id 206308040\n"
          ]
        },
        {
          "output_type": "stream",
          "name": "stderr",
          "text": [
            "\r  5%|▍         | 98/2000 [06:18<2:05:35,  3.96s/it]"
          ]
        },
        {
          "output_type": "stream",
          "name": "stdout",
          "text": [
            "Crawl data with product_id 161930959\n"
          ]
        },
        {
          "output_type": "stream",
          "name": "stderr",
          "text": [
            "\r  5%|▍         | 99/2000 [06:22<1:59:23,  3.77s/it]"
          ]
        },
        {
          "output_type": "stream",
          "name": "stdout",
          "text": [
            "Crawl data with product_id 157579054\n"
          ]
        },
        {
          "output_type": "stream",
          "name": "stderr",
          "text": [
            "\r  5%|▌         | 100/2000 [06:25<1:55:11,  3.64s/it]"
          ]
        },
        {
          "output_type": "stream",
          "name": "stdout",
          "text": [
            "Crawl data with product_id 164336673\n"
          ]
        },
        {
          "output_type": "stream",
          "name": "stderr",
          "text": [
            "\r  5%|▌         | 101/2000 [06:29<2:01:41,  3.85s/it]"
          ]
        },
        {
          "output_type": "stream",
          "name": "stdout",
          "text": [
            "Crawl data with product_id 198285071\n"
          ]
        },
        {
          "output_type": "stream",
          "name": "stderr",
          "text": [
            "\r  5%|▌         | 102/2000 [06:34<2:06:10,  3.99s/it]"
          ]
        },
        {
          "output_type": "stream",
          "name": "stdout",
          "text": [
            "Crawl data with product_id 104314228\n"
          ]
        },
        {
          "output_type": "stream",
          "name": "stderr",
          "text": [
            "\r  5%|▌         | 103/2000 [06:38<2:06:11,  3.99s/it]"
          ]
        },
        {
          "output_type": "stream",
          "name": "stdout",
          "text": [
            "Crawl data with product_id 151745272\n"
          ]
        },
        {
          "output_type": "stream",
          "name": "stderr",
          "text": [
            "\r  5%|▌         | 104/2000 [06:41<1:59:43,  3.79s/it]"
          ]
        },
        {
          "output_type": "stream",
          "name": "stdout",
          "text": [
            "Crawl data with product_id 222679649\n"
          ]
        },
        {
          "output_type": "stream",
          "name": "stderr",
          "text": [
            "\r  5%|▌         | 105/2000 [06:44<1:55:27,  3.66s/it]"
          ]
        },
        {
          "output_type": "stream",
          "name": "stdout",
          "text": [
            "Crawl data with product_id 212212997\n"
          ]
        },
        {
          "output_type": "stream",
          "name": "stderr",
          "text": [
            "\r  5%|▌         | 106/2000 [06:49<2:02:02,  3.87s/it]"
          ]
        },
        {
          "output_type": "stream",
          "name": "stdout",
          "text": [
            "Crawl data with product_id 94347312\n"
          ]
        },
        {
          "output_type": "stream",
          "name": "stderr",
          "text": [
            "\r  5%|▌         | 107/2000 [06:52<1:56:55,  3.71s/it]"
          ]
        },
        {
          "output_type": "stream",
          "name": "stdout",
          "text": [
            "Crawl data with product_id 217899813\n"
          ]
        },
        {
          "output_type": "stream",
          "name": "stderr",
          "text": [
            "\r  5%|▌         | 108/2000 [06:56<2:02:28,  3.88s/it]"
          ]
        },
        {
          "output_type": "stream",
          "name": "stdout",
          "text": [
            "Crawl data with product_id 171137376\n"
          ]
        },
        {
          "output_type": "stream",
          "name": "stderr",
          "text": [
            "\r  5%|▌         | 109/2000 [07:00<2:06:40,  4.02s/it]"
          ]
        },
        {
          "output_type": "stream",
          "name": "stdout",
          "text": [
            "Crawl data with product_id 51251660\n"
          ]
        },
        {
          "output_type": "stream",
          "name": "stderr",
          "text": [
            "\r  6%|▌         | 110/2000 [07:05<2:10:24,  4.14s/it]"
          ]
        },
        {
          "output_type": "stream",
          "name": "stdout",
          "text": [
            "Crawl data with product_id 247406911\n"
          ]
        },
        {
          "output_type": "stream",
          "name": "stderr",
          "text": [
            "\r  6%|▌         | 111/2000 [07:09<2:11:58,  4.19s/it]"
          ]
        },
        {
          "output_type": "stream",
          "name": "stdout",
          "text": [
            "Crawl data with product_id 77230663\n"
          ]
        },
        {
          "output_type": "stream",
          "name": "stderr",
          "text": [
            "\r  6%|▌         | 112/2000 [07:14<2:13:17,  4.24s/it]"
          ]
        },
        {
          "output_type": "stream",
          "name": "stdout",
          "text": [
            "Crawl data with product_id 186495460\n"
          ]
        },
        {
          "output_type": "stream",
          "name": "stderr",
          "text": [
            "\r  6%|▌         | 113/2000 [07:17<2:04:31,  3.96s/it]"
          ]
        },
        {
          "output_type": "stream",
          "name": "stdout",
          "text": [
            "Crawl data with product_id 69337688\n"
          ]
        },
        {
          "output_type": "stream",
          "name": "stderr",
          "text": [
            "\r  6%|▌         | 114/2000 [07:20<1:58:24,  3.77s/it]"
          ]
        },
        {
          "output_type": "stream",
          "name": "stdout",
          "text": [
            "Crawl data with product_id 195954748\n"
          ]
        },
        {
          "output_type": "stream",
          "name": "stderr",
          "text": [
            "\r  6%|▌         | 115/2000 [07:24<1:54:18,  3.64s/it]"
          ]
        },
        {
          "output_type": "stream",
          "name": "stdout",
          "text": [
            "Crawl data with product_id 68392386\n"
          ]
        },
        {
          "output_type": "stream",
          "name": "stderr",
          "text": [
            "\r  6%|▌         | 116/2000 [07:27<1:51:21,  3.55s/it]"
          ]
        },
        {
          "output_type": "stream",
          "name": "stdout",
          "text": [
            "Crawl data with product_id 208121657\n"
          ]
        },
        {
          "output_type": "stream",
          "name": "stderr",
          "text": [
            "\r  6%|▌         | 117/2000 [07:30<1:49:29,  3.49s/it]"
          ]
        },
        {
          "output_type": "stream",
          "name": "stdout",
          "text": [
            "Crawl data with product_id 197920649\n"
          ]
        },
        {
          "output_type": "stream",
          "name": "stderr",
          "text": [
            "\r  6%|▌         | 118/2000 [07:34<1:47:49,  3.44s/it]"
          ]
        },
        {
          "output_type": "stream",
          "name": "stdout",
          "text": [
            "Crawl data with product_id 69337684\n"
          ]
        },
        {
          "output_type": "stream",
          "name": "stderr",
          "text": [
            "\r  6%|▌         | 119/2000 [07:38<1:56:09,  3.71s/it]"
          ]
        },
        {
          "output_type": "stream",
          "name": "stdout",
          "text": [
            "Crawl data with product_id 82700700\n"
          ]
        },
        {
          "output_type": "stream",
          "name": "stderr",
          "text": [
            "\r  6%|▌         | 120/2000 [07:41<1:52:27,  3.59s/it]"
          ]
        },
        {
          "output_type": "stream",
          "name": "stdout",
          "text": [
            "Crawl data with product_id 204771714\n"
          ]
        },
        {
          "output_type": "stream",
          "name": "stderr",
          "text": [
            "\r  6%|▌         | 121/2000 [07:46<1:59:12,  3.81s/it]"
          ]
        },
        {
          "output_type": "stream",
          "name": "stdout",
          "text": [
            "Crawl data with product_id 170094958\n"
          ]
        },
        {
          "output_type": "stream",
          "name": "stderr",
          "text": [
            "\r  6%|▌         | 122/2000 [07:49<1:54:43,  3.67s/it]"
          ]
        },
        {
          "output_type": "stream",
          "name": "stdout",
          "text": [
            "Crawl data with product_id 1822057\n"
          ]
        },
        {
          "output_type": "stream",
          "name": "stderr",
          "text": [
            "\r  6%|▌         | 123/2000 [07:53<2:00:59,  3.87s/it]"
          ]
        },
        {
          "output_type": "stream",
          "name": "stdout",
          "text": [
            "Crawl data with product_id 248687931\n"
          ]
        },
        {
          "output_type": "stream",
          "name": "stderr",
          "text": [
            "\r  6%|▌         | 124/2000 [07:57<1:55:52,  3.71s/it]"
          ]
        },
        {
          "output_type": "stream",
          "name": "stdout",
          "text": [
            "Crawl data with product_id 217548682\n"
          ]
        },
        {
          "output_type": "stream",
          "name": "stderr",
          "text": [
            "\r  6%|▋         | 125/2000 [08:01<2:01:44,  3.90s/it]"
          ]
        },
        {
          "output_type": "stream",
          "name": "stdout",
          "text": [
            "Crawl data with product_id 184414729\n"
          ]
        },
        {
          "output_type": "stream",
          "name": "stderr",
          "text": [
            "\r  6%|▋         | 126/2000 [08:05<2:05:34,  4.02s/it]"
          ]
        },
        {
          "output_type": "stream",
          "name": "stdout",
          "text": [
            "Crawl data with product_id 104272491\n"
          ]
        },
        {
          "output_type": "stream",
          "name": "stderr",
          "text": [
            "\r  6%|▋         | 127/2000 [08:08<1:59:00,  3.81s/it]"
          ]
        },
        {
          "output_type": "stream",
          "name": "stdout",
          "text": [
            "Crawl data with product_id 148802195\n"
          ]
        },
        {
          "output_type": "stream",
          "name": "stderr",
          "text": [
            "\r  6%|▋         | 128/2000 [08:12<1:54:47,  3.68s/it]"
          ]
        },
        {
          "output_type": "stream",
          "name": "stdout",
          "text": [
            "Crawl data with product_id 251279426\n"
          ]
        },
        {
          "output_type": "stream",
          "name": "stderr",
          "text": [
            "\r  6%|▋         | 129/2000 [08:15<1:51:17,  3.57s/it]"
          ]
        },
        {
          "output_type": "stream",
          "name": "stdout",
          "text": [
            "Crawl data with product_id 207852933\n"
          ]
        },
        {
          "output_type": "stream",
          "name": "stderr",
          "text": [
            "\r  6%|▋         | 130/2000 [08:19<1:58:14,  3.79s/it]"
          ]
        },
        {
          "output_type": "stream",
          "name": "stdout",
          "text": [
            "Crawl data with product_id 96029968\n"
          ]
        },
        {
          "output_type": "stream",
          "name": "stderr",
          "text": [
            "\r  7%|▋         | 131/2000 [08:24<2:03:49,  3.97s/it]"
          ]
        },
        {
          "output_type": "stream",
          "name": "stdout",
          "text": [
            "Crawl data with product_id 7308683\n"
          ]
        },
        {
          "output_type": "stream",
          "name": "stderr",
          "text": [
            "\r  7%|▋         | 132/2000 [08:28<2:06:46,  4.07s/it]"
          ]
        },
        {
          "output_type": "stream",
          "name": "stdout",
          "text": [
            "Crawl data with product_id 255611963\n"
          ]
        },
        {
          "output_type": "stream",
          "name": "stderr",
          "text": [
            "\r  7%|▋         | 133/2000 [08:31<1:59:38,  3.85s/it]"
          ]
        },
        {
          "output_type": "stream",
          "name": "stdout",
          "text": [
            "Crawl data with product_id 196058112\n"
          ]
        },
        {
          "output_type": "stream",
          "name": "stderr",
          "text": [
            "\r  7%|▋         | 134/2000 [08:36<2:03:56,  3.99s/it]"
          ]
        },
        {
          "output_type": "stream",
          "name": "stdout",
          "text": [
            "Crawl data with product_id 200851522\n"
          ]
        },
        {
          "output_type": "stream",
          "name": "stderr",
          "text": [
            "\r  7%|▋         | 135/2000 [08:39<1:57:37,  3.78s/it]"
          ]
        },
        {
          "output_type": "stream",
          "name": "stdout",
          "text": [
            "Crawl data with product_id 162426359\n"
          ]
        },
        {
          "output_type": "stream",
          "name": "stderr",
          "text": [
            "\r  7%|▋         | 136/2000 [08:42<1:53:21,  3.65s/it]"
          ]
        },
        {
          "output_type": "stream",
          "name": "stdout",
          "text": [
            "Crawl data with product_id 149974918\n"
          ]
        },
        {
          "output_type": "stream",
          "name": "stderr",
          "text": [
            "\r  7%|▋         | 137/2000 [08:47<1:59:34,  3.85s/it]"
          ]
        },
        {
          "output_type": "stream",
          "name": "stdout",
          "text": [
            "Crawl data with product_id 141333746\n"
          ]
        },
        {
          "output_type": "stream",
          "name": "stderr",
          "text": [
            "\r  7%|▋         | 138/2000 [08:50<1:54:41,  3.70s/it]"
          ]
        },
        {
          "output_type": "stream",
          "name": "stdout",
          "text": [
            "Crawl data with product_id 10593958\n"
          ]
        },
        {
          "output_type": "stream",
          "name": "stderr",
          "text": [
            "\r  7%|▋         | 139/2000 [08:54<2:00:33,  3.89s/it]"
          ]
        },
        {
          "output_type": "stream",
          "name": "stdout",
          "text": [
            "Crawl data with product_id 159484590\n"
          ]
        },
        {
          "output_type": "stream",
          "name": "stderr",
          "text": [
            "\r  7%|▋         | 140/2000 [08:58<1:55:09,  3.71s/it]"
          ]
        },
        {
          "output_type": "stream",
          "name": "stdout",
          "text": [
            "Crawl data with product_id 155550600\n"
          ]
        },
        {
          "output_type": "stream",
          "name": "stderr",
          "text": [
            "\r  7%|▋         | 141/2000 [09:01<1:51:38,  3.60s/it]"
          ]
        },
        {
          "output_type": "stream",
          "name": "stdout",
          "text": [
            "Crawl data with product_id 16084263\n"
          ]
        },
        {
          "output_type": "stream",
          "name": "stderr",
          "text": [
            "\r  7%|▋         | 142/2000 [09:04<1:49:07,  3.52s/it]"
          ]
        },
        {
          "output_type": "stream",
          "name": "stdout",
          "text": [
            "Crawl data with product_id 136540009\n"
          ]
        },
        {
          "output_type": "stream",
          "name": "stderr",
          "text": [
            "\r  7%|▋         | 143/2000 [09:08<1:47:14,  3.46s/it]"
          ]
        },
        {
          "output_type": "stream",
          "name": "stdout",
          "text": [
            "Crawl data with product_id 114275086\n"
          ]
        },
        {
          "output_type": "stream",
          "name": "stderr",
          "text": [
            "\r  7%|▋         | 144/2000 [09:11<1:45:59,  3.43s/it]"
          ]
        },
        {
          "output_type": "stream",
          "name": "stdout",
          "text": [
            "Crawl data with product_id 105140142\n"
          ]
        },
        {
          "output_type": "stream",
          "name": "stderr",
          "text": [
            "\r  7%|▋         | 145/2000 [09:14<1:45:13,  3.40s/it]"
          ]
        },
        {
          "output_type": "stream",
          "name": "stdout",
          "text": [
            "Crawl data with product_id 59206889\n"
          ]
        },
        {
          "output_type": "stream",
          "name": "stderr",
          "text": [
            "\r  7%|▋         | 146/2000 [09:19<1:53:42,  3.68s/it]"
          ]
        },
        {
          "output_type": "stream",
          "name": "stdout",
          "text": [
            "Crawl data with product_id 59362973\n"
          ]
        },
        {
          "output_type": "stream",
          "name": "stderr",
          "text": [
            "\r  7%|▋         | 147/2000 [09:23<1:59:47,  3.88s/it]"
          ]
        },
        {
          "output_type": "stream",
          "name": "stdout",
          "text": [
            "Crawl data with product_id 196851824\n"
          ]
        },
        {
          "output_type": "stream",
          "name": "stderr",
          "text": [
            "\r  7%|▋         | 148/2000 [09:26<1:54:33,  3.71s/it]"
          ]
        },
        {
          "output_type": "stream",
          "name": "stdout",
          "text": [
            "Crawl data with product_id 253357802\n"
          ]
        },
        {
          "output_type": "stream",
          "name": "stderr",
          "text": [
            "\r  7%|▋         | 149/2000 [09:31<2:00:10,  3.90s/it]"
          ]
        },
        {
          "output_type": "stream",
          "name": "stdout",
          "text": [
            "Crawl data with product_id 198215147\n"
          ]
        },
        {
          "output_type": "stream",
          "name": "stderr",
          "text": [
            "\r  8%|▊         | 150/2000 [09:34<1:54:58,  3.73s/it]"
          ]
        },
        {
          "output_type": "stream",
          "name": "stdout",
          "text": [
            "Crawl data with product_id 128938543\n"
          ]
        },
        {
          "output_type": "stream",
          "name": "stderr",
          "text": [
            "\r  8%|▊         | 151/2000 [09:38<2:00:32,  3.91s/it]"
          ]
        },
        {
          "output_type": "stream",
          "name": "stdout",
          "text": [
            "Crawl data with product_id 174855409\n"
          ]
        },
        {
          "output_type": "stream",
          "name": "stderr",
          "text": [
            "\r  8%|▊         | 152/2000 [09:43<2:04:09,  4.03s/it]"
          ]
        },
        {
          "output_type": "stream",
          "name": "stdout",
          "text": [
            "Crawl data with product_id 59478514\n"
          ]
        },
        {
          "output_type": "stream",
          "name": "stderr",
          "text": [
            "\r  8%|▊         | 153/2000 [09:46<1:59:56,  3.90s/it]"
          ]
        },
        {
          "output_type": "stream",
          "name": "stdout",
          "text": [
            "Crawl data with product_id 8306438\n"
          ]
        },
        {
          "output_type": "stream",
          "name": "stderr",
          "text": [
            "\r  8%|▊         | 154/2000 [09:51<2:03:49,  4.02s/it]"
          ]
        },
        {
          "output_type": "stream",
          "name": "stdout",
          "text": [
            "Crawl data with product_id 42189697\n"
          ]
        },
        {
          "output_type": "stream",
          "name": "stderr",
          "text": [
            "\r  8%|▊         | 155/2000 [09:55<2:06:25,  4.11s/it]"
          ]
        },
        {
          "output_type": "stream",
          "name": "stdout",
          "text": [
            "Crawl data with product_id 127654479\n"
          ]
        },
        {
          "output_type": "stream",
          "name": "stderr",
          "text": [
            "\r  8%|▊         | 156/2000 [09:58<1:59:28,  3.89s/it]"
          ]
        },
        {
          "output_type": "stream",
          "name": "stdout",
          "text": [
            "Crawl data with product_id 205148094\n"
          ]
        },
        {
          "output_type": "stream",
          "name": "stderr",
          "text": [
            "\r  8%|▊         | 157/2000 [10:02<1:54:02,  3.71s/it]"
          ]
        },
        {
          "output_type": "stream",
          "name": "stdout",
          "text": [
            "Crawl data with product_id 247793202\n"
          ]
        },
        {
          "output_type": "stream",
          "name": "stderr",
          "text": [
            "\r  8%|▊         | 158/2000 [10:06<1:59:42,  3.90s/it]"
          ]
        },
        {
          "output_type": "stream",
          "name": "stdout",
          "text": [
            "Crawl data with product_id 40433264\n"
          ]
        },
        {
          "output_type": "stream",
          "name": "stderr",
          "text": [
            "\r  8%|▊         | 159/2000 [10:09<1:54:23,  3.73s/it]"
          ]
        },
        {
          "output_type": "stream",
          "name": "stdout",
          "text": [
            "Crawl data with product_id 159385675\n"
          ]
        },
        {
          "output_type": "stream",
          "name": "stderr",
          "text": [
            "\r  8%|▊         | 160/2000 [10:13<1:51:00,  3.62s/it]"
          ]
        },
        {
          "output_type": "stream",
          "name": "stdout",
          "text": [
            "Crawl data with product_id 42459021\n"
          ]
        },
        {
          "output_type": "stream",
          "name": "stderr",
          "text": [
            "\r  8%|▊         | 161/2000 [10:17<1:57:18,  3.83s/it]"
          ]
        },
        {
          "output_type": "stream",
          "name": "stdout",
          "text": [
            "Crawl data with product_id 196517627\n"
          ]
        },
        {
          "output_type": "stream",
          "name": "stderr",
          "text": [
            "\r  8%|▊         | 162/2000 [10:21<2:01:48,  3.98s/it]"
          ]
        },
        {
          "output_type": "stream",
          "name": "stdout",
          "text": [
            "Crawl data with product_id 143217511\n"
          ]
        },
        {
          "output_type": "stream",
          "name": "stderr",
          "text": [
            "\r  8%|▊         | 163/2000 [10:25<1:55:46,  3.78s/it]"
          ]
        },
        {
          "output_type": "stream",
          "name": "stdout",
          "text": [
            "Crawl data with product_id 187011899\n"
          ]
        },
        {
          "output_type": "stream",
          "name": "stderr",
          "text": [
            "\r  8%|▊         | 164/2000 [10:29<2:01:12,  3.96s/it]"
          ]
        },
        {
          "output_type": "stream",
          "name": "stdout",
          "text": [
            "Crawl data with product_id 199176577\n"
          ]
        },
        {
          "output_type": "stream",
          "name": "stderr",
          "text": [
            "\r  8%|▊         | 165/2000 [10:32<1:55:15,  3.77s/it]"
          ]
        },
        {
          "output_type": "stream",
          "name": "stdout",
          "text": [
            "Crawl data with product_id 98826603\n"
          ]
        },
        {
          "output_type": "stream",
          "name": "stderr",
          "text": [
            "\r  8%|▊         | 166/2000 [10:36<1:50:57,  3.63s/it]"
          ]
        },
        {
          "output_type": "stream",
          "name": "stdout",
          "text": [
            "Crawl data with product_id 245769556\n"
          ]
        },
        {
          "output_type": "stream",
          "name": "stderr",
          "text": [
            "\r  8%|▊         | 167/2000 [10:39<1:48:13,  3.54s/it]"
          ]
        },
        {
          "output_type": "stream",
          "name": "stdout",
          "text": [
            "Crawl data with product_id 53716217\n"
          ]
        },
        {
          "output_type": "stream",
          "name": "stderr",
          "text": [
            "\r  8%|▊         | 168/2000 [10:43<1:55:07,  3.77s/it]"
          ]
        },
        {
          "output_type": "stream",
          "name": "stdout",
          "text": [
            "Crawl data with product_id 50215938\n"
          ]
        },
        {
          "output_type": "stream",
          "name": "stderr",
          "text": [
            "\r  8%|▊         | 169/2000 [10:47<1:50:46,  3.63s/it]"
          ]
        },
        {
          "output_type": "stream",
          "name": "stdout",
          "text": [
            "Crawl data with product_id 485896\n"
          ]
        },
        {
          "output_type": "stream",
          "name": "stderr",
          "text": [
            "\r  8%|▊         | 170/2000 [10:50<1:47:53,  3.54s/it]"
          ]
        },
        {
          "output_type": "stream",
          "name": "stdout",
          "text": [
            "Crawl data with product_id 3283713\n"
          ]
        },
        {
          "output_type": "stream",
          "name": "stderr",
          "text": [
            "\r  9%|▊         | 171/2000 [10:53<1:46:03,  3.48s/it]"
          ]
        },
        {
          "output_type": "stream",
          "name": "stdout",
          "text": [
            "Crawl data with product_id 114937970\n"
          ]
        },
        {
          "output_type": "stream",
          "name": "stderr",
          "text": [
            "\r  9%|▊         | 172/2000 [10:58<1:53:57,  3.74s/it]"
          ]
        },
        {
          "output_type": "stream",
          "name": "stdout",
          "text": [
            "Crawl data with product_id 157054862\n"
          ]
        },
        {
          "output_type": "stream",
          "name": "stderr",
          "text": [
            "\r  9%|▊         | 173/2000 [11:01<1:50:02,  3.61s/it]"
          ]
        },
        {
          "output_type": "stream",
          "name": "stdout",
          "text": [
            "Crawl data with product_id 29830245\n"
          ]
        },
        {
          "output_type": "stream",
          "name": "stderr",
          "text": [
            "\r  9%|▊         | 174/2000 [11:05<1:56:27,  3.83s/it]"
          ]
        },
        {
          "output_type": "stream",
          "name": "stdout",
          "text": [
            "Crawl data with product_id 199747155\n"
          ]
        },
        {
          "output_type": "stream",
          "name": "stderr",
          "text": [
            "\r  9%|▉         | 175/2000 [11:09<1:51:53,  3.68s/it]"
          ]
        },
        {
          "output_type": "stream",
          "name": "stdout",
          "text": [
            "Crawl data with product_id 103511949\n"
          ]
        },
        {
          "output_type": "stream",
          "name": "stderr",
          "text": [
            "\r  9%|▉         | 176/2000 [11:12<1:48:42,  3.58s/it]"
          ]
        },
        {
          "output_type": "stream",
          "name": "stdout",
          "text": [
            "Crawl data with product_id 197084477\n"
          ]
        },
        {
          "output_type": "stream",
          "name": "stderr",
          "text": [
            "\r  9%|▉         | 177/2000 [11:15<1:46:02,  3.49s/it]"
          ]
        },
        {
          "output_type": "stream",
          "name": "stdout",
          "text": [
            "Crawl data with product_id 59362963\n"
          ]
        },
        {
          "output_type": "stream",
          "name": "stderr",
          "text": [
            "\r  9%|▉         | 178/2000 [11:20<1:54:05,  3.76s/it]"
          ]
        },
        {
          "output_type": "stream",
          "name": "stdout",
          "text": [
            "Crawl data with product_id 175724209\n"
          ]
        },
        {
          "output_type": "stream",
          "name": "stderr",
          "text": [
            "\r  9%|▉         | 179/2000 [11:23<1:50:12,  3.63s/it]"
          ]
        },
        {
          "output_type": "stream",
          "name": "stdout",
          "text": [
            "Crawl data with product_id 77230659\n"
          ]
        },
        {
          "output_type": "stream",
          "name": "stderr",
          "text": [
            "\r  9%|▉         | 180/2000 [11:27<1:56:45,  3.85s/it]"
          ]
        },
        {
          "output_type": "stream",
          "name": "stdout",
          "text": [
            "Crawl data with product_id 214773792\n"
          ]
        },
        {
          "output_type": "stream",
          "name": "stderr",
          "text": [
            "\r  9%|▉         | 181/2000 [11:32<2:01:03,  3.99s/it]"
          ]
        },
        {
          "output_type": "stream",
          "name": "stdout",
          "text": [
            "Crawl data with product_id 149573908\n"
          ]
        },
        {
          "output_type": "stream",
          "name": "stderr",
          "text": [
            "\r  9%|▉         | 182/2000 [11:36<2:04:02,  4.09s/it]"
          ]
        },
        {
          "output_type": "stream",
          "name": "stdout",
          "text": [
            "Crawl data with product_id 72851561\n"
          ]
        },
        {
          "output_type": "stream",
          "name": "stderr",
          "text": [
            "\r  9%|▉         | 183/2000 [11:40<2:06:04,  4.16s/it]"
          ]
        },
        {
          "output_type": "stream",
          "name": "stdout",
          "text": [
            "Crawl data with product_id 248415205\n"
          ]
        },
        {
          "output_type": "stream",
          "name": "stderr",
          "text": [
            "\r  9%|▉         | 184/2000 [11:45<2:09:50,  4.29s/it]"
          ]
        },
        {
          "output_type": "stream",
          "name": "stdout",
          "text": [
            "Crawl data with product_id 140579110\n"
          ]
        },
        {
          "output_type": "stream",
          "name": "stderr",
          "text": [
            "\r  9%|▉         | 185/2000 [11:49<2:10:18,  4.31s/it]"
          ]
        },
        {
          "output_type": "stream",
          "name": "stdout",
          "text": [
            "Crawl data with product_id 77403145\n"
          ]
        },
        {
          "output_type": "stream",
          "name": "stderr",
          "text": [
            "\r  9%|▉         | 186/2000 [11:54<2:10:26,  4.31s/it]"
          ]
        },
        {
          "output_type": "stream",
          "name": "stdout",
          "text": [
            "Crawl data with product_id 59556808\n"
          ]
        },
        {
          "output_type": "stream",
          "name": "stderr",
          "text": [
            "\r  9%|▉         | 187/2000 [11:58<2:10:44,  4.33s/it]"
          ]
        },
        {
          "output_type": "stream",
          "name": "stdout",
          "text": [
            "Crawl data with product_id 247406902\n"
          ]
        },
        {
          "output_type": "stream",
          "name": "stderr",
          "text": [
            "\r  9%|▉         | 188/2000 [12:01<2:01:25,  4.02s/it]"
          ]
        },
        {
          "output_type": "stream",
          "name": "stdout",
          "text": [
            "Crawl data with product_id 217149569\n"
          ]
        },
        {
          "output_type": "stream",
          "name": "stderr",
          "text": [
            "\r  9%|▉         | 189/2000 [12:06<2:04:11,  4.11s/it]"
          ]
        },
        {
          "output_type": "stream",
          "name": "stdout",
          "text": [
            "Crawl data with product_id 249854956\n"
          ]
        },
        {
          "output_type": "stream",
          "name": "stderr",
          "text": [
            "\r 10%|▉         | 190/2000 [12:09<1:56:40,  3.87s/it]"
          ]
        },
        {
          "output_type": "stream",
          "name": "stdout",
          "text": [
            "Crawl data with product_id 174896121\n"
          ]
        },
        {
          "output_type": "stream",
          "name": "stderr",
          "text": [
            "\r 10%|▉         | 191/2000 [12:12<1:51:52,  3.71s/it]"
          ]
        },
        {
          "output_type": "stream",
          "name": "stdout",
          "text": [
            "Crawl data with product_id 190464438\n"
          ]
        },
        {
          "output_type": "stream",
          "name": "stderr",
          "text": [
            "\r 10%|▉         | 192/2000 [12:16<1:57:18,  3.89s/it]"
          ]
        },
        {
          "output_type": "stream",
          "name": "stdout",
          "text": [
            "Crawl data with product_id 129355968\n"
          ]
        },
        {
          "output_type": "stream",
          "name": "stderr",
          "text": [
            "\r 10%|▉         | 193/2000 [12:21<2:01:12,  4.02s/it]"
          ]
        },
        {
          "output_type": "stream",
          "name": "stdout",
          "text": [
            "Crawl data with product_id 125724932\n"
          ]
        },
        {
          "output_type": "stream",
          "name": "stderr",
          "text": [
            "\r 10%|▉         | 194/2000 [12:25<2:03:38,  4.11s/it]"
          ]
        },
        {
          "output_type": "stream",
          "name": "stdout",
          "text": [
            "Crawl data with product_id 249876839\n"
          ]
        },
        {
          "output_type": "stream",
          "name": "stderr",
          "text": [
            "\r 10%|▉         | 195/2000 [12:29<2:05:42,  4.18s/it]"
          ]
        },
        {
          "output_type": "stream",
          "name": "stdout",
          "text": [
            "Crawl data with product_id 11885886\n"
          ]
        },
        {
          "output_type": "stream",
          "name": "stderr",
          "text": [
            "\r 10%|▉         | 196/2000 [12:33<1:57:59,  3.92s/it]"
          ]
        },
        {
          "output_type": "stream",
          "name": "stdout",
          "text": [
            "Crawl data with product_id 206784508\n"
          ]
        },
        {
          "output_type": "stream",
          "name": "stderr",
          "text": [
            "\r 10%|▉         | 197/2000 [12:36<1:52:25,  3.74s/it]"
          ]
        },
        {
          "output_type": "stream",
          "name": "stdout",
          "text": [
            "Crawl data with product_id 145977558\n"
          ]
        },
        {
          "output_type": "stream",
          "name": "stderr",
          "text": [
            "\r 10%|▉         | 198/2000 [12:40<1:57:40,  3.92s/it]"
          ]
        },
        {
          "output_type": "stream",
          "name": "stdout",
          "text": [
            "Crawl data with product_id 212317619\n"
          ]
        },
        {
          "output_type": "stream",
          "name": "stderr",
          "text": [
            "\r 10%|▉         | 199/2000 [12:44<1:52:24,  3.75s/it]"
          ]
        },
        {
          "output_type": "stream",
          "name": "stdout",
          "text": [
            "Crawl data with product_id 180226001\n"
          ]
        },
        {
          "output_type": "stream",
          "name": "stderr",
          "text": [
            "\r 10%|█         | 200/2000 [12:48<1:57:25,  3.91s/it]"
          ]
        },
        {
          "output_type": "stream",
          "name": "stdout",
          "text": [
            "Crawl data with product_id 56307244\n"
          ]
        },
        {
          "output_type": "stream",
          "name": "stderr",
          "text": [
            "\r 10%|█         | 201/2000 [12:53<2:03:37,  4.12s/it]"
          ]
        },
        {
          "output_type": "stream",
          "name": "stdout",
          "text": [
            "Crawl data with product_id 200780121\n"
          ]
        },
        {
          "output_type": "stream",
          "name": "stderr",
          "text": [
            "\r 10%|█         | 202/2000 [12:57<2:05:23,  4.18s/it]"
          ]
        },
        {
          "output_type": "stream",
          "name": "stdout",
          "text": [
            "Crawl data with product_id 157244522\n"
          ]
        },
        {
          "output_type": "stream",
          "name": "stderr",
          "text": [
            "\r 10%|█         | 203/2000 [13:01<2:06:23,  4.22s/it]"
          ]
        },
        {
          "output_type": "stream",
          "name": "stdout",
          "text": [
            "Crawl data with product_id 76443018\n"
          ]
        },
        {
          "output_type": "stream",
          "name": "stderr",
          "text": [
            "\r 10%|█         | 204/2000 [13:05<1:58:38,  3.96s/it]"
          ]
        },
        {
          "output_type": "stream",
          "name": "stdout",
          "text": [
            "Crawl data with product_id 190757829\n"
          ]
        },
        {
          "output_type": "stream",
          "name": "stderr",
          "text": [
            "\r 10%|█         | 205/2000 [13:08<1:52:36,  3.76s/it]"
          ]
        },
        {
          "output_type": "stream",
          "name": "stdout",
          "text": [
            "Crawl data with product_id 77447881\n"
          ]
        },
        {
          "output_type": "stream",
          "name": "stderr",
          "text": [
            "\r 10%|█         | 206/2000 [13:11<1:48:40,  3.63s/it]"
          ]
        },
        {
          "output_type": "stream",
          "name": "stdout",
          "text": [
            "Crawl data with product_id 73191208\n"
          ]
        },
        {
          "output_type": "stream",
          "name": "stderr",
          "text": [
            "\r 10%|█         | 207/2000 [13:15<1:46:04,  3.55s/it]"
          ]
        },
        {
          "output_type": "stream",
          "name": "stdout",
          "text": [
            "Crawl data with product_id 212462564\n"
          ]
        },
        {
          "output_type": "stream",
          "name": "stderr",
          "text": [
            "\r 10%|█         | 208/2000 [13:19<1:52:57,  3.78s/it]"
          ]
        },
        {
          "output_type": "stream",
          "name": "stdout",
          "text": [
            "Crawl data with product_id 199009885\n"
          ]
        },
        {
          "output_type": "stream",
          "name": "stderr",
          "text": [
            "\r 10%|█         | 209/2000 [13:23<1:58:32,  3.97s/it]"
          ]
        },
        {
          "output_type": "stream",
          "name": "stdout",
          "text": [
            "Crawl data with product_id 207295083\n"
          ]
        },
        {
          "output_type": "stream",
          "name": "stderr",
          "text": [
            "\r 10%|█         | 210/2000 [13:28<2:01:31,  4.07s/it]"
          ]
        },
        {
          "output_type": "stream",
          "name": "stdout",
          "text": [
            "Crawl data with product_id 189336447\n"
          ]
        },
        {
          "output_type": "stream",
          "name": "stderr",
          "text": [
            "\r 11%|█         | 211/2000 [13:32<2:03:34,  4.14s/it]"
          ]
        },
        {
          "output_type": "stream",
          "name": "stdout",
          "text": [
            "Crawl data with product_id 115795395\n"
          ]
        },
        {
          "output_type": "stream",
          "name": "stderr",
          "text": [
            "\r 11%|█         | 212/2000 [13:36<2:05:20,  4.21s/it]"
          ]
        },
        {
          "output_type": "stream",
          "name": "stdout",
          "text": [
            "Crawl data with product_id 349669\n"
          ]
        },
        {
          "output_type": "stream",
          "name": "stderr",
          "text": [
            "\r 11%|█         | 213/2000 [13:41<2:06:35,  4.25s/it]"
          ]
        },
        {
          "output_type": "stream",
          "name": "stdout",
          "text": [
            "Crawl data with product_id 246078356\n"
          ]
        },
        {
          "output_type": "stream",
          "name": "stderr",
          "text": [
            "\r 11%|█         | 214/2000 [13:45<2:07:16,  4.28s/it]"
          ]
        },
        {
          "output_type": "stream",
          "name": "stdout",
          "text": [
            "Crawl data with product_id 136540008\n"
          ]
        },
        {
          "output_type": "stream",
          "name": "stderr",
          "text": [
            "\r 11%|█         | 215/2000 [13:49<2:07:30,  4.29s/it]"
          ]
        },
        {
          "output_type": "stream",
          "name": "stdout",
          "text": [
            "Crawl data with product_id 143185985\n"
          ]
        },
        {
          "output_type": "stream",
          "name": "stderr",
          "text": [
            "\r 11%|█         | 216/2000 [13:54<2:07:59,  4.30s/it]"
          ]
        },
        {
          "output_type": "stream",
          "name": "stdout",
          "text": [
            "Crawl data with product_id 53716215\n"
          ]
        },
        {
          "output_type": "stream",
          "name": "stderr",
          "text": [
            "\r 11%|█         | 217/2000 [13:57<1:59:03,  4.01s/it]"
          ]
        },
        {
          "output_type": "stream",
          "name": "stdout",
          "text": [
            "Crawl data with product_id 91544546\n"
          ]
        },
        {
          "output_type": "stream",
          "name": "stderr",
          "text": [
            "\r 11%|█         | 218/2000 [14:01<2:01:58,  4.11s/it]"
          ]
        },
        {
          "output_type": "stream",
          "name": "stdout",
          "text": [
            "Crawl data with product_id 96649478\n"
          ]
        },
        {
          "output_type": "stream",
          "name": "stderr",
          "text": [
            "\r 11%|█         | 219/2000 [14:06<2:03:56,  4.18s/it]"
          ]
        },
        {
          "output_type": "stream",
          "name": "stdout",
          "text": [
            "Crawl data with product_id 19913973\n"
          ]
        },
        {
          "output_type": "stream",
          "name": "stderr",
          "text": [
            "\r 11%|█         | 220/2000 [14:10<2:05:27,  4.23s/it]"
          ]
        },
        {
          "output_type": "stream",
          "name": "stdout",
          "text": [
            "Crawl data with product_id 208222226\n"
          ]
        },
        {
          "output_type": "stream",
          "name": "stderr",
          "text": [
            "\r 11%|█         | 221/2000 [14:14<2:06:25,  4.26s/it]"
          ]
        },
        {
          "output_type": "stream",
          "name": "stdout",
          "text": [
            "Crawl data with product_id 24490036\n"
          ]
        },
        {
          "output_type": "stream",
          "name": "stderr",
          "text": [
            "\r 11%|█         | 222/2000 [14:18<1:58:00,  3.98s/it]"
          ]
        },
        {
          "output_type": "stream",
          "name": "stdout",
          "text": [
            "Crawl data with product_id 143226165\n"
          ]
        },
        {
          "output_type": "stream",
          "name": "stderr",
          "text": [
            "\r 11%|█         | 223/2000 [14:21<1:52:10,  3.79s/it]"
          ]
        },
        {
          "output_type": "stream",
          "name": "stdout",
          "text": [
            "Crawl data with product_id 54694180\n"
          ]
        },
        {
          "output_type": "stream",
          "name": "stderr",
          "text": [
            "\r 11%|█         | 224/2000 [14:24<1:47:53,  3.65s/it]"
          ]
        },
        {
          "output_type": "stream",
          "name": "stdout",
          "text": [
            "Crawl data with product_id 23199426\n"
          ]
        },
        {
          "output_type": "stream",
          "name": "stderr",
          "text": [
            "\r 11%|█▏        | 225/2000 [14:28<1:45:01,  3.55s/it]"
          ]
        },
        {
          "output_type": "stream",
          "name": "stdout",
          "text": [
            "Crawl data with product_id 102381212\n"
          ]
        },
        {
          "output_type": "stream",
          "name": "stderr",
          "text": [
            "\r 11%|█▏        | 226/2000 [14:31<1:42:53,  3.48s/it]"
          ]
        },
        {
          "output_type": "stream",
          "name": "stdout",
          "text": [
            "Crawl data with product_id 34434282\n"
          ]
        },
        {
          "output_type": "stream",
          "name": "stderr",
          "text": [
            "\r 11%|█▏        | 227/2000 [14:34<1:41:38,  3.44s/it]"
          ]
        },
        {
          "output_type": "stream",
          "name": "stdout",
          "text": [
            "Crawl data with product_id 51262941\n"
          ]
        },
        {
          "output_type": "stream",
          "name": "stderr",
          "text": [
            "\r 11%|█▏        | 228/2000 [14:39<1:49:36,  3.71s/it]"
          ]
        },
        {
          "output_type": "stream",
          "name": "stdout",
          "text": [
            "Crawl data with product_id 537793\n"
          ]
        },
        {
          "output_type": "stream",
          "name": "stderr",
          "text": [
            "\r 11%|█▏        | 229/2000 [14:42<1:46:06,  3.60s/it]"
          ]
        },
        {
          "output_type": "stream",
          "name": "stdout",
          "text": [
            "Crawl data with product_id 198302147\n"
          ]
        },
        {
          "output_type": "stream",
          "name": "stderr",
          "text": [
            "\r 12%|█▏        | 230/2000 [14:46<1:52:26,  3.81s/it]"
          ]
        },
        {
          "output_type": "stream",
          "name": "stdout",
          "text": [
            "Crawl data with product_id 90257133\n"
          ]
        },
        {
          "output_type": "stream",
          "name": "stderr",
          "text": [
            "\r 12%|█▏        | 231/2000 [14:50<1:48:24,  3.68s/it]"
          ]
        },
        {
          "output_type": "stream",
          "name": "stdout",
          "text": [
            "Crawl data with product_id 76837849\n"
          ]
        },
        {
          "output_type": "stream",
          "name": "stderr",
          "text": [
            "\r 12%|█▏        | 232/2000 [14:54<1:54:01,  3.87s/it]"
          ]
        },
        {
          "output_type": "stream",
          "name": "stdout",
          "text": [
            "Crawl data with product_id 243056941\n"
          ]
        },
        {
          "output_type": "stream",
          "name": "stderr",
          "text": [
            "\r 12%|█▏        | 233/2000 [14:58<1:58:11,  4.01s/it]"
          ]
        },
        {
          "output_type": "stream",
          "name": "stdout",
          "text": [
            "Crawl data with product_id 249160358\n"
          ]
        },
        {
          "output_type": "stream",
          "name": "stderr",
          "text": [
            "\r 12%|█▏        | 234/2000 [15:02<1:52:15,  3.81s/it]"
          ]
        },
        {
          "output_type": "stream",
          "name": "stdout",
          "text": [
            "Crawl data with product_id 447075\n"
          ]
        },
        {
          "output_type": "stream",
          "name": "stderr",
          "text": [
            "\r 12%|█▏        | 235/2000 [15:06<1:56:34,  3.96s/it]"
          ]
        },
        {
          "output_type": "stream",
          "name": "stdout",
          "text": [
            "Crawl data with product_id 200634061\n"
          ]
        },
        {
          "output_type": "stream",
          "name": "stderr",
          "text": [
            "\r 12%|█▏        | 236/2000 [15:09<1:51:11,  3.78s/it]"
          ]
        },
        {
          "output_type": "stream",
          "name": "stdout",
          "text": [
            "Crawl data with product_id 168559528\n"
          ]
        },
        {
          "output_type": "stream",
          "name": "stderr",
          "text": [
            "\r 12%|█▏        | 237/2000 [15:14<1:56:22,  3.96s/it]"
          ]
        },
        {
          "output_type": "stream",
          "name": "stdout",
          "text": [
            "Crawl data with product_id 147796035\n"
          ]
        },
        {
          "output_type": "stream",
          "name": "stderr",
          "text": [
            "\r 12%|█▏        | 238/2000 [15:17<1:50:32,  3.76s/it]"
          ]
        },
        {
          "output_type": "stream",
          "name": "stdout",
          "text": [
            "Crawl data with product_id 186265470\n"
          ]
        },
        {
          "output_type": "stream",
          "name": "stderr",
          "text": [
            "\r 12%|█▏        | 239/2000 [15:20<1:46:31,  3.63s/it]"
          ]
        },
        {
          "output_type": "stream",
          "name": "stdout",
          "text": [
            "Crawl data with product_id 253358200\n"
          ]
        },
        {
          "output_type": "stream",
          "name": "stderr",
          "text": [
            "\r 12%|█▏        | 240/2000 [15:25<1:52:51,  3.85s/it]"
          ]
        },
        {
          "output_type": "stream",
          "name": "stdout",
          "text": [
            "Crawl data with product_id 45270071\n"
          ]
        },
        {
          "output_type": "stream",
          "name": "stderr",
          "text": [
            "\r 12%|█▏        | 241/2000 [15:28<1:48:04,  3.69s/it]"
          ]
        },
        {
          "output_type": "stream",
          "name": "stdout",
          "text": [
            "Crawl data with product_id 70824817\n"
          ]
        },
        {
          "output_type": "stream",
          "name": "stderr",
          "text": [
            "\r 12%|█▏        | 242/2000 [15:32<1:53:50,  3.89s/it]"
          ]
        },
        {
          "output_type": "stream",
          "name": "stdout",
          "text": [
            "Crawl data with product_id 189336448\n"
          ]
        },
        {
          "output_type": "stream",
          "name": "stderr",
          "text": [
            "\r 12%|█▏        | 243/2000 [15:36<1:48:38,  3.71s/it]"
          ]
        },
        {
          "output_type": "stream",
          "name": "stdout",
          "text": [
            "Crawl data with product_id 170270155\n"
          ]
        },
        {
          "output_type": "stream",
          "name": "stderr",
          "text": [
            "\r 12%|█▏        | 244/2000 [15:39<1:45:20,  3.60s/it]"
          ]
        },
        {
          "output_type": "stream",
          "name": "stdout",
          "text": [
            "Crawl data with product_id 75697497\n"
          ]
        },
        {
          "output_type": "stream",
          "name": "stderr",
          "text": [
            "\r 12%|█▏        | 245/2000 [15:42<1:43:01,  3.52s/it]"
          ]
        },
        {
          "output_type": "stream",
          "name": "stdout",
          "text": [
            "Crawl data with product_id 195801973\n"
          ]
        },
        {
          "output_type": "stream",
          "name": "stderr",
          "text": [
            "\r 12%|█▏        | 246/2000 [15:46<1:46:57,  3.66s/it]"
          ]
        },
        {
          "output_type": "stream",
          "name": "stdout",
          "text": [
            "Crawl data with product_id 214188740\n"
          ]
        },
        {
          "output_type": "stream",
          "name": "stderr",
          "text": [
            "\r 12%|█▏        | 247/2000 [15:51<1:52:36,  3.85s/it]"
          ]
        },
        {
          "output_type": "stream",
          "name": "stdout",
          "text": [
            "Crawl data with product_id 201911380\n"
          ]
        },
        {
          "output_type": "stream",
          "name": "stderr",
          "text": [
            "\r 12%|█▏        | 248/2000 [15:55<1:56:44,  4.00s/it]"
          ]
        },
        {
          "output_type": "stream",
          "name": "stdout",
          "text": [
            "Crawl data with product_id 84480038\n"
          ]
        },
        {
          "output_type": "stream",
          "name": "stderr",
          "text": [
            "\r 12%|█▏        | 249/2000 [15:59<1:59:29,  4.09s/it]"
          ]
        },
        {
          "output_type": "stream",
          "name": "stdout",
          "text": [
            "Crawl data with product_id 44976181\n"
          ]
        },
        {
          "output_type": "stream",
          "name": "stderr",
          "text": [
            "\r 12%|█▎        | 250/2000 [16:04<2:01:25,  4.16s/it]"
          ]
        },
        {
          "output_type": "stream",
          "name": "stdout",
          "text": [
            "Crawl data with product_id 177753645\n"
          ]
        },
        {
          "output_type": "stream",
          "name": "stderr",
          "text": [
            "\r 13%|█▎        | 251/2000 [16:07<1:54:16,  3.92s/it]"
          ]
        },
        {
          "output_type": "stream",
          "name": "stdout",
          "text": [
            "Crawl data with product_id 214595244\n"
          ]
        },
        {
          "output_type": "stream",
          "name": "stderr",
          "text": [
            "\r 13%|█▎        | 252/2000 [16:11<1:57:50,  4.04s/it]"
          ]
        },
        {
          "output_type": "stream",
          "name": "stdout",
          "text": [
            "Crawl data with product_id 2716771\n"
          ]
        },
        {
          "output_type": "stream",
          "name": "stderr",
          "text": [
            "\r 13%|█▎        | 253/2000 [16:15<1:51:35,  3.83s/it]"
          ]
        },
        {
          "output_type": "stream",
          "name": "stdout",
          "text": [
            "Crawl data with product_id 143684631\n"
          ]
        },
        {
          "output_type": "stream",
          "name": "stderr",
          "text": [
            "\r 13%|█▎        | 254/2000 [16:18<1:47:12,  3.68s/it]"
          ]
        },
        {
          "output_type": "stream",
          "name": "stdout",
          "text": [
            "Crawl data with product_id 63587070\n"
          ]
        },
        {
          "output_type": "stream",
          "name": "stderr",
          "text": [
            "\r 13%|█▎        | 255/2000 [16:22<1:52:47,  3.88s/it]"
          ]
        },
        {
          "output_type": "stream",
          "name": "stdout",
          "text": [
            "Crawl data with product_id 134628097\n"
          ]
        },
        {
          "output_type": "stream",
          "name": "stderr",
          "text": [
            "\r 13%|█▎        | 256/2000 [16:27<1:56:47,  4.02s/it]"
          ]
        },
        {
          "output_type": "stream",
          "name": "stdout",
          "text": [
            "Crawl data with product_id 97589652\n"
          ]
        },
        {
          "output_type": "stream",
          "name": "stderr",
          "text": [
            "\r 13%|█▎        | 257/2000 [16:31<1:59:35,  4.12s/it]"
          ]
        },
        {
          "output_type": "stream",
          "name": "stdout",
          "text": [
            "Crawl data with product_id 203701744\n"
          ]
        },
        {
          "output_type": "stream",
          "name": "stderr",
          "text": [
            "\r 13%|█▎        | 258/2000 [16:35<2:01:18,  4.18s/it]"
          ]
        },
        {
          "output_type": "stream",
          "name": "stdout",
          "text": [
            "Crawl data with product_id 217336263\n"
          ]
        },
        {
          "output_type": "stream",
          "name": "stderr",
          "text": [
            "\r 13%|█▎        | 259/2000 [16:39<1:53:40,  3.92s/it]"
          ]
        },
        {
          "output_type": "stream",
          "name": "stdout",
          "text": [
            "Crawl data with product_id 173358029\n"
          ]
        },
        {
          "output_type": "stream",
          "name": "stderr",
          "text": [
            "\r 13%|█▎        | 260/2000 [16:43<1:57:04,  4.04s/it]"
          ]
        },
        {
          "output_type": "stream",
          "name": "stdout",
          "text": [
            "Crawl data with product_id 75813211\n"
          ]
        },
        {
          "output_type": "stream",
          "name": "stderr",
          "text": [
            "\r 13%|█▎        | 261/2000 [16:47<1:59:32,  4.12s/it]"
          ]
        },
        {
          "output_type": "stream",
          "name": "stdout",
          "text": [
            "Crawl data with product_id 79937334\n"
          ]
        },
        {
          "output_type": "stream",
          "name": "stderr",
          "text": [
            "\r 13%|█▎        | 262/2000 [16:52<2:01:15,  4.19s/it]"
          ]
        },
        {
          "output_type": "stream",
          "name": "stdout",
          "text": [
            "Crawl data with product_id 252564161\n"
          ]
        },
        {
          "output_type": "stream",
          "name": "stderr",
          "text": [
            "\r 13%|█▎        | 263/2000 [16:56<2:02:25,  4.23s/it]"
          ]
        },
        {
          "output_type": "stream",
          "name": "stdout",
          "text": [
            "Crawl data with product_id 149534851\n"
          ]
        },
        {
          "output_type": "stream",
          "name": "stderr",
          "text": [
            "\r 13%|█▎        | 264/2000 [17:00<2:03:02,  4.25s/it]"
          ]
        },
        {
          "output_type": "stream",
          "name": "stdout",
          "text": [
            "Crawl data with product_id 491744\n"
          ]
        },
        {
          "output_type": "stream",
          "name": "stderr",
          "text": [
            "\r 13%|█▎        | 265/2000 [17:04<1:54:58,  3.98s/it]"
          ]
        },
        {
          "output_type": "stream",
          "name": "stdout",
          "text": [
            "Crawl data with product_id 252858860\n"
          ]
        },
        {
          "output_type": "stream",
          "name": "stderr",
          "text": [
            "\r 13%|█▎        | 266/2000 [17:07<1:49:02,  3.77s/it]"
          ]
        },
        {
          "output_type": "stream",
          "name": "stdout",
          "text": [
            "Crawl data with product_id 40933977\n"
          ]
        },
        {
          "output_type": "stream",
          "name": "stderr",
          "text": [
            "\r 13%|█▎        | 267/2000 [17:11<1:53:41,  3.94s/it]"
          ]
        },
        {
          "output_type": "stream",
          "name": "stdout",
          "text": [
            "Crawl data with product_id 207789624\n"
          ]
        },
        {
          "output_type": "stream",
          "name": "stderr",
          "text": [
            "\r 13%|█▎        | 268/2000 [17:15<1:49:50,  3.81s/it]"
          ]
        },
        {
          "output_type": "stream",
          "name": "stdout",
          "text": [
            "Crawl data with product_id 214947030\n"
          ]
        },
        {
          "output_type": "stream",
          "name": "stderr",
          "text": [
            "\r 13%|█▎        | 269/2000 [17:18<1:45:41,  3.66s/it]"
          ]
        },
        {
          "output_type": "stream",
          "name": "stdout",
          "text": [
            "Crawl data with product_id 242721616\n"
          ]
        },
        {
          "output_type": "stream",
          "name": "stderr",
          "text": [
            "\r 14%|█▎        | 270/2000 [17:22<1:51:36,  3.87s/it]"
          ]
        },
        {
          "output_type": "stream",
          "name": "stdout",
          "text": [
            "Crawl data with product_id 32818414\n"
          ]
        },
        {
          "output_type": "stream",
          "name": "stderr",
          "text": [
            "\r 14%|█▎        | 271/2000 [17:27<1:55:30,  4.01s/it]"
          ]
        },
        {
          "output_type": "stream",
          "name": "stdout",
          "text": [
            "Crawl data with product_id 205829825\n"
          ]
        },
        {
          "output_type": "stream",
          "name": "stderr",
          "text": [
            "\r 14%|█▎        | 272/2000 [17:31<1:58:21,  4.11s/it]"
          ]
        },
        {
          "output_type": "stream",
          "name": "stdout",
          "text": [
            "Crawl data with product_id 146274125\n"
          ]
        },
        {
          "output_type": "stream",
          "name": "stderr",
          "text": [
            "\r 14%|█▎        | 273/2000 [17:34<1:51:05,  3.86s/it]"
          ]
        },
        {
          "output_type": "stream",
          "name": "stdout",
          "text": [
            "Crawl data with product_id 249089770\n"
          ]
        },
        {
          "output_type": "stream",
          "name": "stderr",
          "text": [
            "\r 14%|█▎        | 274/2000 [17:38<1:46:05,  3.69s/it]"
          ]
        },
        {
          "output_type": "stream",
          "name": "stdout",
          "text": [
            "Crawl data with product_id 208411743\n"
          ]
        },
        {
          "output_type": "stream",
          "name": "stderr",
          "text": [
            "\r 14%|█▍        | 275/2000 [17:41<1:42:57,  3.58s/it]"
          ]
        },
        {
          "output_type": "stream",
          "name": "stdout",
          "text": [
            "Crawl data with product_id 700324\n"
          ]
        },
        {
          "output_type": "stream",
          "name": "stderr",
          "text": [
            "\r 14%|█▍        | 276/2000 [17:44<1:40:40,  3.50s/it]"
          ]
        },
        {
          "output_type": "stream",
          "name": "stdout",
          "text": [
            "Crawl data with product_id 71289215\n"
          ]
        },
        {
          "output_type": "stream",
          "name": "stderr",
          "text": [
            "\r 14%|█▍        | 277/2000 [17:48<1:39:00,  3.45s/it]"
          ]
        },
        {
          "output_type": "stream",
          "name": "stdout",
          "text": [
            "Crawl data with product_id 214931176\n"
          ]
        },
        {
          "output_type": "stream",
          "name": "stderr",
          "text": [
            "\r 14%|█▍        | 278/2000 [17:52<1:46:46,  3.72s/it]"
          ]
        },
        {
          "output_type": "stream",
          "name": "stdout",
          "text": [
            "Crawl data with product_id 224608300\n"
          ]
        },
        {
          "output_type": "stream",
          "name": "stderr",
          "text": [
            "\r 14%|█▍        | 279/2000 [17:55<1:43:11,  3.60s/it]"
          ]
        },
        {
          "output_type": "stream",
          "name": "stdout",
          "text": [
            "Crawl data with product_id 94904281\n"
          ]
        },
        {
          "output_type": "stream",
          "name": "stderr",
          "text": [
            "\r 14%|█▍        | 280/2000 [17:59<1:40:47,  3.52s/it]"
          ]
        },
        {
          "output_type": "stream",
          "name": "stdout",
          "text": [
            "Crawl data with product_id 951196\n"
          ]
        },
        {
          "output_type": "stream",
          "name": "stderr",
          "text": [
            "\r 14%|█▍        | 281/2000 [18:03<1:48:22,  3.78s/it]"
          ]
        },
        {
          "output_type": "stream",
          "name": "stdout",
          "text": [
            "Crawl data with product_id 243096925\n"
          ]
        },
        {
          "output_type": "stream",
          "name": "stderr",
          "text": [
            "\r 14%|█▍        | 282/2000 [18:07<1:52:58,  3.95s/it]"
          ]
        },
        {
          "output_type": "stream",
          "name": "stdout",
          "text": [
            "Crawl data with product_id 202854534\n"
          ]
        },
        {
          "output_type": "stream",
          "name": "stderr",
          "text": [
            "\r 14%|█▍        | 283/2000 [18:12<1:56:04,  4.06s/it]"
          ]
        },
        {
          "output_type": "stream",
          "name": "stdout",
          "text": [
            "Crawl data with product_id 191427031\n"
          ]
        },
        {
          "output_type": "stream",
          "name": "stderr",
          "text": [
            "\r 14%|█▍        | 284/2000 [18:16<1:58:15,  4.13s/it]"
          ]
        },
        {
          "output_type": "stream",
          "name": "stdout",
          "text": [
            "Crawl data with product_id 249016549\n"
          ]
        },
        {
          "output_type": "stream",
          "name": "stderr",
          "text": [
            "\r 14%|█▍        | 285/2000 [18:19<1:51:15,  3.89s/it]"
          ]
        },
        {
          "output_type": "stream",
          "name": "stdout",
          "text": [
            "Crawl data with product_id 57648722\n"
          ]
        },
        {
          "output_type": "stream",
          "name": "stderr",
          "text": [
            "\r 14%|█▍        | 286/2000 [18:24<1:54:49,  4.02s/it]"
          ]
        },
        {
          "output_type": "stream",
          "name": "stdout",
          "text": [
            "Crawl data with product_id 62373313\n"
          ]
        },
        {
          "output_type": "stream",
          "name": "stderr",
          "text": [
            "\r 14%|█▍        | 287/2000 [18:28<1:57:25,  4.11s/it]"
          ]
        },
        {
          "output_type": "stream",
          "name": "stdout",
          "text": [
            "Crawl data with product_id 247406904\n"
          ]
        },
        {
          "output_type": "stream",
          "name": "stderr",
          "text": [
            "\r 14%|█▍        | 288/2000 [18:31<1:50:44,  3.88s/it]"
          ]
        },
        {
          "output_type": "stream",
          "name": "stdout",
          "text": [
            "Crawl data with product_id 247303152\n"
          ]
        },
        {
          "output_type": "stream",
          "name": "stderr",
          "text": [
            "\r 14%|█▍        | 289/2000 [18:35<1:46:02,  3.72s/it]"
          ]
        },
        {
          "output_type": "stream",
          "name": "stdout",
          "text": [
            "Crawl data with product_id 201045772\n"
          ]
        },
        {
          "output_type": "stream",
          "name": "stderr",
          "text": [
            "\r 14%|█▍        | 290/2000 [18:38<1:42:33,  3.60s/it]"
          ]
        },
        {
          "output_type": "stream",
          "name": "stdout",
          "text": [
            "Crawl data with product_id 145092603\n"
          ]
        },
        {
          "output_type": "stream",
          "name": "stderr",
          "text": [
            "\r 15%|█▍        | 291/2000 [18:42<1:48:41,  3.82s/it]"
          ]
        },
        {
          "output_type": "stream",
          "name": "stdout",
          "text": [
            "Crawl data with product_id 251577063\n"
          ]
        },
        {
          "output_type": "stream",
          "name": "stderr",
          "text": [
            "\r 15%|█▍        | 292/2000 [18:46<1:44:17,  3.66s/it]"
          ]
        },
        {
          "output_type": "stream",
          "name": "stdout",
          "text": [
            "Crawl data with product_id 123915920\n"
          ]
        },
        {
          "output_type": "stream",
          "name": "stderr",
          "text": [
            "\r 15%|█▍        | 293/2000 [18:50<1:50:06,  3.87s/it]"
          ]
        },
        {
          "output_type": "stream",
          "name": "stdout",
          "text": [
            "Crawl data with product_id 205928397\n"
          ]
        },
        {
          "output_type": "stream",
          "name": "stderr",
          "text": [
            "\r 15%|█▍        | 294/2000 [18:55<2:00:10,  4.23s/it]"
          ]
        },
        {
          "output_type": "stream",
          "name": "stdout",
          "text": [
            "Crawl data with product_id 152740754\n"
          ]
        },
        {
          "output_type": "stream",
          "name": "stderr",
          "text": [
            "\r 15%|█▍        | 295/2000 [18:58<1:52:54,  3.97s/it]"
          ]
        },
        {
          "output_type": "stream",
          "name": "stdout",
          "text": [
            "Crawl data with product_id 204661036\n"
          ]
        },
        {
          "output_type": "stream",
          "name": "stderr",
          "text": [
            "\r 15%|█▍        | 296/2000 [19:02<1:52:56,  3.98s/it]"
          ]
        },
        {
          "output_type": "stream",
          "name": "stdout",
          "text": [
            "Crawl data with product_id 4115799\n"
          ]
        },
        {
          "output_type": "stream",
          "name": "stderr",
          "text": [
            "\r 15%|█▍        | 297/2000 [19:06<1:47:32,  3.79s/it]"
          ]
        },
        {
          "output_type": "stream",
          "name": "stdout",
          "text": [
            "Crawl data with product_id 74174188\n"
          ]
        },
        {
          "output_type": "stream",
          "name": "stderr",
          "text": [
            "\r 15%|█▍        | 298/2000 [19:10<1:52:03,  3.95s/it]"
          ]
        },
        {
          "output_type": "stream",
          "name": "stdout",
          "text": [
            "Crawl data with product_id 32168010\n"
          ]
        },
        {
          "output_type": "stream",
          "name": "stderr",
          "text": [
            "\r 15%|█▍        | 299/2000 [19:14<1:54:57,  4.06s/it]"
          ]
        },
        {
          "output_type": "stream",
          "name": "stdout",
          "text": [
            "Crawl data with product_id 137677028\n"
          ]
        },
        {
          "output_type": "stream",
          "name": "stderr",
          "text": [
            "\r 15%|█▌        | 300/2000 [19:19<1:58:58,  4.20s/it]"
          ]
        },
        {
          "output_type": "stream",
          "name": "stdout",
          "text": [
            "Crawl data with product_id 871612\n"
          ]
        },
        {
          "output_type": "stream",
          "name": "stderr",
          "text": [
            "\r 15%|█▌        | 301/2000 [19:22<1:51:28,  3.94s/it]"
          ]
        },
        {
          "output_type": "stream",
          "name": "stdout",
          "text": [
            "Crawl data with product_id 1826675\n"
          ]
        },
        {
          "output_type": "stream",
          "name": "stderr",
          "text": [
            "\r 15%|█▌        | 302/2000 [19:27<1:54:46,  4.06s/it]"
          ]
        },
        {
          "output_type": "stream",
          "name": "stdout",
          "text": [
            "Crawl data with product_id 249700235\n"
          ]
        },
        {
          "output_type": "stream",
          "name": "stderr",
          "text": [
            "\r 15%|█▌        | 303/2000 [19:30<1:49:01,  3.85s/it]"
          ]
        },
        {
          "output_type": "stream",
          "name": "stdout",
          "text": [
            "Crawl data with product_id 4423761\n"
          ]
        },
        {
          "output_type": "stream",
          "name": "stderr",
          "text": [
            "\r 15%|█▌        | 304/2000 [19:33<1:44:17,  3.69s/it]"
          ]
        },
        {
          "output_type": "stream",
          "name": "stdout",
          "text": [
            "Crawl data with product_id 8362423\n"
          ]
        },
        {
          "output_type": "stream",
          "name": "stderr",
          "text": [
            "\r 15%|█▌        | 305/2000 [19:38<1:49:53,  3.89s/it]"
          ]
        },
        {
          "output_type": "stream",
          "name": "stdout",
          "text": [
            "Crawl data with product_id 41875658\n"
          ]
        },
        {
          "output_type": "stream",
          "name": "stderr",
          "text": [
            "\r 15%|█▌        | 306/2000 [19:41<1:44:51,  3.71s/it]"
          ]
        },
        {
          "output_type": "stream",
          "name": "stdout",
          "text": [
            "Crawl data with product_id 249252596\n"
          ]
        },
        {
          "output_type": "stream",
          "name": "stderr",
          "text": [
            "\r 15%|█▌        | 307/2000 [19:45<1:49:49,  3.89s/it]"
          ]
        },
        {
          "output_type": "stream",
          "name": "stdout",
          "text": [
            "Crawl data with product_id 67865279\n"
          ]
        },
        {
          "output_type": "stream",
          "name": "stderr",
          "text": [
            "\r 15%|█▌        | 308/2000 [19:49<1:45:01,  3.72s/it]"
          ]
        },
        {
          "output_type": "stream",
          "name": "stdout",
          "text": [
            "Crawl data with product_id 215888061\n"
          ]
        },
        {
          "output_type": "stream",
          "name": "stderr",
          "text": [
            "\r 15%|█▌        | 309/2000 [19:52<1:41:38,  3.61s/it]"
          ]
        },
        {
          "output_type": "stream",
          "name": "stdout",
          "text": [
            "Crawl data with product_id 194098686\n"
          ]
        },
        {
          "output_type": "stream",
          "name": "stderr",
          "text": [
            "\r 16%|█▌        | 310/2000 [19:55<1:39:13,  3.52s/it]"
          ]
        },
        {
          "output_type": "stream",
          "name": "stdout",
          "text": [
            "Crawl data with product_id 174896123\n"
          ]
        },
        {
          "output_type": "stream",
          "name": "stderr",
          "text": [
            "\r 16%|█▌        | 311/2000 [19:59<1:37:34,  3.47s/it]"
          ]
        },
        {
          "output_type": "stream",
          "name": "stdout",
          "text": [
            "Crawl data with product_id 235728512\n"
          ]
        },
        {
          "output_type": "stream",
          "name": "stderr",
          "text": [
            "\r 16%|█▌        | 312/2000 [20:03<1:44:49,  3.73s/it]"
          ]
        },
        {
          "output_type": "stream",
          "name": "stdout",
          "text": [
            "Crawl data with product_id 253125355\n"
          ]
        },
        {
          "output_type": "stream",
          "name": "stderr",
          "text": [
            "\r 16%|█▌        | 313/2000 [20:06<1:41:10,  3.60s/it]"
          ]
        },
        {
          "output_type": "stream",
          "name": "stdout",
          "text": [
            "Crawl data with product_id 101807254\n"
          ]
        },
        {
          "output_type": "stream",
          "name": "stderr",
          "text": [
            "\r 16%|█▌        | 314/2000 [20:11<1:47:22,  3.82s/it]"
          ]
        },
        {
          "output_type": "stream",
          "name": "stdout",
          "text": [
            "Crawl data with product_id 49742351\n"
          ]
        },
        {
          "output_type": "stream",
          "name": "stderr",
          "text": [
            "\r 16%|█▌        | 315/2000 [20:15<1:51:41,  3.98s/it]"
          ]
        },
        {
          "output_type": "stream",
          "name": "stdout",
          "text": [
            "Crawl data with product_id 189336452\n"
          ]
        },
        {
          "output_type": "stream",
          "name": "stderr",
          "text": [
            "\r 16%|█▌        | 316/2000 [20:18<1:45:56,  3.77s/it]"
          ]
        },
        {
          "output_type": "stream",
          "name": "stdout",
          "text": [
            "Crawl data with product_id 22172749\n"
          ]
        },
        {
          "output_type": "stream",
          "name": "stderr",
          "text": [
            "\r 16%|█▌        | 317/2000 [20:21<1:42:13,  3.64s/it]"
          ]
        },
        {
          "output_type": "stream",
          "name": "stdout",
          "text": [
            "Crawl data with product_id 89911839\n"
          ]
        },
        {
          "output_type": "stream",
          "name": "stderr",
          "text": [
            "\r 16%|█▌        | 318/2000 [20:26<1:48:28,  3.87s/it]"
          ]
        },
        {
          "output_type": "stream",
          "name": "stdout",
          "text": [
            "Crawl data with product_id 207825239\n"
          ]
        },
        {
          "output_type": "stream",
          "name": "stderr",
          "text": [
            "\r 16%|█▌        | 319/2000 [20:30<1:52:13,  4.01s/it]"
          ]
        },
        {
          "output_type": "stream",
          "name": "stdout",
          "text": [
            "Crawl data with product_id 193897105\n"
          ]
        },
        {
          "output_type": "stream",
          "name": "stderr",
          "text": [
            "\r 16%|█▌        | 320/2000 [20:35<1:54:51,  4.10s/it]"
          ]
        },
        {
          "output_type": "stream",
          "name": "stdout",
          "text": [
            "Crawl data with product_id 192020150\n"
          ]
        },
        {
          "output_type": "stream",
          "name": "stderr",
          "text": [
            "\r 16%|█▌        | 321/2000 [20:39<1:56:38,  4.17s/it]"
          ]
        },
        {
          "output_type": "stream",
          "name": "stdout",
          "text": [
            "Crawl data with product_id 262454612\n"
          ]
        },
        {
          "output_type": "stream",
          "name": "stderr",
          "text": [
            "\r 16%|█▌        | 322/2000 [20:43<1:58:07,  4.22s/it]"
          ]
        },
        {
          "output_type": "stream",
          "name": "stdout",
          "text": [
            "Crawl data with product_id 207935901\n"
          ]
        },
        {
          "output_type": "stream",
          "name": "stderr",
          "text": [
            "\r 16%|█▌        | 323/2000 [20:47<1:50:37,  3.96s/it]"
          ]
        },
        {
          "output_type": "stream",
          "name": "stdout",
          "text": [
            "Crawl data with product_id 141002533\n"
          ]
        },
        {
          "output_type": "stream",
          "name": "stderr",
          "text": [
            "\r 16%|█▌        | 324/2000 [20:51<1:53:45,  4.07s/it]"
          ]
        },
        {
          "output_type": "stream",
          "name": "stdout",
          "text": [
            "Crawl data with product_id 112825935\n"
          ]
        },
        {
          "output_type": "stream",
          "name": "stderr",
          "text": [
            "\r 16%|█▋        | 325/2000 [20:54<1:47:18,  3.84s/it]"
          ]
        },
        {
          "output_type": "stream",
          "name": "stdout",
          "text": [
            "Crawl data with product_id 206607112\n"
          ]
        },
        {
          "output_type": "stream",
          "name": "stderr",
          "text": [
            "\r 16%|█▋        | 326/2000 [20:59<1:51:19,  3.99s/it]"
          ]
        },
        {
          "output_type": "stream",
          "name": "stdout",
          "text": [
            "Crawl data with product_id 82518650\n"
          ]
        },
        {
          "output_type": "stream",
          "name": "stderr",
          "text": [
            "\r 16%|█▋        | 327/2000 [21:02<1:47:29,  3.86s/it]"
          ]
        },
        {
          "output_type": "stream",
          "name": "stdout",
          "text": [
            "Crawl data with product_id 108501246\n"
          ]
        },
        {
          "output_type": "stream",
          "name": "stderr",
          "text": [
            "\r 16%|█▋        | 328/2000 [21:06<1:51:14,  3.99s/it]"
          ]
        },
        {
          "output_type": "stream",
          "name": "stdout",
          "text": [
            "Crawl data with product_id 203864188\n"
          ]
        },
        {
          "output_type": "stream",
          "name": "stderr",
          "text": [
            "\r 16%|█▋        | 329/2000 [21:10<1:45:57,  3.80s/it]"
          ]
        },
        {
          "output_type": "stream",
          "name": "stdout",
          "text": [
            "Crawl data with product_id 57865425\n"
          ]
        },
        {
          "output_type": "stream",
          "name": "stderr",
          "text": [
            "\r 16%|█▋        | 330/2000 [21:13<1:42:09,  3.67s/it]"
          ]
        },
        {
          "output_type": "stream",
          "name": "stdout",
          "text": [
            "Crawl data with product_id 195961943\n"
          ]
        },
        {
          "output_type": "stream",
          "name": "stderr",
          "text": [
            "\r 17%|█▋        | 331/2000 [21:16<1:39:21,  3.57s/it]"
          ]
        },
        {
          "output_type": "stream",
          "name": "stdout",
          "text": [
            "Crawl data with product_id 208783597\n"
          ]
        },
        {
          "output_type": "stream",
          "name": "stderr",
          "text": [
            "\r 17%|█▋        | 332/2000 [21:20<1:37:25,  3.50s/it]"
          ]
        },
        {
          "output_type": "stream",
          "name": "stdout",
          "text": [
            "Crawl data with product_id 235728518\n"
          ]
        },
        {
          "output_type": "stream",
          "name": "stderr",
          "text": [
            "\r 17%|█▋        | 333/2000 [21:24<1:44:03,  3.75s/it]"
          ]
        },
        {
          "output_type": "stream",
          "name": "stdout",
          "text": [
            "Crawl data with product_id 1610027\n"
          ]
        },
        {
          "output_type": "stream",
          "name": "stderr",
          "text": [
            "\r 17%|█▋        | 334/2000 [21:28<1:48:52,  3.92s/it]"
          ]
        },
        {
          "output_type": "stream",
          "name": "stdout",
          "text": [
            "Crawl data with product_id 96687581\n"
          ]
        },
        {
          "output_type": "stream",
          "name": "stderr",
          "text": [
            "\r 17%|█▋        | 335/2000 [21:33<1:52:14,  4.04s/it]"
          ]
        },
        {
          "output_type": "stream",
          "name": "stdout",
          "text": [
            "Crawl data with product_id 249157118\n"
          ]
        },
        {
          "output_type": "stream",
          "name": "stderr",
          "text": [
            "\r 17%|█▋        | 336/2000 [21:37<1:54:38,  4.13s/it]"
          ]
        },
        {
          "output_type": "stream",
          "name": "stdout",
          "text": [
            "Crawl data with product_id 129381396\n"
          ]
        },
        {
          "output_type": "stream",
          "name": "stderr",
          "text": [
            "\r 17%|█▋        | 337/2000 [21:41<1:56:18,  4.20s/it]"
          ]
        },
        {
          "output_type": "stream",
          "name": "stdout",
          "text": [
            "Crawl data with product_id 212213035\n"
          ]
        },
        {
          "output_type": "stream",
          "name": "stderr",
          "text": [
            "\r 17%|█▋        | 338/2000 [21:46<1:57:04,  4.23s/it]"
          ]
        },
        {
          "output_type": "stream",
          "name": "stdout",
          "text": [
            "Crawl data with product_id 93374926\n"
          ]
        },
        {
          "output_type": "stream",
          "name": "stderr",
          "text": [
            "\r 17%|█▋        | 339/2000 [21:49<1:49:30,  3.96s/it]"
          ]
        },
        {
          "output_type": "stream",
          "name": "stdout",
          "text": [
            "Crawl data with product_id 539773\n"
          ]
        },
        {
          "output_type": "stream",
          "name": "stderr",
          "text": [
            "\r 17%|█▋        | 340/2000 [21:52<1:44:31,  3.78s/it]"
          ]
        },
        {
          "output_type": "stream",
          "name": "stdout",
          "text": [
            "Crawl data with product_id 79110444\n"
          ]
        },
        {
          "output_type": "stream",
          "name": "stderr",
          "text": [
            "\r 17%|█▋        | 341/2000 [21:57<1:49:51,  3.97s/it]"
          ]
        },
        {
          "output_type": "stream",
          "name": "stdout",
          "text": [
            "Crawl data with product_id 157195757\n"
          ]
        },
        {
          "output_type": "stream",
          "name": "stderr",
          "text": [
            "\r 17%|█▋        | 342/2000 [22:01<1:52:52,  4.08s/it]"
          ]
        },
        {
          "output_type": "stream",
          "name": "stdout",
          "text": [
            "Crawl data with product_id 208100977\n"
          ]
        },
        {
          "output_type": "stream",
          "name": "stderr",
          "text": [
            "\r 17%|█▋        | 343/2000 [22:05<1:46:19,  3.85s/it]"
          ]
        },
        {
          "output_type": "stream",
          "name": "stdout",
          "text": [
            "Crawl data with product_id 217478202\n"
          ]
        },
        {
          "output_type": "stream",
          "name": "stderr",
          "text": [
            "\r 17%|█▋        | 344/2000 [22:09<1:50:30,  4.00s/it]"
          ]
        },
        {
          "output_type": "stream",
          "name": "stdout",
          "text": [
            "Crawl data with product_id 91089438\n"
          ]
        },
        {
          "output_type": "stream",
          "name": "stderr",
          "text": [
            "\r 17%|█▋        | 345/2000 [22:12<1:44:35,  3.79s/it]"
          ]
        },
        {
          "output_type": "stream",
          "name": "stdout",
          "text": [
            "Crawl data with product_id 72851577\n"
          ]
        },
        {
          "output_type": "stream",
          "name": "stderr",
          "text": [
            "\r 17%|█▋        | 346/2000 [22:15<1:40:30,  3.65s/it]"
          ]
        },
        {
          "output_type": "stream",
          "name": "stdout",
          "text": [
            "Crawl data with product_id 34553368\n"
          ]
        },
        {
          "output_type": "stream",
          "name": "stderr",
          "text": [
            "\r 17%|█▋        | 347/2000 [22:20<1:46:17,  3.86s/it]"
          ]
        },
        {
          "output_type": "stream",
          "name": "stdout",
          "text": [
            "Crawl data with product_id 56819709\n"
          ]
        },
        {
          "output_type": "stream",
          "name": "stderr",
          "text": [
            "\r 17%|█▋        | 348/2000 [22:23<1:42:17,  3.72s/it]"
          ]
        },
        {
          "output_type": "stream",
          "name": "stdout",
          "text": [
            "Crawl data with product_id 75696178\n"
          ]
        },
        {
          "output_type": "stream",
          "name": "stderr",
          "text": [
            "\r 17%|█▋        | 349/2000 [22:27<1:39:07,  3.60s/it]"
          ]
        },
        {
          "output_type": "stream",
          "name": "stdout",
          "text": [
            "Crawl data with product_id 132206365\n"
          ]
        },
        {
          "output_type": "stream",
          "name": "stderr",
          "text": [
            "\r 18%|█▊        | 350/2000 [22:30<1:36:56,  3.52s/it]"
          ]
        },
        {
          "output_type": "stream",
          "name": "stdout",
          "text": [
            "Crawl data with product_id 55461803\n"
          ]
        },
        {
          "output_type": "stream",
          "name": "stderr",
          "text": [
            "\r 18%|█▊        | 351/2000 [22:34<1:43:37,  3.77s/it]"
          ]
        },
        {
          "output_type": "stream",
          "name": "stdout",
          "text": [
            "Crawl data with product_id 195863818\n"
          ]
        },
        {
          "output_type": "stream",
          "name": "stderr",
          "text": [
            "\r 18%|█▊        | 352/2000 [22:38<1:40:22,  3.65s/it]"
          ]
        },
        {
          "output_type": "stream",
          "name": "stdout",
          "text": [
            "Crawl data with product_id 161633750\n"
          ]
        },
        {
          "output_type": "stream",
          "name": "stderr",
          "text": [
            "\r 18%|█▊        | 353/2000 [22:41<1:38:00,  3.57s/it]"
          ]
        },
        {
          "output_type": "stream",
          "name": "stdout",
          "text": [
            "Crawl data with product_id 14082577\n"
          ]
        },
        {
          "output_type": "stream",
          "name": "stderr",
          "text": [
            "\r 18%|█▊        | 354/2000 [22:44<1:36:01,  3.50s/it]"
          ]
        },
        {
          "output_type": "stream",
          "name": "stdout",
          "text": [
            "Crawl data with product_id 158775136\n"
          ]
        },
        {
          "output_type": "stream",
          "name": "stderr",
          "text": [
            "\r 18%|█▊        | 355/2000 [22:49<1:42:43,  3.75s/it]"
          ]
        },
        {
          "output_type": "stream",
          "name": "stdout",
          "text": [
            "Crawl data with product_id 703292\n"
          ]
        },
        {
          "output_type": "stream",
          "name": "stderr",
          "text": [
            "\r 18%|█▊        | 356/2000 [22:52<1:39:09,  3.62s/it]"
          ]
        },
        {
          "output_type": "stream",
          "name": "stdout",
          "text": [
            "Crawl data with product_id 7308707\n"
          ]
        },
        {
          "output_type": "stream",
          "name": "stderr",
          "text": [
            "\r 18%|█▊        | 357/2000 [22:55<1:36:33,  3.53s/it]"
          ]
        },
        {
          "output_type": "stream",
          "name": "stdout",
          "text": [
            "Crawl data with product_id 125644224\n"
          ]
        },
        {
          "output_type": "stream",
          "name": "stderr",
          "text": [
            "\r 18%|█▊        | 358/2000 [22:59<1:34:48,  3.46s/it]"
          ]
        },
        {
          "output_type": "stream",
          "name": "stdout",
          "text": [
            "Crawl data with product_id 99862768\n"
          ]
        },
        {
          "output_type": "stream",
          "name": "stderr",
          "text": [
            "\r 18%|█▊        | 359/2000 [23:03<1:42:17,  3.74s/it]"
          ]
        },
        {
          "output_type": "stream",
          "name": "stdout",
          "text": [
            "Crawl data with product_id 113540586\n"
          ]
        },
        {
          "output_type": "stream",
          "name": "stderr",
          "text": [
            "\r 18%|█▊        | 360/2000 [23:06<1:39:02,  3.62s/it]"
          ]
        },
        {
          "output_type": "stream",
          "name": "stdout",
          "text": [
            "Crawl data with product_id 54351713\n"
          ]
        },
        {
          "output_type": "stream",
          "name": "stderr",
          "text": [
            "\r 18%|█▊        | 361/2000 [23:11<1:44:46,  3.84s/it]"
          ]
        },
        {
          "output_type": "stream",
          "name": "stdout",
          "text": [
            "Crawl data with product_id 253409742\n"
          ]
        },
        {
          "output_type": "stream",
          "name": "stderr",
          "text": [
            "\r 18%|█▊        | 362/2000 [23:15<1:48:50,  3.99s/it]"
          ]
        },
        {
          "output_type": "stream",
          "name": "stdout",
          "text": [
            "Crawl data with product_id 76286241\n"
          ]
        },
        {
          "output_type": "stream",
          "name": "stderr",
          "text": [
            "\r 18%|█▊        | 363/2000 [23:18<1:43:27,  3.79s/it]"
          ]
        },
        {
          "output_type": "stream",
          "name": "stdout",
          "text": [
            "Crawl data with product_id 174008188\n"
          ]
        },
        {
          "output_type": "stream",
          "name": "stderr",
          "text": [
            "\r 18%|█▊        | 364/2000 [23:23<1:48:02,  3.96s/it]"
          ]
        },
        {
          "output_type": "stream",
          "name": "stdout",
          "text": [
            "Crawl data with product_id 179231847\n"
          ]
        },
        {
          "output_type": "stream",
          "name": "stderr",
          "text": [
            "\r 18%|█▊        | 365/2000 [23:27<1:50:55,  4.07s/it]"
          ]
        },
        {
          "output_type": "stream",
          "name": "stdout",
          "text": [
            "Crawl data with product_id 17477287\n"
          ]
        },
        {
          "output_type": "stream",
          "name": "stderr",
          "text": [
            "\r 18%|█▊        | 366/2000 [23:31<1:53:14,  4.16s/it]"
          ]
        },
        {
          "output_type": "stream",
          "name": "stdout",
          "text": [
            "Crawl data with product_id 53716211\n"
          ]
        },
        {
          "output_type": "stream",
          "name": "stderr",
          "text": [
            "\r 18%|█▊        | 367/2000 [23:35<1:46:16,  3.91s/it]"
          ]
        },
        {
          "output_type": "stream",
          "name": "stdout",
          "text": [
            "Crawl data with product_id 204419581\n"
          ]
        },
        {
          "output_type": "stream",
          "name": "stderr",
          "text": [
            "\r 18%|█▊        | 368/2000 [23:38<1:43:01,  3.79s/it]"
          ]
        },
        {
          "output_type": "stream",
          "name": "stdout",
          "text": [
            "Crawl data with product_id 262434320\n"
          ]
        },
        {
          "output_type": "stream",
          "name": "stderr",
          "text": [
            "\r 18%|█▊        | 369/2000 [23:43<1:47:36,  3.96s/it]"
          ]
        },
        {
          "output_type": "stream",
          "name": "stdout",
          "text": [
            "Crawl data with product_id 76014354\n"
          ]
        },
        {
          "output_type": "stream",
          "name": "stderr",
          "text": [
            "\r 18%|█▊        | 370/2000 [23:46<1:42:20,  3.77s/it]"
          ]
        },
        {
          "output_type": "stream",
          "name": "stdout",
          "text": [
            "Crawl data with product_id 41263278\n"
          ]
        },
        {
          "output_type": "stream",
          "name": "stderr",
          "text": [
            "\r 19%|█▊        | 371/2000 [23:49<1:38:37,  3.63s/it]"
          ]
        },
        {
          "output_type": "stream",
          "name": "stdout",
          "text": [
            "Crawl data with product_id 152743081\n"
          ]
        },
        {
          "output_type": "stream",
          "name": "stderr",
          "text": [
            "\r 19%|█▊        | 372/2000 [23:54<1:44:30,  3.85s/it]"
          ]
        },
        {
          "output_type": "stream",
          "name": "stdout",
          "text": [
            "Crawl data with product_id 195954735\n"
          ]
        },
        {
          "output_type": "stream",
          "name": "stderr",
          "text": [
            "\r 19%|█▊        | 373/2000 [23:57<1:40:00,  3.69s/it]"
          ]
        },
        {
          "output_type": "stream",
          "name": "stdout",
          "text": [
            "Crawl data with product_id 145300492\n"
          ]
        },
        {
          "output_type": "stream",
          "name": "stderr",
          "text": [
            "\r 19%|█▊        | 374/2000 [24:01<1:46:37,  3.93s/it]"
          ]
        },
        {
          "output_type": "stream",
          "name": "stdout",
          "text": [
            "Crawl data with product_id 248745947\n"
          ]
        },
        {
          "output_type": "stream",
          "name": "stderr",
          "text": [
            "\r 19%|█▉        | 375/2000 [24:06<1:49:46,  4.05s/it]"
          ]
        },
        {
          "output_type": "stream",
          "name": "stdout",
          "text": [
            "Crawl data with product_id 200616826\n"
          ]
        },
        {
          "output_type": "stream",
          "name": "stderr",
          "text": [
            "\r 19%|█▉        | 376/2000 [24:09<1:44:12,  3.85s/it]"
          ]
        },
        {
          "output_type": "stream",
          "name": "stdout",
          "text": [
            "Crawl data with product_id 196161707\n"
          ]
        },
        {
          "output_type": "stream",
          "name": "stderr",
          "text": [
            "\r 19%|█▉        | 377/2000 [24:13<1:47:48,  3.99s/it]"
          ]
        },
        {
          "output_type": "stream",
          "name": "stdout",
          "text": [
            "Crawl data with product_id 41258325\n"
          ]
        },
        {
          "output_type": "stream",
          "name": "stderr",
          "text": [
            "\r 19%|█▉        | 378/2000 [24:18<1:50:26,  4.09s/it]"
          ]
        },
        {
          "output_type": "stream",
          "name": "stdout",
          "text": [
            "Crawl data with product_id 230098279\n"
          ]
        },
        {
          "output_type": "stream",
          "name": "stderr",
          "text": [
            "\r 19%|█▉        | 379/2000 [24:21<1:44:20,  3.86s/it]"
          ]
        },
        {
          "output_type": "stream",
          "name": "stdout",
          "text": [
            "Crawl data with product_id 76127840\n"
          ]
        },
        {
          "output_type": "stream",
          "name": "stderr",
          "text": [
            "\r 19%|█▉        | 380/2000 [24:24<1:39:48,  3.70s/it]"
          ]
        },
        {
          "output_type": "stream",
          "name": "stdout",
          "text": [
            "Crawl data with product_id 158741355\n"
          ]
        },
        {
          "output_type": "stream",
          "name": "stderr",
          "text": [
            "\r 19%|█▉        | 381/2000 [24:28<1:36:37,  3.58s/it]"
          ]
        },
        {
          "output_type": "stream",
          "name": "stdout",
          "text": [
            "Crawl data with product_id 183719307\n"
          ]
        },
        {
          "output_type": "stream",
          "name": "stderr",
          "text": [
            "\r 19%|█▉        | 382/2000 [24:31<1:36:28,  3.58s/it]"
          ]
        },
        {
          "output_type": "stream",
          "name": "stdout",
          "text": [
            "Crawl data with product_id 107707568\n"
          ]
        },
        {
          "output_type": "stream",
          "name": "stderr",
          "text": [
            "\r 19%|█▉        | 383/2000 [24:35<1:34:19,  3.50s/it]"
          ]
        },
        {
          "output_type": "stream",
          "name": "stdout",
          "text": [
            "Crawl data with product_id 207755514\n"
          ]
        },
        {
          "output_type": "stream",
          "name": "stderr",
          "text": [
            "\r 19%|█▉        | 384/2000 [24:38<1:33:07,  3.46s/it]"
          ]
        },
        {
          "output_type": "stream",
          "name": "stdout",
          "text": [
            "Crawl data with product_id 103550553\n"
          ]
        },
        {
          "output_type": "stream",
          "name": "stderr",
          "text": [
            "\r 19%|█▉        | 385/2000 [24:41<1:31:57,  3.42s/it]"
          ]
        },
        {
          "output_type": "stream",
          "name": "stdout",
          "text": [
            "Crawl data with product_id 53716219\n"
          ]
        },
        {
          "output_type": "stream",
          "name": "stderr",
          "text": [
            "\r 19%|█▉        | 386/2000 [24:45<1:31:26,  3.40s/it]"
          ]
        },
        {
          "output_type": "stream",
          "name": "stdout",
          "text": [
            "Crawl data with product_id 124767700\n"
          ]
        },
        {
          "output_type": "stream",
          "name": "stderr",
          "text": [
            "\r 19%|█▉        | 387/2000 [24:48<1:30:43,  3.37s/it]"
          ]
        },
        {
          "output_type": "stream",
          "name": "stdout",
          "text": [
            "Crawl data with product_id 86270920\n"
          ]
        },
        {
          "output_type": "stream",
          "name": "stderr",
          "text": [
            "\r 19%|█▉        | 388/2000 [24:51<1:30:14,  3.36s/it]"
          ]
        },
        {
          "output_type": "stream",
          "name": "stdout",
          "text": [
            "Crawl data with product_id 255611966\n"
          ]
        },
        {
          "output_type": "stream",
          "name": "stderr",
          "text": [
            "\r 19%|█▉        | 389/2000 [24:55<1:29:50,  3.35s/it]"
          ]
        },
        {
          "output_type": "stream",
          "name": "stdout",
          "text": [
            "Crawl data with product_id 570810\n"
          ]
        },
        {
          "output_type": "stream",
          "name": "stderr",
          "text": [
            "\r 20%|█▉        | 390/2000 [24:59<1:37:29,  3.63s/it]"
          ]
        },
        {
          "output_type": "stream",
          "name": "stdout",
          "text": [
            "Crawl data with product_id 156821160\n"
          ]
        },
        {
          "output_type": "stream",
          "name": "stderr",
          "text": [
            "\r 20%|█▉        | 391/2000 [25:03<1:43:24,  3.86s/it]"
          ]
        },
        {
          "output_type": "stream",
          "name": "stdout",
          "text": [
            "Crawl data with product_id 104272493\n"
          ]
        },
        {
          "output_type": "stream",
          "name": "stderr",
          "text": [
            "\r 20%|█▉        | 392/2000 [25:08<1:47:12,  4.00s/it]"
          ]
        },
        {
          "output_type": "stream",
          "name": "stdout",
          "text": [
            "Crawl data with product_id 148802210\n"
          ]
        },
        {
          "output_type": "stream",
          "name": "stderr",
          "text": [
            "\r 20%|█▉        | 393/2000 [25:12<1:49:41,  4.10s/it]"
          ]
        },
        {
          "output_type": "stream",
          "name": "stdout",
          "text": [
            "Crawl data with product_id 261038018\n"
          ]
        },
        {
          "output_type": "stream",
          "name": "stderr",
          "text": [
            "\r 20%|█▉        | 394/2000 [25:15<1:43:21,  3.86s/it]"
          ]
        },
        {
          "output_type": "stream",
          "name": "stdout",
          "text": [
            "Crawl data with product_id 2286207\n"
          ]
        },
        {
          "output_type": "stream",
          "name": "stderr",
          "text": [
            "\r 20%|█▉        | 395/2000 [25:19<1:39:15,  3.71s/it]"
          ]
        },
        {
          "output_type": "stream",
          "name": "stdout",
          "text": [
            "Crawl data with product_id 243090395\n"
          ]
        },
        {
          "output_type": "stream",
          "name": "stderr",
          "text": [
            "\r 20%|█▉        | 396/2000 [25:23<1:44:04,  3.89s/it]"
          ]
        },
        {
          "output_type": "stream",
          "name": "stdout",
          "text": [
            "Crawl data with product_id 98740795\n"
          ]
        },
        {
          "output_type": "stream",
          "name": "stderr",
          "text": [
            "\r 20%|█▉        | 397/2000 [25:27<1:47:30,  4.02s/it]"
          ]
        },
        {
          "output_type": "stream",
          "name": "stdout",
          "text": [
            "Crawl data with product_id 249157121\n"
          ]
        },
        {
          "output_type": "stream",
          "name": "stderr",
          "text": [
            "\r 20%|█▉        | 398/2000 [25:32<1:49:56,  4.12s/it]"
          ]
        },
        {
          "output_type": "stream",
          "name": "stdout",
          "text": [
            "Crawl data with product_id 165150437\n"
          ]
        },
        {
          "output_type": "stream",
          "name": "stderr",
          "text": [
            "\r 20%|█▉        | 399/2000 [25:36<1:51:21,  4.17s/it]"
          ]
        },
        {
          "output_type": "stream",
          "name": "stdout",
          "text": [
            "Crawl data with product_id 136540035\n"
          ]
        },
        {
          "output_type": "stream",
          "name": "stderr",
          "text": [
            "\r 20%|██        | 400/2000 [25:40<1:52:42,  4.23s/it]"
          ]
        },
        {
          "output_type": "stream",
          "name": "stdout",
          "text": [
            "Crawl data with product_id 214493613\n"
          ]
        },
        {
          "output_type": "stream",
          "name": "stderr",
          "text": [
            "\r 20%|██        | 401/2000 [25:45<1:53:32,  4.26s/it]"
          ]
        },
        {
          "output_type": "stream",
          "name": "stdout",
          "text": [
            "Crawl data with product_id 132366463\n"
          ]
        },
        {
          "output_type": "stream",
          "name": "stderr",
          "text": [
            "\r 20%|██        | 402/2000 [25:48<1:45:59,  3.98s/it]"
          ]
        },
        {
          "output_type": "stream",
          "name": "stdout",
          "text": [
            "Crawl data with product_id 246853456\n"
          ]
        },
        {
          "output_type": "stream",
          "name": "stderr",
          "text": [
            "\r 20%|██        | 403/2000 [25:51<1:40:42,  3.78s/it]"
          ]
        },
        {
          "output_type": "stream",
          "name": "stdout",
          "text": [
            "Crawl data with product_id 183540831\n"
          ]
        },
        {
          "output_type": "stream",
          "name": "stderr",
          "text": [
            "\r 20%|██        | 404/2000 [25:55<1:37:03,  3.65s/it]"
          ]
        },
        {
          "output_type": "stream",
          "name": "stdout",
          "text": [
            "Crawl data with product_id 451720\n"
          ]
        },
        {
          "output_type": "stream",
          "name": "stderr",
          "text": [
            "\r 20%|██        | 405/2000 [25:58<1:34:23,  3.55s/it]"
          ]
        },
        {
          "output_type": "stream",
          "name": "stdout",
          "text": [
            "Crawl data with product_id 11429314\n"
          ]
        },
        {
          "output_type": "stream",
          "name": "stderr",
          "text": [
            "\r 20%|██        | 406/2000 [26:02<1:40:24,  3.78s/it]"
          ]
        },
        {
          "output_type": "stream",
          "name": "stdout",
          "text": [
            "Crawl data with product_id 45301610\n"
          ]
        },
        {
          "output_type": "stream",
          "name": "stderr",
          "text": [
            "\r 20%|██        | 407/2000 [26:06<1:36:43,  3.64s/it]"
          ]
        },
        {
          "output_type": "stream",
          "name": "stdout",
          "text": [
            "Crawl data with product_id 41556872\n"
          ]
        },
        {
          "output_type": "stream",
          "name": "stderr",
          "text": [
            "\r 20%|██        | 408/2000 [26:10<1:42:11,  3.85s/it]"
          ]
        },
        {
          "output_type": "stream",
          "name": "stdout",
          "text": [
            "Crawl data with product_id 1953611\n"
          ]
        },
        {
          "output_type": "stream",
          "name": "stderr",
          "text": [
            "\r 20%|██        | 409/2000 [26:13<1:37:44,  3.69s/it]"
          ]
        },
        {
          "output_type": "stream",
          "name": "stdout",
          "text": [
            "Crawl data with product_id 191925607\n"
          ]
        },
        {
          "output_type": "stream",
          "name": "stderr",
          "text": [
            "\r 20%|██        | 410/2000 [26:17<1:42:42,  3.88s/it]"
          ]
        },
        {
          "output_type": "stream",
          "name": "stdout",
          "text": [
            "Crawl data with product_id 1339619\n"
          ]
        },
        {
          "output_type": "stream",
          "name": "stderr",
          "text": [
            "\r 21%|██        | 411/2000 [26:21<1:38:15,  3.71s/it]"
          ]
        },
        {
          "output_type": "stream",
          "name": "stdout",
          "text": [
            "Crawl data with product_id 16230836\n"
          ]
        },
        {
          "output_type": "stream",
          "name": "stderr",
          "text": [
            "\r 21%|██        | 412/2000 [26:24<1:35:19,  3.60s/it]"
          ]
        },
        {
          "output_type": "stream",
          "name": "stdout",
          "text": [
            "Crawl data with product_id 48754101\n"
          ]
        },
        {
          "output_type": "stream",
          "name": "stderr",
          "text": [
            "\r 21%|██        | 413/2000 [26:28<1:40:44,  3.81s/it]"
          ]
        },
        {
          "output_type": "stream",
          "name": "stdout",
          "text": [
            "Crawl data with product_id 8998349\n"
          ]
        },
        {
          "output_type": "stream",
          "name": "stderr",
          "text": [
            "\r 21%|██        | 414/2000 [26:32<1:36:52,  3.67s/it]"
          ]
        },
        {
          "output_type": "stream",
          "name": "stdout",
          "text": [
            "Crawl data with product_id 208778541\n"
          ]
        },
        {
          "output_type": "stream",
          "name": "stderr",
          "text": [
            "\r 21%|██        | 415/2000 [26:36<1:41:53,  3.86s/it]"
          ]
        },
        {
          "output_type": "stream",
          "name": "stdout",
          "text": [
            "Crawl data with product_id 217898111\n"
          ]
        },
        {
          "output_type": "stream",
          "name": "stderr",
          "text": [
            "\r 21%|██        | 416/2000 [26:39<1:37:27,  3.69s/it]"
          ]
        },
        {
          "output_type": "stream",
          "name": "stdout",
          "text": [
            "Crawl data with product_id 48963107\n"
          ]
        },
        {
          "output_type": "stream",
          "name": "stderr",
          "text": [
            "\r 21%|██        | 417/2000 [26:44<1:42:20,  3.88s/it]"
          ]
        },
        {
          "output_type": "stream",
          "name": "stdout",
          "text": [
            "Crawl data with product_id 166079542\n"
          ]
        },
        {
          "output_type": "stream",
          "name": "stderr",
          "text": [
            "\r 21%|██        | 418/2000 [26:48<1:46:02,  4.02s/it]"
          ]
        },
        {
          "output_type": "stream",
          "name": "stdout",
          "text": [
            "Crawl data with product_id 115790189\n"
          ]
        },
        {
          "output_type": "stream",
          "name": "stderr",
          "text": [
            "\r 21%|██        | 419/2000 [26:52<1:48:58,  4.14s/it]"
          ]
        },
        {
          "output_type": "stream",
          "name": "stdout",
          "text": [
            "Crawl data with product_id 1651887\n"
          ]
        },
        {
          "output_type": "stream",
          "name": "stderr",
          "text": [
            "\r 21%|██        | 420/2000 [26:56<1:42:35,  3.90s/it]"
          ]
        },
        {
          "output_type": "stream",
          "name": "stdout",
          "text": [
            "Crawl data with product_id 549906\n"
          ]
        },
        {
          "output_type": "stream",
          "name": "stderr",
          "text": [
            "\r 21%|██        | 421/2000 [26:59<1:38:01,  3.72s/it]"
          ]
        },
        {
          "output_type": "stream",
          "name": "stdout",
          "text": [
            "Crawl data with product_id 48752912\n"
          ]
        },
        {
          "output_type": "stream",
          "name": "stderr",
          "text": [
            "\r 21%|██        | 422/2000 [27:03<1:42:30,  3.90s/it]"
          ]
        },
        {
          "output_type": "stream",
          "name": "stdout",
          "text": [
            "Crawl data with product_id 55101334\n"
          ]
        },
        {
          "output_type": "stream",
          "name": "stderr",
          "text": [
            "\r 21%|██        | 423/2000 [27:08<1:45:35,  4.02s/it]"
          ]
        },
        {
          "output_type": "stream",
          "name": "stdout",
          "text": [
            "Crawl data with product_id 81419770\n"
          ]
        },
        {
          "output_type": "stream",
          "name": "stderr",
          "text": [
            "\r 21%|██        | 424/2000 [27:11<1:39:57,  3.81s/it]"
          ]
        },
        {
          "output_type": "stream",
          "name": "stdout",
          "text": [
            "Crawl data with product_id 260814883\n"
          ]
        },
        {
          "output_type": "stream",
          "name": "stderr",
          "text": [
            "\r 21%|██▏       | 425/2000 [27:15<1:44:05,  3.97s/it]"
          ]
        },
        {
          "output_type": "stream",
          "name": "stdout",
          "text": [
            "Crawl data with product_id 253563115\n"
          ]
        },
        {
          "output_type": "stream",
          "name": "stderr",
          "text": [
            "\r 21%|██▏       | 426/2000 [27:20<1:46:55,  4.08s/it]"
          ]
        },
        {
          "output_type": "stream",
          "name": "stdout",
          "text": [
            "Crawl data with product_id 147976281\n"
          ]
        },
        {
          "output_type": "stream",
          "name": "stderr",
          "text": [
            "\r 21%|██▏       | 427/2000 [27:24<1:49:03,  4.16s/it]"
          ]
        },
        {
          "output_type": "stream",
          "name": "stdout",
          "text": [
            "Crawl data with product_id 192950717\n"
          ]
        },
        {
          "output_type": "stream",
          "name": "stderr",
          "text": [
            "\r 21%|██▏       | 428/2000 [27:27<1:42:23,  3.91s/it]"
          ]
        },
        {
          "output_type": "stream",
          "name": "stdout",
          "text": [
            "Crawl data with product_id 77627254\n"
          ]
        },
        {
          "output_type": "stream",
          "name": "stderr",
          "text": [
            "\r 21%|██▏       | 429/2000 [27:31<1:37:41,  3.73s/it]"
          ]
        },
        {
          "output_type": "stream",
          "name": "stdout",
          "text": [
            "Crawl data with product_id 43363465\n"
          ]
        },
        {
          "output_type": "stream",
          "name": "stderr",
          "text": [
            "\r 22%|██▏       | 430/2000 [27:34<1:34:27,  3.61s/it]"
          ]
        },
        {
          "output_type": "stream",
          "name": "stdout",
          "text": [
            "Crawl data with product_id 204753416\n"
          ]
        },
        {
          "output_type": "stream",
          "name": "stderr",
          "text": [
            "\r 22%|██▏       | 431/2000 [27:37<1:32:03,  3.52s/it]"
          ]
        },
        {
          "output_type": "stream",
          "name": "stdout",
          "text": [
            "Crawl data with product_id 69337680\n"
          ]
        },
        {
          "output_type": "stream",
          "name": "stderr",
          "text": [
            "\r 22%|██▏       | 432/2000 [27:41<1:30:22,  3.46s/it]"
          ]
        },
        {
          "output_type": "stream",
          "name": "stdout",
          "text": [
            "Crawl data with product_id 239236194\n"
          ]
        },
        {
          "output_type": "stream",
          "name": "stderr",
          "text": [
            "\r 22%|██▏       | 433/2000 [27:45<1:37:19,  3.73s/it]"
          ]
        },
        {
          "output_type": "stream",
          "name": "stdout",
          "text": [
            "Crawl data with product_id 76105962\n"
          ]
        },
        {
          "output_type": "stream",
          "name": "stderr",
          "text": [
            "\r 22%|██▏       | 434/2000 [27:49<1:41:57,  3.91s/it]"
          ]
        },
        {
          "output_type": "stream",
          "name": "stdout",
          "text": [
            "Crawl data with product_id 49716258\n"
          ]
        },
        {
          "output_type": "stream",
          "name": "stderr",
          "text": [
            "\r 22%|██▏       | 435/2000 [27:53<1:37:18,  3.73s/it]"
          ]
        },
        {
          "output_type": "stream",
          "name": "stdout",
          "text": [
            "Crawl data with product_id 196148508\n"
          ]
        },
        {
          "output_type": "stream",
          "name": "stderr",
          "text": [
            "\r 22%|██▏       | 436/2000 [27:56<1:34:02,  3.61s/it]"
          ]
        },
        {
          "output_type": "stream",
          "name": "stdout",
          "text": [
            "Crawl data with product_id 196219891\n"
          ]
        },
        {
          "output_type": "stream",
          "name": "stderr",
          "text": [
            "\r 22%|██▏       | 437/2000 [28:00<1:39:20,  3.81s/it]"
          ]
        },
        {
          "output_type": "stream",
          "name": "stdout",
          "text": [
            "Crawl data with product_id 95866315\n"
          ]
        },
        {
          "output_type": "stream",
          "name": "stderr",
          "text": [
            "\r 22%|██▏       | 438/2000 [28:05<1:43:15,  3.97s/it]"
          ]
        },
        {
          "output_type": "stream",
          "name": "stdout",
          "text": [
            "Crawl data with product_id 7887156\n"
          ]
        },
        {
          "output_type": "stream",
          "name": "stderr",
          "text": [
            "\r 22%|██▏       | 439/2000 [28:08<1:37:58,  3.77s/it]"
          ]
        },
        {
          "output_type": "stream",
          "name": "stdout",
          "text": [
            "Crawl data with product_id 210429836\n"
          ]
        },
        {
          "output_type": "stream",
          "name": "stderr",
          "text": [
            "\r 22%|██▏       | 440/2000 [28:12<1:42:14,  3.93s/it]"
          ]
        },
        {
          "output_type": "stream",
          "name": "stdout",
          "text": [
            "Crawl data with product_id 404259\n"
          ]
        },
        {
          "output_type": "stream",
          "name": "stderr",
          "text": [
            "\r 22%|██▏       | 441/2000 [28:16<1:44:56,  4.04s/it]"
          ]
        },
        {
          "output_type": "stream",
          "name": "stdout",
          "text": [
            "Crawl data with product_id 215944709\n"
          ]
        },
        {
          "output_type": "stream",
          "name": "stderr",
          "text": [
            "\r 22%|██▏       | 442/2000 [28:21<1:47:15,  4.13s/it]"
          ]
        },
        {
          "output_type": "stream",
          "name": "stdout",
          "text": [
            "Crawl data with product_id 77627250\n"
          ]
        },
        {
          "output_type": "stream",
          "name": "stderr",
          "text": [
            "\r 22%|██▏       | 443/2000 [28:25<1:48:39,  4.19s/it]"
          ]
        },
        {
          "output_type": "stream",
          "name": "stdout",
          "text": [
            "Crawl data with product_id 140574426\n"
          ]
        },
        {
          "output_type": "stream",
          "name": "stderr",
          "text": [
            "\r 22%|██▏       | 444/2000 [28:29<1:42:19,  3.95s/it]"
          ]
        },
        {
          "output_type": "stream",
          "name": "stdout",
          "text": [
            "Crawl data with product_id 229802161\n"
          ]
        },
        {
          "output_type": "stream",
          "name": "stderr",
          "text": [
            "\r 22%|██▏       | 445/2000 [28:32<1:37:20,  3.76s/it]"
          ]
        },
        {
          "output_type": "stream",
          "name": "stdout",
          "text": [
            "Crawl data with product_id 186741672\n"
          ]
        },
        {
          "output_type": "stream",
          "name": "stderr",
          "text": [
            "\r 22%|██▏       | 446/2000 [28:35<1:33:49,  3.62s/it]"
          ]
        },
        {
          "output_type": "stream",
          "name": "stdout",
          "text": [
            "Crawl data with product_id 535664\n"
          ]
        },
        {
          "output_type": "stream",
          "name": "stderr",
          "text": [
            "\r 22%|██▏       | 447/2000 [28:41<1:47:50,  4.17s/it]"
          ]
        },
        {
          "output_type": "stream",
          "name": "stdout",
          "text": [
            "Crawl data with product_id 4503887\n"
          ]
        },
        {
          "output_type": "stream",
          "name": "stderr",
          "text": [
            "\r 22%|██▏       | 448/2000 [28:45<1:48:58,  4.21s/it]"
          ]
        },
        {
          "output_type": "stream",
          "name": "stdout",
          "text": [
            "Crawl data with product_id 72851559\n"
          ]
        },
        {
          "output_type": "stream",
          "name": "stderr",
          "text": [
            "\r 22%|██▏       | 449/2000 [28:48<1:41:56,  3.94s/it]"
          ]
        },
        {
          "output_type": "stream",
          "name": "stdout",
          "text": [
            "Crawl data with product_id 204435863\n"
          ]
        },
        {
          "output_type": "stream",
          "name": "stderr",
          "text": [
            "\r 22%|██▎       | 450/2000 [28:53<1:44:47,  4.06s/it]"
          ]
        },
        {
          "output_type": "stream",
          "name": "stdout",
          "text": [
            "Crawl data with product_id 52331717\n"
          ]
        },
        {
          "output_type": "stream",
          "name": "stderr",
          "text": [
            "\r 23%|██▎       | 451/2000 [28:57<1:46:50,  4.14s/it]"
          ]
        },
        {
          "output_type": "stream",
          "name": "stdout",
          "text": [
            "Crawl data with product_id 183530621\n"
          ]
        },
        {
          "output_type": "stream",
          "name": "stderr",
          "text": [
            "\r 23%|██▎       | 452/2000 [29:01<1:48:31,  4.21s/it]"
          ]
        },
        {
          "output_type": "stream",
          "name": "stdout",
          "text": [
            "Crawl data with product_id 187308737\n"
          ]
        },
        {
          "output_type": "stream",
          "name": "stderr",
          "text": [
            "\r 23%|██▎       | 453/2000 [29:06<1:49:40,  4.25s/it]"
          ]
        },
        {
          "output_type": "stream",
          "name": "stdout",
          "text": [
            "Crawl data with product_id 10303814\n"
          ]
        },
        {
          "output_type": "stream",
          "name": "stderr",
          "text": [
            "\r 23%|██▎       | 454/2000 [29:10<1:50:03,  4.27s/it]"
          ]
        },
        {
          "output_type": "stream",
          "name": "stdout",
          "text": [
            "Crawl data with product_id 48481704\n"
          ]
        },
        {
          "output_type": "stream",
          "name": "stderr",
          "text": [
            "\r 23%|██▎       | 455/2000 [29:13<1:42:50,  3.99s/it]"
          ]
        },
        {
          "output_type": "stream",
          "name": "stdout",
          "text": [
            "Crawl data with product_id 186191144\n"
          ]
        },
        {
          "output_type": "stream",
          "name": "stderr",
          "text": [
            "\r 23%|██▎       | 456/2000 [29:17<1:37:42,  3.80s/it]"
          ]
        },
        {
          "output_type": "stream",
          "name": "stdout",
          "text": [
            "Crawl data with product_id 59553864\n"
          ]
        },
        {
          "output_type": "stream",
          "name": "stderr",
          "text": [
            "\r 23%|██▎       | 457/2000 [29:20<1:33:50,  3.65s/it]"
          ]
        },
        {
          "output_type": "stream",
          "name": "stdout",
          "text": [
            "Crawl data with product_id 26662416\n"
          ]
        },
        {
          "output_type": "stream",
          "name": "stderr",
          "text": [
            "\r 23%|██▎       | 458/2000 [29:23<1:31:09,  3.55s/it]"
          ]
        },
        {
          "output_type": "stream",
          "name": "stdout",
          "text": [
            "Crawl data with product_id 126795093\n"
          ]
        },
        {
          "output_type": "stream",
          "name": "stderr",
          "text": [
            "\r 23%|██▎       | 459/2000 [29:27<1:30:46,  3.53s/it]"
          ]
        },
        {
          "output_type": "stream",
          "name": "stdout",
          "text": [
            "Crawl data with product_id 10366397\n"
          ]
        },
        {
          "output_type": "stream",
          "name": "stderr",
          "text": [
            "\r 23%|██▎       | 460/2000 [29:30<1:29:13,  3.48s/it]"
          ]
        },
        {
          "output_type": "stream",
          "name": "stdout",
          "text": [
            "Crawl data with product_id 10807782\n"
          ]
        },
        {
          "output_type": "stream",
          "name": "stderr",
          "text": [
            "\r 23%|██▎       | 461/2000 [29:33<1:28:00,  3.43s/it]"
          ]
        },
        {
          "output_type": "stream",
          "name": "stdout",
          "text": [
            "Crawl data with product_id 125729741\n"
          ]
        },
        {
          "output_type": "stream",
          "name": "stderr",
          "text": [
            "\r 23%|██▎       | 462/2000 [29:38<1:34:56,  3.70s/it]"
          ]
        },
        {
          "output_type": "stream",
          "name": "stdout",
          "text": [
            "Crawl data with product_id 173206795\n"
          ]
        },
        {
          "output_type": "stream",
          "name": "stderr",
          "text": [
            "\r 23%|██▎       | 463/2000 [29:41<1:32:04,  3.59s/it]"
          ]
        },
        {
          "output_type": "stream",
          "name": "stdout",
          "text": [
            "Crawl data with product_id 190087677\n"
          ]
        },
        {
          "output_type": "stream",
          "name": "stderr",
          "text": [
            "\r 23%|██▎       | 464/2000 [29:44<1:29:58,  3.51s/it]"
          ]
        },
        {
          "output_type": "stream",
          "name": "stdout",
          "text": [
            "Crawl data with product_id 36560764\n"
          ]
        },
        {
          "output_type": "stream",
          "name": "stderr",
          "text": [
            "\r 23%|██▎       | 465/2000 [29:49<1:36:20,  3.77s/it]"
          ]
        },
        {
          "output_type": "stream",
          "name": "stdout",
          "text": [
            "Crawl data with product_id 77032144\n"
          ]
        },
        {
          "output_type": "stream",
          "name": "stderr",
          "text": [
            "\r 23%|██▎       | 466/2000 [29:53<1:40:45,  3.94s/it]"
          ]
        },
        {
          "output_type": "stream",
          "name": "stdout",
          "text": [
            "Crawl data with product_id 205218038\n"
          ]
        },
        {
          "output_type": "stream",
          "name": "stderr",
          "text": [
            "\r 23%|██▎       | 467/2000 [29:56<1:35:45,  3.75s/it]"
          ]
        },
        {
          "output_type": "stream",
          "name": "stdout",
          "text": [
            "Crawl data with product_id 248745938\n"
          ]
        },
        {
          "output_type": "stream",
          "name": "stderr",
          "text": [
            "\r 23%|██▎       | 468/2000 [30:01<1:40:21,  3.93s/it]"
          ]
        },
        {
          "output_type": "stream",
          "name": "stdout",
          "text": [
            "Crawl data with product_id 184243089\n"
          ]
        },
        {
          "output_type": "stream",
          "name": "stderr",
          "text": [
            "\r 23%|██▎       | 469/2000 [30:05<1:43:19,  4.05s/it]"
          ]
        },
        {
          "output_type": "stream",
          "name": "stdout",
          "text": [
            "Crawl data with product_id 51949398\n"
          ]
        },
        {
          "output_type": "stream",
          "name": "stderr",
          "text": [
            "\r 24%|██▎       | 470/2000 [30:09<1:45:21,  4.13s/it]"
          ]
        },
        {
          "output_type": "stream",
          "name": "stdout",
          "text": [
            "Crawl data with product_id 146226107\n"
          ]
        },
        {
          "output_type": "stream",
          "name": "stderr",
          "text": [
            "\r 24%|██▎       | 471/2000 [30:14<1:46:33,  4.18s/it]"
          ]
        },
        {
          "output_type": "stream",
          "name": "stdout",
          "text": [
            "Crawl data with product_id 201892292\n"
          ]
        },
        {
          "output_type": "stream",
          "name": "stderr",
          "text": [
            "\r 24%|██▎       | 472/2000 [30:17<1:40:10,  3.93s/it]"
          ]
        },
        {
          "output_type": "stream",
          "name": "stdout",
          "text": [
            "Crawl data with product_id 208069284\n"
          ]
        },
        {
          "output_type": "stream",
          "name": "stderr",
          "text": [
            "\r 24%|██▎       | 473/2000 [30:21<1:43:19,  4.06s/it]"
          ]
        },
        {
          "output_type": "stream",
          "name": "stdout",
          "text": [
            "Crawl data with product_id 147988200\n"
          ]
        },
        {
          "output_type": "stream",
          "name": "stderr",
          "text": [
            "\r 24%|██▎       | 474/2000 [30:25<1:37:58,  3.85s/it]"
          ]
        },
        {
          "output_type": "stream",
          "name": "stdout",
          "text": [
            "Crawl data with product_id 146065913\n"
          ]
        },
        {
          "output_type": "stream",
          "name": "stderr",
          "text": [
            "\r 24%|██▍       | 475/2000 [30:29<1:41:34,  4.00s/it]"
          ]
        },
        {
          "output_type": "stream",
          "name": "stdout",
          "text": [
            "Crawl data with product_id 225912602\n"
          ]
        },
        {
          "output_type": "stream",
          "name": "stderr",
          "text": [
            "\r 24%|██▍       | 476/2000 [30:33<1:44:15,  4.10s/it]"
          ]
        },
        {
          "output_type": "stream",
          "name": "stdout",
          "text": [
            "Crawl data with product_id 253382145\n"
          ]
        },
        {
          "output_type": "stream",
          "name": "stderr",
          "text": [
            "\r 24%|██▍       | 477/2000 [30:37<1:38:17,  3.87s/it]"
          ]
        },
        {
          "output_type": "stream",
          "name": "stdout",
          "text": [
            "Crawl data with product_id 369112\n"
          ]
        },
        {
          "output_type": "stream",
          "name": "stderr",
          "text": [
            "\r 24%|██▍       | 478/2000 [30:40<1:34:23,  3.72s/it]"
          ]
        },
        {
          "output_type": "stream",
          "name": "stdout",
          "text": [
            "Crawl data with product_id 225911092\n"
          ]
        },
        {
          "output_type": "stream",
          "name": "stderr",
          "text": [
            "\r 24%|██▍       | 479/2000 [30:44<1:31:32,  3.61s/it]"
          ]
        },
        {
          "output_type": "stream",
          "name": "stdout",
          "text": [
            "Crawl data with product_id 140635209\n"
          ]
        },
        {
          "output_type": "stream",
          "name": "stderr",
          "text": [
            "\r 24%|██▍       | 480/2000 [30:48<1:36:49,  3.82s/it]"
          ]
        },
        {
          "output_type": "stream",
          "name": "stdout",
          "text": [
            "Crawl data with product_id 242992948\n"
          ]
        },
        {
          "output_type": "stream",
          "name": "stderr",
          "text": [
            "\r 24%|██▍       | 481/2000 [30:52<1:40:20,  3.96s/it]"
          ]
        },
        {
          "output_type": "stream",
          "name": "stdout",
          "text": [
            "Crawl data with product_id 37890743\n"
          ]
        },
        {
          "output_type": "stream",
          "name": "stderr",
          "text": [
            "\r 24%|██▍       | 482/2000 [30:55<1:35:28,  3.77s/it]"
          ]
        },
        {
          "output_type": "stream",
          "name": "stdout",
          "text": [
            "Crawl data with product_id 79117389\n"
          ]
        },
        {
          "output_type": "stream",
          "name": "stderr",
          "text": [
            "\r 24%|██▍       | 483/2000 [30:59<1:31:52,  3.63s/it]"
          ]
        },
        {
          "output_type": "stream",
          "name": "stdout",
          "text": [
            "Crawl data with product_id 76601022\n"
          ]
        },
        {
          "output_type": "stream",
          "name": "stderr",
          "text": [
            "\r 24%|██▍       | 484/2000 [31:03<1:38:43,  3.91s/it]"
          ]
        },
        {
          "output_type": "stream",
          "name": "stdout",
          "text": [
            "Crawl data with product_id 194456437\n"
          ]
        },
        {
          "output_type": "stream",
          "name": "stderr",
          "text": [
            "\r 24%|██▍       | 485/2000 [31:08<1:41:49,  4.03s/it]"
          ]
        },
        {
          "output_type": "stream",
          "name": "stdout",
          "text": [
            "Crawl data with product_id 191923811\n"
          ]
        },
        {
          "output_type": "stream",
          "name": "stderr",
          "text": [
            "\r 24%|██▍       | 486/2000 [31:12<1:43:51,  4.12s/it]"
          ]
        },
        {
          "output_type": "stream",
          "name": "stdout",
          "text": [
            "Crawl data with product_id 198593580\n"
          ]
        },
        {
          "output_type": "stream",
          "name": "stderr",
          "text": [
            "\r 24%|██▍       | 487/2000 [31:16<1:45:10,  4.17s/it]"
          ]
        },
        {
          "output_type": "stream",
          "name": "stdout",
          "text": [
            "Crawl data with product_id 172175811\n"
          ]
        },
        {
          "output_type": "stream",
          "name": "stderr",
          "text": [
            "\r 24%|██▍       | 488/2000 [31:20<1:38:44,  3.92s/it]"
          ]
        },
        {
          "output_type": "stream",
          "name": "stdout",
          "text": [
            "Crawl data with product_id 199747157\n"
          ]
        },
        {
          "output_type": "stream",
          "name": "stderr",
          "text": [
            "\r 24%|██▍       | 489/2000 [31:23<1:33:55,  3.73s/it]"
          ]
        },
        {
          "output_type": "stream",
          "name": "stdout",
          "text": [
            "Crawl data with product_id 137502383\n"
          ]
        },
        {
          "output_type": "stream",
          "name": "stderr",
          "text": [
            "\r 24%|██▍       | 490/2000 [31:26<1:30:35,  3.60s/it]"
          ]
        },
        {
          "output_type": "stream",
          "name": "stdout",
          "text": [
            "Crawl data with product_id 206334965\n"
          ]
        },
        {
          "output_type": "stream",
          "name": "stderr",
          "text": [
            "\r 25%|██▍       | 491/2000 [31:30<1:35:55,  3.81s/it]"
          ]
        },
        {
          "output_type": "stream",
          "name": "stdout",
          "text": [
            "Crawl data with product_id 89793156\n"
          ]
        },
        {
          "output_type": "stream",
          "name": "stderr",
          "text": [
            "\r 25%|██▍       | 492/2000 [31:34<1:33:59,  3.74s/it]"
          ]
        },
        {
          "output_type": "stream",
          "name": "stdout",
          "text": [
            "Crawl data with product_id 203864200\n"
          ]
        },
        {
          "output_type": "stream",
          "name": "stderr",
          "text": [
            "\r 25%|██▍       | 493/2000 [31:37<1:31:10,  3.63s/it]"
          ]
        },
        {
          "output_type": "stream",
          "name": "stdout",
          "text": [
            "Crawl data with product_id 152743079\n"
          ]
        },
        {
          "output_type": "stream",
          "name": "stderr",
          "text": [
            "\r 25%|██▍       | 494/2000 [31:41<1:29:09,  3.55s/it]"
          ]
        },
        {
          "output_type": "stream",
          "name": "stdout",
          "text": [
            "Crawl data with product_id 72161356\n"
          ]
        },
        {
          "output_type": "stream",
          "name": "stderr",
          "text": [
            "\r 25%|██▍       | 495/2000 [31:45<1:35:07,  3.79s/it]"
          ]
        },
        {
          "output_type": "stream",
          "name": "stdout",
          "text": [
            "Crawl data with product_id 95218474\n"
          ]
        },
        {
          "output_type": "stream",
          "name": "stderr",
          "text": [
            "\r 25%|██▍       | 496/2000 [31:48<1:31:53,  3.67s/it]"
          ]
        },
        {
          "output_type": "stream",
          "name": "stdout",
          "text": [
            "Crawl data with product_id 177751423\n"
          ]
        },
        {
          "output_type": "stream",
          "name": "stderr",
          "text": [
            "\r 25%|██▍       | 497/2000 [31:53<1:36:45,  3.86s/it]"
          ]
        },
        {
          "output_type": "stream",
          "name": "stdout",
          "text": [
            "Crawl data with product_id 555491\n"
          ]
        },
        {
          "output_type": "stream",
          "name": "stderr",
          "text": [
            "\r 25%|██▍       | 498/2000 [31:56<1:32:44,  3.70s/it]"
          ]
        },
        {
          "output_type": "stream",
          "name": "stdout",
          "text": [
            "Crawl data with product_id 51262938\n"
          ]
        },
        {
          "output_type": "stream",
          "name": "stderr",
          "text": [
            "\r 25%|██▍       | 499/2000 [31:59<1:29:39,  3.58s/it]"
          ]
        },
        {
          "output_type": "stream",
          "name": "stdout",
          "text": [
            "Crawl data with product_id 184896977\n"
          ]
        },
        {
          "output_type": "stream",
          "name": "stderr",
          "text": [
            "\r 25%|██▌       | 500/2000 [32:04<1:35:11,  3.81s/it]"
          ]
        },
        {
          "output_type": "stream",
          "name": "stdout",
          "text": [
            "Crawl data with product_id 230087269\n"
          ]
        },
        {
          "output_type": "stream",
          "name": "stderr",
          "text": [
            "\r 25%|██▌       | 501/2000 [32:07<1:31:37,  3.67s/it]"
          ]
        },
        {
          "output_type": "stream",
          "name": "stdout",
          "text": [
            "Crawl data with product_id 172751363\n"
          ]
        },
        {
          "output_type": "stream",
          "name": "stderr",
          "text": [
            "\r 25%|██▌       | 502/2000 [32:10<1:29:15,  3.58s/it]"
          ]
        },
        {
          "output_type": "stream",
          "name": "stdout",
          "text": [
            "Crawl data with product_id 132834653\n"
          ]
        },
        {
          "output_type": "stream",
          "name": "stderr",
          "text": [
            "\r 25%|██▌       | 503/2000 [32:14<1:27:13,  3.50s/it]"
          ]
        },
        {
          "output_type": "stream",
          "name": "stdout",
          "text": [
            "Crawl data with product_id 74216605\n"
          ]
        },
        {
          "output_type": "stream",
          "name": "stderr",
          "text": [
            "\r 25%|██▌       | 504/2000 [32:18<1:33:25,  3.75s/it]"
          ]
        },
        {
          "output_type": "stream",
          "name": "stdout",
          "text": [
            "Crawl data with product_id 55841941\n"
          ]
        },
        {
          "output_type": "stream",
          "name": "stderr",
          "text": [
            "\r 25%|██▌       | 505/2000 [32:21<1:30:28,  3.63s/it]"
          ]
        },
        {
          "output_type": "stream",
          "name": "stdout",
          "text": [
            "Crawl data with product_id 199176573\n"
          ]
        },
        {
          "output_type": "stream",
          "name": "stderr",
          "text": [
            "\r 25%|██▌       | 506/2000 [32:26<1:35:28,  3.83s/it]"
          ]
        },
        {
          "output_type": "stream",
          "name": "stdout",
          "text": [
            "Crawl data with product_id 147988196\n"
          ]
        },
        {
          "output_type": "stream",
          "name": "stderr",
          "text": [
            "\r 25%|██▌       | 507/2000 [32:29<1:31:46,  3.69s/it]"
          ]
        },
        {
          "output_type": "stream",
          "name": "stdout",
          "text": [
            "Crawl data with product_id 2621703\n"
          ]
        },
        {
          "output_type": "stream",
          "name": "stderr",
          "text": [
            "\r 25%|██▌       | 508/2000 [32:33<1:36:13,  3.87s/it]"
          ]
        },
        {
          "output_type": "stream",
          "name": "stdout",
          "text": [
            "Crawl data with product_id 193720169\n"
          ]
        },
        {
          "output_type": "stream",
          "name": "stderr",
          "text": [
            "\r 25%|██▌       | 509/2000 [32:37<1:32:01,  3.70s/it]"
          ]
        },
        {
          "output_type": "stream",
          "name": "stdout",
          "text": [
            "Crawl data with product_id 208198121\n"
          ]
        },
        {
          "output_type": "stream",
          "name": "stderr",
          "text": [
            "\r 26%|██▌       | 510/2000 [32:41<1:36:37,  3.89s/it]"
          ]
        },
        {
          "output_type": "stream",
          "name": "stdout",
          "text": [
            "Crawl data with product_id 57865421\n"
          ]
        },
        {
          "output_type": "stream",
          "name": "stderr",
          "text": [
            "\r 26%|██▌       | 511/2000 [32:45<1:39:55,  4.03s/it]"
          ]
        },
        {
          "output_type": "stream",
          "name": "stdout",
          "text": [
            "Crawl data with product_id 229696057\n"
          ]
        },
        {
          "output_type": "stream",
          "name": "stderr",
          "text": [
            "\r 26%|██▌       | 512/2000 [32:49<1:34:33,  3.81s/it]"
          ]
        },
        {
          "output_type": "stream",
          "name": "stdout",
          "text": [
            "Crawl data with product_id 198591156\n"
          ]
        },
        {
          "output_type": "stream",
          "name": "stderr",
          "text": [
            "\r 26%|██▌       | 513/2000 [32:53<1:38:10,  3.96s/it]"
          ]
        },
        {
          "output_type": "stream",
          "name": "stdout",
          "text": [
            "Crawl data with product_id 203923374\n"
          ]
        },
        {
          "output_type": "stream",
          "name": "stderr",
          "text": [
            "\r 26%|██▌       | 514/2000 [32:58<1:42:30,  4.14s/it]"
          ]
        },
        {
          "output_type": "stream",
          "name": "stdout",
          "text": [
            "Crawl data with product_id 1826671\n"
          ]
        },
        {
          "output_type": "stream",
          "name": "stderr",
          "text": [
            "\r 26%|██▌       | 515/2000 [33:01<1:36:20,  3.89s/it]"
          ]
        },
        {
          "output_type": "stream",
          "name": "stdout",
          "text": [
            "Crawl data with product_id 59049720\n"
          ]
        },
        {
          "output_type": "stream",
          "name": "stderr",
          "text": [
            "\r 26%|██▌       | 516/2000 [33:04<1:32:11,  3.73s/it]"
          ]
        },
        {
          "output_type": "stream",
          "name": "stdout",
          "text": [
            "Crawl data with product_id 225264999\n"
          ]
        },
        {
          "output_type": "stream",
          "name": "stderr",
          "text": [
            "\r 26%|██▌       | 517/2000 [33:09<1:37:56,  3.96s/it]"
          ]
        },
        {
          "output_type": "stream",
          "name": "stdout",
          "text": [
            "Crawl data with product_id 199177630\n"
          ]
        },
        {
          "output_type": "stream",
          "name": "stderr",
          "text": [
            "\r 26%|██▌       | 518/2000 [33:12<1:33:04,  3.77s/it]"
          ]
        },
        {
          "output_type": "stream",
          "name": "stdout",
          "text": [
            "Crawl data with product_id 1456395\n"
          ]
        },
        {
          "output_type": "stream",
          "name": "stderr",
          "text": [
            "\r 26%|██▌       | 519/2000 [33:16<1:37:06,  3.93s/it]"
          ]
        },
        {
          "output_type": "stream",
          "name": "stdout",
          "text": [
            "Crawl data with product_id 12055610\n"
          ]
        },
        {
          "output_type": "stream",
          "name": "stderr",
          "text": [
            "\r 26%|██▌       | 520/2000 [33:20<1:32:33,  3.75s/it]"
          ]
        },
        {
          "output_type": "stream",
          "name": "stdout",
          "text": [
            "Crawl data with product_id 121039143\n"
          ]
        },
        {
          "output_type": "stream",
          "name": "stderr",
          "text": [
            "\r 26%|██▌       | 521/2000 [33:23<1:29:38,  3.64s/it]"
          ]
        },
        {
          "output_type": "stream",
          "name": "stdout",
          "text": [
            "Crawl data with product_id 391900\n"
          ]
        },
        {
          "output_type": "stream",
          "name": "stderr",
          "text": [
            "\r 26%|██▌       | 522/2000 [33:26<1:27:15,  3.54s/it]"
          ]
        },
        {
          "output_type": "stream",
          "name": "stdout",
          "text": [
            "Crawl data with product_id 115093823\n"
          ]
        },
        {
          "output_type": "stream",
          "name": "stderr",
          "text": [
            "\r 26%|██▌       | 523/2000 [33:31<1:33:00,  3.78s/it]"
          ]
        },
        {
          "output_type": "stream",
          "name": "stdout",
          "text": [
            "Crawl data with product_id 225264130\n"
          ]
        },
        {
          "output_type": "stream",
          "name": "stderr",
          "text": [
            "\r 26%|██▌       | 524/2000 [33:35<1:37:02,  3.95s/it]"
          ]
        },
        {
          "output_type": "stream",
          "name": "stdout",
          "text": [
            "Crawl data with product_id 183719409\n"
          ]
        },
        {
          "output_type": "stream",
          "name": "stderr",
          "text": [
            "\r 26%|██▋       | 525/2000 [33:39<1:40:14,  4.08s/it]"
          ]
        },
        {
          "output_type": "stream",
          "name": "stdout",
          "text": [
            "Crawl data with product_id 1953615\n"
          ]
        },
        {
          "output_type": "stream",
          "name": "stderr",
          "text": [
            "\r 26%|██▋       | 526/2000 [33:43<1:34:29,  3.85s/it]"
          ]
        },
        {
          "output_type": "stream",
          "name": "stdout",
          "text": [
            "Crawl data with product_id 134736799\n"
          ]
        },
        {
          "output_type": "stream",
          "name": "stderr",
          "text": [
            "\r 26%|██▋       | 527/2000 [33:47<1:38:14,  4.00s/it]"
          ]
        },
        {
          "output_type": "stream",
          "name": "stdout",
          "text": [
            "Crawl data with product_id 343544\n"
          ]
        },
        {
          "output_type": "stream",
          "name": "stderr",
          "text": [
            "\r 26%|██▋       | 528/2000 [33:50<1:33:11,  3.80s/it]"
          ]
        },
        {
          "output_type": "stream",
          "name": "stdout",
          "text": [
            "Crawl data with product_id 217736546\n"
          ]
        },
        {
          "output_type": "stream",
          "name": "stderr",
          "text": [
            "\r 26%|██▋       | 529/2000 [33:55<1:37:00,  3.96s/it]"
          ]
        },
        {
          "output_type": "stream",
          "name": "stdout",
          "text": [
            "Crawl data with product_id 36501262\n"
          ]
        },
        {
          "output_type": "stream",
          "name": "stderr",
          "text": [
            "\r 26%|██▋       | 530/2000 [33:59<1:39:39,  4.07s/it]"
          ]
        },
        {
          "output_type": "stream",
          "name": "stdout",
          "text": [
            "Crawl data with product_id 262433886\n"
          ]
        },
        {
          "output_type": "stream",
          "name": "stderr",
          "text": [
            "\r 27%|██▋       | 531/2000 [34:03<1:41:21,  4.14s/it]"
          ]
        },
        {
          "output_type": "stream",
          "name": "stdout",
          "text": [
            "Crawl data with product_id 56102943\n"
          ]
        },
        {
          "output_type": "stream",
          "name": "stderr",
          "text": [
            "\r 27%|██▋       | 532/2000 [34:07<1:35:13,  3.89s/it]"
          ]
        },
        {
          "output_type": "stream",
          "name": "stdout",
          "text": [
            "Crawl data with product_id 252129444\n"
          ]
        },
        {
          "output_type": "stream",
          "name": "stderr",
          "text": [
            "\r 27%|██▋       | 533/2000 [34:10<1:31:03,  3.72s/it]"
          ]
        },
        {
          "output_type": "stream",
          "name": "stdout",
          "text": [
            "Crawl data with product_id 54393807\n"
          ]
        },
        {
          "output_type": "stream",
          "name": "stderr",
          "text": [
            "\r 27%|██▋       | 534/2000 [34:15<1:36:28,  3.95s/it]"
          ]
        },
        {
          "output_type": "stream",
          "name": "stdout",
          "text": [
            "Crawl data with product_id 471811\n"
          ]
        },
        {
          "output_type": "stream",
          "name": "stderr",
          "text": [
            "\r 27%|██▋       | 535/2000 [34:18<1:31:47,  3.76s/it]"
          ]
        },
        {
          "output_type": "stream",
          "name": "stdout",
          "text": [
            "Crawl data with product_id 214154682\n"
          ]
        },
        {
          "output_type": "stream",
          "name": "stderr",
          "text": [
            "\r 27%|██▋       | 536/2000 [34:21<1:28:18,  3.62s/it]"
          ]
        },
        {
          "output_type": "stream",
          "name": "stdout",
          "text": [
            "Crawl data with product_id 141298993\n"
          ]
        },
        {
          "output_type": "stream",
          "name": "stderr",
          "text": [
            "\r 27%|██▋       | 537/2000 [34:24<1:26:03,  3.53s/it]"
          ]
        },
        {
          "output_type": "stream",
          "name": "stdout",
          "text": [
            "Crawl data with product_id 355848\n"
          ]
        },
        {
          "output_type": "stream",
          "name": "stderr",
          "text": [
            "\r 27%|██▋       | 538/2000 [34:29<1:31:55,  3.77s/it]"
          ]
        },
        {
          "output_type": "stream",
          "name": "stdout",
          "text": [
            "Crawl data with product_id 85560607\n"
          ]
        },
        {
          "output_type": "stream",
          "name": "stderr",
          "text": [
            "\r 27%|██▋       | 539/2000 [34:32<1:28:22,  3.63s/it]"
          ]
        },
        {
          "output_type": "stream",
          "name": "stdout",
          "text": [
            "Crawl data with product_id 535730\n"
          ]
        },
        {
          "output_type": "stream",
          "name": "stderr",
          "text": [
            "\r 27%|██▋       | 540/2000 [34:35<1:26:04,  3.54s/it]"
          ]
        },
        {
          "output_type": "stream",
          "name": "stdout",
          "text": [
            "Crawl data with product_id 252859177\n"
          ]
        },
        {
          "output_type": "stream",
          "name": "stderr",
          "text": [
            "\r 27%|██▋       | 541/2000 [34:39<1:24:29,  3.47s/it]"
          ]
        },
        {
          "output_type": "stream",
          "name": "stdout",
          "text": [
            "Crawl data with product_id 1731763\n"
          ]
        },
        {
          "output_type": "stream",
          "name": "stderr",
          "text": [
            "\r 27%|██▋       | 542/2000 [34:43<1:30:35,  3.73s/it]"
          ]
        },
        {
          "output_type": "stream",
          "name": "stdout",
          "text": [
            "Crawl data with product_id 146272702\n"
          ]
        },
        {
          "output_type": "stream",
          "name": "stderr",
          "text": [
            "\r 27%|██▋       | 543/2000 [34:46<1:27:33,  3.61s/it]"
          ]
        },
        {
          "output_type": "stream",
          "name": "stdout",
          "text": [
            "Crawl data with product_id 48523410\n"
          ]
        },
        {
          "output_type": "stream",
          "name": "stderr",
          "text": [
            "\r 27%|██▋       | 544/2000 [34:51<1:32:51,  3.83s/it]"
          ]
        },
        {
          "output_type": "stream",
          "name": "stdout",
          "text": [
            "Crawl data with product_id 174012890\n"
          ]
        },
        {
          "output_type": "stream",
          "name": "stderr",
          "text": [
            "\r 27%|██▋       | 545/2000 [34:55<1:36:21,  3.97s/it]"
          ]
        },
        {
          "output_type": "stream",
          "name": "stdout",
          "text": [
            "Crawl data with product_id 248467887\n"
          ]
        },
        {
          "output_type": "stream",
          "name": "stderr",
          "text": [
            "\r 27%|██▋       | 546/2000 [34:58<1:31:36,  3.78s/it]"
          ]
        },
        {
          "output_type": "stream",
          "name": "stdout",
          "text": [
            "Crawl data with product_id 252892322\n"
          ]
        },
        {
          "output_type": "stream",
          "name": "stderr",
          "text": [
            "\r 27%|██▋       | 547/2000 [35:02<1:28:05,  3.64s/it]"
          ]
        },
        {
          "output_type": "stream",
          "name": "stdout",
          "text": [
            "Crawl data with product_id 253336034\n"
          ]
        },
        {
          "output_type": "stream",
          "name": "stderr",
          "text": [
            "\r 27%|██▋       | 548/2000 [35:06<1:34:27,  3.90s/it]"
          ]
        },
        {
          "output_type": "stream",
          "name": "stdout",
          "text": [
            "Crawl data with product_id 158773305\n"
          ]
        },
        {
          "output_type": "stream",
          "name": "stderr",
          "text": [
            "\r 27%|██▋       | 549/2000 [35:11<1:37:28,  4.03s/it]"
          ]
        },
        {
          "output_type": "stream",
          "name": "stdout",
          "text": [
            "Crawl data with product_id 242634292\n"
          ]
        },
        {
          "output_type": "stream",
          "name": "stderr",
          "text": [
            "\r 28%|██▊       | 550/2000 [35:15<1:39:27,  4.12s/it]"
          ]
        },
        {
          "output_type": "stream",
          "name": "stdout",
          "text": [
            "Crawl data with product_id 106546257\n"
          ]
        },
        {
          "output_type": "stream",
          "name": "stderr",
          "text": [
            "\r 28%|██▊       | 551/2000 [35:18<1:33:32,  3.87s/it]"
          ]
        },
        {
          "output_type": "stream",
          "name": "stdout",
          "text": [
            "Crawl data with product_id 24164630\n"
          ]
        },
        {
          "output_type": "stream",
          "name": "stderr",
          "text": [
            "\r 28%|██▊       | 552/2000 [35:21<1:29:23,  3.70s/it]"
          ]
        },
        {
          "output_type": "stream",
          "name": "stdout",
          "text": [
            "Crawl data with product_id 249885517\n"
          ]
        },
        {
          "output_type": "stream",
          "name": "stderr",
          "text": [
            "\r 28%|██▊       | 553/2000 [35:26<1:33:51,  3.89s/it]"
          ]
        },
        {
          "output_type": "stream",
          "name": "stdout",
          "text": [
            "Crawl data with product_id 69337690\n"
          ]
        },
        {
          "output_type": "stream",
          "name": "stderr",
          "text": [
            "\r 28%|██▊       | 554/2000 [35:29<1:29:42,  3.72s/it]"
          ]
        },
        {
          "output_type": "stream",
          "name": "stdout",
          "text": [
            "Crawl data with product_id 42458992\n"
          ]
        },
        {
          "output_type": "stream",
          "name": "stderr",
          "text": [
            "\r 28%|██▊       | 555/2000 [35:33<1:27:26,  3.63s/it]"
          ]
        },
        {
          "output_type": "stream",
          "name": "stdout",
          "text": [
            "Crawl data with product_id 241936066\n"
          ]
        },
        {
          "output_type": "stream",
          "name": "stderr",
          "text": [
            "\r 28%|██▊       | 556/2000 [35:37<1:32:25,  3.84s/it]"
          ]
        },
        {
          "output_type": "stream",
          "name": "stdout",
          "text": [
            "Crawl data with product_id 185097080\n"
          ]
        },
        {
          "output_type": "stream",
          "name": "stderr",
          "text": [
            "\r 28%|██▊       | 557/2000 [35:41<1:35:49,  3.98s/it]"
          ]
        },
        {
          "output_type": "stream",
          "name": "stdout",
          "text": [
            "Crawl data with product_id 188730962\n"
          ]
        },
        {
          "output_type": "stream",
          "name": "stderr",
          "text": [
            "\r 28%|██▊       | 558/2000 [35:45<1:32:21,  3.84s/it]"
          ]
        },
        {
          "output_type": "stream",
          "name": "stdout",
          "text": [
            "Crawl data with product_id 41265450\n"
          ]
        },
        {
          "output_type": "stream",
          "name": "stderr",
          "text": [
            "\r 28%|██▊       | 559/2000 [35:48<1:28:32,  3.69s/it]"
          ]
        },
        {
          "output_type": "stream",
          "name": "stdout",
          "text": [
            "Crawl data with product_id 205349592\n"
          ]
        },
        {
          "output_type": "stream",
          "name": "stderr",
          "text": [
            "\r 28%|██▊       | 560/2000 [35:51<1:25:51,  3.58s/it]"
          ]
        },
        {
          "output_type": "stream",
          "name": "stdout",
          "text": [
            "Crawl data with product_id 7164863\n"
          ]
        },
        {
          "output_type": "stream",
          "name": "stderr",
          "text": [
            "\r 28%|██▊       | 561/2000 [35:55<1:24:01,  3.50s/it]"
          ]
        },
        {
          "output_type": "stream",
          "name": "stdout",
          "text": [
            "Crawl data with product_id 138504579\n"
          ]
        },
        {
          "output_type": "stream",
          "name": "stderr",
          "text": [
            "\r 28%|██▊       | 562/2000 [35:59<1:29:55,  3.75s/it]"
          ]
        },
        {
          "output_type": "stream",
          "name": "stdout",
          "text": [
            "Crawl data with product_id 782217\n"
          ]
        },
        {
          "output_type": "stream",
          "name": "stderr",
          "text": [
            "\r 28%|██▊       | 563/2000 [36:02<1:26:55,  3.63s/it]"
          ]
        },
        {
          "output_type": "stream",
          "name": "stdout",
          "text": [
            "Crawl data with product_id 12039545\n"
          ]
        },
        {
          "output_type": "stream",
          "name": "stderr",
          "text": [
            "\r 28%|██▊       | 564/2000 [36:07<1:31:53,  3.84s/it]"
          ]
        },
        {
          "output_type": "stream",
          "name": "stdout",
          "text": [
            "Crawl data with product_id 403156\n"
          ]
        },
        {
          "output_type": "stream",
          "name": "stderr",
          "text": [
            "\r 28%|██▊       | 565/2000 [36:10<1:28:05,  3.68s/it]"
          ]
        },
        {
          "output_type": "stream",
          "name": "stdout",
          "text": [
            "Crawl data with product_id 44640178\n"
          ]
        },
        {
          "output_type": "stream",
          "name": "stderr",
          "text": [
            "\r 28%|██▊       | 566/2000 [36:13<1:25:25,  3.57s/it]"
          ]
        },
        {
          "output_type": "stream",
          "name": "stdout",
          "text": [
            "Crawl data with product_id 56199901\n"
          ]
        },
        {
          "output_type": "stream",
          "name": "stderr",
          "text": [
            "\r 28%|██▊       | 567/2000 [36:17<1:23:29,  3.50s/it]"
          ]
        },
        {
          "output_type": "stream",
          "name": "stdout",
          "text": [
            "Crawl data with product_id 106756769\n"
          ]
        },
        {
          "output_type": "stream",
          "name": "stderr",
          "text": [
            "\r 28%|██▊       | 568/2000 [36:20<1:22:12,  3.44s/it]"
          ]
        },
        {
          "output_type": "stream",
          "name": "stdout",
          "text": [
            "Crawl data with product_id 144523634\n"
          ]
        },
        {
          "output_type": "stream",
          "name": "stderr",
          "text": [
            "\r 28%|██▊       | 569/2000 [36:24<1:28:26,  3.71s/it]"
          ]
        },
        {
          "output_type": "stream",
          "name": "stdout",
          "text": [
            "Crawl data with product_id 23431536\n"
          ]
        },
        {
          "output_type": "stream",
          "name": "stderr",
          "text": [
            "\r 28%|██▊       | 570/2000 [36:29<1:32:43,  3.89s/it]"
          ]
        },
        {
          "output_type": "stream",
          "name": "stdout",
          "text": [
            "Crawl data with product_id 208104793\n"
          ]
        },
        {
          "output_type": "stream",
          "name": "stderr",
          "text": [
            "\r 29%|██▊       | 571/2000 [36:32<1:28:43,  3.73s/it]"
          ]
        },
        {
          "output_type": "stream",
          "name": "stdout",
          "text": [
            "Crawl data with product_id 181926269\n"
          ]
        },
        {
          "output_type": "stream",
          "name": "stderr",
          "text": [
            "\r 29%|██▊       | 572/2000 [36:35<1:25:50,  3.61s/it]"
          ]
        },
        {
          "output_type": "stream",
          "name": "stdout",
          "text": [
            "Crawl data with product_id 192909294\n"
          ]
        },
        {
          "output_type": "stream",
          "name": "stderr",
          "text": [
            "\r 29%|██▊       | 573/2000 [36:40<1:30:45,  3.82s/it]"
          ]
        },
        {
          "output_type": "stream",
          "name": "stdout",
          "text": [
            "Crawl data with product_id 602248\n"
          ]
        },
        {
          "output_type": "stream",
          "name": "stderr",
          "text": [
            "\r 29%|██▊       | 574/2000 [36:44<1:34:14,  3.97s/it]"
          ]
        },
        {
          "output_type": "stream",
          "name": "stdout",
          "text": [
            "Crawl data with product_id 101771813\n"
          ]
        },
        {
          "output_type": "stream",
          "name": "stderr",
          "text": [
            "\r 29%|██▉       | 575/2000 [36:48<1:37:00,  4.08s/it]"
          ]
        },
        {
          "output_type": "stream",
          "name": "stdout",
          "text": [
            "Crawl data with product_id 138504577\n"
          ]
        },
        {
          "output_type": "stream",
          "name": "stderr",
          "text": [
            "\r 29%|██▉       | 576/2000 [36:52<1:31:18,  3.85s/it]"
          ]
        },
        {
          "output_type": "stream",
          "name": "stdout",
          "text": [
            "Crawl data with product_id 76393256\n"
          ]
        },
        {
          "output_type": "stream",
          "name": "stderr",
          "text": [
            "\r 29%|██▉       | 577/2000 [36:55<1:27:34,  3.69s/it]"
          ]
        },
        {
          "output_type": "stream",
          "name": "stdout",
          "text": [
            "Crawl data with product_id 49252832\n"
          ]
        },
        {
          "output_type": "stream",
          "name": "stderr",
          "text": [
            "\r 29%|██▉       | 578/2000 [36:58<1:24:54,  3.58s/it]"
          ]
        },
        {
          "output_type": "stream",
          "name": "stdout",
          "text": [
            "Crawl data with product_id 115725894\n"
          ]
        },
        {
          "output_type": "stream",
          "name": "stderr",
          "text": [
            "\r 29%|██▉       | 579/2000 [37:03<1:31:24,  3.86s/it]"
          ]
        },
        {
          "output_type": "stream",
          "name": "stdout",
          "text": [
            "Crawl data with product_id 105651039\n"
          ]
        },
        {
          "output_type": "stream",
          "name": "stderr",
          "text": [
            "\r 29%|██▉       | 580/2000 [37:07<1:34:34,  4.00s/it]"
          ]
        },
        {
          "output_type": "stream",
          "name": "stdout",
          "text": [
            "Crawl data with product_id 129192387\n"
          ]
        },
        {
          "output_type": "stream",
          "name": "stderr",
          "text": [
            "\r 29%|██▉       | 581/2000 [37:11<1:37:11,  4.11s/it]"
          ]
        },
        {
          "output_type": "stream",
          "name": "stdout",
          "text": [
            "Crawl data with product_id 262870697\n"
          ]
        },
        {
          "output_type": "stream",
          "name": "stderr",
          "text": [
            "\r 29%|██▉       | 582/2000 [37:15<1:31:36,  3.88s/it]"
          ]
        },
        {
          "output_type": "stream",
          "name": "stdout",
          "text": [
            "Crawl data with product_id 109592682\n"
          ]
        },
        {
          "output_type": "stream",
          "name": "stderr",
          "text": [
            "\r 29%|██▉       | 583/2000 [37:18<1:27:37,  3.71s/it]"
          ]
        },
        {
          "output_type": "stream",
          "name": "stdout",
          "text": [
            "Crawl data with product_id 76774629\n"
          ]
        },
        {
          "output_type": "stream",
          "name": "stderr",
          "text": [
            "\r 29%|██▉       | 584/2000 [37:22<1:31:53,  3.89s/it]"
          ]
        },
        {
          "output_type": "stream",
          "name": "stdout",
          "text": [
            "Crawl data with product_id 10807784\n"
          ]
        },
        {
          "output_type": "stream",
          "name": "stderr",
          "text": [
            "\r 29%|██▉       | 585/2000 [37:26<1:27:40,  3.72s/it]"
          ]
        },
        {
          "output_type": "stream",
          "name": "stdout",
          "text": [
            "Crawl data with product_id 248745936\n"
          ]
        },
        {
          "output_type": "stream",
          "name": "stderr",
          "text": [
            "\r 29%|██▉       | 586/2000 [37:30<1:33:12,  3.96s/it]"
          ]
        },
        {
          "output_type": "stream",
          "name": "stdout",
          "text": [
            "Crawl data with product_id 190843478\n"
          ]
        },
        {
          "output_type": "stream",
          "name": "stderr",
          "text": [
            "\r 29%|██▉       | 587/2000 [37:35<1:36:06,  4.08s/it]"
          ]
        },
        {
          "output_type": "stream",
          "name": "stdout",
          "text": [
            "Crawl data with product_id 56585437\n"
          ]
        },
        {
          "output_type": "stream",
          "name": "stderr",
          "text": [
            "\r 29%|██▉       | 588/2000 [37:38<1:31:25,  3.88s/it]"
          ]
        },
        {
          "output_type": "stream",
          "name": "stdout",
          "text": [
            "Crawl data with product_id 140361639\n"
          ]
        },
        {
          "output_type": "stream",
          "name": "stderr",
          "text": [
            "\r 29%|██▉       | 589/2000 [37:41<1:27:35,  3.72s/it]"
          ]
        },
        {
          "output_type": "stream",
          "name": "stdout",
          "text": [
            "Crawl data with product_id 182113308\n"
          ]
        },
        {
          "output_type": "stream",
          "name": "stderr",
          "text": [
            "\r 30%|██▉       | 590/2000 [37:45<1:24:37,  3.60s/it]"
          ]
        },
        {
          "output_type": "stream",
          "name": "stdout",
          "text": [
            "Crawl data with product_id 169324944\n"
          ]
        },
        {
          "output_type": "stream",
          "name": "stderr",
          "text": [
            "\r 30%|██▉       | 591/2000 [37:48<1:22:46,  3.52s/it]"
          ]
        },
        {
          "output_type": "stream",
          "name": "stdout",
          "text": [
            "Crawl data with product_id 47579026\n"
          ]
        },
        {
          "output_type": "stream",
          "name": "stderr",
          "text": [
            "\r 30%|██▉       | 592/2000 [37:51<1:21:16,  3.46s/it]"
          ]
        },
        {
          "output_type": "stream",
          "name": "stdout",
          "text": [
            "Crawl data with product_id 782288\n"
          ]
        },
        {
          "output_type": "stream",
          "name": "stderr",
          "text": [
            "\r 30%|██▉       | 593/2000 [37:55<1:20:16,  3.42s/it]"
          ]
        },
        {
          "output_type": "stream",
          "name": "stdout",
          "text": [
            "Crawl data with product_id 58973819\n"
          ]
        },
        {
          "output_type": "stream",
          "name": "stderr",
          "text": [
            "\r 30%|██▉       | 594/2000 [37:59<1:26:33,  3.69s/it]"
          ]
        },
        {
          "output_type": "stream",
          "name": "stdout",
          "text": [
            "Crawl data with product_id 157054857\n"
          ]
        },
        {
          "output_type": "stream",
          "name": "stderr",
          "text": [
            "\r 30%|██▉       | 595/2000 [38:02<1:23:52,  3.58s/it]"
          ]
        },
        {
          "output_type": "stream",
          "name": "stdout",
          "text": [
            "Crawl data with product_id 63473606\n"
          ]
        },
        {
          "output_type": "stream",
          "name": "stderr",
          "text": [
            "\r 30%|██▉       | 596/2000 [38:06<1:23:21,  3.56s/it]"
          ]
        },
        {
          "output_type": "stream",
          "name": "stdout",
          "text": [
            "Crawl data with product_id 162867684\n"
          ]
        },
        {
          "output_type": "stream",
          "name": "stderr",
          "text": [
            "\r 30%|██▉       | 597/2000 [38:09<1:21:56,  3.50s/it]"
          ]
        },
        {
          "output_type": "stream",
          "name": "stdout",
          "text": [
            "Crawl data with product_id 176112425\n"
          ]
        },
        {
          "output_type": "stream",
          "name": "stderr",
          "text": [
            "\r 30%|██▉       | 598/2000 [38:14<1:27:52,  3.76s/it]"
          ]
        },
        {
          "output_type": "stream",
          "name": "stdout",
          "text": [
            "Crawl data with product_id 188535338\n"
          ]
        },
        {
          "output_type": "stream",
          "name": "stderr",
          "text": [
            "\r 30%|██▉       | 599/2000 [38:17<1:24:45,  3.63s/it]"
          ]
        },
        {
          "output_type": "stream",
          "name": "stdout",
          "text": [
            "Crawl data with product_id 44017504\n"
          ]
        },
        {
          "output_type": "stream",
          "name": "stderr",
          "text": [
            "\r 30%|███       | 600/2000 [38:20<1:22:50,  3.55s/it]"
          ]
        },
        {
          "output_type": "stream",
          "name": "stdout",
          "text": [
            "Crawl data with product_id 186086953\n"
          ]
        },
        {
          "output_type": "stream",
          "name": "stderr",
          "text": [
            "\r 30%|███       | 601/2000 [38:24<1:20:59,  3.47s/it]"
          ]
        },
        {
          "output_type": "stream",
          "name": "stdout",
          "text": [
            "Crawl data with product_id 214924416\n"
          ]
        },
        {
          "output_type": "stream",
          "name": "stderr",
          "text": [
            "\r 30%|███       | 602/2000 [38:27<1:19:55,  3.43s/it]"
          ]
        },
        {
          "output_type": "stream",
          "name": "stdout",
          "text": [
            "Crawl data with product_id 253307363\n"
          ]
        },
        {
          "output_type": "stream",
          "name": "stderr",
          "text": [
            "\r 30%|███       | 603/2000 [38:31<1:26:20,  3.71s/it]"
          ]
        },
        {
          "output_type": "stream",
          "name": "stdout",
          "text": [
            "Crawl data with product_id 208069791\n"
          ]
        },
        {
          "output_type": "stream",
          "name": "stderr",
          "text": [
            "\r 30%|███       | 604/2000 [38:35<1:23:52,  3.61s/it]"
          ]
        },
        {
          "output_type": "stream",
          "name": "stdout",
          "text": [
            "Crawl data with product_id 253307299\n"
          ]
        },
        {
          "output_type": "stream",
          "name": "stderr",
          "text": [
            "\r 30%|███       | 605/2000 [38:39<1:28:50,  3.82s/it]"
          ]
        },
        {
          "output_type": "stream",
          "name": "stdout",
          "text": [
            "Crawl data with product_id 30793563\n"
          ]
        },
        {
          "output_type": "stream",
          "name": "stderr",
          "text": [
            "\r 30%|███       | 606/2000 [38:43<1:32:10,  3.97s/it]"
          ]
        },
        {
          "output_type": "stream",
          "name": "stdout",
          "text": [
            "Crawl data with product_id 201802639\n"
          ]
        },
        {
          "output_type": "stream",
          "name": "stderr",
          "text": [
            "\r 30%|███       | 607/2000 [38:48<1:34:35,  4.07s/it]"
          ]
        },
        {
          "output_type": "stream",
          "name": "stdout",
          "text": [
            "Crawl data with product_id 243093211\n"
          ]
        },
        {
          "output_type": "stream",
          "name": "stderr",
          "text": [
            "\r 30%|███       | 608/2000 [38:52<1:36:09,  4.14s/it]"
          ]
        },
        {
          "output_type": "stream",
          "name": "stdout",
          "text": [
            "Crawl data with product_id 200717379\n"
          ]
        },
        {
          "output_type": "stream",
          "name": "stderr",
          "text": [
            "\r 30%|███       | 609/2000 [38:55<1:30:23,  3.90s/it]"
          ]
        },
        {
          "output_type": "stream",
          "name": "stdout",
          "text": [
            "Crawl data with product_id 602472\n"
          ]
        },
        {
          "output_type": "stream",
          "name": "stderr",
          "text": [
            "\r 30%|███       | 610/2000 [38:59<1:33:10,  4.02s/it]"
          ]
        },
        {
          "output_type": "stream",
          "name": "stdout",
          "text": [
            "Crawl data with product_id 156821185\n"
          ]
        },
        {
          "output_type": "stream",
          "name": "stderr",
          "text": [
            "\r 31%|███       | 611/2000 [39:03<1:28:27,  3.82s/it]"
          ]
        },
        {
          "output_type": "stream",
          "name": "stdout",
          "text": [
            "Crawl data with product_id 72688722\n"
          ]
        },
        {
          "output_type": "stream",
          "name": "stderr",
          "text": [
            "\r 31%|███       | 612/2000 [39:07<1:31:59,  3.98s/it]"
          ]
        },
        {
          "output_type": "stream",
          "name": "stdout",
          "text": [
            "Crawl data with product_id 113528319\n"
          ]
        },
        {
          "output_type": "stream",
          "name": "stderr",
          "text": [
            "\r 31%|███       | 613/2000 [39:11<1:27:23,  3.78s/it]"
          ]
        },
        {
          "output_type": "stream",
          "name": "stdout",
          "text": [
            "Crawl data with product_id 216090603\n"
          ]
        },
        {
          "output_type": "stream",
          "name": "stderr",
          "text": [
            "\r 31%|███       | 614/2000 [39:14<1:24:10,  3.64s/it]"
          ]
        },
        {
          "output_type": "stream",
          "name": "stdout",
          "text": [
            "Crawl data with product_id 82489342\n"
          ]
        },
        {
          "output_type": "stream",
          "name": "stderr",
          "text": [
            "\r 31%|███       | 615/2000 [39:17<1:21:43,  3.54s/it]"
          ]
        },
        {
          "output_type": "stream",
          "name": "stdout",
          "text": [
            "Crawl data with product_id 113117338\n"
          ]
        },
        {
          "output_type": "stream",
          "name": "stderr",
          "text": [
            "\r 31%|███       | 616/2000 [39:21<1:27:07,  3.78s/it]"
          ]
        },
        {
          "output_type": "stream",
          "name": "stdout",
          "text": [
            "Crawl data with product_id 90866363\n"
          ]
        },
        {
          "output_type": "stream",
          "name": "stderr",
          "text": [
            "\r 31%|███       | 617/2000 [39:25<1:23:58,  3.64s/it]"
          ]
        },
        {
          "output_type": "stream",
          "name": "stdout",
          "text": [
            "Crawl data with product_id 185873057\n"
          ]
        },
        {
          "output_type": "stream",
          "name": "stderr",
          "text": [
            "\r 31%|███       | 618/2000 [39:29<1:28:42,  3.85s/it]"
          ]
        },
        {
          "output_type": "stream",
          "name": "stdout",
          "text": [
            "Crawl data with product_id 173358027\n"
          ]
        },
        {
          "output_type": "stream",
          "name": "stderr",
          "text": [
            "\r 31%|███       | 619/2000 [39:32<1:25:11,  3.70s/it]"
          ]
        },
        {
          "output_type": "stream",
          "name": "stdout",
          "text": [
            "Crawl data with product_id 194205649\n"
          ]
        },
        {
          "output_type": "stream",
          "name": "stderr",
          "text": [
            "\r 31%|███       | 620/2000 [39:37<1:29:23,  3.89s/it]"
          ]
        },
        {
          "output_type": "stream",
          "name": "stdout",
          "text": [
            "Crawl data with product_id 252858876\n"
          ]
        },
        {
          "output_type": "stream",
          "name": "stderr",
          "text": [
            "\r 31%|███       | 621/2000 [39:40<1:25:35,  3.72s/it]"
          ]
        },
        {
          "output_type": "stream",
          "name": "stdout",
          "text": [
            "Crawl data with product_id 253393403\n"
          ]
        },
        {
          "output_type": "stream",
          "name": "stderr",
          "text": [
            "\r 31%|███       | 622/2000 [39:43<1:22:31,  3.59s/it]"
          ]
        },
        {
          "output_type": "stream",
          "name": "stdout",
          "text": [
            "Crawl data with product_id 147411816\n"
          ]
        },
        {
          "output_type": "stream",
          "name": "stderr",
          "text": [
            "\r 31%|███       | 623/2000 [39:47<1:20:39,  3.51s/it]"
          ]
        },
        {
          "output_type": "stream",
          "name": "stdout",
          "text": [
            "Crawl data with product_id 11885888\n"
          ]
        },
        {
          "output_type": "stream",
          "name": "stderr",
          "text": [
            "\r 31%|███       | 624/2000 [39:51<1:26:12,  3.76s/it]"
          ]
        },
        {
          "output_type": "stream",
          "name": "stdout",
          "text": [
            "Crawl data with product_id 56512147\n"
          ]
        },
        {
          "output_type": "stream",
          "name": "stderr",
          "text": [
            "\r 31%|███▏      | 625/2000 [39:55<1:29:49,  3.92s/it]"
          ]
        },
        {
          "output_type": "stream",
          "name": "stdout",
          "text": [
            "Crawl data with product_id 177704418\n"
          ]
        },
        {
          "output_type": "stream",
          "name": "stderr",
          "text": [
            "\r 31%|███▏      | 626/2000 [39:59<1:25:44,  3.74s/it]"
          ]
        },
        {
          "output_type": "stream",
          "name": "stdout",
          "text": [
            "Crawl data with product_id 57763998\n"
          ]
        },
        {
          "output_type": "stream",
          "name": "stderr",
          "text": [
            "\r 31%|███▏      | 627/2000 [40:03<1:29:48,  3.92s/it]"
          ]
        },
        {
          "output_type": "stream",
          "name": "stdout",
          "text": [
            "Crawl data with product_id 195299498\n"
          ]
        },
        {
          "output_type": "stream",
          "name": "stderr",
          "text": [
            "\r 31%|███▏      | 628/2000 [40:06<1:25:43,  3.75s/it]"
          ]
        },
        {
          "output_type": "stream",
          "name": "stdout",
          "text": [
            "Crawl data with product_id 555502\n"
          ]
        },
        {
          "output_type": "stream",
          "name": "stderr",
          "text": [
            "\r 31%|███▏      | 629/2000 [40:10<1:22:41,  3.62s/it]"
          ]
        },
        {
          "output_type": "stream",
          "name": "stdout",
          "text": [
            "Crawl data with product_id 249390054\n"
          ]
        },
        {
          "output_type": "stream",
          "name": "stderr",
          "text": [
            "\r 32%|███▏      | 630/2000 [40:13<1:20:31,  3.53s/it]"
          ]
        },
        {
          "output_type": "stream",
          "name": "stdout",
          "text": [
            "Crawl data with product_id 36710372\n"
          ]
        },
        {
          "output_type": "stream",
          "name": "stderr",
          "text": [
            "\r 32%|███▏      | 631/2000 [40:17<1:25:56,  3.77s/it]"
          ]
        },
        {
          "output_type": "stream",
          "name": "stdout",
          "text": [
            "Crawl data with product_id 77717874\n"
          ]
        },
        {
          "output_type": "stream",
          "name": "stderr",
          "text": [
            "\r 32%|███▏      | 632/2000 [40:21<1:23:02,  3.64s/it]"
          ]
        },
        {
          "output_type": "stream",
          "name": "stdout",
          "text": [
            "Crawl data with product_id 39820798\n"
          ]
        },
        {
          "output_type": "stream",
          "name": "stderr",
          "text": [
            "\r 32%|███▏      | 633/2000 [40:25<1:28:00,  3.86s/it]"
          ]
        },
        {
          "output_type": "stream",
          "name": "stdout",
          "text": [
            "Crawl data with product_id 162865522\n"
          ]
        },
        {
          "output_type": "stream",
          "name": "stderr",
          "text": [
            "\r 32%|███▏      | 634/2000 [40:29<1:31:12,  4.01s/it]"
          ]
        },
        {
          "output_type": "stream",
          "name": "stdout",
          "text": [
            "Crawl data with product_id 777506\n"
          ]
        },
        {
          "output_type": "stream",
          "name": "stderr",
          "text": [
            "\r 32%|███▏      | 635/2000 [40:34<1:33:09,  4.09s/it]"
          ]
        },
        {
          "output_type": "stream",
          "name": "stdout",
          "text": [
            "Crawl data with product_id 198577437\n"
          ]
        },
        {
          "output_type": "stream",
          "name": "stderr",
          "text": [
            "\r 32%|███▏      | 636/2000 [40:37<1:27:44,  3.86s/it]"
          ]
        },
        {
          "output_type": "stream",
          "name": "stdout",
          "text": [
            "Crawl data with product_id 192678602\n"
          ]
        },
        {
          "output_type": "stream",
          "name": "stderr",
          "text": [
            "\r 32%|███▏      | 637/2000 [40:40<1:23:52,  3.69s/it]"
          ]
        },
        {
          "output_type": "stream",
          "name": "stdout",
          "text": [
            "Crawl data with product_id 35613565\n"
          ]
        },
        {
          "output_type": "stream",
          "name": "stderr",
          "text": [
            "\r 32%|███▏      | 638/2000 [40:44<1:21:07,  3.57s/it]"
          ]
        },
        {
          "output_type": "stream",
          "name": "stdout",
          "text": [
            "Crawl data with product_id 224549163\n"
          ]
        },
        {
          "output_type": "stream",
          "name": "stderr",
          "text": [
            "\r 32%|███▏      | 639/2000 [40:48<1:25:58,  3.79s/it]"
          ]
        },
        {
          "output_type": "stream",
          "name": "stdout",
          "text": [
            "Crawl data with product_id 6840767\n"
          ]
        },
        {
          "output_type": "stream",
          "name": "stderr",
          "text": [
            "\r 32%|███▏      | 640/2000 [40:51<1:22:39,  3.65s/it]"
          ]
        },
        {
          "output_type": "stream",
          "name": "stdout",
          "text": [
            "Crawl data with product_id 36710746\n"
          ]
        },
        {
          "output_type": "stream",
          "name": "stderr",
          "text": [
            "\r 32%|███▏      | 641/2000 [40:55<1:20:11,  3.54s/it]"
          ]
        },
        {
          "output_type": "stream",
          "name": "stdout",
          "text": [
            "Crawl data with product_id 181453960\n"
          ]
        },
        {
          "output_type": "stream",
          "name": "stderr",
          "text": [
            "\r 32%|███▏      | 642/2000 [40:59<1:25:16,  3.77s/it]"
          ]
        },
        {
          "output_type": "stream",
          "name": "stdout",
          "text": [
            "Crawl data with product_id 253410409\n"
          ]
        },
        {
          "output_type": "stream",
          "name": "stderr",
          "text": [
            "\r 32%|███▏      | 643/2000 [41:02<1:23:47,  3.70s/it]"
          ]
        },
        {
          "output_type": "stream",
          "name": "stdout",
          "text": [
            "Crawl data with product_id 85560330\n"
          ]
        },
        {
          "output_type": "stream",
          "name": "stderr",
          "text": [
            "\r 32%|███▏      | 644/2000 [41:07<1:27:45,  3.88s/it]"
          ]
        },
        {
          "output_type": "stream",
          "name": "stdout",
          "text": [
            "Crawl data with product_id 160754610\n"
          ]
        },
        {
          "output_type": "stream",
          "name": "stderr",
          "text": [
            "\r 32%|███▏      | 645/2000 [41:10<1:24:13,  3.73s/it]"
          ]
        },
        {
          "output_type": "stream",
          "name": "stdout",
          "text": [
            "Crawl data with product_id 69337672\n"
          ]
        },
        {
          "output_type": "stream",
          "name": "stderr",
          "text": [
            "\r 32%|███▏      | 646/2000 [41:13<1:21:21,  3.61s/it]"
          ]
        },
        {
          "output_type": "stream",
          "name": "stdout",
          "text": [
            "Crawl data with product_id 146225829\n"
          ]
        },
        {
          "output_type": "stream",
          "name": "stderr",
          "text": [
            "\r 32%|███▏      | 647/2000 [41:17<1:19:14,  3.51s/it]"
          ]
        },
        {
          "output_type": "stream",
          "name": "stdout",
          "text": [
            "Crawl data with product_id 194967535\n"
          ]
        },
        {
          "output_type": "stream",
          "name": "stderr",
          "text": [
            "\r 32%|███▏      | 648/2000 [41:20<1:18:06,  3.47s/it]"
          ]
        },
        {
          "output_type": "stream",
          "name": "stdout",
          "text": [
            "Crawl data with product_id 210513768\n"
          ]
        },
        {
          "output_type": "stream",
          "name": "stderr",
          "text": [
            "\r 32%|███▏      | 649/2000 [41:23<1:17:05,  3.42s/it]"
          ]
        },
        {
          "output_type": "stream",
          "name": "stdout",
          "text": [
            "Crawl data with product_id 253268706\n"
          ]
        },
        {
          "output_type": "stream",
          "name": "stderr",
          "text": [
            "\r 32%|███▎      | 650/2000 [41:28<1:23:01,  3.69s/it]"
          ]
        },
        {
          "output_type": "stream",
          "name": "stdout",
          "text": [
            "Crawl data with product_id 192643578\n"
          ]
        },
        {
          "output_type": "stream",
          "name": "stderr",
          "text": [
            "\r 33%|███▎      | 651/2000 [41:32<1:27:38,  3.90s/it]"
          ]
        },
        {
          "output_type": "stream",
          "name": "stdout",
          "text": [
            "Crawl data with product_id 129138395\n"
          ]
        },
        {
          "output_type": "stream",
          "name": "stderr",
          "text": [
            "\r 33%|███▎      | 652/2000 [41:35<1:23:30,  3.72s/it]"
          ]
        },
        {
          "output_type": "stream",
          "name": "stdout",
          "text": [
            "Crawl data with product_id 87045685\n"
          ]
        },
        {
          "output_type": "stream",
          "name": "stderr",
          "text": [
            "\r 33%|███▎      | 653/2000 [41:40<1:27:28,  3.90s/it]"
          ]
        },
        {
          "output_type": "stream",
          "name": "stdout",
          "text": [
            "Crawl data with product_id 19388500\n"
          ]
        },
        {
          "output_type": "stream",
          "name": "stderr",
          "text": [
            "\r 33%|███▎      | 654/2000 [41:44<1:30:30,  4.03s/it]"
          ]
        },
        {
          "output_type": "stream",
          "name": "stdout",
          "text": [
            "Crawl data with product_id 58708223\n"
          ]
        },
        {
          "output_type": "stream",
          "name": "stderr",
          "text": [
            "\r 33%|███▎      | 655/2000 [41:48<1:32:22,  4.12s/it]"
          ]
        },
        {
          "output_type": "stream",
          "name": "stdout",
          "text": [
            "Crawl data with product_id 144379736\n"
          ]
        },
        {
          "output_type": "stream",
          "name": "stderr",
          "text": [
            "\r 33%|███▎      | 656/2000 [41:53<1:33:35,  4.18s/it]"
          ]
        },
        {
          "output_type": "stream",
          "name": "stdout",
          "text": [
            "Crawl data with product_id 1610017\n"
          ]
        },
        {
          "output_type": "stream",
          "name": "stderr",
          "text": [
            "\r 33%|███▎      | 657/2000 [41:56<1:27:50,  3.92s/it]"
          ]
        },
        {
          "output_type": "stream",
          "name": "stdout",
          "text": [
            "Crawl data with product_id 8123119\n"
          ]
        },
        {
          "output_type": "stream",
          "name": "stderr",
          "text": [
            "\r 33%|███▎      | 658/2000 [41:59<1:23:50,  3.75s/it]"
          ]
        },
        {
          "output_type": "stream",
          "name": "stdout",
          "text": [
            "Crawl data with product_id 248760025\n"
          ]
        },
        {
          "output_type": "stream",
          "name": "stderr",
          "text": [
            "\r 33%|███▎      | 659/2000 [42:03<1:21:09,  3.63s/it]"
          ]
        },
        {
          "output_type": "stream",
          "name": "stdout",
          "text": [
            "Crawl data with product_id 23578136\n"
          ]
        },
        {
          "output_type": "stream",
          "name": "stderr",
          "text": [
            "\r 33%|███▎      | 660/2000 [42:07<1:25:53,  3.85s/it]"
          ]
        },
        {
          "output_type": "stream",
          "name": "stdout",
          "text": [
            "Crawl data with product_id 105613441\n"
          ]
        },
        {
          "output_type": "stream",
          "name": "stderr",
          "text": [
            "\r 33%|███▎      | 661/2000 [42:11<1:28:58,  3.99s/it]"
          ]
        },
        {
          "output_type": "stream",
          "name": "stdout",
          "text": [
            "Crawl data with product_id 189940329\n"
          ]
        },
        {
          "output_type": "stream",
          "name": "stderr",
          "text": [
            "\r 33%|███▎      | 662/2000 [42:16<1:31:18,  4.09s/it]"
          ]
        },
        {
          "output_type": "stream",
          "name": "stdout",
          "text": [
            "Crawl data with product_id 196523321\n"
          ]
        },
        {
          "output_type": "stream",
          "name": "stderr",
          "text": [
            "\r 33%|███▎      | 663/2000 [42:19<1:25:55,  3.86s/it]"
          ]
        },
        {
          "output_type": "stream",
          "name": "stdout",
          "text": [
            "Crawl data with product_id 216773646\n"
          ]
        },
        {
          "output_type": "stream",
          "name": "stderr",
          "text": [
            "\r 33%|███▎      | 664/2000 [42:23<1:29:02,  4.00s/it]"
          ]
        },
        {
          "output_type": "stream",
          "name": "stdout",
          "text": [
            "Crawl data with product_id 146735970\n"
          ]
        },
        {
          "output_type": "stream",
          "name": "stderr",
          "text": [
            "\r 33%|███▎      | 665/2000 [42:28<1:31:07,  4.10s/it]"
          ]
        },
        {
          "output_type": "stream",
          "name": "stdout",
          "text": [
            "Crawl data with product_id 208778529\n"
          ]
        },
        {
          "output_type": "stream",
          "name": "stderr",
          "text": [
            "\r 33%|███▎      | 666/2000 [42:31<1:26:04,  3.87s/it]"
          ]
        },
        {
          "output_type": "stream",
          "name": "stdout",
          "text": [
            "Crawl data with product_id 178523401\n"
          ]
        },
        {
          "output_type": "stream",
          "name": "stderr",
          "text": [
            "\r 33%|███▎      | 667/2000 [42:35<1:29:10,  4.01s/it]"
          ]
        },
        {
          "output_type": "stream",
          "name": "stdout",
          "text": [
            "Crawl data with product_id 144380348\n"
          ]
        },
        {
          "output_type": "stream",
          "name": "stderr",
          "text": [
            "\r 33%|███▎      | 668/2000 [42:39<1:24:31,  3.81s/it]"
          ]
        },
        {
          "output_type": "stream",
          "name": "stdout",
          "text": [
            "Crawl data with product_id 242426795\n"
          ]
        },
        {
          "output_type": "stream",
          "name": "stderr",
          "text": [
            "\r 33%|███▎      | 669/2000 [42:42<1:21:24,  3.67s/it]"
          ]
        },
        {
          "output_type": "stream",
          "name": "stdout",
          "text": [
            "Crawl data with product_id 4273275\n"
          ]
        },
        {
          "output_type": "stream",
          "name": "stderr",
          "text": [
            "\r 34%|███▎      | 670/2000 [42:46<1:25:39,  3.86s/it]"
          ]
        },
        {
          "output_type": "stream",
          "name": "stdout",
          "text": [
            "Crawl data with product_id 51251645\n"
          ]
        },
        {
          "output_type": "stream",
          "name": "stderr",
          "text": [
            "\r 34%|███▎      | 671/2000 [42:51<1:28:47,  4.01s/it]"
          ]
        },
        {
          "output_type": "stream",
          "name": "stdout",
          "text": [
            "Crawl data with product_id 253297668\n"
          ]
        },
        {
          "output_type": "stream",
          "name": "stderr",
          "text": [
            "\r 34%|███▎      | 672/2000 [42:54<1:24:13,  3.81s/it]"
          ]
        },
        {
          "output_type": "stream",
          "name": "stdout",
          "text": [
            "Crawl data with product_id 252118631\n"
          ]
        },
        {
          "output_type": "stream",
          "name": "stderr",
          "text": [
            "\r 34%|███▎      | 673/2000 [42:58<1:27:41,  3.97s/it]"
          ]
        },
        {
          "output_type": "stream",
          "name": "stdout",
          "text": [
            "Crawl data with product_id 58669302\n"
          ]
        },
        {
          "output_type": "stream",
          "name": "stderr",
          "text": [
            "\r 34%|███▎      | 674/2000 [43:03<1:30:06,  4.08s/it]"
          ]
        },
        {
          "output_type": "stream",
          "name": "stdout",
          "text": [
            "Crawl data with product_id 72851536\n"
          ]
        },
        {
          "output_type": "stream",
          "name": "stderr",
          "text": [
            "\r 34%|███▍      | 675/2000 [43:06<1:25:03,  3.85s/it]"
          ]
        },
        {
          "output_type": "stream",
          "name": "stdout",
          "text": [
            "Crawl data with product_id 90328964\n"
          ]
        },
        {
          "output_type": "stream",
          "name": "stderr",
          "text": [
            "\r 34%|███▍      | 676/2000 [43:09<1:21:24,  3.69s/it]"
          ]
        },
        {
          "output_type": "stream",
          "name": "stdout",
          "text": [
            "Crawl data with product_id 22631280\n"
          ]
        },
        {
          "output_type": "stream",
          "name": "stderr",
          "text": [
            "\r 34%|███▍      | 677/2000 [43:14<1:25:25,  3.87s/it]"
          ]
        },
        {
          "output_type": "stream",
          "name": "stdout",
          "text": [
            "Crawl data with product_id 163169927\n"
          ]
        },
        {
          "output_type": "stream",
          "name": "stderr",
          "text": [
            "\r 34%|███▍      | 678/2000 [43:18<1:28:36,  4.02s/it]"
          ]
        },
        {
          "output_type": "stream",
          "name": "stdout",
          "text": [
            "Crawl data with product_id 134594877\n"
          ]
        },
        {
          "output_type": "stream",
          "name": "stderr",
          "text": [
            "\r 34%|███▍      | 679/2000 [43:22<1:30:44,  4.12s/it]"
          ]
        },
        {
          "output_type": "stream",
          "name": "stdout",
          "text": [
            "Crawl data with product_id 193988316\n"
          ]
        },
        {
          "output_type": "stream",
          "name": "stderr",
          "text": [
            "\r 34%|███▍      | 680/2000 [43:27<1:32:02,  4.18s/it]"
          ]
        },
        {
          "output_type": "stream",
          "name": "stdout",
          "text": [
            "Crawl data with product_id 194397506\n"
          ]
        },
        {
          "output_type": "stream",
          "name": "stderr",
          "text": [
            "\r 34%|███▍      | 681/2000 [43:31<1:34:16,  4.29s/it]"
          ]
        },
        {
          "output_type": "stream",
          "name": "stdout",
          "text": [
            "Crawl data with product_id 48873349\n"
          ]
        },
        {
          "output_type": "stream",
          "name": "stderr",
          "text": [
            "\r 34%|███▍      | 682/2000 [43:35<1:27:51,  4.00s/it]"
          ]
        },
        {
          "output_type": "stream",
          "name": "stdout",
          "text": [
            "Crawl data with product_id 73190736\n"
          ]
        },
        {
          "output_type": "stream",
          "name": "stderr",
          "text": [
            "\r 34%|███▍      | 683/2000 [43:39<1:30:20,  4.12s/it]"
          ]
        },
        {
          "output_type": "stream",
          "name": "stdout",
          "text": [
            "Crawl data with product_id 214761300\n"
          ]
        },
        {
          "output_type": "stream",
          "name": "stderr",
          "text": [
            "\r 34%|███▍      | 684/2000 [43:42<1:25:09,  3.88s/it]"
          ]
        },
        {
          "output_type": "stream",
          "name": "stdout",
          "text": [
            "Crawl data with product_id 183481526\n"
          ]
        },
        {
          "output_type": "stream",
          "name": "stderr",
          "text": [
            "\r 34%|███▍      | 685/2000 [43:46<1:21:28,  3.72s/it]"
          ]
        },
        {
          "output_type": "stream",
          "name": "stdout",
          "text": [
            "Crawl data with product_id 53301004\n"
          ]
        },
        {
          "output_type": "stream",
          "name": "stderr",
          "text": [
            "\r 34%|███▍      | 686/2000 [43:50<1:25:19,  3.90s/it]"
          ]
        },
        {
          "output_type": "stream",
          "name": "stdout",
          "text": [
            "Crawl data with product_id 217192435\n"
          ]
        },
        {
          "output_type": "stream",
          "name": "stderr",
          "text": [
            "\r 34%|███▍      | 687/2000 [43:54<1:28:24,  4.04s/it]"
          ]
        },
        {
          "output_type": "stream",
          "name": "stdout",
          "text": [
            "Crawl data with product_id 249766007\n"
          ]
        },
        {
          "output_type": "stream",
          "name": "stderr",
          "text": [
            "\r 34%|███▍      | 688/2000 [43:59<1:30:06,  4.12s/it]"
          ]
        },
        {
          "output_type": "stream",
          "name": "stdout",
          "text": [
            "Crawl data with product_id 75813207\n"
          ]
        },
        {
          "output_type": "stream",
          "name": "stderr",
          "text": [
            "\r 34%|███▍      | 689/2000 [44:02<1:24:50,  3.88s/it]"
          ]
        },
        {
          "output_type": "stream",
          "name": "stdout",
          "text": [
            "Crawl data with product_id 219133422\n"
          ]
        },
        {
          "output_type": "stream",
          "name": "stderr",
          "text": [
            "\r 34%|███▍      | 690/2000 [44:06<1:27:45,  4.02s/it]"
          ]
        },
        {
          "output_type": "stream",
          "name": "stdout",
          "text": [
            "Crawl data with product_id 171549980\n"
          ]
        },
        {
          "output_type": "stream",
          "name": "stderr",
          "text": [
            "\r 35%|███▍      | 691/2000 [44:10<1:23:08,  3.81s/it]"
          ]
        },
        {
          "output_type": "stream",
          "name": "stdout",
          "text": [
            "Crawl data with product_id 14082575\n"
          ]
        },
        {
          "output_type": "stream",
          "name": "stderr",
          "text": [
            "\r 35%|███▍      | 692/2000 [44:13<1:19:51,  3.66s/it]"
          ]
        },
        {
          "output_type": "stream",
          "name": "stdout",
          "text": [
            "Crawl data with product_id 208687149\n"
          ]
        },
        {
          "output_type": "stream",
          "name": "stderr",
          "text": [
            "\r 35%|███▍      | 693/2000 [44:16<1:17:44,  3.57s/it]"
          ]
        },
        {
          "output_type": "stream",
          "name": "stdout",
          "text": [
            "Crawl data with product_id 53806022\n"
          ]
        },
        {
          "output_type": "stream",
          "name": "stderr",
          "text": [
            "\r 35%|███▍      | 694/2000 [44:20<1:15:59,  3.49s/it]"
          ]
        },
        {
          "output_type": "stream",
          "name": "stdout",
          "text": [
            "Crawl data with product_id 125729483\n"
          ]
        },
        {
          "output_type": "stream",
          "name": "stderr",
          "text": [
            "\r 35%|███▍      | 695/2000 [44:23<1:16:05,  3.50s/it]"
          ]
        },
        {
          "output_type": "stream",
          "name": "stdout",
          "text": [
            "Crawl data with product_id 787046\n"
          ]
        },
        {
          "output_type": "stream",
          "name": "stderr",
          "text": [
            "\r 35%|███▍      | 696/2000 [44:26<1:14:53,  3.45s/it]"
          ]
        },
        {
          "output_type": "stream",
          "name": "stdout",
          "text": [
            "Crawl data with product_id 185006277\n"
          ]
        },
        {
          "output_type": "stream",
          "name": "stderr",
          "text": [
            "\r 35%|███▍      | 697/2000 [44:30<1:14:05,  3.41s/it]"
          ]
        },
        {
          "output_type": "stream",
          "name": "stdout",
          "text": [
            "Crawl data with product_id 572985\n"
          ]
        },
        {
          "output_type": "stream",
          "name": "stderr",
          "text": [
            "\r 35%|███▍      | 698/2000 [44:33<1:13:28,  3.39s/it]"
          ]
        },
        {
          "output_type": "stream",
          "name": "stdout",
          "text": [
            "Crawl data with product_id 128635778\n"
          ]
        },
        {
          "output_type": "stream",
          "name": "stderr",
          "text": [
            "\r 35%|███▍      | 699/2000 [44:37<1:19:34,  3.67s/it]"
          ]
        },
        {
          "output_type": "stream",
          "name": "stdout",
          "text": [
            "Crawl data with product_id 96366368\n"
          ]
        },
        {
          "output_type": "stream",
          "name": "stderr",
          "text": [
            "\r 35%|███▌      | 700/2000 [44:41<1:17:12,  3.56s/it]"
          ]
        },
        {
          "output_type": "stream",
          "name": "stdout",
          "text": [
            "Crawl data with product_id 195961274\n"
          ]
        },
        {
          "output_type": "stream",
          "name": "stderr",
          "text": [
            "\r 35%|███▌      | 701/2000 [44:44<1:15:26,  3.48s/it]"
          ]
        },
        {
          "output_type": "stream",
          "name": "stdout",
          "text": [
            "Crawl data with product_id 94598138\n"
          ]
        },
        {
          "output_type": "stream",
          "name": "stderr",
          "text": [
            "\r 35%|███▌      | 702/2000 [44:48<1:20:59,  3.74s/it]"
          ]
        },
        {
          "output_type": "stream",
          "name": "stdout",
          "text": [
            "Crawl data with product_id 185449965\n"
          ]
        },
        {
          "output_type": "stream",
          "name": "stderr",
          "text": [
            "\r 35%|███▌      | 703/2000 [44:53<1:24:42,  3.92s/it]"
          ]
        },
        {
          "output_type": "stream",
          "name": "stdout",
          "text": [
            "Crawl data with product_id 41294599\n"
          ]
        },
        {
          "output_type": "stream",
          "name": "stderr",
          "text": [
            "\r 35%|███▌      | 704/2000 [44:57<1:27:19,  4.04s/it]"
          ]
        },
        {
          "output_type": "stream",
          "name": "stdout",
          "text": [
            "Crawl data with product_id 207494283\n"
          ]
        },
        {
          "output_type": "stream",
          "name": "stderr",
          "text": [
            "\r 35%|███▌      | 705/2000 [45:00<1:22:38,  3.83s/it]"
          ]
        },
        {
          "output_type": "stream",
          "name": "stdout",
          "text": [
            "Crawl data with product_id 216096891\n"
          ]
        },
        {
          "output_type": "stream",
          "name": "stderr",
          "text": [
            "\r 35%|███▌      | 706/2000 [45:05<1:25:36,  3.97s/it]"
          ]
        },
        {
          "output_type": "stream",
          "name": "stdout",
          "text": [
            "Crawl data with product_id 99681445\n"
          ]
        },
        {
          "output_type": "stream",
          "name": "stderr",
          "text": [
            "\r 35%|███▌      | 707/2000 [45:08<1:21:27,  3.78s/it]"
          ]
        },
        {
          "output_type": "stream",
          "name": "stdout",
          "text": [
            "Crawl data with product_id 216096893\n"
          ]
        },
        {
          "output_type": "stream",
          "name": "stderr",
          "text": [
            "\r 35%|███▌      | 708/2000 [45:12<1:24:57,  3.95s/it]"
          ]
        },
        {
          "output_type": "stream",
          "name": "stdout",
          "text": [
            "Crawl data with product_id 255611962\n"
          ]
        },
        {
          "output_type": "stream",
          "name": "stderr",
          "text": [
            "\r 35%|███▌      | 709/2000 [45:17<1:27:13,  4.05s/it]"
          ]
        },
        {
          "output_type": "stream",
          "name": "stdout",
          "text": [
            "Crawl data with product_id 198643647\n"
          ]
        },
        {
          "output_type": "stream",
          "name": "stderr",
          "text": [
            "\r 36%|███▌      | 710/2000 [45:20<1:22:40,  3.85s/it]"
          ]
        },
        {
          "output_type": "stream",
          "name": "stdout",
          "text": [
            "Crawl data with product_id 198643651\n"
          ]
        },
        {
          "output_type": "stream",
          "name": "stderr",
          "text": [
            "\r 36%|███▌      | 711/2000 [45:23<1:19:09,  3.68s/it]"
          ]
        },
        {
          "output_type": "stream",
          "name": "stdout",
          "text": [
            "Crawl data with product_id 253307175\n"
          ]
        },
        {
          "output_type": "stream",
          "name": "stderr",
          "text": [
            "\r 36%|███▌      | 712/2000 [45:27<1:16:50,  3.58s/it]"
          ]
        },
        {
          "output_type": "stream",
          "name": "stdout",
          "text": [
            "Crawl data with product_id 205136694\n"
          ]
        },
        {
          "output_type": "stream",
          "name": "stderr",
          "text": [
            "\r 36%|███▌      | 713/2000 [45:31<1:21:27,  3.80s/it]"
          ]
        },
        {
          "output_type": "stream",
          "name": "stdout",
          "text": [
            "Crawl data with product_id 601940\n"
          ]
        },
        {
          "output_type": "stream",
          "name": "stderr",
          "text": [
            "\r 36%|███▌      | 714/2000 [45:34<1:18:15,  3.65s/it]"
          ]
        },
        {
          "output_type": "stream",
          "name": "stdout",
          "text": [
            "Crawl data with product_id 193116253\n"
          ]
        },
        {
          "output_type": "stream",
          "name": "stderr",
          "text": [
            "\r 36%|███▌      | 715/2000 [45:38<1:16:05,  3.55s/it]"
          ]
        },
        {
          "output_type": "stream",
          "name": "stdout",
          "text": [
            "Crawl data with product_id 73175842\n"
          ]
        },
        {
          "output_type": "stream",
          "name": "stderr",
          "text": [
            "\r 36%|███▌      | 716/2000 [45:41<1:14:45,  3.49s/it]"
          ]
        },
        {
          "output_type": "stream",
          "name": "stdout",
          "text": [
            "Crawl data with product_id 158741314\n"
          ]
        },
        {
          "output_type": "stream",
          "name": "stderr",
          "text": [
            "\r 36%|███▌      | 717/2000 [45:44<1:13:34,  3.44s/it]"
          ]
        },
        {
          "output_type": "stream",
          "name": "stdout",
          "text": [
            "Crawl data with product_id 76117864\n"
          ]
        },
        {
          "output_type": "stream",
          "name": "stderr",
          "text": [
            "\r 36%|███▌      | 718/2000 [45:48<1:12:50,  3.41s/it]"
          ]
        },
        {
          "output_type": "stream",
          "name": "stdout",
          "text": [
            "Crawl data with product_id 55284286\n"
          ]
        },
        {
          "output_type": "stream",
          "name": "stderr",
          "text": [
            "\r 36%|███▌      | 719/2000 [45:52<1:18:34,  3.68s/it]"
          ]
        },
        {
          "output_type": "stream",
          "name": "stdout",
          "text": [
            "Crawl data with product_id 207762488\n"
          ]
        },
        {
          "output_type": "stream",
          "name": "stderr",
          "text": [
            "\r 36%|███▌      | 720/2000 [45:55<1:16:16,  3.58s/it]"
          ]
        },
        {
          "output_type": "stream",
          "name": "stdout",
          "text": [
            "Crawl data with product_id 143638238\n"
          ]
        },
        {
          "output_type": "stream",
          "name": "stderr",
          "text": [
            "\r 36%|███▌      | 721/2000 [46:00<1:21:04,  3.80s/it]"
          ]
        },
        {
          "output_type": "stream",
          "name": "stdout",
          "text": [
            "Crawl data with product_id 190630577\n"
          ]
        },
        {
          "output_type": "stream",
          "name": "stderr",
          "text": [
            "\r 36%|███▌      | 722/2000 [46:05<1:29:47,  4.22s/it]"
          ]
        },
        {
          "output_type": "stream",
          "name": "stdout",
          "text": [
            "Crawl data with product_id 180320299\n"
          ]
        },
        {
          "output_type": "stream",
          "name": "stderr",
          "text": [
            "\r 36%|███▌      | 723/2000 [46:09<1:30:30,  4.25s/it]"
          ]
        },
        {
          "output_type": "stream",
          "name": "stdout",
          "text": [
            "Crawl data with product_id 44183713\n"
          ]
        },
        {
          "output_type": "stream",
          "name": "stderr",
          "text": [
            "\r 36%|███▌      | 724/2000 [46:12<1:24:31,  3.97s/it]"
          ]
        },
        {
          "output_type": "stream",
          "name": "stdout",
          "text": [
            "Crawl data with product_id 169606471\n"
          ]
        },
        {
          "output_type": "stream",
          "name": "stderr",
          "text": [
            "\r 36%|███▋      | 725/2000 [46:17<1:26:48,  4.09s/it]"
          ]
        },
        {
          "output_type": "stream",
          "name": "stdout",
          "text": [
            "Crawl data with product_id 197685605\n"
          ]
        },
        {
          "output_type": "stream",
          "name": "stderr",
          "text": [
            "\r 36%|███▋      | 726/2000 [46:20<1:21:48,  3.85s/it]"
          ]
        },
        {
          "output_type": "stream",
          "name": "stdout",
          "text": [
            "Crawl data with product_id 197637579\n"
          ]
        },
        {
          "output_type": "stream",
          "name": "stderr",
          "text": [
            "\r 36%|███▋      | 727/2000 [46:24<1:24:38,  3.99s/it]"
          ]
        },
        {
          "output_type": "stream",
          "name": "stdout",
          "text": [
            "Crawl data with product_id 90407467\n"
          ]
        },
        {
          "output_type": "stream",
          "name": "stderr",
          "text": [
            "\r 36%|███▋      | 728/2000 [46:29<1:27:09,  4.11s/it]"
          ]
        },
        {
          "output_type": "stream",
          "name": "stdout",
          "text": [
            "Crawl data with product_id 226873997\n"
          ]
        },
        {
          "output_type": "stream",
          "name": "stderr",
          "text": [
            "\r 36%|███▋      | 729/2000 [46:32<1:21:58,  3.87s/it]"
          ]
        },
        {
          "output_type": "stream",
          "name": "stdout",
          "text": [
            "Crawl data with product_id 155224593\n"
          ]
        },
        {
          "output_type": "stream",
          "name": "stderr",
          "text": [
            "\r 36%|███▋      | 730/2000 [46:36<1:24:51,  4.01s/it]"
          ]
        },
        {
          "output_type": "stream",
          "name": "stdout",
          "text": [
            "Crawl data with product_id 35954726\n"
          ]
        },
        {
          "output_type": "stream",
          "name": "stderr",
          "text": [
            "\r 37%|███▋      | 731/2000 [46:40<1:20:34,  3.81s/it]"
          ]
        },
        {
          "output_type": "stream",
          "name": "stdout",
          "text": [
            "Crawl data with product_id 53059898\n"
          ]
        },
        {
          "output_type": "stream",
          "name": "stderr",
          "text": [
            "\r 37%|███▋      | 732/2000 [46:43<1:17:29,  3.67s/it]"
          ]
        },
        {
          "output_type": "stream",
          "name": "stdout",
          "text": [
            "Crawl data with product_id 188554190\n"
          ]
        },
        {
          "output_type": "stream",
          "name": "stderr",
          "text": [
            "\r 37%|███▋      | 733/2000 [46:47<1:21:33,  3.86s/it]"
          ]
        },
        {
          "output_type": "stream",
          "name": "stdout",
          "text": [
            "Crawl data with product_id 7230367\n"
          ]
        },
        {
          "output_type": "stream",
          "name": "stderr",
          "text": [
            "\r 37%|███▋      | 734/2000 [46:52<1:24:31,  4.01s/it]"
          ]
        },
        {
          "output_type": "stream",
          "name": "stdout",
          "text": [
            "Crawl data with product_id 208069540\n"
          ]
        },
        {
          "output_type": "stream",
          "name": "stderr",
          "text": [
            "\r 37%|███▋      | 735/2000 [46:56<1:26:46,  4.12s/it]"
          ]
        },
        {
          "output_type": "stream",
          "name": "stdout",
          "text": [
            "Crawl data with product_id 167207536\n"
          ]
        },
        {
          "output_type": "stream",
          "name": "stderr",
          "text": [
            "\r 37%|███▋      | 736/2000 [46:59<1:21:58,  3.89s/it]"
          ]
        },
        {
          "output_type": "stream",
          "name": "stdout",
          "text": [
            "Crawl data with product_id 248293645\n"
          ]
        },
        {
          "output_type": "stream",
          "name": "stderr",
          "text": [
            "\r 37%|███▋      | 737/2000 [47:04<1:24:46,  4.03s/it]"
          ]
        },
        {
          "output_type": "stream",
          "name": "stdout",
          "text": [
            "Crawl data with product_id 69442959\n"
          ]
        },
        {
          "output_type": "stream",
          "name": "stderr",
          "text": [
            "\r 37%|███▋      | 738/2000 [47:07<1:21:22,  3.87s/it]"
          ]
        },
        {
          "output_type": "stream",
          "name": "stdout",
          "text": [
            "Crawl data with product_id 214637853\n"
          ]
        },
        {
          "output_type": "stream",
          "name": "stderr",
          "text": [
            "\r 37%|███▋      | 739/2000 [47:12<1:24:13,  4.01s/it]"
          ]
        },
        {
          "output_type": "stream",
          "name": "stdout",
          "text": [
            "Crawl data with product_id 209310721\n"
          ]
        },
        {
          "output_type": "stream",
          "name": "stderr",
          "text": [
            "\r 37%|███▋      | 740/2000 [47:16<1:26:08,  4.10s/it]"
          ]
        },
        {
          "output_type": "stream",
          "name": "stdout",
          "text": [
            "Crawl data with product_id 100298991\n"
          ]
        },
        {
          "output_type": "stream",
          "name": "stderr",
          "text": [
            "\r 37%|███▋      | 741/2000 [47:19<1:21:06,  3.87s/it]"
          ]
        },
        {
          "output_type": "stream",
          "name": "stdout",
          "text": [
            "Crawl data with product_id 94347317\n"
          ]
        },
        {
          "output_type": "stream",
          "name": "stderr",
          "text": [
            "\r 37%|███▋      | 742/2000 [47:24<1:23:52,  4.00s/it]"
          ]
        },
        {
          "output_type": "stream",
          "name": "stdout",
          "text": [
            "Crawl data with product_id 199106318\n"
          ]
        },
        {
          "output_type": "stream",
          "name": "stderr",
          "text": [
            "\r 37%|███▋      | 743/2000 [47:28<1:25:44,  4.09s/it]"
          ]
        },
        {
          "output_type": "stream",
          "name": "stdout",
          "text": [
            "Crawl data with product_id 251384662\n"
          ]
        },
        {
          "output_type": "stream",
          "name": "stderr",
          "text": [
            "\r 37%|███▋      | 744/2000 [47:31<1:20:58,  3.87s/it]"
          ]
        },
        {
          "output_type": "stream",
          "name": "stdout",
          "text": [
            "Crawl data with product_id 217186335\n"
          ]
        },
        {
          "output_type": "stream",
          "name": "stderr",
          "text": [
            "\r 37%|███▋      | 745/2000 [47:35<1:17:28,  3.70s/it]"
          ]
        },
        {
          "output_type": "stream",
          "name": "stdout",
          "text": [
            "Crawl data with product_id 58708351\n"
          ]
        },
        {
          "output_type": "stream",
          "name": "stderr",
          "text": [
            "\r 37%|███▋      | 746/2000 [47:38<1:14:58,  3.59s/it]"
          ]
        },
        {
          "output_type": "stream",
          "name": "stdout",
          "text": [
            "Crawl data with product_id 252768466\n"
          ]
        },
        {
          "output_type": "stream",
          "name": "stderr",
          "text": [
            "\r 37%|███▋      | 747/2000 [47:42<1:19:43,  3.82s/it]"
          ]
        },
        {
          "output_type": "stream",
          "name": "stdout",
          "text": [
            "Crawl data with product_id 146272709\n"
          ]
        },
        {
          "output_type": "stream",
          "name": "stderr",
          "text": [
            "\r 37%|███▋      | 748/2000 [47:46<1:16:28,  3.66s/it]"
          ]
        },
        {
          "output_type": "stream",
          "name": "stdout",
          "text": [
            "Crawl data with product_id 68437864\n"
          ]
        },
        {
          "output_type": "stream",
          "name": "stderr",
          "text": [
            "\r 37%|███▋      | 749/2000 [47:49<1:14:16,  3.56s/it]"
          ]
        },
        {
          "output_type": "stream",
          "name": "stdout",
          "text": [
            "Crawl data with product_id 251384572\n"
          ]
        },
        {
          "output_type": "stream",
          "name": "stderr",
          "text": [
            "\r 38%|███▊      | 750/2000 [47:53<1:19:03,  3.80s/it]"
          ]
        },
        {
          "output_type": "stream",
          "name": "stdout",
          "text": [
            "Crawl data with product_id 205984005\n"
          ]
        },
        {
          "output_type": "stream",
          "name": "stderr",
          "text": [
            "\r 38%|███▊      | 751/2000 [47:57<1:16:03,  3.65s/it]"
          ]
        },
        {
          "output_type": "stream",
          "name": "stdout",
          "text": [
            "Crawl data with product_id 194183479\n"
          ]
        },
        {
          "output_type": "stream",
          "name": "stderr",
          "text": [
            "\r 38%|███▊      | 752/2000 [48:01<1:20:02,  3.85s/it]"
          ]
        },
        {
          "output_type": "stream",
          "name": "stdout",
          "text": [
            "Crawl data with product_id 192948942\n"
          ]
        },
        {
          "output_type": "stream",
          "name": "stderr",
          "text": [
            "\r 38%|███▊      | 753/2000 [48:05<1:22:57,  3.99s/it]"
          ]
        },
        {
          "output_type": "stream",
          "name": "stdout",
          "text": [
            "Crawl data with product_id 163577790\n"
          ]
        },
        {
          "output_type": "stream",
          "name": "stderr",
          "text": [
            "\r 38%|███▊      | 754/2000 [48:08<1:18:47,  3.79s/it]"
          ]
        },
        {
          "output_type": "stream",
          "name": "stdout",
          "text": [
            "Crawl data with product_id 195954721\n"
          ]
        },
        {
          "output_type": "stream",
          "name": "stderr",
          "text": [
            "\r 38%|███▊      | 755/2000 [48:13<1:21:56,  3.95s/it]"
          ]
        },
        {
          "output_type": "stream",
          "name": "stdout",
          "text": [
            "Crawl data with product_id 216204609\n"
          ]
        },
        {
          "output_type": "stream",
          "name": "stderr",
          "text": [
            "\r 38%|███▊      | 756/2000 [48:16<1:18:07,  3.77s/it]"
          ]
        },
        {
          "output_type": "stream",
          "name": "stdout",
          "text": [
            "Crawl data with product_id 423551\n"
          ]
        },
        {
          "output_type": "stream",
          "name": "stderr",
          "text": [
            "\r 38%|███▊      | 757/2000 [48:20<1:19:27,  3.84s/it]"
          ]
        },
        {
          "output_type": "stream",
          "name": "stdout",
          "text": [
            "Crawl data with product_id 72744013\n"
          ]
        },
        {
          "output_type": "stream",
          "name": "stderr",
          "text": [
            "\r 38%|███▊      | 758/2000 [48:24<1:22:28,  3.98s/it]"
          ]
        },
        {
          "output_type": "stream",
          "name": "stdout",
          "text": [
            "Crawl data with product_id 229732027\n"
          ]
        },
        {
          "output_type": "stream",
          "name": "stderr",
          "text": [
            "\r 38%|███▊      | 759/2000 [48:28<1:18:43,  3.81s/it]"
          ]
        },
        {
          "output_type": "stream",
          "name": "stdout",
          "text": [
            "Crawl data with product_id 192726226\n"
          ]
        },
        {
          "output_type": "stream",
          "name": "stderr",
          "text": [
            "\r 38%|███▊      | 760/2000 [48:32<1:21:51,  3.96s/it]"
          ]
        },
        {
          "output_type": "stream",
          "name": "stdout",
          "text": [
            "Crawl data with product_id 193107144\n"
          ]
        },
        {
          "output_type": "stream",
          "name": "stderr",
          "text": [
            "\r 38%|███▊      | 761/2000 [48:36<1:17:56,  3.77s/it]"
          ]
        },
        {
          "output_type": "stream",
          "name": "stdout",
          "text": [
            "Crawl data with product_id 215876179\n"
          ]
        },
        {
          "output_type": "stream",
          "name": "stderr",
          "text": [
            "\r 38%|███▊      | 762/2000 [48:40<1:21:21,  3.94s/it]"
          ]
        },
        {
          "output_type": "stream",
          "name": "stdout",
          "text": [
            "Crawl data with product_id 58709672\n"
          ]
        },
        {
          "output_type": "stream",
          "name": "stderr",
          "text": [
            "\r 38%|███▊      | 763/2000 [48:44<1:23:50,  4.07s/it]"
          ]
        },
        {
          "output_type": "stream",
          "name": "stdout",
          "text": [
            "Crawl data with product_id 143939277\n"
          ]
        },
        {
          "output_type": "stream",
          "name": "stderr",
          "text": [
            "\r 38%|███▊      | 764/2000 [48:49<1:25:38,  4.16s/it]"
          ]
        },
        {
          "output_type": "stream",
          "name": "stdout",
          "text": [
            "Crawl data with product_id 195441372\n"
          ]
        },
        {
          "output_type": "stream",
          "name": "stderr",
          "text": [
            "\r 38%|███▊      | 765/2000 [48:52<1:20:20,  3.90s/it]"
          ]
        },
        {
          "output_type": "stream",
          "name": "stdout",
          "text": [
            "Crawl data with product_id 59132139\n"
          ]
        },
        {
          "output_type": "stream",
          "name": "stderr",
          "text": [
            "\r 38%|███▊      | 766/2000 [48:55<1:16:48,  3.73s/it]"
          ]
        },
        {
          "output_type": "stream",
          "name": "stdout",
          "text": [
            "Crawl data with product_id 204610437\n"
          ]
        },
        {
          "output_type": "stream",
          "name": "stderr",
          "text": [
            "\r 38%|███▊      | 767/2000 [48:59<1:14:17,  3.61s/it]"
          ]
        },
        {
          "output_type": "stream",
          "name": "stdout",
          "text": [
            "Crawl data with product_id 89402953\n"
          ]
        },
        {
          "output_type": "stream",
          "name": "stderr",
          "text": [
            "\r 38%|███▊      | 768/2000 [49:03<1:18:36,  3.83s/it]"
          ]
        },
        {
          "output_type": "stream",
          "name": "stdout",
          "text": [
            "Crawl data with product_id 55422286\n"
          ]
        },
        {
          "output_type": "stream",
          "name": "stderr",
          "text": [
            "\r 38%|███▊      | 769/2000 [49:07<1:21:34,  3.98s/it]"
          ]
        },
        {
          "output_type": "stream",
          "name": "stdout",
          "text": [
            "Crawl data with product_id 203499308\n"
          ]
        },
        {
          "output_type": "stream",
          "name": "stderr",
          "text": [
            "\r 38%|███▊      | 770/2000 [49:12<1:23:37,  4.08s/it]"
          ]
        },
        {
          "output_type": "stream",
          "name": "stdout",
          "text": [
            "Crawl data with product_id 186634401\n"
          ]
        },
        {
          "output_type": "stream",
          "name": "stderr",
          "text": [
            "\r 39%|███▊      | 771/2000 [49:16<1:25:05,  4.15s/it]"
          ]
        },
        {
          "output_type": "stream",
          "name": "stdout",
          "text": [
            "Crawl data with product_id 203228487\n"
          ]
        },
        {
          "output_type": "stream",
          "name": "stderr",
          "text": [
            "\r 39%|███▊      | 772/2000 [49:20<1:26:00,  4.20s/it]"
          ]
        },
        {
          "output_type": "stream",
          "name": "stdout",
          "text": [
            "Crawl data with product_id 777304\n"
          ]
        },
        {
          "output_type": "stream",
          "name": "stderr",
          "text": [
            "\r 39%|███▊      | 773/2000 [49:24<1:26:39,  4.24s/it]"
          ]
        },
        {
          "output_type": "stream",
          "name": "stdout",
          "text": [
            "Crawl data with product_id 248661064\n"
          ]
        },
        {
          "output_type": "stream",
          "name": "stderr",
          "text": [
            "\r 39%|███▊      | 774/2000 [49:29<1:27:17,  4.27s/it]"
          ]
        },
        {
          "output_type": "stream",
          "name": "stdout",
          "text": [
            "Crawl data with product_id 16691749\n"
          ]
        },
        {
          "output_type": "stream",
          "name": "stderr",
          "text": [
            "\r 39%|███▉      | 775/2000 [49:33<1:27:36,  4.29s/it]"
          ]
        },
        {
          "output_type": "stream",
          "name": "stdout",
          "text": [
            "Crawl data with product_id 189945399\n"
          ]
        },
        {
          "output_type": "stream",
          "name": "stderr",
          "text": [
            "\r 39%|███▉      | 776/2000 [49:38<1:27:51,  4.31s/it]"
          ]
        },
        {
          "output_type": "stream",
          "name": "stdout",
          "text": [
            "Crawl data with product_id 108877709\n"
          ]
        },
        {
          "output_type": "stream",
          "name": "stderr",
          "text": [
            "\r 39%|███▉      | 777/2000 [49:42<1:28:03,  4.32s/it]"
          ]
        },
        {
          "output_type": "stream",
          "name": "stdout",
          "text": [
            "Crawl data with product_id 257855996\n"
          ]
        },
        {
          "output_type": "stream",
          "name": "stderr",
          "text": [
            "\r 39%|███▉      | 778/2000 [49:45<1:21:46,  4.01s/it]"
          ]
        },
        {
          "output_type": "stream",
          "name": "stdout",
          "text": [
            "Crawl data with product_id 115096595\n"
          ]
        },
        {
          "output_type": "stream",
          "name": "stderr",
          "text": [
            "\r 39%|███▉      | 779/2000 [49:50<1:23:39,  4.11s/it]"
          ]
        },
        {
          "output_type": "stream",
          "name": "stdout",
          "text": [
            "Crawl data with product_id 105739815\n"
          ]
        },
        {
          "output_type": "stream",
          "name": "stderr",
          "text": [
            "\r 39%|███▉      | 780/2000 [49:53<1:18:37,  3.87s/it]"
          ]
        },
        {
          "output_type": "stream",
          "name": "stdout",
          "text": [
            "Crawl data with product_id 417214\n"
          ]
        },
        {
          "output_type": "stream",
          "name": "stderr",
          "text": [
            "\r 39%|███▉      | 781/2000 [49:57<1:21:21,  4.00s/it]"
          ]
        },
        {
          "output_type": "stream",
          "name": "stdout",
          "text": [
            "Crawl data with product_id 242086270\n"
          ]
        },
        {
          "output_type": "stream",
          "name": "stderr",
          "text": [
            "\r 39%|███▉      | 782/2000 [50:00<1:17:08,  3.80s/it]"
          ]
        },
        {
          "output_type": "stream",
          "name": "stdout",
          "text": [
            "Crawl data with product_id 33543679\n"
          ]
        },
        {
          "output_type": "stream",
          "name": "stderr",
          "text": [
            "\r 39%|███▉      | 783/2000 [50:05<1:20:15,  3.96s/it]"
          ]
        },
        {
          "output_type": "stream",
          "name": "stdout",
          "text": [
            "Crawl data with product_id 249771927\n"
          ]
        },
        {
          "output_type": "stream",
          "name": "stderr",
          "text": [
            "\r 39%|███▉      | 784/2000 [50:08<1:16:17,  3.76s/it]"
          ]
        },
        {
          "output_type": "stream",
          "name": "stdout",
          "text": [
            "Crawl data with product_id 88929189\n"
          ]
        },
        {
          "output_type": "stream",
          "name": "stderr",
          "text": [
            "\r 39%|███▉      | 785/2000 [50:11<1:13:27,  3.63s/it]"
          ]
        },
        {
          "output_type": "stream",
          "name": "stdout",
          "text": [
            "Crawl data with product_id 186862153\n"
          ]
        },
        {
          "output_type": "stream",
          "name": "stderr",
          "text": [
            "\r 39%|███▉      | 786/2000 [50:15<1:11:35,  3.54s/it]"
          ]
        },
        {
          "output_type": "stream",
          "name": "stdout",
          "text": [
            "Crawl data with product_id 44017497\n"
          ]
        },
        {
          "output_type": "stream",
          "name": "stderr",
          "text": [
            "\r 39%|███▉      | 787/2000 [50:18<1:10:20,  3.48s/it]"
          ]
        },
        {
          "output_type": "stream",
          "name": "stdout",
          "text": [
            "Crawl data with product_id 162100185\n"
          ]
        },
        {
          "output_type": "stream",
          "name": "stderr",
          "text": [
            "\r 39%|███▉      | 788/2000 [50:21<1:09:31,  3.44s/it]"
          ]
        },
        {
          "output_type": "stream",
          "name": "stdout",
          "text": [
            "Crawl data with product_id 159026629\n"
          ]
        },
        {
          "output_type": "stream",
          "name": "stderr",
          "text": [
            "\r 39%|███▉      | 789/2000 [50:26<1:14:54,  3.71s/it]"
          ]
        },
        {
          "output_type": "stream",
          "name": "stdout",
          "text": [
            "Crawl data with product_id 248661264\n"
          ]
        },
        {
          "output_type": "stream",
          "name": "stderr",
          "text": [
            "\r 40%|███▉      | 790/2000 [50:29<1:13:42,  3.65s/it]"
          ]
        },
        {
          "output_type": "stream",
          "name": "stdout",
          "text": [
            "Crawl data with product_id 469101\n"
          ]
        },
        {
          "output_type": "stream",
          "name": "stderr",
          "text": [
            "\r 40%|███▉      | 791/2000 [50:34<1:17:46,  3.86s/it]"
          ]
        },
        {
          "output_type": "stream",
          "name": "stdout",
          "text": [
            "Crawl data with product_id 243034958\n"
          ]
        },
        {
          "output_type": "stream",
          "name": "stderr",
          "text": [
            "\r 40%|███▉      | 792/2000 [50:38<1:20:42,  4.01s/it]"
          ]
        },
        {
          "output_type": "stream",
          "name": "stdout",
          "text": [
            "Crawl data with product_id 152743074\n"
          ]
        },
        {
          "output_type": "stream",
          "name": "stderr",
          "text": [
            "\r 40%|███▉      | 793/2000 [50:41<1:16:48,  3.82s/it]"
          ]
        },
        {
          "output_type": "stream",
          "name": "stdout",
          "text": [
            "Crawl data with product_id 62373330\n"
          ]
        },
        {
          "output_type": "stream",
          "name": "stderr",
          "text": [
            "\r 40%|███▉      | 794/2000 [50:46<1:19:55,  3.98s/it]"
          ]
        },
        {
          "output_type": "stream",
          "name": "stdout",
          "text": [
            "Crawl data with product_id 216402758\n"
          ]
        },
        {
          "output_type": "stream",
          "name": "stderr",
          "text": [
            "\r 40%|███▉      | 795/2000 [50:49<1:15:56,  3.78s/it]"
          ]
        },
        {
          "output_type": "stream",
          "name": "stdout",
          "text": [
            "Crawl data with product_id 96031639\n"
          ]
        },
        {
          "output_type": "stream",
          "name": "stderr",
          "text": [
            "\r 40%|███▉      | 796/2000 [50:52<1:13:11,  3.65s/it]"
          ]
        },
        {
          "output_type": "stream",
          "name": "stdout",
          "text": [
            "Crawl data with product_id 50488976\n"
          ]
        },
        {
          "output_type": "stream",
          "name": "stderr",
          "text": [
            "\r 40%|███▉      | 797/2000 [50:56<1:12:16,  3.60s/it]"
          ]
        },
        {
          "output_type": "stream",
          "name": "stdout",
          "text": [
            "Crawl data with product_id 77204179\n"
          ]
        },
        {
          "output_type": "stream",
          "name": "stderr",
          "text": [
            "\r 40%|███▉      | 798/2000 [51:00<1:14:31,  3.72s/it]"
          ]
        },
        {
          "output_type": "stream",
          "name": "stdout",
          "text": [
            "Crawl data with product_id 143144179\n"
          ]
        },
        {
          "output_type": "stream",
          "name": "stderr",
          "text": [
            "\r 40%|███▉      | 799/2000 [51:03<1:12:10,  3.61s/it]"
          ]
        },
        {
          "output_type": "stream",
          "name": "stdout",
          "text": [
            "Crawl data with product_id 74695662\n"
          ]
        },
        {
          "output_type": "stream",
          "name": "stderr",
          "text": [
            "\r 40%|████      | 800/2000 [51:07<1:10:28,  3.52s/it]"
          ]
        },
        {
          "output_type": "stream",
          "name": "stdout",
          "text": [
            "Crawl data with product_id 14643407\n"
          ]
        },
        {
          "output_type": "stream",
          "name": "stderr",
          "text": [
            "\r 40%|████      | 801/2000 [51:11<1:15:15,  3.77s/it]"
          ]
        },
        {
          "output_type": "stream",
          "name": "stdout",
          "text": [
            "Crawl data with product_id 142474690\n"
          ]
        },
        {
          "output_type": "stream",
          "name": "stderr",
          "text": [
            "\r 40%|████      | 802/2000 [51:15<1:18:46,  3.95s/it]"
          ]
        },
        {
          "output_type": "stream",
          "name": "stdout",
          "text": [
            "Crawl data with product_id 174002949\n"
          ]
        },
        {
          "output_type": "stream",
          "name": "stderr",
          "text": [
            "\r 40%|████      | 803/2000 [51:19<1:15:09,  3.77s/it]"
          ]
        },
        {
          "output_type": "stream",
          "name": "stdout",
          "text": [
            "Crawl data with product_id 217479133\n"
          ]
        },
        {
          "output_type": "stream",
          "name": "stderr",
          "text": [
            "\r 40%|████      | 804/2000 [51:22<1:12:32,  3.64s/it]"
          ]
        },
        {
          "output_type": "stream",
          "name": "stdout",
          "text": [
            "Crawl data with product_id 176240930\n"
          ]
        },
        {
          "output_type": "stream",
          "name": "stderr",
          "text": [
            "\r 40%|████      | 805/2000 [51:25<1:10:43,  3.55s/it]"
          ]
        },
        {
          "output_type": "stream",
          "name": "stdout",
          "text": [
            "Crawl data with product_id 7226283\n"
          ]
        },
        {
          "output_type": "stream",
          "name": "stderr",
          "text": [
            "\r 40%|████      | 806/2000 [51:29<1:09:31,  3.49s/it]"
          ]
        },
        {
          "output_type": "stream",
          "name": "stdout",
          "text": [
            "Crawl data with product_id 36425573\n"
          ]
        },
        {
          "output_type": "stream",
          "name": "stderr",
          "text": [
            "\r 40%|████      | 807/2000 [51:32<1:08:28,  3.44s/it]"
          ]
        },
        {
          "output_type": "stream",
          "name": "stdout",
          "text": [
            "Crawl data with product_id 179367994\n"
          ]
        },
        {
          "output_type": "stream",
          "name": "stderr",
          "text": [
            "\r 40%|████      | 808/2000 [51:36<1:13:49,  3.72s/it]"
          ]
        },
        {
          "output_type": "stream",
          "name": "stdout",
          "text": [
            "Crawl data with product_id 174588395\n"
          ]
        },
        {
          "output_type": "stream",
          "name": "stderr",
          "text": [
            "\r 40%|████      | 809/2000 [51:41<1:17:35,  3.91s/it]"
          ]
        },
        {
          "output_type": "stream",
          "name": "stdout",
          "text": [
            "Crawl data with product_id 136540014\n"
          ]
        },
        {
          "output_type": "stream",
          "name": "stderr",
          "text": [
            "\r 40%|████      | 810/2000 [51:44<1:14:03,  3.73s/it]"
          ]
        },
        {
          "output_type": "stream",
          "name": "stdout",
          "text": [
            "Crawl data with product_id 210143417\n"
          ]
        },
        {
          "output_type": "stream",
          "name": "stderr",
          "text": [
            "\r 41%|████      | 811/2000 [51:47<1:11:37,  3.61s/it]"
          ]
        },
        {
          "output_type": "stream",
          "name": "stdout",
          "text": [
            "Crawl data with product_id 262725402\n"
          ]
        },
        {
          "output_type": "stream",
          "name": "stderr",
          "text": [
            "\r 41%|████      | 812/2000 [51:51<1:09:45,  3.52s/it]"
          ]
        },
        {
          "output_type": "stream",
          "name": "stdout",
          "text": [
            "Crawl data with product_id 598763\n"
          ]
        },
        {
          "output_type": "stream",
          "name": "stderr",
          "text": [
            "\r 41%|████      | 813/2000 [51:54<1:08:20,  3.45s/it]"
          ]
        },
        {
          "output_type": "stream",
          "name": "stdout",
          "text": [
            "Crawl data with product_id 782184\n"
          ]
        },
        {
          "output_type": "stream",
          "name": "stderr",
          "text": [
            "\r 41%|████      | 814/2000 [51:58<1:13:30,  3.72s/it]"
          ]
        },
        {
          "output_type": "stream",
          "name": "stdout",
          "text": [
            "Crawl data with product_id 571308\n"
          ]
        },
        {
          "output_type": "stream",
          "name": "stderr",
          "text": [
            "\r 41%|████      | 815/2000 [52:03<1:17:11,  3.91s/it]"
          ]
        },
        {
          "output_type": "stream",
          "name": "stdout",
          "text": [
            "Crawl data with product_id 179058159\n"
          ]
        },
        {
          "output_type": "stream",
          "name": "stderr",
          "text": [
            "\r 41%|████      | 816/2000 [52:06<1:13:41,  3.73s/it]"
          ]
        },
        {
          "output_type": "stream",
          "name": "stdout",
          "text": [
            "Crawl data with product_id 76837845\n"
          ]
        },
        {
          "output_type": "stream",
          "name": "stderr",
          "text": [
            "\r 41%|████      | 817/2000 [52:09<1:11:15,  3.61s/it]"
          ]
        },
        {
          "output_type": "stream",
          "name": "stdout",
          "text": [
            "Crawl data with product_id 23207094\n"
          ]
        },
        {
          "output_type": "stream",
          "name": "stderr",
          "text": [
            "\r 41%|████      | 818/2000 [52:13<1:09:39,  3.54s/it]"
          ]
        },
        {
          "output_type": "stream",
          "name": "stdout",
          "text": [
            "Crawl data with product_id 249664612\n"
          ]
        },
        {
          "output_type": "stream",
          "name": "stderr",
          "text": [
            "\r 41%|████      | 819/2000 [52:17<1:14:17,  3.77s/it]"
          ]
        },
        {
          "output_type": "stream",
          "name": "stdout",
          "text": [
            "Crawl data with product_id 10725776\n"
          ]
        },
        {
          "output_type": "stream",
          "name": "stderr",
          "text": [
            "\r 41%|████      | 820/2000 [52:20<1:11:34,  3.64s/it]"
          ]
        },
        {
          "output_type": "stream",
          "name": "stdout",
          "text": [
            "Crawl data with product_id 168586763\n"
          ]
        },
        {
          "output_type": "stream",
          "name": "stderr",
          "text": [
            "\r 41%|████      | 821/2000 [52:24<1:09:48,  3.55s/it]"
          ]
        },
        {
          "output_type": "stream",
          "name": "stdout",
          "text": [
            "Crawl data with product_id 555497\n"
          ]
        },
        {
          "output_type": "stream",
          "name": "stderr",
          "text": [
            "\r 41%|████      | 822/2000 [52:28<1:14:16,  3.78s/it]"
          ]
        },
        {
          "output_type": "stream",
          "name": "stdout",
          "text": [
            "Crawl data with product_id 480226\n"
          ]
        },
        {
          "output_type": "stream",
          "name": "stderr",
          "text": [
            "\r 41%|████      | 823/2000 [52:31<1:11:36,  3.65s/it]"
          ]
        },
        {
          "output_type": "stream",
          "name": "stdout",
          "text": [
            "Crawl data with product_id 145092605\n"
          ]
        },
        {
          "output_type": "stream",
          "name": "stderr",
          "text": [
            "\r 41%|████      | 824/2000 [52:35<1:09:59,  3.57s/it]"
          ]
        },
        {
          "output_type": "stream",
          "name": "stdout",
          "text": [
            "Crawl data with product_id 249795884\n"
          ]
        },
        {
          "output_type": "stream",
          "name": "stderr",
          "text": [
            "\r 41%|████▏     | 825/2000 [52:38<1:08:37,  3.50s/it]"
          ]
        },
        {
          "output_type": "stream",
          "name": "stdout",
          "text": [
            "Crawl data with product_id 261993078\n"
          ]
        },
        {
          "output_type": "stream",
          "name": "stderr",
          "text": [
            "\r 41%|████▏     | 826/2000 [52:41<1:07:37,  3.46s/it]"
          ]
        },
        {
          "output_type": "stream",
          "name": "stdout",
          "text": [
            "Crawl data with product_id 90328970\n"
          ]
        },
        {
          "output_type": "stream",
          "name": "stderr",
          "text": [
            "\r 41%|████▏     | 827/2000 [52:45<1:06:49,  3.42s/it]"
          ]
        },
        {
          "output_type": "stream",
          "name": "stdout",
          "text": [
            "Crawl data with product_id 137375711\n"
          ]
        },
        {
          "output_type": "stream",
          "name": "stderr",
          "text": [
            "\r 41%|████▏     | 828/2000 [52:49<1:13:21,  3.76s/it]"
          ]
        },
        {
          "output_type": "stream",
          "name": "stdout",
          "text": [
            "Crawl data with product_id 106541483\n"
          ]
        },
        {
          "output_type": "stream",
          "name": "stderr",
          "text": [
            "\r 41%|████▏     | 829/2000 [52:54<1:16:37,  3.93s/it]"
          ]
        },
        {
          "output_type": "stream",
          "name": "stdout",
          "text": [
            "Crawl data with product_id 88917596\n"
          ]
        },
        {
          "output_type": "stream",
          "name": "stderr",
          "text": [
            "\r 42%|████▏     | 830/2000 [52:57<1:13:04,  3.75s/it]"
          ]
        },
        {
          "output_type": "stream",
          "name": "stdout",
          "text": [
            "Crawl data with product_id 244168301\n"
          ]
        },
        {
          "output_type": "stream",
          "name": "stderr",
          "text": [
            "\r 42%|████▏     | 831/2000 [53:01<1:16:18,  3.92s/it]"
          ]
        },
        {
          "output_type": "stream",
          "name": "stdout",
          "text": [
            "Crawl data with product_id 16440473\n"
          ]
        },
        {
          "output_type": "stream",
          "name": "stderr",
          "text": [
            "\r 42%|████▏     | 832/2000 [53:05<1:12:42,  3.74s/it]"
          ]
        },
        {
          "output_type": "stream",
          "name": "stdout",
          "text": [
            "Crawl data with product_id 188940814\n"
          ]
        },
        {
          "output_type": "stream",
          "name": "stderr",
          "text": [
            "\r 42%|████▏     | 833/2000 [53:08<1:10:17,  3.61s/it]"
          ]
        },
        {
          "output_type": "stream",
          "name": "stdout",
          "text": [
            "Crawl data with product_id 72025788\n"
          ]
        },
        {
          "output_type": "stream",
          "name": "stderr",
          "text": [
            "\r 42%|████▏     | 834/2000 [53:12<1:14:27,  3.83s/it]"
          ]
        },
        {
          "output_type": "stream",
          "name": "stdout",
          "text": [
            "Crawl data with product_id 74810841\n"
          ]
        },
        {
          "output_type": "stream",
          "name": "stderr",
          "text": [
            "\r 42%|████▏     | 835/2000 [53:16<1:11:37,  3.69s/it]"
          ]
        },
        {
          "output_type": "stream",
          "name": "stdout",
          "text": [
            "Crawl data with product_id 229795095\n"
          ]
        },
        {
          "output_type": "stream",
          "name": "stderr",
          "text": [
            "\r 42%|████▏     | 836/2000 [53:19<1:09:34,  3.59s/it]"
          ]
        },
        {
          "output_type": "stream",
          "name": "stdout",
          "text": [
            "Crawl data with product_id 185198332\n"
          ]
        },
        {
          "output_type": "stream",
          "name": "stderr",
          "text": [
            "\r 42%|████▏     | 837/2000 [53:22<1:07:59,  3.51s/it]"
          ]
        },
        {
          "output_type": "stream",
          "name": "stdout",
          "text": [
            "Crawl data with product_id 405021\n"
          ]
        },
        {
          "output_type": "stream",
          "name": "stderr",
          "text": [
            "\r 42%|████▏     | 838/2000 [53:27<1:12:41,  3.75s/it]"
          ]
        },
        {
          "output_type": "stream",
          "name": "stdout",
          "text": [
            "Crawl data with product_id 217286533\n"
          ]
        },
        {
          "output_type": "stream",
          "name": "stderr",
          "text": [
            "\r 42%|████▏     | 839/2000 [53:31<1:15:53,  3.92s/it]"
          ]
        },
        {
          "output_type": "stream",
          "name": "stdout",
          "text": [
            "Crawl data with product_id 214602903\n"
          ]
        },
        {
          "output_type": "stream",
          "name": "stderr",
          "text": [
            "\r 42%|████▏     | 840/2000 [53:35<1:18:25,  4.06s/it]"
          ]
        },
        {
          "output_type": "stream",
          "name": "stdout",
          "text": [
            "Crawl data with product_id 80858174\n"
          ]
        },
        {
          "output_type": "stream",
          "name": "stderr",
          "text": [
            "\r 42%|████▏     | 841/2000 [53:40<1:20:59,  4.19s/it]"
          ]
        },
        {
          "output_type": "stream",
          "name": "stdout",
          "text": [
            "Crawl data with product_id 192376832\n"
          ]
        },
        {
          "output_type": "stream",
          "name": "stderr",
          "text": [
            "\r 42%|████▏     | 842/2000 [53:44<1:21:37,  4.23s/it]"
          ]
        },
        {
          "output_type": "stream",
          "name": "stdout",
          "text": [
            "Crawl data with product_id 52749308\n"
          ]
        },
        {
          "output_type": "stream",
          "name": "stderr",
          "text": [
            "\r 42%|████▏     | 843/2000 [53:48<1:17:18,  4.01s/it]"
          ]
        },
        {
          "output_type": "stream",
          "name": "stdout",
          "text": [
            "Crawl data with product_id 57865423\n"
          ]
        },
        {
          "output_type": "stream",
          "name": "stderr",
          "text": [
            "\r 42%|████▏     | 844/2000 [53:52<1:19:07,  4.11s/it]"
          ]
        },
        {
          "output_type": "stream",
          "name": "stdout",
          "text": [
            "Crawl data with product_id 186268868\n"
          ]
        },
        {
          "output_type": "stream",
          "name": "stderr",
          "text": [
            "\r 42%|████▏     | 845/2000 [53:55<1:14:25,  3.87s/it]"
          ]
        },
        {
          "output_type": "stream",
          "name": "stdout",
          "text": [
            "Crawl data with product_id 171556601\n"
          ]
        },
        {
          "output_type": "stream",
          "name": "stderr",
          "text": [
            "\r 42%|████▏     | 846/2000 [54:00<1:16:57,  4.00s/it]"
          ]
        },
        {
          "output_type": "stream",
          "name": "stdout",
          "text": [
            "Crawl data with product_id 225264319\n"
          ]
        },
        {
          "output_type": "stream",
          "name": "stderr",
          "text": [
            "\r 42%|████▏     | 847/2000 [54:03<1:13:03,  3.80s/it]"
          ]
        },
        {
          "output_type": "stream",
          "name": "stdout",
          "text": [
            "Crawl data with product_id 184097289\n"
          ]
        },
        {
          "output_type": "stream",
          "name": "stderr",
          "text": [
            "\r 42%|████▏     | 848/2000 [54:06<1:10:22,  3.67s/it]"
          ]
        },
        {
          "output_type": "stream",
          "name": "stdout",
          "text": [
            "Crawl data with product_id 217286510\n"
          ]
        },
        {
          "output_type": "stream",
          "name": "stderr",
          "text": [
            "\r 42%|████▏     | 849/2000 [54:10<1:13:55,  3.85s/it]"
          ]
        },
        {
          "output_type": "stream",
          "name": "stdout",
          "text": [
            "Crawl data with product_id 129381393\n"
          ]
        },
        {
          "output_type": "stream",
          "name": "stderr",
          "text": [
            "\r 42%|████▎     | 850/2000 [54:14<1:10:45,  3.69s/it]"
          ]
        },
        {
          "output_type": "stream",
          "name": "stdout",
          "text": [
            "Crawl data with product_id 57898782\n"
          ]
        },
        {
          "output_type": "stream",
          "name": "stderr",
          "text": [
            "\r 43%|████▎     | 851/2000 [54:18<1:14:24,  3.89s/it]"
          ]
        },
        {
          "output_type": "stream",
          "name": "stdout",
          "text": [
            "Crawl data with product_id 185808998\n"
          ]
        },
        {
          "output_type": "stream",
          "name": "stderr",
          "text": [
            "\r 43%|████▎     | 852/2000 [54:21<1:11:13,  3.72s/it]"
          ]
        },
        {
          "output_type": "stream",
          "name": "stdout",
          "text": [
            "Crawl data with product_id 76182691\n"
          ]
        },
        {
          "output_type": "stream",
          "name": "stderr",
          "text": [
            "\r 43%|████▎     | 853/2000 [54:26<1:14:30,  3.90s/it]"
          ]
        },
        {
          "output_type": "stream",
          "name": "stdout",
          "text": [
            "Crawl data with product_id 175526800\n"
          ]
        },
        {
          "output_type": "stream",
          "name": "stderr",
          "text": [
            "\r 43%|████▎     | 854/2000 [54:30<1:16:48,  4.02s/it]"
          ]
        },
        {
          "output_type": "stream",
          "name": "stdout",
          "text": [
            "Crawl data with product_id 209870808\n"
          ]
        },
        {
          "output_type": "stream",
          "name": "stderr",
          "text": [
            "\r 43%|████▎     | 855/2000 [54:33<1:12:49,  3.82s/it]"
          ]
        },
        {
          "output_type": "stream",
          "name": "stdout",
          "text": [
            "Crawl data with product_id 111614742\n"
          ]
        },
        {
          "output_type": "stream",
          "name": "stderr",
          "text": [
            "\r 43%|████▎     | 856/2000 [54:38<1:15:39,  3.97s/it]"
          ]
        },
        {
          "output_type": "stream",
          "name": "stdout",
          "text": [
            "Crawl data with product_id 5348101\n"
          ]
        },
        {
          "output_type": "stream",
          "name": "stderr",
          "text": [
            "\r 43%|████▎     | 857/2000 [54:41<1:11:57,  3.78s/it]"
          ]
        },
        {
          "output_type": "stream",
          "name": "stdout",
          "text": [
            "Crawl data with product_id 787056\n"
          ]
        },
        {
          "output_type": "stream",
          "name": "stderr",
          "text": [
            "\r 43%|████▎     | 858/2000 [54:45<1:14:58,  3.94s/it]"
          ]
        },
        {
          "output_type": "stream",
          "name": "stdout",
          "text": [
            "Crawl data with product_id 2298675\n"
          ]
        },
        {
          "output_type": "stream",
          "name": "stderr",
          "text": [
            "\r 43%|████▎     | 859/2000 [54:50<1:17:01,  4.05s/it]"
          ]
        },
        {
          "output_type": "stream",
          "name": "stdout",
          "text": [
            "Crawl data with product_id 198587095\n"
          ]
        },
        {
          "output_type": "stream",
          "name": "stderr",
          "text": [
            "\r 43%|████▎     | 860/2000 [54:54<1:18:38,  4.14s/it]"
          ]
        },
        {
          "output_type": "stream",
          "name": "stdout",
          "text": [
            "Crawl data with product_id 213969317\n"
          ]
        },
        {
          "output_type": "stream",
          "name": "stderr",
          "text": [
            "\r 43%|████▎     | 861/2000 [54:58<1:19:39,  4.20s/it]"
          ]
        },
        {
          "output_type": "stream",
          "name": "stdout",
          "text": [
            "Crawl data with product_id 247706850\n"
          ]
        },
        {
          "output_type": "stream",
          "name": "stderr",
          "text": [
            "\r 43%|████▎     | 862/2000 [55:02<1:14:37,  3.93s/it]"
          ]
        },
        {
          "output_type": "stream",
          "name": "stdout",
          "text": [
            "Crawl data with product_id 201110678\n"
          ]
        },
        {
          "output_type": "stream",
          "name": "stderr",
          "text": [
            "\r 43%|████▎     | 863/2000 [55:06<1:16:53,  4.06s/it]"
          ]
        },
        {
          "output_type": "stream",
          "name": "stdout",
          "text": [
            "Crawl data with product_id 2686383\n"
          ]
        },
        {
          "output_type": "stream",
          "name": "stderr",
          "text": [
            "\r 43%|████▎     | 864/2000 [55:09<1:12:39,  3.84s/it]"
          ]
        },
        {
          "output_type": "stream",
          "name": "stdout",
          "text": [
            "Crawl data with product_id 45854113\n"
          ]
        },
        {
          "output_type": "stream",
          "name": "stderr",
          "text": [
            "\r 43%|████▎     | 865/2000 [55:14<1:15:18,  3.98s/it]"
          ]
        },
        {
          "output_type": "stream",
          "name": "stdout",
          "text": [
            "Crawl data with product_id 227245213\n"
          ]
        },
        {
          "output_type": "stream",
          "name": "stderr",
          "text": [
            "\r 43%|████▎     | 866/2000 [55:17<1:12:35,  3.84s/it]"
          ]
        },
        {
          "output_type": "stream",
          "name": "stdout",
          "text": [
            "Crawl data with product_id 85560616\n"
          ]
        },
        {
          "output_type": "stream",
          "name": "stderr",
          "text": [
            "\r 43%|████▎     | 867/2000 [55:21<1:09:33,  3.68s/it]"
          ]
        },
        {
          "output_type": "stream",
          "name": "stdout",
          "text": [
            "Crawl data with product_id 230083061\n"
          ]
        },
        {
          "output_type": "stream",
          "name": "stderr",
          "text": [
            "\r 43%|████▎     | 868/2000 [55:25<1:13:10,  3.88s/it]"
          ]
        },
        {
          "output_type": "stream",
          "name": "stdout",
          "text": [
            "Crawl data with product_id 85560620\n"
          ]
        },
        {
          "output_type": "stream",
          "name": "stderr",
          "text": [
            "\r 43%|████▎     | 869/2000 [55:29<1:15:42,  4.02s/it]"
          ]
        },
        {
          "output_type": "stream",
          "name": "stdout",
          "text": [
            "Crawl data with product_id 87443841\n"
          ]
        },
        {
          "output_type": "stream",
          "name": "stderr",
          "text": [
            "\r 44%|████▎     | 870/2000 [55:34<1:17:22,  4.11s/it]"
          ]
        },
        {
          "output_type": "stream",
          "name": "stdout",
          "text": [
            "Crawl data with product_id 21903189\n"
          ]
        },
        {
          "output_type": "stream",
          "name": "stderr",
          "text": [
            "\r 44%|████▎     | 871/2000 [55:37<1:12:54,  3.87s/it]"
          ]
        },
        {
          "output_type": "stream",
          "name": "stdout",
          "text": [
            "Crawl data with product_id 254139686\n"
          ]
        },
        {
          "output_type": "stream",
          "name": "stderr",
          "text": [
            "\r 44%|████▎     | 872/2000 [55:41<1:15:25,  4.01s/it]"
          ]
        },
        {
          "output_type": "stream",
          "name": "stdout",
          "text": [
            "Crawl data with product_id 160749850\n"
          ]
        },
        {
          "output_type": "stream",
          "name": "stderr",
          "text": [
            "\r 44%|████▎     | 873/2000 [55:45<1:11:30,  3.81s/it]"
          ]
        },
        {
          "output_type": "stream",
          "name": "stdout",
          "text": [
            "Crawl data with product_id 782211\n"
          ]
        },
        {
          "output_type": "stream",
          "name": "stderr",
          "text": [
            "\r 44%|████▎     | 874/2000 [55:49<1:14:28,  3.97s/it]"
          ]
        },
        {
          "output_type": "stream",
          "name": "stdout",
          "text": [
            "Crawl data with product_id 255339189\n"
          ]
        },
        {
          "output_type": "stream",
          "name": "stderr",
          "text": [
            "\r 44%|████▍     | 875/2000 [55:53<1:16:25,  4.08s/it]"
          ]
        },
        {
          "output_type": "stream",
          "name": "stdout",
          "text": [
            "Crawl data with product_id 453810\n"
          ]
        },
        {
          "output_type": "stream",
          "name": "stderr",
          "text": [
            "\r 44%|████▍     | 876/2000 [55:58<1:17:49,  4.15s/it]"
          ]
        },
        {
          "output_type": "stream",
          "name": "stdout",
          "text": [
            "Crawl data with product_id 155555983\n"
          ]
        },
        {
          "output_type": "stream",
          "name": "stderr",
          "text": [
            "\r 44%|████▍     | 877/2000 [56:02<1:18:44,  4.21s/it]"
          ]
        },
        {
          "output_type": "stream",
          "name": "stdout",
          "text": [
            "Crawl data with product_id 217764542\n"
          ]
        },
        {
          "output_type": "stream",
          "name": "stderr",
          "text": [
            "\r 44%|████▍     | 878/2000 [56:05<1:13:41,  3.94s/it]"
          ]
        },
        {
          "output_type": "stream",
          "name": "stdout",
          "text": [
            "Crawl data with product_id 247884827\n"
          ]
        },
        {
          "output_type": "stream",
          "name": "stderr",
          "text": [
            "\r 44%|████▍     | 879/2000 [56:09<1:10:14,  3.76s/it]"
          ]
        },
        {
          "output_type": "stream",
          "name": "stdout",
          "text": [
            "Crawl data with product_id 91544360\n"
          ]
        },
        {
          "output_type": "stream",
          "name": "stderr",
          "text": [
            "\r 44%|████▍     | 880/2000 [56:12<1:07:38,  3.62s/it]"
          ]
        },
        {
          "output_type": "stream",
          "name": "stdout",
          "text": [
            "Crawl data with product_id 58444925\n"
          ]
        },
        {
          "output_type": "stream",
          "name": "stderr",
          "text": [
            "\r 44%|████▍     | 881/2000 [56:16<1:11:41,  3.84s/it]"
          ]
        },
        {
          "output_type": "stream",
          "name": "stdout",
          "text": [
            "Crawl data with product_id 171581094\n"
          ]
        },
        {
          "output_type": "stream",
          "name": "stderr",
          "text": [
            "\r 44%|████▍     | 882/2000 [56:19<1:08:37,  3.68s/it]"
          ]
        },
        {
          "output_type": "stream",
          "name": "stdout",
          "text": [
            "Crawl data with product_id 192950729\n"
          ]
        },
        {
          "output_type": "stream",
          "name": "stderr",
          "text": [
            "\r 44%|████▍     | 883/2000 [56:23<1:06:35,  3.58s/it]"
          ]
        },
        {
          "output_type": "stream",
          "name": "stdout",
          "text": [
            "Crawl data with product_id 73850811\n"
          ]
        },
        {
          "output_type": "stream",
          "name": "stderr",
          "text": [
            "\r 44%|████▍     | 884/2000 [56:26<1:05:09,  3.50s/it]"
          ]
        },
        {
          "output_type": "stream",
          "name": "stdout",
          "text": [
            "Crawl data with product_id 213886882\n"
          ]
        },
        {
          "output_type": "stream",
          "name": "stderr",
          "text": [
            "\r 44%|████▍     | 885/2000 [56:30<1:09:33,  3.74s/it]"
          ]
        },
        {
          "output_type": "stream",
          "name": "stdout",
          "text": [
            "Crawl data with product_id 56102955\n"
          ]
        },
        {
          "output_type": "stream",
          "name": "stderr",
          "text": [
            "\r 44%|████▍     | 886/2000 [56:34<1:10:52,  3.82s/it]"
          ]
        },
        {
          "output_type": "stream",
          "name": "stdout",
          "text": [
            "Crawl data with product_id 555428\n"
          ]
        },
        {
          "output_type": "stream",
          "name": "stderr",
          "text": [
            "\r 44%|████▍     | 887/2000 [56:38<1:08:15,  3.68s/it]"
          ]
        },
        {
          "output_type": "stream",
          "name": "stdout",
          "text": [
            "Crawl data with product_id 212607506\n"
          ]
        },
        {
          "output_type": "stream",
          "name": "stderr",
          "text": [
            "\r 44%|████▍     | 888/2000 [56:42<1:11:42,  3.87s/it]"
          ]
        },
        {
          "output_type": "stream",
          "name": "stdout",
          "text": [
            "Crawl data with product_id 110916344\n"
          ]
        },
        {
          "output_type": "stream",
          "name": "stderr",
          "text": [
            "\r 44%|████▍     | 889/2000 [56:46<1:14:04,  4.00s/it]"
          ]
        },
        {
          "output_type": "stream",
          "name": "stdout",
          "text": [
            "Crawl data with product_id 190845835\n"
          ]
        },
        {
          "output_type": "stream",
          "name": "stderr",
          "text": [
            "\r 44%|████▍     | 890/2000 [56:50<1:10:11,  3.79s/it]"
          ]
        },
        {
          "output_type": "stream",
          "name": "stdout",
          "text": [
            "Crawl data with product_id 63670215\n"
          ]
        },
        {
          "output_type": "stream",
          "name": "stderr",
          "text": [
            "\r 45%|████▍     | 891/2000 [56:53<1:07:28,  3.65s/it]"
          ]
        },
        {
          "output_type": "stream",
          "name": "stdout",
          "text": [
            "Crawl data with product_id 7922974\n"
          ]
        },
        {
          "output_type": "stream",
          "name": "stderr",
          "text": [
            "\r 45%|████▍     | 892/2000 [56:56<1:05:53,  3.57s/it]"
          ]
        },
        {
          "output_type": "stream",
          "name": "stdout",
          "text": [
            "Crawl data with product_id 3642099\n"
          ]
        },
        {
          "output_type": "stream",
          "name": "stderr",
          "text": [
            "\r 45%|████▍     | 893/2000 [57:01<1:10:15,  3.81s/it]"
          ]
        },
        {
          "output_type": "stream",
          "name": "stdout",
          "text": [
            "Crawl data with product_id 143861675\n"
          ]
        },
        {
          "output_type": "stream",
          "name": "stderr",
          "text": [
            "\r 45%|████▍     | 894/2000 [57:05<1:12:57,  3.96s/it]"
          ]
        },
        {
          "output_type": "stream",
          "name": "stdout",
          "text": [
            "Crawl data with product_id 71064925\n"
          ]
        },
        {
          "output_type": "stream",
          "name": "stderr",
          "text": [
            "\r 45%|████▍     | 895/2000 [57:09<1:15:13,  4.08s/it]"
          ]
        },
        {
          "output_type": "stream",
          "name": "stdout",
          "text": [
            "Crawl data with product_id 203213429\n"
          ]
        },
        {
          "output_type": "stream",
          "name": "stderr",
          "text": [
            "\r 45%|████▍     | 896/2000 [57:13<1:10:50,  3.85s/it]"
          ]
        },
        {
          "output_type": "stream",
          "name": "stdout",
          "text": [
            "Crawl data with product_id 555376\n"
          ]
        },
        {
          "output_type": "stream",
          "name": "stderr",
          "text": [
            "\r 45%|████▍     | 897/2000 [57:16<1:07:58,  3.70s/it]"
          ]
        },
        {
          "output_type": "stream",
          "name": "stdout",
          "text": [
            "Crawl data with product_id 436921\n"
          ]
        },
        {
          "output_type": "stream",
          "name": "stderr",
          "text": [
            "\r 45%|████▍     | 898/2000 [57:20<1:11:29,  3.89s/it]"
          ]
        },
        {
          "output_type": "stream",
          "name": "stdout",
          "text": [
            "Crawl data with product_id 192014722\n"
          ]
        },
        {
          "output_type": "stream",
          "name": "stderr",
          "text": [
            "\r 45%|████▍     | 899/2000 [57:25<1:13:41,  4.02s/it]"
          ]
        },
        {
          "output_type": "stream",
          "name": "stdout",
          "text": [
            "Crawl data with product_id 255611968\n"
          ]
        },
        {
          "output_type": "stream",
          "name": "stderr",
          "text": [
            "\r 45%|████▌     | 900/2000 [57:28<1:09:48,  3.81s/it]"
          ]
        },
        {
          "output_type": "stream",
          "name": "stdout",
          "text": [
            "Crawl data with product_id 77109213\n"
          ]
        },
        {
          "output_type": "stream",
          "name": "stderr",
          "text": [
            "\r 45%|████▌     | 901/2000 [57:32<1:12:52,  3.98s/it]"
          ]
        },
        {
          "output_type": "stream",
          "name": "stdout",
          "text": [
            "Crawl data with product_id 249696088\n"
          ]
        },
        {
          "output_type": "stream",
          "name": "stderr",
          "text": [
            "\r 45%|████▌     | 902/2000 [57:36<1:09:30,  3.80s/it]"
          ]
        },
        {
          "output_type": "stream",
          "name": "stdout",
          "text": [
            "Crawl data with product_id 63448526\n"
          ]
        },
        {
          "output_type": "stream",
          "name": "stderr",
          "text": [
            "\r 45%|████▌     | 903/2000 [57:39<1:06:46,  3.65s/it]"
          ]
        },
        {
          "output_type": "stream",
          "name": "stdout",
          "text": [
            "Crawl data with product_id 25049757\n"
          ]
        },
        {
          "output_type": "stream",
          "name": "stderr",
          "text": [
            "\r 45%|████▌     | 904/2000 [57:44<1:10:32,  3.86s/it]"
          ]
        },
        {
          "output_type": "stream",
          "name": "stdout",
          "text": [
            "Crawl data with product_id 127031754\n"
          ]
        },
        {
          "output_type": "stream",
          "name": "stderr",
          "text": [
            "\r 45%|████▌     | 905/2000 [57:47<1:07:33,  3.70s/it]"
          ]
        },
        {
          "output_type": "stream",
          "name": "stdout",
          "text": [
            "Crawl data with product_id 79449972\n"
          ]
        },
        {
          "output_type": "stream",
          "name": "stderr",
          "text": [
            "\r 45%|████▌     | 906/2000 [57:51<1:11:10,  3.90s/it]"
          ]
        },
        {
          "output_type": "stream",
          "name": "stdout",
          "text": [
            "Crawl data with product_id 205218053\n"
          ]
        },
        {
          "output_type": "stream",
          "name": "stderr",
          "text": [
            "\r 45%|████▌     | 907/2000 [57:55<1:07:52,  3.73s/it]"
          ]
        },
        {
          "output_type": "stream",
          "name": "stdout",
          "text": [
            "Crawl data with product_id 40038349\n"
          ]
        },
        {
          "output_type": "stream",
          "name": "stderr",
          "text": [
            "\r 45%|████▌     | 908/2000 [57:59<1:11:08,  3.91s/it]"
          ]
        },
        {
          "output_type": "stream",
          "name": "stdout",
          "text": [
            "Crawl data with product_id 214075597\n"
          ]
        },
        {
          "output_type": "stream",
          "name": "stderr",
          "text": [
            "\r 45%|████▌     | 909/2000 [58:03<1:13:26,  4.04s/it]"
          ]
        },
        {
          "output_type": "stream",
          "name": "stdout",
          "text": [
            "Crawl data with product_id 69219931\n"
          ]
        },
        {
          "output_type": "stream",
          "name": "stderr",
          "text": [
            "\r 46%|████▌     | 910/2000 [58:07<1:09:48,  3.84s/it]"
          ]
        },
        {
          "output_type": "stream",
          "name": "stdout",
          "text": [
            "Crawl data with product_id 107101956\n"
          ]
        },
        {
          "output_type": "stream",
          "name": "stderr",
          "text": [
            "\r 46%|████▌     | 911/2000 [58:11<1:12:49,  4.01s/it]"
          ]
        },
        {
          "output_type": "stream",
          "name": "stdout",
          "text": [
            "Crawl data with product_id 95085896\n"
          ]
        },
        {
          "output_type": "stream",
          "name": "stderr",
          "text": [
            "\r 46%|████▌     | 912/2000 [58:15<1:14:45,  4.12s/it]"
          ]
        },
        {
          "output_type": "stream",
          "name": "stdout",
          "text": [
            "Crawl data with product_id 166647288\n"
          ]
        },
        {
          "output_type": "stream",
          "name": "stderr",
          "text": [
            "\r 46%|████▌     | 913/2000 [58:20<1:15:50,  4.19s/it]"
          ]
        },
        {
          "output_type": "stream",
          "name": "stdout",
          "text": [
            "Crawl data with product_id 169193031\n"
          ]
        },
        {
          "output_type": "stream",
          "name": "stderr",
          "text": [
            "\r 46%|████▌     | 914/2000 [58:24<1:16:34,  4.23s/it]"
          ]
        },
        {
          "output_type": "stream",
          "name": "stdout",
          "text": [
            "Crawl data with product_id 251999838\n"
          ]
        },
        {
          "output_type": "stream",
          "name": "stderr",
          "text": [
            "\r 46%|████▌     | 915/2000 [58:27<1:11:43,  3.97s/it]"
          ]
        },
        {
          "output_type": "stream",
          "name": "stdout",
          "text": [
            "Crawl data with product_id 249662750\n"
          ]
        },
        {
          "output_type": "stream",
          "name": "stderr",
          "text": [
            "\r 46%|████▌     | 916/2000 [58:31<1:08:08,  3.77s/it]"
          ]
        },
        {
          "output_type": "stream",
          "name": "stdout",
          "text": [
            "Crawl data with product_id 159890041\n"
          ]
        },
        {
          "output_type": "stream",
          "name": "stderr",
          "text": [
            "\r 46%|████▌     | 917/2000 [58:34<1:05:38,  3.64s/it]"
          ]
        },
        {
          "output_type": "stream",
          "name": "stdout",
          "text": [
            "Crawl data with product_id 56020650\n"
          ]
        },
        {
          "output_type": "stream",
          "name": "stderr",
          "text": [
            "\r 46%|████▌     | 918/2000 [58:37<1:03:56,  3.55s/it]"
          ]
        },
        {
          "output_type": "stream",
          "name": "stdout",
          "text": [
            "Crawl data with product_id 170770455\n"
          ]
        },
        {
          "output_type": "stream",
          "name": "stderr",
          "text": [
            "\r 46%|████▌     | 919/2000 [58:41<1:02:40,  3.48s/it]"
          ]
        },
        {
          "output_type": "stream",
          "name": "stdout",
          "text": [
            "Crawl data with product_id 185851717\n"
          ]
        },
        {
          "output_type": "stream",
          "name": "stderr",
          "text": [
            "\r 46%|████▌     | 920/2000 [58:45<1:08:30,  3.81s/it]"
          ]
        },
        {
          "output_type": "stream",
          "name": "stdout",
          "text": [
            "Crawl data with product_id 113842324\n"
          ]
        },
        {
          "output_type": "stream",
          "name": "stderr",
          "text": [
            "\r 46%|████▌     | 921/2000 [58:49<1:05:59,  3.67s/it]"
          ]
        },
        {
          "output_type": "stream",
          "name": "stdout",
          "text": [
            "Crawl data with product_id 36702019\n"
          ]
        },
        {
          "output_type": "stream",
          "name": "stderr",
          "text": [
            "\r 46%|████▌     | 922/2000 [58:53<1:09:29,  3.87s/it]"
          ]
        },
        {
          "output_type": "stream",
          "name": "stdout",
          "text": [
            "Crawl data with product_id 117832420\n"
          ]
        },
        {
          "output_type": "stream",
          "name": "stderr",
          "text": [
            "\r 46%|████▌     | 923/2000 [58:57<1:11:45,  4.00s/it]"
          ]
        },
        {
          "output_type": "stream",
          "name": "stdout",
          "text": [
            "Crawl data with product_id 73518666\n"
          ]
        },
        {
          "output_type": "stream",
          "name": "stderr",
          "text": [
            "\r 46%|████▌     | 924/2000 [59:02<1:13:48,  4.12s/it]"
          ]
        },
        {
          "output_type": "stream",
          "name": "stdout",
          "text": [
            "Crawl data with product_id 222025226\n"
          ]
        },
        {
          "output_type": "stream",
          "name": "stderr",
          "text": [
            "\r 46%|████▋     | 925/2000 [59:05<1:10:31,  3.94s/it]"
          ]
        },
        {
          "output_type": "stream",
          "name": "stdout",
          "text": [
            "Crawl data with product_id 190703416\n"
          ]
        },
        {
          "output_type": "stream",
          "name": "stderr",
          "text": [
            "\r 46%|████▋     | 926/2000 [59:09<1:12:35,  4.06s/it]"
          ]
        },
        {
          "output_type": "stream",
          "name": "stdout",
          "text": [
            "Crawl data with product_id 44984262\n"
          ]
        },
        {
          "output_type": "stream",
          "name": "stderr",
          "text": [
            "\r 46%|████▋     | 927/2000 [59:14<1:14:21,  4.16s/it]"
          ]
        },
        {
          "output_type": "stream",
          "name": "stdout",
          "text": [
            "Crawl data with product_id 210277449\n"
          ]
        },
        {
          "output_type": "stream",
          "name": "stderr",
          "text": [
            "\r 46%|████▋     | 928/2000 [59:17<1:09:46,  3.91s/it]"
          ]
        },
        {
          "output_type": "stream",
          "name": "stdout",
          "text": [
            "Crawl data with product_id 216091442\n"
          ]
        },
        {
          "output_type": "stream",
          "name": "stderr",
          "text": [
            "\r 46%|████▋     | 929/2000 [59:21<1:06:34,  3.73s/it]"
          ]
        },
        {
          "output_type": "stream",
          "name": "stdout",
          "text": [
            "Crawl data with product_id 248655933\n"
          ]
        },
        {
          "output_type": "stream",
          "name": "stderr",
          "text": [
            "\r 46%|████▋     | 930/2000 [59:24<1:04:33,  3.62s/it]"
          ]
        },
        {
          "output_type": "stream",
          "name": "stdout",
          "text": [
            "Crawl data with product_id 10576702\n"
          ]
        },
        {
          "output_type": "stream",
          "name": "stderr",
          "text": [
            "\r 47%|████▋     | 931/2000 [59:28<1:08:12,  3.83s/it]"
          ]
        },
        {
          "output_type": "stream",
          "name": "stdout",
          "text": [
            "Crawl data with product_id 58272318\n"
          ]
        },
        {
          "output_type": "stream",
          "name": "stderr",
          "text": [
            "\r 47%|████▋     | 932/2000 [59:33<1:10:57,  3.99s/it]"
          ]
        },
        {
          "output_type": "stream",
          "name": "stdout",
          "text": [
            "Crawl data with product_id 193586388\n"
          ]
        },
        {
          "output_type": "stream",
          "name": "stderr",
          "text": [
            "\r 47%|████▋     | 933/2000 [59:36<1:07:27,  3.79s/it]"
          ]
        },
        {
          "output_type": "stream",
          "name": "stdout",
          "text": [
            "Crawl data with product_id 196515670\n"
          ]
        },
        {
          "output_type": "stream",
          "name": "stderr",
          "text": [
            "\r 47%|████▋     | 934/2000 [59:39<1:04:51,  3.65s/it]"
          ]
        },
        {
          "output_type": "stream",
          "name": "stdout",
          "text": [
            "Crawl data with product_id 15686459\n"
          ]
        },
        {
          "output_type": "stream",
          "name": "stderr",
          "text": [
            "\r 47%|████▋     | 935/2000 [59:43<1:02:57,  3.55s/it]"
          ]
        },
        {
          "output_type": "stream",
          "name": "stdout",
          "text": [
            "Crawl data with product_id 219134713\n"
          ]
        },
        {
          "output_type": "stream",
          "name": "stderr",
          "text": [
            "\r 47%|████▋     | 936/2000 [59:47<1:07:04,  3.78s/it]"
          ]
        },
        {
          "output_type": "stream",
          "name": "stdout",
          "text": [
            "Crawl data with product_id 252583316\n"
          ]
        },
        {
          "output_type": "stream",
          "name": "stderr",
          "text": [
            "\r 47%|████▋     | 937/2000 [59:51<1:09:48,  3.94s/it]"
          ]
        },
        {
          "output_type": "stream",
          "name": "stdout",
          "text": [
            "Crawl data with product_id 198643641\n"
          ]
        },
        {
          "output_type": "stream",
          "name": "stderr",
          "text": [
            "\r 47%|████▋     | 938/2000 [59:55<1:11:44,  4.05s/it]"
          ]
        },
        {
          "output_type": "stream",
          "name": "stdout",
          "text": [
            "Crawl data with product_id 68774260\n"
          ]
        },
        {
          "output_type": "stream",
          "name": "stderr",
          "text": [
            "\r 47%|████▋     | 939/2000 [59:59<1:07:56,  3.84s/it]"
          ]
        },
        {
          "output_type": "stream",
          "name": "stdout",
          "text": [
            "Crawl data with product_id 77149795\n"
          ]
        },
        {
          "output_type": "stream",
          "name": "stderr",
          "text": [
            "\r 47%|████▋     | 940/2000 [1:00:04<1:16:23,  4.32s/it]"
          ]
        },
        {
          "output_type": "stream",
          "name": "stdout",
          "text": [
            "Crawl data with product_id 251547658\n"
          ]
        },
        {
          "output_type": "stream",
          "name": "stderr",
          "text": [
            "\r 47%|████▋     | 941/2000 [1:00:09<1:16:24,  4.33s/it]"
          ]
        },
        {
          "output_type": "stream",
          "name": "stdout",
          "text": [
            "Crawl data with product_id 247406907\n"
          ]
        },
        {
          "output_type": "stream",
          "name": "stderr",
          "text": [
            "\r 47%|████▋     | 942/2000 [1:00:13<1:16:22,  4.33s/it]"
          ]
        },
        {
          "output_type": "stream",
          "name": "stdout",
          "text": [
            "Crawl data with product_id 93843274\n"
          ]
        },
        {
          "output_type": "stream",
          "name": "stderr",
          "text": [
            "\r 47%|████▋     | 943/2000 [1:00:17<1:16:19,  4.33s/it]"
          ]
        },
        {
          "output_type": "stream",
          "name": "stdout",
          "text": [
            "Crawl data with product_id 199747163\n"
          ]
        },
        {
          "output_type": "stream",
          "name": "stderr",
          "text": [
            "\r 47%|████▋     | 944/2000 [1:00:22<1:16:07,  4.33s/it]"
          ]
        },
        {
          "output_type": "stream",
          "name": "stdout",
          "text": [
            "Crawl data with product_id 183540832\n"
          ]
        },
        {
          "output_type": "stream",
          "name": "stderr",
          "text": [
            "\r 47%|████▋     | 945/2000 [1:00:26<1:16:11,  4.33s/it]"
          ]
        },
        {
          "output_type": "stream",
          "name": "stdout",
          "text": [
            "Crawl data with product_id 205745317\n"
          ]
        },
        {
          "output_type": "stream",
          "name": "stderr",
          "text": [
            "\r 47%|████▋     | 946/2000 [1:00:29<1:10:53,  4.04s/it]"
          ]
        },
        {
          "output_type": "stream",
          "name": "stdout",
          "text": [
            "Crawl data with product_id 212992667\n"
          ]
        },
        {
          "output_type": "stream",
          "name": "stderr",
          "text": [
            "\r 47%|████▋     | 947/2000 [1:00:33<1:07:00,  3.82s/it]"
          ]
        },
        {
          "output_type": "stream",
          "name": "stdout",
          "text": [
            "Crawl data with product_id 176728299\n"
          ]
        },
        {
          "output_type": "stream",
          "name": "stderr",
          "text": [
            "\r 47%|████▋     | 948/2000 [1:00:37<1:09:36,  3.97s/it]"
          ]
        },
        {
          "output_type": "stream",
          "name": "stdout",
          "text": [
            "Crawl data with product_id 252912208\n"
          ]
        },
        {
          "output_type": "stream",
          "name": "stderr",
          "text": [
            "\r 47%|████▋     | 949/2000 [1:00:40<1:06:06,  3.77s/it]"
          ]
        },
        {
          "output_type": "stream",
          "name": "stdout",
          "text": [
            "Crawl data with product_id 17032444\n"
          ]
        },
        {
          "output_type": "stream",
          "name": "stderr",
          "text": [
            "\r 48%|████▊     | 950/2000 [1:00:44<1:03:41,  3.64s/it]"
          ]
        },
        {
          "output_type": "stream",
          "name": "stdout",
          "text": [
            "Crawl data with product_id 207829765\n"
          ]
        },
        {
          "output_type": "stream",
          "name": "stderr",
          "text": [
            "\r 48%|████▊     | 951/2000 [1:00:48<1:07:21,  3.85s/it]"
          ]
        },
        {
          "output_type": "stream",
          "name": "stdout",
          "text": [
            "Crawl data with product_id 73687713\n"
          ]
        },
        {
          "output_type": "stream",
          "name": "stderr",
          "text": [
            "\r 48%|████▊     | 952/2000 [1:00:52<1:09:51,  4.00s/it]"
          ]
        },
        {
          "output_type": "stream",
          "name": "stdout",
          "text": [
            "Crawl data with product_id 142115969\n"
          ]
        },
        {
          "output_type": "stream",
          "name": "stderr",
          "text": [
            "\r 48%|████▊     | 953/2000 [1:00:57<1:11:27,  4.10s/it]"
          ]
        },
        {
          "output_type": "stream",
          "name": "stdout",
          "text": [
            "Crawl data with product_id 185215683\n"
          ]
        },
        {
          "output_type": "stream",
          "name": "stderr",
          "text": [
            "\r 48%|████▊     | 954/2000 [1:01:01<1:13:07,  4.19s/it]"
          ]
        },
        {
          "output_type": "stream",
          "name": "stdout",
          "text": [
            "Crawl data with product_id 194117180\n"
          ]
        },
        {
          "output_type": "stream",
          "name": "stderr",
          "text": [
            "\r 48%|████▊     | 955/2000 [1:01:05<1:13:35,  4.23s/it]"
          ]
        },
        {
          "output_type": "stream",
          "name": "stdout",
          "text": [
            "Crawl data with product_id 109340912\n"
          ]
        },
        {
          "output_type": "stream",
          "name": "stderr",
          "text": [
            "\r 48%|████▊     | 956/2000 [1:01:10<1:13:56,  4.25s/it]"
          ]
        },
        {
          "output_type": "stream",
          "name": "stdout",
          "text": [
            "Crawl data with product_id 202626965\n"
          ]
        },
        {
          "output_type": "stream",
          "name": "stderr",
          "text": [
            "\r 48%|████▊     | 957/2000 [1:01:13<1:09:06,  3.98s/it]"
          ]
        },
        {
          "output_type": "stream",
          "name": "stdout",
          "text": [
            "Crawl data with product_id 602558\n"
          ]
        },
        {
          "output_type": "stream",
          "name": "stderr",
          "text": [
            "\r 48%|████▊     | 958/2000 [1:01:17<1:11:00,  4.09s/it]"
          ]
        },
        {
          "output_type": "stream",
          "name": "stdout",
          "text": [
            "Crawl data with product_id 181911929\n"
          ]
        },
        {
          "output_type": "stream",
          "name": "stderr",
          "text": [
            "\r 48%|████▊     | 959/2000 [1:01:22<1:12:22,  4.17s/it]"
          ]
        },
        {
          "output_type": "stream",
          "name": "stdout",
          "text": [
            "Crawl data with product_id 225264290\n"
          ]
        },
        {
          "output_type": "stream",
          "name": "stderr",
          "text": [
            "\r 48%|████▊     | 960/2000 [1:01:25<1:09:01,  3.98s/it]"
          ]
        },
        {
          "output_type": "stream",
          "name": "stdout",
          "text": [
            "Crawl data with product_id 35601082\n"
          ]
        },
        {
          "output_type": "stream",
          "name": "stderr",
          "text": [
            "\r 48%|████▊     | 961/2000 [1:01:29<1:05:34,  3.79s/it]"
          ]
        },
        {
          "output_type": "stream",
          "name": "stdout",
          "text": [
            "Crawl data with product_id 183531638\n"
          ]
        },
        {
          "output_type": "stream",
          "name": "stderr",
          "text": [
            "\r 48%|████▊     | 962/2000 [1:01:32<1:03:04,  3.65s/it]"
          ]
        },
        {
          "output_type": "stream",
          "name": "stdout",
          "text": [
            "Crawl data with product_id 214887339\n"
          ]
        },
        {
          "output_type": "stream",
          "name": "stderr",
          "text": [
            "\r 48%|████▊     | 963/2000 [1:01:35<1:01:10,  3.54s/it]"
          ]
        },
        {
          "output_type": "stream",
          "name": "stdout",
          "text": [
            "Crawl data with product_id 338825\n"
          ]
        },
        {
          "output_type": "stream",
          "name": "stderr",
          "text": [
            "\r 48%|████▊     | 964/2000 [1:01:39<1:05:14,  3.78s/it]"
          ]
        },
        {
          "output_type": "stream",
          "name": "stdout",
          "text": [
            "Crawl data with product_id 1003645\n"
          ]
        },
        {
          "output_type": "stream",
          "name": "stderr",
          "text": [
            "\r 48%|████▊     | 965/2000 [1:01:44<1:08:04,  3.95s/it]"
          ]
        },
        {
          "output_type": "stream",
          "name": "stdout",
          "text": [
            "Crawl data with product_id 59470972\n"
          ]
        },
        {
          "output_type": "stream",
          "name": "stderr",
          "text": [
            "\r 48%|████▊     | 966/2000 [1:01:48<1:10:00,  4.06s/it]"
          ]
        },
        {
          "output_type": "stream",
          "name": "stdout",
          "text": [
            "Crawl data with product_id 192950815\n"
          ]
        },
        {
          "output_type": "stream",
          "name": "stderr",
          "text": [
            "\r 48%|████▊     | 967/2000 [1:01:51<1:06:03,  3.84s/it]"
          ]
        },
        {
          "output_type": "stream",
          "name": "stdout",
          "text": [
            "Crawl data with product_id 158741136\n"
          ]
        },
        {
          "output_type": "stream",
          "name": "stderr",
          "text": [
            "\r 48%|████▊     | 968/2000 [1:01:56<1:08:32,  3.98s/it]"
          ]
        },
        {
          "output_type": "stream",
          "name": "stdout",
          "text": [
            "Crawl data with product_id 248757888\n"
          ]
        },
        {
          "output_type": "stream",
          "name": "stderr",
          "text": [
            "\r 48%|████▊     | 969/2000 [1:02:00<1:10:11,  4.08s/it]"
          ]
        },
        {
          "output_type": "stream",
          "name": "stdout",
          "text": [
            "Crawl data with product_id 199106258\n"
          ]
        },
        {
          "output_type": "stream",
          "name": "stderr",
          "text": [
            "\r 48%|████▊     | 970/2000 [1:02:04<1:11:15,  4.15s/it]"
          ]
        },
        {
          "output_type": "stream",
          "name": "stdout",
          "text": [
            "Crawl data with product_id 81506280\n"
          ]
        },
        {
          "output_type": "stream",
          "name": "stderr",
          "text": [
            "\r 49%|████▊     | 971/2000 [1:02:09<1:12:21,  4.22s/it]"
          ]
        },
        {
          "output_type": "stream",
          "name": "stdout",
          "text": [
            "Crawl data with product_id 215139700\n"
          ]
        },
        {
          "output_type": "stream",
          "name": "stderr",
          "text": [
            "\r 49%|████▊     | 972/2000 [1:02:13<1:12:44,  4.25s/it]"
          ]
        },
        {
          "output_type": "stream",
          "name": "stdout",
          "text": [
            "Crawl data with product_id 246163515\n"
          ]
        },
        {
          "output_type": "stream",
          "name": "stderr",
          "text": [
            "\r 49%|████▊     | 973/2000 [1:02:16<1:08:04,  3.98s/it]"
          ]
        },
        {
          "output_type": "stream",
          "name": "stdout",
          "text": [
            "Crawl data with product_id 146274127\n"
          ]
        },
        {
          "output_type": "stream",
          "name": "stderr",
          "text": [
            "\r 49%|████▊     | 974/2000 [1:02:21<1:09:34,  4.07s/it]"
          ]
        },
        {
          "output_type": "stream",
          "name": "stdout",
          "text": [
            "Crawl data with product_id 555128\n"
          ]
        },
        {
          "output_type": "stream",
          "name": "stderr",
          "text": [
            "\r 49%|████▉     | 975/2000 [1:02:24<1:05:42,  3.85s/it]"
          ]
        },
        {
          "output_type": "stream",
          "name": "stdout",
          "text": [
            "Crawl data with product_id 72557131\n"
          ]
        },
        {
          "output_type": "stream",
          "name": "stderr",
          "text": [
            "\r 49%|████▉     | 976/2000 [1:02:27<1:02:53,  3.68s/it]"
          ]
        },
        {
          "output_type": "stream",
          "name": "stdout",
          "text": [
            "Crawl data with product_id 249714124\n"
          ]
        },
        {
          "output_type": "stream",
          "name": "stderr",
          "text": [
            "\r 49%|████▉     | 977/2000 [1:02:31<1:00:55,  3.57s/it]"
          ]
        },
        {
          "output_type": "stream",
          "name": "stdout",
          "text": [
            "Crawl data with product_id 152568730\n"
          ]
        },
        {
          "output_type": "stream",
          "name": "stderr",
          "text": [
            "\r 49%|████▉     | 978/2000 [1:02:34<59:42,  3.51s/it]  "
          ]
        },
        {
          "output_type": "stream",
          "name": "stdout",
          "text": [
            "Crawl data with product_id 209602626\n"
          ]
        },
        {
          "output_type": "stream",
          "name": "stderr",
          "text": [
            "\r 49%|████▉     | 979/2000 [1:02:37<58:50,  3.46s/it]"
          ]
        },
        {
          "output_type": "stream",
          "name": "stdout",
          "text": [
            "Crawl data with product_id 55282245\n"
          ]
        },
        {
          "output_type": "stream",
          "name": "stderr",
          "text": [
            "\r 49%|████▉     | 980/2000 [1:02:41<58:02,  3.41s/it]"
          ]
        },
        {
          "output_type": "stream",
          "name": "stdout",
          "text": [
            "Crawl data with product_id 191389872\n"
          ]
        },
        {
          "output_type": "stream",
          "name": "stderr",
          "text": [
            "\r 49%|████▉     | 981/2000 [1:02:46<1:08:14,  4.02s/it]"
          ]
        },
        {
          "output_type": "stream",
          "name": "stdout",
          "text": [
            "Crawl data with product_id 88917386\n"
          ]
        },
        {
          "output_type": "stream",
          "name": "stderr",
          "text": [
            "\r 49%|████▉     | 982/2000 [1:02:49<1:04:39,  3.81s/it]"
          ]
        },
        {
          "output_type": "stream",
          "name": "stdout",
          "text": [
            "Crawl data with product_id 253563117\n"
          ]
        },
        {
          "output_type": "stream",
          "name": "stderr",
          "text": [
            "\r 49%|████▉     | 983/2000 [1:02:53<1:02:09,  3.67s/it]"
          ]
        },
        {
          "output_type": "stream",
          "name": "stdout",
          "text": [
            "Crawl data with product_id 249051764\n"
          ]
        },
        {
          "output_type": "stream",
          "name": "stderr",
          "text": [
            "\r 49%|████▉     | 984/2000 [1:02:57<1:05:26,  3.86s/it]"
          ]
        },
        {
          "output_type": "stream",
          "name": "stdout",
          "text": [
            "Crawl data with product_id 10735342\n"
          ]
        },
        {
          "output_type": "stream",
          "name": "stderr",
          "text": [
            "\r 49%|████▉     | 985/2000 [1:03:00<1:02:35,  3.70s/it]"
          ]
        },
        {
          "output_type": "stream",
          "name": "stdout",
          "text": [
            "Crawl data with product_id 85560623\n"
          ]
        },
        {
          "output_type": "stream",
          "name": "stderr",
          "text": [
            "\r 49%|████▉     | 986/2000 [1:03:05<1:05:33,  3.88s/it]"
          ]
        },
        {
          "output_type": "stream",
          "name": "stdout",
          "text": [
            "Crawl data with product_id 207782671\n"
          ]
        },
        {
          "output_type": "stream",
          "name": "stderr",
          "text": [
            "\r 49%|████▉     | 987/2000 [1:03:09<1:07:37,  4.01s/it]"
          ]
        },
        {
          "output_type": "stream",
          "name": "stdout",
          "text": [
            "Crawl data with product_id 324913\n"
          ]
        },
        {
          "output_type": "stream",
          "name": "stderr",
          "text": [
            "\r 49%|████▉     | 988/2000 [1:03:12<1:04:02,  3.80s/it]"
          ]
        },
        {
          "output_type": "stream",
          "name": "stdout",
          "text": [
            "Crawl data with product_id 250020300\n"
          ]
        },
        {
          "output_type": "stream",
          "name": "stderr",
          "text": [
            "\r 49%|████▉     | 989/2000 [1:03:17<1:06:37,  3.95s/it]"
          ]
        },
        {
          "output_type": "stream",
          "name": "stdout",
          "text": [
            "Crawl data with product_id 20443491\n"
          ]
        },
        {
          "output_type": "stream",
          "name": "stderr",
          "text": [
            "\r 50%|████▉     | 990/2000 [1:03:20<1:03:14,  3.76s/it]"
          ]
        },
        {
          "output_type": "stream",
          "name": "stdout",
          "text": [
            "Crawl data with product_id 79117379\n"
          ]
        },
        {
          "output_type": "stream",
          "name": "stderr",
          "text": [
            "\r 50%|████▉     | 991/2000 [1:03:24<1:06:00,  3.92s/it]"
          ]
        },
        {
          "output_type": "stream",
          "name": "stdout",
          "text": [
            "Crawl data with product_id 205537655\n"
          ]
        },
        {
          "output_type": "stream",
          "name": "stderr",
          "text": [
            "\r 50%|████▉     | 992/2000 [1:03:29<1:07:48,  4.04s/it]"
          ]
        },
        {
          "output_type": "stream",
          "name": "stdout",
          "text": [
            "Crawl data with product_id 149445479\n"
          ]
        },
        {
          "output_type": "stream",
          "name": "stderr",
          "text": [
            "\r 50%|████▉     | 993/2000 [1:03:33<1:09:15,  4.13s/it]"
          ]
        },
        {
          "output_type": "stream",
          "name": "stdout",
          "text": [
            "Crawl data with product_id 75490737\n"
          ]
        },
        {
          "output_type": "stream",
          "name": "stderr",
          "text": [
            "\r 50%|████▉     | 994/2000 [1:03:37<1:10:14,  4.19s/it]"
          ]
        },
        {
          "output_type": "stream",
          "name": "stdout",
          "text": [
            "Crawl data with product_id 181712438\n"
          ]
        },
        {
          "output_type": "stream",
          "name": "stderr",
          "text": [
            "\r 50%|████▉     | 995/2000 [1:03:42<1:10:51,  4.23s/it]"
          ]
        },
        {
          "output_type": "stream",
          "name": "stdout",
          "text": [
            "Crawl data with product_id 164464807\n"
          ]
        },
        {
          "output_type": "stream",
          "name": "stderr",
          "text": [
            "\r 50%|████▉     | 996/2000 [1:03:45<1:06:11,  3.96s/it]"
          ]
        },
        {
          "output_type": "stream",
          "name": "stdout",
          "text": [
            "Crawl data with product_id 777283\n"
          ]
        },
        {
          "output_type": "stream",
          "name": "stderr",
          "text": [
            "\r 50%|████▉     | 997/2000 [1:03:49<1:07:56,  4.06s/it]"
          ]
        },
        {
          "output_type": "stream",
          "name": "stdout",
          "text": [
            "Crawl data with product_id 225208996\n"
          ]
        },
        {
          "output_type": "stream",
          "name": "stderr",
          "text": [
            "\r 50%|████▉     | 998/2000 [1:03:53<1:04:18,  3.85s/it]"
          ]
        },
        {
          "output_type": "stream",
          "name": "stdout",
          "text": [
            "Crawl data with product_id 91273553\n"
          ]
        },
        {
          "output_type": "stream",
          "name": "stderr",
          "text": [
            "\r 50%|████▉     | 999/2000 [1:03:56<1:01:30,  3.69s/it]"
          ]
        },
        {
          "output_type": "stream",
          "name": "stdout",
          "text": [
            "Crawl data with product_id 132182826\n"
          ]
        },
        {
          "output_type": "stream",
          "name": "stderr",
          "text": [
            "\r 50%|█████     | 1000/2000 [1:04:00<1:04:35,  3.88s/it]"
          ]
        },
        {
          "output_type": "stream",
          "name": "stdout",
          "text": [
            "Crawl data with product_id 186254275\n"
          ]
        },
        {
          "output_type": "stream",
          "name": "stderr",
          "text": [
            "\r 50%|█████     | 1001/2000 [1:04:03<1:01:45,  3.71s/it]"
          ]
        },
        {
          "output_type": "stream",
          "name": "stdout",
          "text": [
            "Crawl data with product_id 175414421\n"
          ]
        },
        {
          "output_type": "stream",
          "name": "stderr",
          "text": [
            "\r 50%|█████     | 1002/2000 [1:04:08<1:04:49,  3.90s/it]"
          ]
        },
        {
          "output_type": "stream",
          "name": "stdout",
          "text": [
            "Crawl data with product_id 225385311\n"
          ]
        },
        {
          "output_type": "stream",
          "name": "stderr",
          "text": [
            "\r 50%|█████     | 1003/2000 [1:04:11<1:01:46,  3.72s/it]"
          ]
        },
        {
          "output_type": "stream",
          "name": "stdout",
          "text": [
            "Crawl data with product_id 201892206\n"
          ]
        },
        {
          "output_type": "stream",
          "name": "stderr",
          "text": [
            "\r 50%|█████     | 1004/2000 [1:04:14<59:49,  3.60s/it]  "
          ]
        },
        {
          "output_type": "stream",
          "name": "stdout",
          "text": [
            "Crawl data with product_id 186752990\n"
          ]
        },
        {
          "output_type": "stream",
          "name": "stderr",
          "text": [
            "\r 50%|█████     | 1005/2000 [1:04:19<1:03:25,  3.83s/it]"
          ]
        },
        {
          "output_type": "stream",
          "name": "stdout",
          "text": [
            "Crawl data with product_id 782280\n"
          ]
        },
        {
          "output_type": "stream",
          "name": "stderr",
          "text": [
            "\r 50%|█████     | 1006/2000 [1:04:23<1:05:59,  3.98s/it]"
          ]
        },
        {
          "output_type": "stream",
          "name": "stdout",
          "text": [
            "Crawl data with product_id 89012430\n"
          ]
        },
        {
          "output_type": "stream",
          "name": "stderr",
          "text": [
            "\r 50%|█████     | 1007/2000 [1:04:26<1:02:42,  3.79s/it]"
          ]
        },
        {
          "output_type": "stream",
          "name": "stdout",
          "text": [
            "Crawl data with product_id 249876834\n"
          ]
        },
        {
          "output_type": "stream",
          "name": "stderr",
          "text": [
            "\r 50%|█████     | 1008/2000 [1:04:31<1:05:18,  3.95s/it]"
          ]
        },
        {
          "output_type": "stream",
          "name": "stdout",
          "text": [
            "Crawl data with product_id 10104430\n"
          ]
        },
        {
          "output_type": "stream",
          "name": "stderr",
          "text": [
            "\r 50%|█████     | 1009/2000 [1:04:35<1:07:25,  4.08s/it]"
          ]
        },
        {
          "output_type": "stream",
          "name": "stdout",
          "text": [
            "Crawl data with product_id 108411035\n"
          ]
        },
        {
          "output_type": "stream",
          "name": "stderr",
          "text": [
            "\r 50%|█████     | 1010/2000 [1:04:39<1:03:43,  3.86s/it]"
          ]
        },
        {
          "output_type": "stream",
          "name": "stdout",
          "text": [
            "Crawl data with product_id 142405128\n"
          ]
        },
        {
          "output_type": "stream",
          "name": "stderr",
          "text": [
            "\r 51%|█████     | 1011/2000 [1:04:42<1:01:00,  3.70s/it]"
          ]
        },
        {
          "output_type": "stream",
          "name": "stdout",
          "text": [
            "Crawl data with product_id 181224910\n"
          ]
        },
        {
          "output_type": "stream",
          "name": "stderr",
          "text": [
            "\r 51%|█████     | 1012/2000 [1:04:45<59:02,  3.59s/it]  "
          ]
        },
        {
          "output_type": "stream",
          "name": "stdout",
          "text": [
            "Crawl data with product_id 375185\n"
          ]
        },
        {
          "output_type": "stream",
          "name": "stderr",
          "text": [
            "\r 51%|█████     | 1013/2000 [1:04:50<1:02:48,  3.82s/it]"
          ]
        },
        {
          "output_type": "stream",
          "name": "stdout",
          "text": [
            "Crawl data with product_id 214602905\n"
          ]
        },
        {
          "output_type": "stream",
          "name": "stderr",
          "text": [
            "\r 51%|█████     | 1014/2000 [1:04:54<1:05:27,  3.98s/it]"
          ]
        },
        {
          "output_type": "stream",
          "name": "stdout",
          "text": [
            "Crawl data with product_id 202771834\n"
          ]
        },
        {
          "output_type": "stream",
          "name": "stderr",
          "text": [
            "\r 51%|█████     | 1015/2000 [1:04:58<1:06:59,  4.08s/it]"
          ]
        },
        {
          "output_type": "stream",
          "name": "stdout",
          "text": [
            "Crawl data with product_id 145977550\n"
          ]
        },
        {
          "output_type": "stream",
          "name": "stderr",
          "text": [
            "\r 51%|█████     | 1016/2000 [1:05:02<1:03:23,  3.87s/it]"
          ]
        },
        {
          "output_type": "stream",
          "name": "stdout",
          "text": [
            "Crawl data with product_id 88197002\n"
          ]
        },
        {
          "output_type": "stream",
          "name": "stderr",
          "text": [
            "\r 51%|█████     | 1017/2000 [1:05:06<1:05:36,  4.00s/it]"
          ]
        },
        {
          "output_type": "stream",
          "name": "stdout",
          "text": [
            "Crawl data with product_id 204631066\n"
          ]
        },
        {
          "output_type": "stream",
          "name": "stderr",
          "text": [
            "\r 51%|█████     | 1018/2000 [1:05:10<1:07:15,  4.11s/it]"
          ]
        },
        {
          "output_type": "stream",
          "name": "stdout",
          "text": [
            "Crawl data with product_id 74292182\n"
          ]
        },
        {
          "output_type": "stream",
          "name": "stderr",
          "text": [
            "\r 51%|█████     | 1019/2000 [1:05:14<1:03:19,  3.87s/it]"
          ]
        },
        {
          "output_type": "stream",
          "name": "stdout",
          "text": [
            "Crawl data with product_id 6107997\n"
          ]
        },
        {
          "output_type": "stream",
          "name": "stderr",
          "text": [
            "\r 51%|█████     | 1020/2000 [1:05:17<1:00:41,  3.72s/it]"
          ]
        },
        {
          "output_type": "stream",
          "name": "stdout",
          "text": [
            "Crawl data with product_id 241899645\n"
          ]
        },
        {
          "output_type": "stream",
          "name": "stderr",
          "text": [
            "\r 51%|█████     | 1021/2000 [1:05:21<1:03:41,  3.90s/it]"
          ]
        },
        {
          "output_type": "stream",
          "name": "stdout",
          "text": [
            "Crawl data with product_id 54737807\n"
          ]
        },
        {
          "output_type": "stream",
          "name": "stderr",
          "text": [
            "\r 51%|█████     | 1022/2000 [1:05:26<1:05:55,  4.04s/it]"
          ]
        },
        {
          "output_type": "stream",
          "name": "stdout",
          "text": [
            "Crawl data with product_id 59049716\n"
          ]
        },
        {
          "output_type": "stream",
          "name": "stderr",
          "text": [
            "\r 51%|█████     | 1023/2000 [1:05:29<1:02:19,  3.83s/it]"
          ]
        },
        {
          "output_type": "stream",
          "name": "stdout",
          "text": [
            "Crawl data with product_id 184624043\n"
          ]
        },
        {
          "output_type": "stream",
          "name": "stderr",
          "text": [
            "\r 51%|█████     | 1024/2000 [1:05:32<59:56,  3.69s/it]  "
          ]
        },
        {
          "output_type": "stream",
          "name": "stdout",
          "text": [
            "Crawl data with product_id 190705740\n"
          ]
        },
        {
          "output_type": "stream",
          "name": "stderr",
          "text": [
            "\r 51%|█████▏    | 1025/2000 [1:05:37<1:02:59,  3.88s/it]"
          ]
        },
        {
          "output_type": "stream",
          "name": "stdout",
          "text": [
            "Crawl data with product_id 157194652\n"
          ]
        },
        {
          "output_type": "stream",
          "name": "stderr",
          "text": [
            "\r 51%|█████▏    | 1026/2000 [1:05:41<1:05:13,  4.02s/it]"
          ]
        },
        {
          "output_type": "stream",
          "name": "stdout",
          "text": [
            "Crawl data with product_id 112170225\n"
          ]
        },
        {
          "output_type": "stream",
          "name": "stderr",
          "text": [
            "\r 51%|█████▏    | 1027/2000 [1:05:45<1:06:37,  4.11s/it]"
          ]
        },
        {
          "output_type": "stream",
          "name": "stdout",
          "text": [
            "Crawl data with product_id 41868795\n"
          ]
        },
        {
          "output_type": "stream",
          "name": "stderr",
          "text": [
            "\r 51%|█████▏    | 1028/2000 [1:05:49<1:02:56,  3.89s/it]"
          ]
        },
        {
          "output_type": "stream",
          "name": "stdout",
          "text": [
            "Crawl data with product_id 90624603\n"
          ]
        },
        {
          "output_type": "stream",
          "name": "stderr",
          "text": [
            "\r 51%|█████▏    | 1029/2000 [1:05:52<1:00:06,  3.71s/it]"
          ]
        },
        {
          "output_type": "stream",
          "name": "stdout",
          "text": [
            "Crawl data with product_id 159050453\n"
          ]
        },
        {
          "output_type": "stream",
          "name": "stderr",
          "text": [
            "\r 52%|█████▏    | 1030/2000 [1:05:56<1:02:59,  3.90s/it]"
          ]
        },
        {
          "output_type": "stream",
          "name": "stdout",
          "text": [
            "Crawl data with product_id 155635824\n"
          ]
        },
        {
          "output_type": "stream",
          "name": "stderr",
          "text": [
            "\r 52%|█████▏    | 1031/2000 [1:06:01<1:05:22,  4.05s/it]"
          ]
        },
        {
          "output_type": "stream",
          "name": "stdout",
          "text": [
            "Crawl data with product_id 54046994\n"
          ]
        },
        {
          "output_type": "stream",
          "name": "stderr",
          "text": [
            "\r 52%|█████▏    | 1032/2000 [1:06:04<1:02:53,  3.90s/it]"
          ]
        },
        {
          "output_type": "stream",
          "name": "stdout",
          "text": [
            "Crawl data with product_id 77032223\n"
          ]
        },
        {
          "output_type": "stream",
          "name": "stderr",
          "text": [
            "\r 52%|█████▏    | 1033/2000 [1:06:09<1:05:01,  4.03s/it]"
          ]
        },
        {
          "output_type": "stream",
          "name": "stdout",
          "text": [
            "Crawl data with product_id 24262767\n"
          ]
        },
        {
          "output_type": "stream",
          "name": "stderr",
          "text": [
            "\r 52%|█████▏    | 1034/2000 [1:06:12<1:01:28,  3.82s/it]"
          ]
        },
        {
          "output_type": "stream",
          "name": "stdout",
          "text": [
            "Crawl data with product_id 148008783\n"
          ]
        },
        {
          "output_type": "stream",
          "name": "stderr",
          "text": [
            "\r 52%|█████▏    | 1035/2000 [1:06:16<1:04:08,  3.99s/it]"
          ]
        },
        {
          "output_type": "stream",
          "name": "stdout",
          "text": [
            "Crawl data with product_id 77230657\n"
          ]
        },
        {
          "output_type": "stream",
          "name": "stderr",
          "text": [
            "\r 52%|█████▏    | 1036/2000 [1:06:21<1:05:44,  4.09s/it]"
          ]
        },
        {
          "output_type": "stream",
          "name": "stdout",
          "text": [
            "Crawl data with product_id 249662744\n"
          ]
        },
        {
          "output_type": "stream",
          "name": "stderr",
          "text": [
            "\r 52%|█████▏    | 1037/2000 [1:06:24<1:02:07,  3.87s/it]"
          ]
        },
        {
          "output_type": "stream",
          "name": "stdout",
          "text": [
            "Crawl data with product_id 174651302\n"
          ]
        },
        {
          "output_type": "stream",
          "name": "stderr",
          "text": [
            "\r 52%|█████▏    | 1038/2000 [1:06:29<1:05:12,  4.07s/it]"
          ]
        },
        {
          "output_type": "stream",
          "name": "stdout",
          "text": [
            "Crawl data with product_id 172953037\n"
          ]
        },
        {
          "output_type": "stream",
          "name": "stderr",
          "text": [
            "\r 52%|█████▏    | 1039/2000 [1:06:33<1:06:28,  4.15s/it]"
          ]
        },
        {
          "output_type": "stream",
          "name": "stdout",
          "text": [
            "Crawl data with product_id 95039259\n"
          ]
        },
        {
          "output_type": "stream",
          "name": "stderr",
          "text": [
            "\r 52%|█████▏    | 1040/2000 [1:06:37<1:07:30,  4.22s/it]"
          ]
        },
        {
          "output_type": "stream",
          "name": "stdout",
          "text": [
            "Crawl data with product_id 74628930\n"
          ]
        },
        {
          "output_type": "stream",
          "name": "stderr",
          "text": [
            "\r 52%|█████▏    | 1041/2000 [1:06:42<1:08:02,  4.26s/it]"
          ]
        },
        {
          "output_type": "stream",
          "name": "stdout",
          "text": [
            "Crawl data with product_id 177016814\n"
          ]
        },
        {
          "output_type": "stream",
          "name": "stderr",
          "text": [
            "\r 52%|█████▏    | 1042/2000 [1:06:46<1:08:19,  4.28s/it]"
          ]
        },
        {
          "output_type": "stream",
          "name": "stdout",
          "text": [
            "Crawl data with product_id 253069849\n"
          ]
        },
        {
          "output_type": "stream",
          "name": "stderr",
          "text": [
            "\r 52%|█████▏    | 1043/2000 [1:06:49<1:04:03,  4.02s/it]"
          ]
        },
        {
          "output_type": "stream",
          "name": "stdout",
          "text": [
            "Crawl data with product_id 207908725\n"
          ]
        },
        {
          "output_type": "stream",
          "name": "stderr",
          "text": [
            "\r 52%|█████▏    | 1044/2000 [1:06:54<1:05:28,  4.11s/it]"
          ]
        },
        {
          "output_type": "stream",
          "name": "stdout",
          "text": [
            "Crawl data with product_id 247460146\n"
          ]
        },
        {
          "output_type": "stream",
          "name": "stderr",
          "text": [
            "\r 52%|█████▏    | 1045/2000 [1:06:57<1:01:43,  3.88s/it]"
          ]
        },
        {
          "output_type": "stream",
          "name": "stdout",
          "text": [
            "Crawl data with product_id 573716\n"
          ]
        },
        {
          "output_type": "stream",
          "name": "stderr",
          "text": [
            "\r 52%|█████▏    | 1046/2000 [1:07:01<1:03:46,  4.01s/it]"
          ]
        },
        {
          "output_type": "stream",
          "name": "stdout",
          "text": [
            "Crawl data with product_id 777491\n"
          ]
        },
        {
          "output_type": "stream",
          "name": "stderr",
          "text": [
            "\r 52%|█████▏    | 1047/2000 [1:07:05<1:00:21,  3.80s/it]"
          ]
        },
        {
          "output_type": "stream",
          "name": "stdout",
          "text": [
            "Crawl data with product_id 206374437\n"
          ]
        },
        {
          "output_type": "stream",
          "name": "stderr",
          "text": [
            "\r 52%|█████▏    | 1048/2000 [1:07:09<1:02:50,  3.96s/it]"
          ]
        },
        {
          "output_type": "stream",
          "name": "stdout",
          "text": [
            "Crawl data with product_id 185006253\n"
          ]
        },
        {
          "output_type": "stream",
          "name": "stderr",
          "text": [
            "\r 52%|█████▏    | 1049/2000 [1:07:13<1:04:28,  4.07s/it]"
          ]
        },
        {
          "output_type": "stream",
          "name": "stdout",
          "text": [
            "Crawl data with product_id 60393181\n"
          ]
        },
        {
          "output_type": "stream",
          "name": "stderr",
          "text": [
            "\r 52%|█████▎    | 1050/2000 [1:07:17<1:00:51,  3.84s/it]"
          ]
        },
        {
          "output_type": "stream",
          "name": "stdout",
          "text": [
            "Crawl data with product_id 69337686\n"
          ]
        },
        {
          "output_type": "stream",
          "name": "stderr",
          "text": [
            "\r 53%|█████▎    | 1051/2000 [1:07:20<58:14,  3.68s/it]  "
          ]
        },
        {
          "output_type": "stream",
          "name": "stdout",
          "text": [
            "Crawl data with product_id 205303851\n"
          ]
        },
        {
          "output_type": "stream",
          "name": "stderr",
          "text": [
            "\r 53%|█████▎    | 1052/2000 [1:07:23<56:34,  3.58s/it]"
          ]
        },
        {
          "output_type": "stream",
          "name": "stdout",
          "text": [
            "Crawl data with product_id 77721043\n"
          ]
        },
        {
          "output_type": "stream",
          "name": "stderr",
          "text": [
            "\r 53%|█████▎    | 1053/2000 [1:07:28<1:00:01,  3.80s/it]"
          ]
        },
        {
          "output_type": "stream",
          "name": "stdout",
          "text": [
            "Crawl data with product_id 138342179\n"
          ]
        },
        {
          "output_type": "stream",
          "name": "stderr",
          "text": [
            "\r 53%|█████▎    | 1054/2000 [1:07:32<1:02:28,  3.96s/it]"
          ]
        },
        {
          "output_type": "stream",
          "name": "stdout",
          "text": [
            "Crawl data with product_id 196423948\n"
          ]
        },
        {
          "output_type": "stream",
          "name": "stderr",
          "text": [
            "\r 53%|█████▎    | 1055/2000 [1:07:36<1:04:08,  4.07s/it]"
          ]
        },
        {
          "output_type": "stream",
          "name": "stdout",
          "text": [
            "Crawl data with product_id 251345289\n"
          ]
        },
        {
          "output_type": "stream",
          "name": "stderr",
          "text": [
            "\r 53%|█████▎    | 1056/2000 [1:07:40<1:00:30,  3.85s/it]"
          ]
        },
        {
          "output_type": "stream",
          "name": "stdout",
          "text": [
            "Crawl data with product_id 425731\n"
          ]
        },
        {
          "output_type": "stream",
          "name": "stderr",
          "text": [
            "\r 53%|█████▎    | 1057/2000 [1:07:44<1:02:48,  4.00s/it]"
          ]
        },
        {
          "output_type": "stream",
          "name": "stdout",
          "text": [
            "Crawl data with product_id 777517\n"
          ]
        },
        {
          "output_type": "stream",
          "name": "stderr",
          "text": [
            "\r 53%|█████▎    | 1058/2000 [1:07:47<59:35,  3.80s/it]  "
          ]
        },
        {
          "output_type": "stream",
          "name": "stdout",
          "text": [
            "Crawl data with product_id 56511985\n"
          ]
        },
        {
          "output_type": "stream",
          "name": "stderr",
          "text": [
            "\r 53%|█████▎    | 1059/2000 [1:07:51<57:16,  3.65s/it]"
          ]
        },
        {
          "output_type": "stream",
          "name": "stdout",
          "text": [
            "Crawl data with product_id 189642780\n"
          ]
        },
        {
          "output_type": "stream",
          "name": "stderr",
          "text": [
            "\r 53%|█████▎    | 1060/2000 [1:07:54<55:37,  3.55s/it]"
          ]
        },
        {
          "output_type": "stream",
          "name": "stdout",
          "text": [
            "Crawl data with product_id 36083772\n"
          ]
        },
        {
          "output_type": "stream",
          "name": "stderr",
          "text": [
            "\r 53%|█████▎    | 1061/2000 [1:07:58<59:11,  3.78s/it]"
          ]
        },
        {
          "output_type": "stream",
          "name": "stdout",
          "text": [
            "Crawl data with product_id 9810500\n"
          ]
        },
        {
          "output_type": "stream",
          "name": "stderr",
          "text": [
            "\r 53%|█████▎    | 1062/2000 [1:08:01<56:53,  3.64s/it]"
          ]
        },
        {
          "output_type": "stream",
          "name": "stdout",
          "text": [
            "Crawl data with product_id 154160972\n"
          ]
        },
        {
          "output_type": "stream",
          "name": "stderr",
          "text": [
            "\r 53%|█████▎    | 1063/2000 [1:08:05<55:26,  3.55s/it]"
          ]
        },
        {
          "output_type": "stream",
          "name": "stdout",
          "text": [
            "Crawl data with product_id 181122313\n"
          ]
        },
        {
          "output_type": "stream",
          "name": "stderr",
          "text": [
            "\r 53%|█████▎    | 1064/2000 [1:08:09<58:59,  3.78s/it]"
          ]
        },
        {
          "output_type": "stream",
          "name": "stdout",
          "text": [
            "Crawl data with product_id 199705143\n"
          ]
        },
        {
          "output_type": "stream",
          "name": "stderr",
          "text": [
            "\r 53%|█████▎    | 1065/2000 [1:08:12<56:51,  3.65s/it]"
          ]
        },
        {
          "output_type": "stream",
          "name": "stdout",
          "text": [
            "Crawl data with product_id 159814706\n"
          ]
        },
        {
          "output_type": "stream",
          "name": "stderr",
          "text": [
            "\r 53%|█████▎    | 1066/2000 [1:08:17<59:58,  3.85s/it]"
          ]
        },
        {
          "output_type": "stream",
          "name": "stdout",
          "text": [
            "Crawl data with product_id 98823252\n"
          ]
        },
        {
          "output_type": "stream",
          "name": "stderr",
          "text": [
            "\r 53%|█████▎    | 1067/2000 [1:08:20<57:26,  3.69s/it]"
          ]
        },
        {
          "output_type": "stream",
          "name": "stdout",
          "text": [
            "Crawl data with product_id 202182081\n"
          ]
        },
        {
          "output_type": "stream",
          "name": "stderr",
          "text": [
            "\r 53%|█████▎    | 1068/2000 [1:08:24<1:00:23,  3.89s/it]"
          ]
        },
        {
          "output_type": "stream",
          "name": "stdout",
          "text": [
            "Crawl data with product_id 1038492\n"
          ]
        },
        {
          "output_type": "stream",
          "name": "stderr",
          "text": [
            "\r 53%|█████▎    | 1069/2000 [1:08:29<1:02:25,  4.02s/it]"
          ]
        },
        {
          "output_type": "stream",
          "name": "stdout",
          "text": [
            "Crawl data with product_id 125528587\n"
          ]
        },
        {
          "output_type": "stream",
          "name": "stderr",
          "text": [
            "\r 54%|█████▎    | 1070/2000 [1:08:32<59:10,  3.82s/it]  "
          ]
        },
        {
          "output_type": "stream",
          "name": "stdout",
          "text": [
            "Crawl data with product_id 544537\n"
          ]
        },
        {
          "output_type": "stream",
          "name": "stderr",
          "text": [
            "\r 54%|█████▎    | 1071/2000 [1:08:35<56:46,  3.67s/it]"
          ]
        },
        {
          "output_type": "stream",
          "name": "stdout",
          "text": [
            "Crawl data with product_id 84565498\n"
          ]
        },
        {
          "output_type": "stream",
          "name": "stderr",
          "text": [
            "\r 54%|█████▎    | 1072/2000 [1:08:40<59:41,  3.86s/it]"
          ]
        },
        {
          "output_type": "stream",
          "name": "stdout",
          "text": [
            "Crawl data with product_id 111581991\n"
          ]
        },
        {
          "output_type": "stream",
          "name": "stderr",
          "text": [
            "\r 54%|█████▎    | 1073/2000 [1:08:43<57:09,  3.70s/it]"
          ]
        },
        {
          "output_type": "stream",
          "name": "stdout",
          "text": [
            "Crawl data with product_id 40429222\n"
          ]
        },
        {
          "output_type": "stream",
          "name": "stderr",
          "text": [
            "\r 54%|█████▎    | 1074/2000 [1:08:46<55:26,  3.59s/it]"
          ]
        },
        {
          "output_type": "stream",
          "name": "stdout",
          "text": [
            "Crawl data with product_id 58627102\n"
          ]
        },
        {
          "output_type": "stream",
          "name": "stderr",
          "text": [
            "\r 54%|█████▍    | 1075/2000 [1:08:51<58:52,  3.82s/it]"
          ]
        },
        {
          "output_type": "stream",
          "name": "stdout",
          "text": [
            "Crawl data with product_id 190843369\n"
          ]
        },
        {
          "output_type": "stream",
          "name": "stderr",
          "text": [
            "\r 54%|█████▍    | 1076/2000 [1:08:54<57:26,  3.73s/it]"
          ]
        },
        {
          "output_type": "stream",
          "name": "stdout",
          "text": [
            "Crawl data with product_id 44017480\n"
          ]
        },
        {
          "output_type": "stream",
          "name": "stderr",
          "text": [
            "\r 54%|█████▍    | 1077/2000 [1:08:58<55:35,  3.61s/it]"
          ]
        },
        {
          "output_type": "stream",
          "name": "stdout",
          "text": [
            "Crawl data with product_id 205695136\n"
          ]
        },
        {
          "output_type": "stream",
          "name": "stderr",
          "text": [
            "\r 54%|█████▍    | 1078/2000 [1:09:02<58:39,  3.82s/it]"
          ]
        },
        {
          "output_type": "stream",
          "name": "stdout",
          "text": [
            "Crawl data with product_id 77109217\n"
          ]
        },
        {
          "output_type": "stream",
          "name": "stderr",
          "text": [
            "\r 54%|█████▍    | 1079/2000 [1:09:05<56:35,  3.69s/it]"
          ]
        },
        {
          "output_type": "stream",
          "name": "stdout",
          "text": [
            "Crawl data with product_id 248160192\n"
          ]
        },
        {
          "output_type": "stream",
          "name": "stderr",
          "text": [
            "\r 54%|█████▍    | 1080/2000 [1:09:10<59:35,  3.89s/it]"
          ]
        },
        {
          "output_type": "stream",
          "name": "stdout",
          "text": [
            "Crawl data with product_id 7703755\n"
          ]
        },
        {
          "output_type": "stream",
          "name": "stderr",
          "text": [
            "\r 54%|█████▍    | 1081/2000 [1:09:14<1:01:34,  4.02s/it]"
          ]
        },
        {
          "output_type": "stream",
          "name": "stdout",
          "text": [
            "Crawl data with product_id 115852446\n"
          ]
        },
        {
          "output_type": "stream",
          "name": "stderr",
          "text": [
            "\r 54%|█████▍    | 1082/2000 [1:09:18<1:03:09,  4.13s/it]"
          ]
        },
        {
          "output_type": "stream",
          "name": "stdout",
          "text": [
            "Crawl data with product_id 109018532\n"
          ]
        },
        {
          "output_type": "stream",
          "name": "stderr",
          "text": [
            "\r 54%|█████▍    | 1083/2000 [1:09:22<59:23,  3.89s/it]  "
          ]
        },
        {
          "output_type": "stream",
          "name": "stdout",
          "text": [
            "Crawl data with product_id 129355973\n"
          ]
        },
        {
          "output_type": "stream",
          "name": "stderr",
          "text": [
            "\r 54%|█████▍    | 1084/2000 [1:09:25<57:46,  3.78s/it]"
          ]
        },
        {
          "output_type": "stream",
          "name": "stdout",
          "text": [
            "Crawl data with product_id 1989625\n"
          ]
        },
        {
          "output_type": "stream",
          "name": "stderr",
          "text": [
            "\r 54%|█████▍    | 1085/2000 [1:09:30<1:00:13,  3.95s/it]"
          ]
        },
        {
          "output_type": "stream",
          "name": "stdout",
          "text": [
            "Crawl data with product_id 191949999\n"
          ]
        },
        {
          "output_type": "stream",
          "name": "stderr",
          "text": [
            "\r 54%|█████▍    | 1086/2000 [1:09:33<57:24,  3.77s/it]  "
          ]
        },
        {
          "output_type": "stream",
          "name": "stdout",
          "text": [
            "Crawl data with product_id 23088719\n"
          ]
        },
        {
          "output_type": "stream",
          "name": "stderr",
          "text": [
            "\r 54%|█████▍    | 1087/2000 [1:09:37<59:53,  3.94s/it]"
          ]
        },
        {
          "output_type": "stream",
          "name": "stdout",
          "text": [
            "Crawl data with product_id 216406450\n"
          ]
        },
        {
          "output_type": "stream",
          "name": "stderr",
          "text": [
            "\r 54%|█████▍    | 1088/2000 [1:09:41<57:06,  3.76s/it]"
          ]
        },
        {
          "output_type": "stream",
          "name": "stdout",
          "text": [
            "Crawl data with product_id 89591450\n"
          ]
        },
        {
          "output_type": "stream",
          "name": "stderr",
          "text": [
            "\r 54%|█████▍    | 1089/2000 [1:09:45<59:35,  3.92s/it]"
          ]
        },
        {
          "output_type": "stream",
          "name": "stdout",
          "text": [
            "Crawl data with product_id 157822853\n"
          ]
        },
        {
          "output_type": "stream",
          "name": "stderr",
          "text": [
            "\r 55%|█████▍    | 1090/2000 [1:09:48<56:52,  3.75s/it]"
          ]
        },
        {
          "output_type": "stream",
          "name": "stdout",
          "text": [
            "Crawl data with product_id 102775969\n"
          ]
        },
        {
          "output_type": "stream",
          "name": "stderr",
          "text": [
            "\r 55%|█████▍    | 1091/2000 [1:09:52<54:49,  3.62s/it]"
          ]
        },
        {
          "output_type": "stream",
          "name": "stdout",
          "text": [
            "Crawl data with product_id 191077718\n"
          ]
        },
        {
          "output_type": "stream",
          "name": "stderr",
          "text": [
            "\r 55%|█████▍    | 1092/2000 [1:09:56<58:03,  3.84s/it]"
          ]
        },
        {
          "output_type": "stream",
          "name": "stdout",
          "text": [
            "Crawl data with product_id 217327340\n"
          ]
        },
        {
          "output_type": "stream",
          "name": "stderr",
          "text": [
            "\r 55%|█████▍    | 1093/2000 [1:10:00<1:00:19,  3.99s/it]"
          ]
        },
        {
          "output_type": "stream",
          "name": "stdout",
          "text": [
            "Crawl data with product_id 76106028\n"
          ]
        },
        {
          "output_type": "stream",
          "name": "stderr",
          "text": [
            "\r 55%|█████▍    | 1094/2000 [1:10:04<57:18,  3.80s/it]  "
          ]
        },
        {
          "output_type": "stream",
          "name": "stdout",
          "text": [
            "Crawl data with product_id 1738471\n"
          ]
        },
        {
          "output_type": "stream",
          "name": "stderr",
          "text": [
            "\r 55%|█████▍    | 1095/2000 [1:10:08<59:39,  3.96s/it]"
          ]
        },
        {
          "output_type": "stream",
          "name": "stdout",
          "text": [
            "Crawl data with product_id 202780633\n"
          ]
        },
        {
          "output_type": "stream",
          "name": "stderr",
          "text": [
            "\r 55%|█████▍    | 1096/2000 [1:10:11<56:38,  3.76s/it]"
          ]
        },
        {
          "output_type": "stream",
          "name": "stdout",
          "text": [
            "Crawl data with product_id 177860468\n"
          ]
        },
        {
          "output_type": "stream",
          "name": "stderr",
          "text": [
            "\r 55%|█████▍    | 1097/2000 [1:10:16<59:15,  3.94s/it]"
          ]
        },
        {
          "output_type": "stream",
          "name": "stdout",
          "text": [
            "Crawl data with product_id 57219190\n"
          ]
        },
        {
          "output_type": "stream",
          "name": "stderr",
          "text": [
            "\r 55%|█████▍    | 1098/2000 [1:10:19<57:15,  3.81s/it]"
          ]
        },
        {
          "output_type": "stream",
          "name": "stdout",
          "text": [
            "Crawl data with product_id 207891149\n"
          ]
        },
        {
          "output_type": "stream",
          "name": "stderr",
          "text": [
            "\r 55%|█████▍    | 1099/2000 [1:10:22<55:00,  3.66s/it]"
          ]
        },
        {
          "output_type": "stream",
          "name": "stdout",
          "text": [
            "Crawl data with product_id 73850984\n"
          ]
        },
        {
          "output_type": "stream",
          "name": "stderr",
          "text": [
            "\r 55%|█████▌    | 1100/2000 [1:10:26<53:34,  3.57s/it]"
          ]
        },
        {
          "output_type": "stream",
          "name": "stdout",
          "text": [
            "Crawl data with product_id 158235745\n"
          ]
        },
        {
          "output_type": "stream",
          "name": "stderr",
          "text": [
            "\r 55%|█████▌    | 1101/2000 [1:10:29<52:27,  3.50s/it]"
          ]
        },
        {
          "output_type": "stream",
          "name": "stdout",
          "text": [
            "Crawl data with product_id 52329762\n"
          ]
        },
        {
          "output_type": "stream",
          "name": "stderr",
          "text": [
            "\r 55%|█████▌    | 1102/2000 [1:10:32<51:36,  3.45s/it]"
          ]
        },
        {
          "output_type": "stream",
          "name": "stdout",
          "text": [
            "Crawl data with product_id 58413506\n"
          ]
        },
        {
          "output_type": "stream",
          "name": "stderr",
          "text": [
            "\r 55%|█████▌    | 1103/2000 [1:10:36<51:03,  3.41s/it]"
          ]
        },
        {
          "output_type": "stream",
          "name": "stdout",
          "text": [
            "Crawl data with product_id 26293598\n"
          ]
        },
        {
          "output_type": "stream",
          "name": "stderr",
          "text": [
            "\r 55%|█████▌    | 1104/2000 [1:10:39<50:31,  3.38s/it]"
          ]
        },
        {
          "output_type": "stream",
          "name": "stdout",
          "text": [
            "Crawl data with product_id 189255052\n"
          ]
        },
        {
          "output_type": "stream",
          "name": "stderr",
          "text": [
            "\r 55%|█████▌    | 1105/2000 [1:10:42<50:19,  3.37s/it]"
          ]
        },
        {
          "output_type": "stream",
          "name": "stdout",
          "text": [
            "Crawl data with product_id 572982\n"
          ]
        },
        {
          "output_type": "stream",
          "name": "stderr",
          "text": [
            "\r 55%|█████▌    | 1106/2000 [1:10:46<50:06,  3.36s/it]"
          ]
        },
        {
          "output_type": "stream",
          "name": "stdout",
          "text": [
            "Crawl data with product_id 202203396\n"
          ]
        },
        {
          "output_type": "stream",
          "name": "stderr",
          "text": [
            "\r 55%|█████▌    | 1107/2000 [1:10:50<54:22,  3.65s/it]"
          ]
        },
        {
          "output_type": "stream",
          "name": "stdout",
          "text": [
            "Crawl data with product_id 405012\n"
          ]
        },
        {
          "output_type": "stream",
          "name": "stderr",
          "text": [
            "\r 55%|█████▌    | 1108/2000 [1:10:53<52:49,  3.55s/it]"
          ]
        },
        {
          "output_type": "stream",
          "name": "stdout",
          "text": [
            "Crawl data with product_id 214493605\n"
          ]
        },
        {
          "output_type": "stream",
          "name": "stderr",
          "text": [
            "\r 55%|█████▌    | 1109/2000 [1:10:58<56:15,  3.79s/it]"
          ]
        },
        {
          "output_type": "stream",
          "name": "stdout",
          "text": [
            "Crawl data with product_id 248796471\n"
          ]
        },
        {
          "output_type": "stream",
          "name": "stderr",
          "text": [
            "\r 56%|█████▌    | 1110/2000 [1:11:02<58:38,  3.95s/it]"
          ]
        },
        {
          "output_type": "stream",
          "name": "stdout",
          "text": [
            "Crawl data with product_id 86267532\n"
          ]
        },
        {
          "output_type": "stream",
          "name": "stderr",
          "text": [
            "\r 56%|█████▌    | 1111/2000 [1:11:05<55:45,  3.76s/it]"
          ]
        },
        {
          "output_type": "stream",
          "name": "stdout",
          "text": [
            "Crawl data with product_id 190757840\n"
          ]
        },
        {
          "output_type": "stream",
          "name": "stderr",
          "text": [
            "\r 56%|█████▌    | 1112/2000 [1:11:10<58:12,  3.93s/it]"
          ]
        },
        {
          "output_type": "stream",
          "name": "stdout",
          "text": [
            "Crawl data with product_id 248688196\n"
          ]
        },
        {
          "output_type": "stream",
          "name": "stderr",
          "text": [
            "\r 56%|█████▌    | 1113/2000 [1:11:13<55:35,  3.76s/it]"
          ]
        },
        {
          "output_type": "stream",
          "name": "stdout",
          "text": [
            "Crawl data with product_id 176560456\n"
          ]
        },
        {
          "output_type": "stream",
          "name": "stderr",
          "text": [
            "\r 56%|█████▌    | 1114/2000 [1:11:18<58:54,  3.99s/it]"
          ]
        },
        {
          "output_type": "stream",
          "name": "stdout",
          "text": [
            "Crawl data with product_id 145420744\n"
          ]
        },
        {
          "output_type": "stream",
          "name": "stderr",
          "text": [
            "\r 56%|█████▌    | 1115/2000 [1:11:21<56:07,  3.80s/it]"
          ]
        },
        {
          "output_type": "stream",
          "name": "stdout",
          "text": [
            "Crawl data with product_id 107798663\n"
          ]
        },
        {
          "output_type": "stream",
          "name": "stderr",
          "text": [
            "\r 56%|█████▌    | 1116/2000 [1:11:25<58:20,  3.96s/it]"
          ]
        },
        {
          "output_type": "stream",
          "name": "stdout",
          "text": [
            "Crawl data with product_id 148105397\n"
          ]
        },
        {
          "output_type": "stream",
          "name": "stderr",
          "text": [
            "\r 56%|█████▌    | 1117/2000 [1:11:30<59:48,  4.06s/it]"
          ]
        },
        {
          "output_type": "stream",
          "name": "stdout",
          "text": [
            "Crawl data with product_id 217736422\n"
          ]
        },
        {
          "output_type": "stream",
          "name": "stderr",
          "text": [
            "\r 56%|█████▌    | 1118/2000 [1:11:34<1:00:57,  4.15s/it]"
          ]
        },
        {
          "output_type": "stream",
          "name": "stdout",
          "text": [
            "Crawl data with product_id 202780476\n"
          ]
        },
        {
          "output_type": "stream",
          "name": "stderr",
          "text": [
            "\r 56%|█████▌    | 1119/2000 [1:11:37<57:09,  3.89s/it]  "
          ]
        },
        {
          "output_type": "stream",
          "name": "stdout",
          "text": [
            "Crawl data with product_id 44313140\n"
          ]
        },
        {
          "output_type": "stream",
          "name": "stderr",
          "text": [
            "\r 56%|█████▌    | 1120/2000 [1:11:42<59:02,  4.03s/it]"
          ]
        },
        {
          "output_type": "stream",
          "name": "stdout",
          "text": [
            "Crawl data with product_id 142791749\n"
          ]
        },
        {
          "output_type": "stream",
          "name": "stderr",
          "text": [
            "\r 56%|█████▌    | 1121/2000 [1:11:45<55:45,  3.81s/it]"
          ]
        },
        {
          "output_type": "stream",
          "name": "stdout",
          "text": [
            "Crawl data with product_id 253381016\n"
          ]
        },
        {
          "output_type": "stream",
          "name": "stderr",
          "text": [
            "\r 56%|█████▌    | 1122/2000 [1:11:48<53:46,  3.68s/it]"
          ]
        },
        {
          "output_type": "stream",
          "name": "stdout",
          "text": [
            "Crawl data with product_id 158235710\n"
          ]
        },
        {
          "output_type": "stream",
          "name": "stderr",
          "text": [
            "\r 56%|█████▌    | 1123/2000 [1:11:53<56:39,  3.88s/it]"
          ]
        },
        {
          "output_type": "stream",
          "name": "stdout",
          "text": [
            "Crawl data with product_id 213562693\n"
          ]
        },
        {
          "output_type": "stream",
          "name": "stderr",
          "text": [
            "\r 56%|█████▌    | 1124/2000 [1:11:56<54:15,  3.72s/it]"
          ]
        },
        {
          "output_type": "stream",
          "name": "stdout",
          "text": [
            "Crawl data with product_id 158307840\n"
          ]
        },
        {
          "output_type": "stream",
          "name": "stderr",
          "text": [
            "\r 56%|█████▋    | 1125/2000 [1:11:59<52:26,  3.60s/it]"
          ]
        },
        {
          "output_type": "stream",
          "name": "stdout",
          "text": [
            "Crawl data with product_id 198565309\n"
          ]
        },
        {
          "output_type": "stream",
          "name": "stderr",
          "text": [
            "\r 56%|█████▋    | 1126/2000 [1:12:04<55:35,  3.82s/it]"
          ]
        },
        {
          "output_type": "stream",
          "name": "stdout",
          "text": [
            "Crawl data with product_id 82518894\n"
          ]
        },
        {
          "output_type": "stream",
          "name": "stderr",
          "text": [
            "\r 56%|█████▋    | 1127/2000 [1:12:08<59:08,  4.06s/it]"
          ]
        },
        {
          "output_type": "stream",
          "name": "stdout",
          "text": [
            "Crawl data with product_id 163902722\n"
          ]
        },
        {
          "output_type": "stream",
          "name": "stderr",
          "text": [
            "\r 56%|█████▋    | 1128/2000 [1:12:12<55:50,  3.84s/it]"
          ]
        },
        {
          "output_type": "stream",
          "name": "stdout",
          "text": [
            "Crawl data with product_id 91552304\n"
          ]
        },
        {
          "output_type": "stream",
          "name": "stderr",
          "text": [
            "\r 56%|█████▋    | 1129/2000 [1:12:15<53:35,  3.69s/it]"
          ]
        },
        {
          "output_type": "stream",
          "name": "stdout",
          "text": [
            "Crawl data with product_id 248552577\n"
          ]
        },
        {
          "output_type": "stream",
          "name": "stderr",
          "text": [
            "\r 56%|█████▋    | 1130/2000 [1:12:18<52:55,  3.65s/it]"
          ]
        },
        {
          "output_type": "stream",
          "name": "stdout",
          "text": [
            "Crawl data with product_id 248372070\n"
          ]
        },
        {
          "output_type": "stream",
          "name": "stderr",
          "text": [
            "\r 57%|█████▋    | 1131/2000 [1:12:22<51:39,  3.57s/it]"
          ]
        },
        {
          "output_type": "stream",
          "name": "stdout",
          "text": [
            "Crawl data with product_id 261967577\n"
          ]
        },
        {
          "output_type": "stream",
          "name": "stderr",
          "text": [
            "\r 57%|█████▋    | 1132/2000 [1:12:26<54:55,  3.80s/it]"
          ]
        },
        {
          "output_type": "stream",
          "name": "stdout",
          "text": [
            "Crawl data with product_id 67716349\n"
          ]
        },
        {
          "output_type": "stream",
          "name": "stderr",
          "text": [
            "\r 57%|█████▋    | 1133/2000 [1:12:31<57:55,  4.01s/it]"
          ]
        },
        {
          "output_type": "stream",
          "name": "stdout",
          "text": [
            "Crawl data with product_id 130927334\n"
          ]
        },
        {
          "output_type": "stream",
          "name": "stderr",
          "text": [
            "\r 57%|█████▋    | 1134/2000 [1:12:35<59:18,  4.11s/it]"
          ]
        },
        {
          "output_type": "stream",
          "name": "stdout",
          "text": [
            "Crawl data with product_id 262550957\n"
          ]
        },
        {
          "output_type": "stream",
          "name": "stderr",
          "text": [
            "\r 57%|█████▋    | 1135/2000 [1:12:38<55:51,  3.87s/it]"
          ]
        },
        {
          "output_type": "stream",
          "name": "stdout",
          "text": [
            "Crawl data with product_id 225947931\n"
          ]
        },
        {
          "output_type": "stream",
          "name": "stderr",
          "text": [
            "\r 57%|█████▋    | 1136/2000 [1:12:43<57:43,  4.01s/it]"
          ]
        },
        {
          "output_type": "stream",
          "name": "stdout",
          "text": [
            "Crawl data with product_id 160621646\n"
          ]
        },
        {
          "output_type": "stream",
          "name": "stderr",
          "text": [
            "\r 57%|█████▋    | 1137/2000 [1:12:47<1:00:14,  4.19s/it]"
          ]
        },
        {
          "output_type": "stream",
          "name": "stdout",
          "text": [
            "Crawl data with product_id 52406627\n"
          ]
        },
        {
          "output_type": "stream",
          "name": "stderr",
          "text": [
            "\r 57%|█████▋    | 1138/2000 [1:12:52<1:00:59,  4.24s/it]"
          ]
        },
        {
          "output_type": "stream",
          "name": "stdout",
          "text": [
            "Crawl data with product_id 3480269\n"
          ]
        },
        {
          "output_type": "stream",
          "name": "stderr",
          "text": [
            "\r 57%|█████▋    | 1139/2000 [1:12:56<1:01:12,  4.27s/it]"
          ]
        },
        {
          "output_type": "stream",
          "name": "stdout",
          "text": [
            "Crawl data with product_id 106243541\n"
          ]
        },
        {
          "output_type": "stream",
          "name": "stderr",
          "text": [
            "\r 57%|█████▋    | 1140/2000 [1:13:00<1:01:35,  4.30s/it]"
          ]
        },
        {
          "output_type": "stream",
          "name": "stdout",
          "text": [
            "Crawl data with product_id 2621701\n"
          ]
        },
        {
          "output_type": "stream",
          "name": "stderr",
          "text": [
            "\r 57%|█████▋    | 1141/2000 [1:13:05<1:01:39,  4.31s/it]"
          ]
        },
        {
          "output_type": "stream",
          "name": "stdout",
          "text": [
            "Crawl data with product_id 225913458\n"
          ]
        },
        {
          "output_type": "stream",
          "name": "stderr",
          "text": [
            "\r 57%|█████▋    | 1142/2000 [1:13:09<1:01:40,  4.31s/it]"
          ]
        },
        {
          "output_type": "stream",
          "name": "stdout",
          "text": [
            "Crawl data with product_id 204421373\n"
          ]
        },
        {
          "output_type": "stream",
          "name": "stderr",
          "text": [
            "\r 57%|█████▋    | 1143/2000 [1:13:12<57:21,  4.02s/it]  "
          ]
        },
        {
          "output_type": "stream",
          "name": "stdout",
          "text": [
            "Crawl data with product_id 195861770\n"
          ]
        },
        {
          "output_type": "stream",
          "name": "stderr",
          "text": [
            "\r 57%|█████▋    | 1144/2000 [1:13:17<58:38,  4.11s/it]"
          ]
        },
        {
          "output_type": "stream",
          "name": "stdout",
          "text": [
            "Crawl data with product_id 35010886\n"
          ]
        },
        {
          "output_type": "stream",
          "name": "stderr",
          "text": [
            "\r 57%|█████▋    | 1145/2000 [1:13:21<59:34,  4.18s/it]"
          ]
        },
        {
          "output_type": "stream",
          "name": "stdout",
          "text": [
            "Crawl data with product_id 192048663\n"
          ]
        },
        {
          "output_type": "stream",
          "name": "stderr",
          "text": [
            "\r 57%|█████▋    | 1146/2000 [1:13:25<1:00:12,  4.23s/it]"
          ]
        },
        {
          "output_type": "stream",
          "name": "stdout",
          "text": [
            "Crawl data with product_id 32217316\n"
          ]
        },
        {
          "output_type": "stream",
          "name": "stderr",
          "text": [
            "\r 57%|█████▋    | 1147/2000 [1:13:29<56:10,  3.95s/it]  "
          ]
        },
        {
          "output_type": "stream",
          "name": "stdout",
          "text": [
            "Crawl data with product_id 564848\n"
          ]
        },
        {
          "output_type": "stream",
          "name": "stderr",
          "text": [
            "\r 57%|█████▋    | 1148/2000 [1:13:33<57:44,  4.07s/it]"
          ]
        },
        {
          "output_type": "stream",
          "name": "stdout",
          "text": [
            "Crawl data with product_id 215936195\n"
          ]
        },
        {
          "output_type": "stream",
          "name": "stderr",
          "text": [
            "\r 57%|█████▋    | 1149/2000 [1:13:37<58:44,  4.14s/it]"
          ]
        },
        {
          "output_type": "stream",
          "name": "stdout",
          "text": [
            "Crawl data with product_id 1953613\n"
          ]
        },
        {
          "output_type": "stream",
          "name": "stderr",
          "text": [
            "\r 57%|█████▊    | 1150/2000 [1:13:41<57:57,  4.09s/it]"
          ]
        },
        {
          "output_type": "stream",
          "name": "stdout",
          "text": [
            "Crawl data with product_id 252097499\n"
          ]
        },
        {
          "output_type": "stream",
          "name": "stderr",
          "text": [
            "\r 58%|█████▊    | 1151/2000 [1:13:45<54:38,  3.86s/it]"
          ]
        },
        {
          "output_type": "stream",
          "name": "stdout",
          "text": [
            "Crawl data with product_id 20700672\n"
          ]
        },
        {
          "output_type": "stream",
          "name": "stderr",
          "text": [
            "\r 58%|█████▊    | 1152/2000 [1:13:48<52:11,  3.69s/it]"
          ]
        },
        {
          "output_type": "stream",
          "name": "stdout",
          "text": [
            "Crawl data with product_id 106032999\n"
          ]
        },
        {
          "output_type": "stream",
          "name": "stderr",
          "text": [
            "\r 58%|█████▊    | 1153/2000 [1:13:52<54:46,  3.88s/it]"
          ]
        },
        {
          "output_type": "stream",
          "name": "stdout",
          "text": [
            "Crawl data with product_id 91553053\n"
          ]
        },
        {
          "output_type": "stream",
          "name": "stderr",
          "text": [
            "\r 58%|█████▊    | 1154/2000 [1:13:57<56:33,  4.01s/it]"
          ]
        },
        {
          "output_type": "stream",
          "name": "stdout",
          "text": [
            "Crawl data with product_id 87931051\n"
          ]
        },
        {
          "output_type": "stream",
          "name": "stderr",
          "text": [
            "\r 58%|█████▊    | 1155/2000 [1:14:00<53:40,  3.81s/it]"
          ]
        },
        {
          "output_type": "stream",
          "name": "stdout",
          "text": [
            "Crawl data with product_id 49550295\n"
          ]
        },
        {
          "output_type": "stream",
          "name": "stderr",
          "text": [
            "\r 58%|█████▊    | 1156/2000 [1:14:03<51:30,  3.66s/it]"
          ]
        },
        {
          "output_type": "stream",
          "name": "stdout",
          "text": [
            "Crawl data with product_id 696038\n"
          ]
        },
        {
          "output_type": "stream",
          "name": "stderr",
          "text": [
            "\r 58%|█████▊    | 1157/2000 [1:14:08<54:18,  3.87s/it]"
          ]
        },
        {
          "output_type": "stream",
          "name": "stdout",
          "text": [
            "Crawl data with product_id 260795323\n"
          ]
        },
        {
          "output_type": "stream",
          "name": "stderr",
          "text": [
            "\r 58%|█████▊    | 1158/2000 [1:14:11<54:34,  3.89s/it]"
          ]
        },
        {
          "output_type": "stream",
          "name": "stdout",
          "text": [
            "Crawl data with product_id 255352519\n"
          ]
        },
        {
          "output_type": "stream",
          "name": "stderr",
          "text": [
            "\r 58%|█████▊    | 1159/2000 [1:14:15<52:15,  3.73s/it]"
          ]
        },
        {
          "output_type": "stream",
          "name": "stdout",
          "text": [
            "Crawl data with product_id 68119457\n"
          ]
        },
        {
          "output_type": "stream",
          "name": "stderr",
          "text": [
            "\r 58%|█████▊    | 1160/2000 [1:14:19<54:47,  3.91s/it]"
          ]
        },
        {
          "output_type": "stream",
          "name": "stdout",
          "text": [
            "Crawl data with product_id 79409010\n"
          ]
        },
        {
          "output_type": "stream",
          "name": "stderr",
          "text": [
            "\r 58%|█████▊    | 1161/2000 [1:14:23<52:15,  3.74s/it]"
          ]
        },
        {
          "output_type": "stream",
          "name": "stdout",
          "text": [
            "Crawl data with product_id 11370512\n"
          ]
        },
        {
          "output_type": "stream",
          "name": "stderr",
          "text": [
            "\r 58%|█████▊    | 1162/2000 [1:14:27<54:48,  3.92s/it]"
          ]
        },
        {
          "output_type": "stream",
          "name": "stdout",
          "text": [
            "Crawl data with product_id 247406901\n"
          ]
        },
        {
          "output_type": "stream",
          "name": "stderr",
          "text": [
            "\r 58%|█████▊    | 1163/2000 [1:14:31<56:30,  4.05s/it]"
          ]
        },
        {
          "output_type": "stream",
          "name": "stdout",
          "text": [
            "Crawl data with product_id 28284599\n"
          ]
        },
        {
          "output_type": "stream",
          "name": "stderr",
          "text": [
            "\r 58%|█████▊    | 1164/2000 [1:14:35<53:28,  3.84s/it]"
          ]
        },
        {
          "output_type": "stream",
          "name": "stdout",
          "text": [
            "Crawl data with product_id 101780461\n"
          ]
        },
        {
          "output_type": "stream",
          "name": "stderr",
          "text": [
            "\r 58%|█████▊    | 1165/2000 [1:14:38<51:35,  3.71s/it]"
          ]
        },
        {
          "output_type": "stream",
          "name": "stdout",
          "text": [
            "Crawl data with product_id 195827102\n"
          ]
        },
        {
          "output_type": "stream",
          "name": "stderr",
          "text": [
            "\r 58%|█████▊    | 1166/2000 [1:14:41<49:59,  3.60s/it]"
          ]
        },
        {
          "output_type": "stream",
          "name": "stdout",
          "text": [
            "Crawl data with product_id 10366399\n"
          ]
        },
        {
          "output_type": "stream",
          "name": "stderr",
          "text": [
            "\r 58%|█████▊    | 1167/2000 [1:14:45<48:52,  3.52s/it]"
          ]
        },
        {
          "output_type": "stream",
          "name": "stdout",
          "text": [
            "Crawl data with product_id 44984265\n"
          ]
        },
        {
          "output_type": "stream",
          "name": "stderr",
          "text": [
            "\r 58%|█████▊    | 1168/2000 [1:14:48<48:07,  3.47s/it]"
          ]
        },
        {
          "output_type": "stream",
          "name": "stdout",
          "text": [
            "Crawl data with product_id 194456439\n"
          ]
        },
        {
          "output_type": "stream",
          "name": "stderr",
          "text": [
            "\r 58%|█████▊    | 1169/2000 [1:14:51<47:27,  3.43s/it]"
          ]
        },
        {
          "output_type": "stream",
          "name": "stdout",
          "text": [
            "Crawl data with product_id 57350384\n"
          ]
        },
        {
          "output_type": "stream",
          "name": "stderr",
          "text": [
            "\r 58%|█████▊    | 1170/2000 [1:14:55<47:09,  3.41s/it]"
          ]
        },
        {
          "output_type": "stream",
          "name": "stdout",
          "text": [
            "Crawl data with product_id 207782507\n"
          ]
        },
        {
          "output_type": "stream",
          "name": "stderr",
          "text": [
            "\r 59%|█████▊    | 1171/2000 [1:14:58<46:47,  3.39s/it]"
          ]
        },
        {
          "output_type": "stream",
          "name": "stdout",
          "text": [
            "Crawl data with product_id 198587718\n"
          ]
        },
        {
          "output_type": "stream",
          "name": "stderr",
          "text": [
            "\r 59%|█████▊    | 1172/2000 [1:15:02<50:38,  3.67s/it]"
          ]
        },
        {
          "output_type": "stream",
          "name": "stdout",
          "text": [
            "Crawl data with product_id 241899619\n"
          ]
        },
        {
          "output_type": "stream",
          "name": "stderr",
          "text": [
            "\r 59%|█████▊    | 1173/2000 [1:15:07<53:22,  3.87s/it]"
          ]
        },
        {
          "output_type": "stream",
          "name": "stdout",
          "text": [
            "Crawl data with product_id 186577957\n"
          ]
        },
        {
          "output_type": "stream",
          "name": "stderr",
          "text": [
            "\r 59%|█████▊    | 1174/2000 [1:15:10<51:02,  3.71s/it]"
          ]
        },
        {
          "output_type": "stream",
          "name": "stdout",
          "text": [
            "Crawl data with product_id 39322176\n"
          ]
        },
        {
          "output_type": "stream",
          "name": "stderr",
          "text": [
            "\r 59%|█████▉    | 1175/2000 [1:15:13<49:19,  3.59s/it]"
          ]
        },
        {
          "output_type": "stream",
          "name": "stdout",
          "text": [
            "Crawl data with product_id 199963042\n"
          ]
        },
        {
          "output_type": "stream",
          "name": "stderr",
          "text": [
            "\r 59%|█████▉    | 1176/2000 [1:15:18<52:19,  3.81s/it]"
          ]
        },
        {
          "output_type": "stream",
          "name": "stdout",
          "text": [
            "Crawl data with product_id 242449827\n"
          ]
        },
        {
          "output_type": "stream",
          "name": "stderr",
          "text": [
            "\r 59%|█████▉    | 1177/2000 [1:15:22<54:21,  3.96s/it]"
          ]
        },
        {
          "output_type": "stream",
          "name": "stdout",
          "text": [
            "Crawl data with product_id 48481710\n"
          ]
        },
        {
          "output_type": "stream",
          "name": "stderr",
          "text": [
            "\r 59%|█████▉    | 1178/2000 [1:15:25<51:38,  3.77s/it]"
          ]
        },
        {
          "output_type": "stream",
          "name": "stdout",
          "text": [
            "Crawl data with product_id 252857451\n"
          ]
        },
        {
          "output_type": "stream",
          "name": "stderr",
          "text": [
            "\r 59%|█████▉    | 1179/2000 [1:15:30<54:00,  3.95s/it]"
          ]
        },
        {
          "output_type": "stream",
          "name": "stdout",
          "text": [
            "Crawl data with product_id 109368962\n"
          ]
        },
        {
          "output_type": "stream",
          "name": "stderr",
          "text": [
            "\r 59%|█████▉    | 1180/2000 [1:15:33<51:19,  3.76s/it]"
          ]
        },
        {
          "output_type": "stream",
          "name": "stdout",
          "text": [
            "Crawl data with product_id 54609022\n"
          ]
        },
        {
          "output_type": "stream",
          "name": "stderr",
          "text": [
            "\r 59%|█████▉    | 1181/2000 [1:15:37<53:37,  3.93s/it]"
          ]
        },
        {
          "output_type": "stream",
          "name": "stdout",
          "text": [
            "Crawl data with product_id 247290870\n"
          ]
        },
        {
          "output_type": "stream",
          "name": "stderr",
          "text": [
            "\r 59%|█████▉    | 1182/2000 [1:15:42<55:07,  4.04s/it]"
          ]
        },
        {
          "output_type": "stream",
          "name": "stdout",
          "text": [
            "Crawl data with product_id 242282052\n"
          ]
        },
        {
          "output_type": "stream",
          "name": "stderr",
          "text": [
            "\r 59%|█████▉    | 1183/2000 [1:15:46<56:15,  4.13s/it]"
          ]
        },
        {
          "output_type": "stream",
          "name": "stdout",
          "text": [
            "Crawl data with product_id 73525650\n"
          ]
        },
        {
          "output_type": "stream",
          "name": "stderr",
          "text": [
            "\r 59%|█████▉    | 1184/2000 [1:15:50<56:55,  4.19s/it]"
          ]
        },
        {
          "output_type": "stream",
          "name": "stdout",
          "text": [
            "Crawl data with product_id 56878220\n"
          ]
        },
        {
          "output_type": "stream",
          "name": "stderr",
          "text": [
            "\r 59%|█████▉    | 1185/2000 [1:15:54<53:14,  3.92s/it]"
          ]
        },
        {
          "output_type": "stream",
          "name": "stdout",
          "text": [
            "Crawl data with product_id 99681443\n"
          ]
        },
        {
          "output_type": "stream",
          "name": "stderr",
          "text": [
            "\r 59%|█████▉    | 1186/2000 [1:15:57<50:46,  3.74s/it]"
          ]
        },
        {
          "output_type": "stream",
          "name": "stdout",
          "text": [
            "Crawl data with product_id 86270918\n"
          ]
        },
        {
          "output_type": "stream",
          "name": "stderr",
          "text": [
            "\r 59%|█████▉    | 1187/2000 [1:16:00<49:03,  3.62s/it]"
          ]
        },
        {
          "output_type": "stream",
          "name": "stdout",
          "text": [
            "Crawl data with product_id 75697495\n"
          ]
        },
        {
          "output_type": "stream",
          "name": "stderr",
          "text": [
            "\r 59%|█████▉    | 1188/2000 [1:16:05<51:57,  3.84s/it]"
          ]
        },
        {
          "output_type": "stream",
          "name": "stdout",
          "text": [
            "Crawl data with product_id 9798606\n"
          ]
        },
        {
          "output_type": "stream",
          "name": "stderr",
          "text": [
            "\r 59%|█████▉    | 1189/2000 [1:16:09<53:56,  3.99s/it]"
          ]
        },
        {
          "output_type": "stream",
          "name": "stdout",
          "text": [
            "Crawl data with product_id 42873277\n"
          ]
        },
        {
          "output_type": "stream",
          "name": "stderr",
          "text": [
            "\r 60%|█████▉    | 1190/2000 [1:16:13<55:11,  4.09s/it]"
          ]
        },
        {
          "output_type": "stream",
          "name": "stdout",
          "text": [
            "Crawl data with product_id 188727210\n"
          ]
        },
        {
          "output_type": "stream",
          "name": "stderr",
          "text": [
            "\r 60%|█████▉    | 1191/2000 [1:16:18<56:14,  4.17s/it]"
          ]
        },
        {
          "output_type": "stream",
          "name": "stdout",
          "text": [
            "Crawl data with product_id 184218176\n"
          ]
        },
        {
          "output_type": "stream",
          "name": "stderr",
          "text": [
            "\r 60%|█████▉    | 1192/2000 [1:16:21<52:49,  3.92s/it]"
          ]
        },
        {
          "output_type": "stream",
          "name": "stdout",
          "text": [
            "Crawl data with product_id 200970761\n"
          ]
        },
        {
          "output_type": "stream",
          "name": "stderr",
          "text": [
            "\r 60%|█████▉    | 1193/2000 [1:16:26<56:57,  4.23s/it]"
          ]
        },
        {
          "output_type": "stream",
          "name": "stdout",
          "text": [
            "Crawl data with product_id 148023206\n"
          ]
        },
        {
          "output_type": "stream",
          "name": "stderr",
          "text": [
            "\r 60%|█████▉    | 1194/2000 [1:16:30<57:46,  4.30s/it]"
          ]
        },
        {
          "output_type": "stream",
          "name": "stdout",
          "text": [
            "Crawl data with product_id 87236131\n"
          ]
        },
        {
          "output_type": "stream",
          "name": "stderr",
          "text": [
            "\r 60%|█████▉    | 1195/2000 [1:16:34<53:48,  4.01s/it]"
          ]
        },
        {
          "output_type": "stream",
          "name": "stdout",
          "text": [
            "Crawl data with product_id 242431170\n"
          ]
        },
        {
          "output_type": "stream",
          "name": "stderr",
          "text": [
            "\r 60%|█████▉    | 1196/2000 [1:16:38<55:05,  4.11s/it]"
          ]
        },
        {
          "output_type": "stream",
          "name": "stdout",
          "text": [
            "Crawl data with product_id 214093796\n"
          ]
        },
        {
          "output_type": "stream",
          "name": "stderr",
          "text": [
            "\r 60%|█████▉    | 1197/2000 [1:16:41<51:52,  3.88s/it]"
          ]
        },
        {
          "output_type": "stream",
          "name": "stdout",
          "text": [
            "Crawl data with product_id 69337681\n"
          ]
        },
        {
          "output_type": "stream",
          "name": "stderr",
          "text": [
            "\r 60%|█████▉    | 1198/2000 [1:16:46<53:37,  4.01s/it]"
          ]
        },
        {
          "output_type": "stream",
          "name": "stdout",
          "text": [
            "Crawl data with product_id 1651893\n"
          ]
        },
        {
          "output_type": "stream",
          "name": "stderr",
          "text": [
            "\r 60%|█████▉    | 1199/2000 [1:16:49<50:45,  3.80s/it]"
          ]
        },
        {
          "output_type": "stream",
          "name": "stdout",
          "text": [
            "Crawl data with product_id 199142024\n"
          ]
        },
        {
          "output_type": "stream",
          "name": "stderr",
          "text": [
            "\r 60%|██████    | 1200/2000 [1:16:52<48:50,  3.66s/it]"
          ]
        },
        {
          "output_type": "stream",
          "name": "stdout",
          "text": [
            "Crawl data with product_id 73259735\n"
          ]
        },
        {
          "output_type": "stream",
          "name": "stderr",
          "text": [
            "\r 60%|██████    | 1201/2000 [1:16:57<51:28,  3.87s/it]"
          ]
        },
        {
          "output_type": "stream",
          "name": "stdout",
          "text": [
            "Crawl data with product_id 198565577\n"
          ]
        },
        {
          "output_type": "stream",
          "name": "stderr",
          "text": [
            "\r 60%|██████    | 1202/2000 [1:17:00<49:12,  3.70s/it]"
          ]
        },
        {
          "output_type": "stream",
          "name": "stdout",
          "text": [
            "Crawl data with product_id 813931\n"
          ]
        },
        {
          "output_type": "stream",
          "name": "stderr",
          "text": [
            "\r 60%|██████    | 1203/2000 [1:17:04<51:32,  3.88s/it]"
          ]
        },
        {
          "output_type": "stream",
          "name": "stdout",
          "text": [
            "Crawl data with product_id 111230319\n"
          ]
        },
        {
          "output_type": "stream",
          "name": "stderr",
          "text": [
            "\r 60%|██████    | 1204/2000 [1:17:09<53:16,  4.02s/it]"
          ]
        },
        {
          "output_type": "stream",
          "name": "stdout",
          "text": [
            "Crawl data with product_id 260819797\n"
          ]
        },
        {
          "output_type": "stream",
          "name": "stderr",
          "text": [
            "\r 60%|██████    | 1205/2000 [1:17:13<54:23,  4.10s/it]"
          ]
        },
        {
          "output_type": "stream",
          "name": "stdout",
          "text": [
            "Crawl data with product_id 87823921\n"
          ]
        },
        {
          "output_type": "stream",
          "name": "stderr",
          "text": [
            "\r 60%|██████    | 1206/2000 [1:17:16<51:12,  3.87s/it]"
          ]
        },
        {
          "output_type": "stream",
          "name": "stdout",
          "text": [
            "Crawl data with product_id 177926056\n"
          ]
        },
        {
          "output_type": "stream",
          "name": "stderr",
          "text": [
            "\r 60%|██████    | 1207/2000 [1:17:20<48:55,  3.70s/it]"
          ]
        },
        {
          "output_type": "stream",
          "name": "stdout",
          "text": [
            "Crawl data with product_id 247683529\n"
          ]
        },
        {
          "output_type": "stream",
          "name": "stderr",
          "text": [
            "\r 60%|██████    | 1208/2000 [1:17:23<47:26,  3.59s/it]"
          ]
        },
        {
          "output_type": "stream",
          "name": "stdout",
          "text": [
            "Crawl data with product_id 180225969\n"
          ]
        },
        {
          "output_type": "stream",
          "name": "stderr",
          "text": [
            "\r 60%|██████    | 1209/2000 [1:17:26<46:20,  3.52s/it]"
          ]
        },
        {
          "output_type": "stream",
          "name": "stdout",
          "text": [
            "Crawl data with product_id 20743148\n"
          ]
        },
        {
          "output_type": "stream",
          "name": "stderr",
          "text": [
            "\r 60%|██████    | 1210/2000 [1:17:30<45:38,  3.47s/it]"
          ]
        },
        {
          "output_type": "stream",
          "name": "stdout",
          "text": [
            "Crawl data with product_id 59049710\n"
          ]
        },
        {
          "output_type": "stream",
          "name": "stderr",
          "text": [
            "\r 61%|██████    | 1211/2000 [1:17:33<45:48,  3.48s/it]"
          ]
        },
        {
          "output_type": "stream",
          "name": "stdout",
          "text": [
            "Crawl data with product_id 41294604\n"
          ]
        },
        {
          "output_type": "stream",
          "name": "stderr",
          "text": [
            "\r 61%|██████    | 1212/2000 [1:17:36<45:15,  3.45s/it]"
          ]
        },
        {
          "output_type": "stream",
          "name": "stdout",
          "text": [
            "Crawl data with product_id 248343828\n"
          ]
        },
        {
          "output_type": "stream",
          "name": "stderr",
          "text": [
            "\r 61%|██████    | 1213/2000 [1:17:40<44:44,  3.41s/it]"
          ]
        },
        {
          "output_type": "stream",
          "name": "stdout",
          "text": [
            "Crawl data with product_id 229728024\n"
          ]
        },
        {
          "output_type": "stream",
          "name": "stderr",
          "text": [
            "\r 61%|██████    | 1214/2000 [1:17:43<44:14,  3.38s/it]"
          ]
        },
        {
          "output_type": "stream",
          "name": "stdout",
          "text": [
            "Crawl data with product_id 198518836\n"
          ]
        },
        {
          "output_type": "stream",
          "name": "stderr",
          "text": [
            "\r 61%|██████    | 1215/2000 [1:17:47<47:58,  3.67s/it]"
          ]
        },
        {
          "output_type": "stream",
          "name": "stdout",
          "text": [
            "Crawl data with product_id 597005\n"
          ]
        },
        {
          "output_type": "stream",
          "name": "stderr",
          "text": [
            "\r 61%|██████    | 1216/2000 [1:17:52<50:29,  3.86s/it]"
          ]
        },
        {
          "output_type": "stream",
          "name": "stdout",
          "text": [
            "Crawl data with product_id 198253805\n"
          ]
        },
        {
          "output_type": "stream",
          "name": "stderr",
          "text": [
            "\r 61%|██████    | 1217/2000 [1:17:56<52:17,  4.01s/it]"
          ]
        },
        {
          "output_type": "stream",
          "name": "stdout",
          "text": [
            "Crawl data with product_id 205899736\n"
          ]
        },
        {
          "output_type": "stream",
          "name": "stderr",
          "text": [
            "\r 61%|██████    | 1218/2000 [1:18:00<50:26,  3.87s/it]"
          ]
        },
        {
          "output_type": "stream",
          "name": "stdout",
          "text": [
            "Crawl data with product_id 153625037\n"
          ]
        },
        {
          "output_type": "stream",
          "name": "stderr",
          "text": [
            "\r 61%|██████    | 1219/2000 [1:18:03<48:16,  3.71s/it]"
          ]
        },
        {
          "output_type": "stream",
          "name": "stdout",
          "text": [
            "Crawl data with product_id 403665\n"
          ]
        },
        {
          "output_type": "stream",
          "name": "stderr",
          "text": [
            "\r 61%|██████    | 1220/2000 [1:18:06<46:40,  3.59s/it]"
          ]
        },
        {
          "output_type": "stream",
          "name": "stdout",
          "text": [
            "Crawl data with product_id 245769554\n"
          ]
        },
        {
          "output_type": "stream",
          "name": "stderr",
          "text": [
            "\r 61%|██████    | 1221/2000 [1:18:11<49:26,  3.81s/it]"
          ]
        },
        {
          "output_type": "stream",
          "name": "stdout",
          "text": [
            "Crawl data with product_id 253100005\n"
          ]
        },
        {
          "output_type": "stream",
          "name": "stderr",
          "text": [
            "\r 61%|██████    | 1222/2000 [1:18:15<51:27,  3.97s/it]"
          ]
        },
        {
          "output_type": "stream",
          "name": "stdout",
          "text": [
            "Crawl data with product_id 209386548\n"
          ]
        },
        {
          "output_type": "stream",
          "name": "stderr",
          "text": [
            "\r 61%|██████    | 1223/2000 [1:18:19<52:46,  4.08s/it]"
          ]
        },
        {
          "output_type": "stream",
          "name": "stdout",
          "text": [
            "Crawl data with product_id 46107072\n"
          ]
        },
        {
          "output_type": "stream",
          "name": "stderr",
          "text": [
            "\r 61%|██████    | 1224/2000 [1:18:24<53:43,  4.15s/it]"
          ]
        },
        {
          "output_type": "stream",
          "name": "stdout",
          "text": [
            "Crawl data with product_id 57865429\n"
          ]
        },
        {
          "output_type": "stream",
          "name": "stderr",
          "text": [
            "\r 61%|██████▏   | 1225/2000 [1:18:28<54:17,  4.20s/it]"
          ]
        },
        {
          "output_type": "stream",
          "name": "stdout",
          "text": [
            "Crawl data with product_id 174162809\n"
          ]
        },
        {
          "output_type": "stream",
          "name": "stderr",
          "text": [
            "\r 61%|██████▏   | 1226/2000 [1:18:32<51:44,  4.01s/it]"
          ]
        },
        {
          "output_type": "stream",
          "name": "stdout",
          "text": [
            "Crawl data with product_id 32192508\n"
          ]
        },
        {
          "output_type": "stream",
          "name": "stderr",
          "text": [
            "\r 61%|██████▏   | 1227/2000 [1:18:35<49:06,  3.81s/it]"
          ]
        },
        {
          "output_type": "stream",
          "name": "stdout",
          "text": [
            "Crawl data with product_id 197417880\n"
          ]
        },
        {
          "output_type": "stream",
          "name": "stderr",
          "text": [
            "\r 61%|██████▏   | 1228/2000 [1:18:39<50:58,  3.96s/it]"
          ]
        },
        {
          "output_type": "stream",
          "name": "stdout",
          "text": [
            "Crawl data with product_id 57049001\n"
          ]
        },
        {
          "output_type": "stream",
          "name": "stderr",
          "text": [
            "\r 61%|██████▏   | 1229/2000 [1:18:44<52:29,  4.09s/it]"
          ]
        },
        {
          "output_type": "stream",
          "name": "stdout",
          "text": [
            "Crawl data with product_id 143226166\n"
          ]
        },
        {
          "output_type": "stream",
          "name": "stderr",
          "text": [
            "\r 62%|██████▏   | 1230/2000 [1:18:48<54:15,  4.23s/it]"
          ]
        },
        {
          "output_type": "stream",
          "name": "stdout",
          "text": [
            "Crawl data with product_id 14645349\n"
          ]
        },
        {
          "output_type": "stream",
          "name": "stderr",
          "text": [
            "\r 62%|██████▏   | 1231/2000 [1:18:52<54:34,  4.26s/it]"
          ]
        },
        {
          "output_type": "stream",
          "name": "stdout",
          "text": [
            "Crawl data with product_id 55462655\n"
          ]
        },
        {
          "output_type": "stream",
          "name": "stderr",
          "text": [
            "\r 62%|██████▏   | 1232/2000 [1:18:57<54:47,  4.28s/it]"
          ]
        },
        {
          "output_type": "stream",
          "name": "stdout",
          "text": [
            "Crawl data with product_id 81135101\n"
          ]
        },
        {
          "output_type": "stream",
          "name": "stderr",
          "text": [
            "\r 62%|██████▏   | 1233/2000 [1:19:00<51:05,  4.00s/it]"
          ]
        },
        {
          "output_type": "stream",
          "name": "stdout",
          "text": [
            "Crawl data with product_id 199896156\n"
          ]
        },
        {
          "output_type": "stream",
          "name": "stderr",
          "text": [
            "\r 62%|██████▏   | 1234/2000 [1:19:04<52:16,  4.09s/it]"
          ]
        },
        {
          "output_type": "stream",
          "name": "stdout",
          "text": [
            "Crawl data with product_id 186476454\n"
          ]
        },
        {
          "output_type": "stream",
          "name": "stderr",
          "text": [
            "\r 62%|██████▏   | 1235/2000 [1:19:08<49:09,  3.86s/it]"
          ]
        },
        {
          "output_type": "stream",
          "name": "stdout",
          "text": [
            "Crawl data with product_id 248268082\n"
          ]
        },
        {
          "output_type": "stream",
          "name": "stderr",
          "text": [
            "\r 62%|██████▏   | 1236/2000 [1:19:12<51:04,  4.01s/it]"
          ]
        },
        {
          "output_type": "stream",
          "name": "stdout",
          "text": [
            "Crawl data with product_id 68586406\n"
          ]
        },
        {
          "output_type": "stream",
          "name": "stderr",
          "text": [
            "\r 62%|██████▏   | 1237/2000 [1:19:16<52:22,  4.12s/it]"
          ]
        },
        {
          "output_type": "stream",
          "name": "stdout",
          "text": [
            "Crawl data with product_id 248766052\n"
          ]
        },
        {
          "output_type": "stream",
          "name": "stderr",
          "text": [
            "\r 62%|██████▏   | 1238/2000 [1:19:20<49:16,  3.88s/it]"
          ]
        },
        {
          "output_type": "stream",
          "name": "stdout",
          "text": [
            "Crawl data with product_id 135347611\n"
          ]
        },
        {
          "output_type": "stream",
          "name": "stderr",
          "text": [
            "\r 62%|██████▏   | 1239/2000 [1:19:23<47:05,  3.71s/it]"
          ]
        },
        {
          "output_type": "stream",
          "name": "stdout",
          "text": [
            "Crawl data with product_id 249874816\n"
          ]
        },
        {
          "output_type": "stream",
          "name": "stderr",
          "text": [
            "\r 62%|██████▏   | 1240/2000 [1:19:26<45:38,  3.60s/it]"
          ]
        },
        {
          "output_type": "stream",
          "name": "stdout",
          "text": [
            "Crawl data with product_id 241821082\n"
          ]
        },
        {
          "output_type": "stream",
          "name": "stderr",
          "text": [
            "\r 62%|██████▏   | 1241/2000 [1:19:30<44:28,  3.52s/it]"
          ]
        },
        {
          "output_type": "stream",
          "name": "stdout",
          "text": [
            "Crawl data with product_id 77105705\n"
          ]
        },
        {
          "output_type": "stream",
          "name": "stderr",
          "text": [
            "\r 62%|██████▏   | 1242/2000 [1:19:34<47:28,  3.76s/it]"
          ]
        },
        {
          "output_type": "stream",
          "name": "stdout",
          "text": [
            "Crawl data with product_id 253071250\n"
          ]
        },
        {
          "output_type": "stream",
          "name": "stderr",
          "text": [
            "\r 62%|██████▏   | 1243/2000 [1:19:38<49:45,  3.94s/it]"
          ]
        },
        {
          "output_type": "stream",
          "name": "stdout",
          "text": [
            "Crawl data with product_id 185965985\n"
          ]
        },
        {
          "output_type": "stream",
          "name": "stderr",
          "text": [
            "\r 62%|██████▏   | 1244/2000 [1:19:43<51:10,  4.06s/it]"
          ]
        },
        {
          "output_type": "stream",
          "name": "stdout",
          "text": [
            "Crawl data with product_id 248250886\n"
          ]
        },
        {
          "output_type": "stream",
          "name": "stderr",
          "text": [
            "\r 62%|██████▏   | 1245/2000 [1:19:46<48:29,  3.85s/it]"
          ]
        },
        {
          "output_type": "stream",
          "name": "stdout",
          "text": [
            "Crawl data with product_id 189699879\n"
          ]
        },
        {
          "output_type": "stream",
          "name": "stderr",
          "text": [
            "\r 62%|██████▏   | 1246/2000 [1:19:50<50:09,  3.99s/it]"
          ]
        },
        {
          "output_type": "stream",
          "name": "stdout",
          "text": [
            "Crawl data with product_id 247720839\n"
          ]
        },
        {
          "output_type": "stream",
          "name": "stderr",
          "text": [
            "\r 62%|██████▏   | 1247/2000 [1:19:55<51:18,  4.09s/it]"
          ]
        },
        {
          "output_type": "stream",
          "name": "stdout",
          "text": [
            "Crawl data with product_id 255467994\n"
          ]
        },
        {
          "output_type": "stream",
          "name": "stderr",
          "text": [
            "\r 62%|██████▏   | 1248/2000 [1:19:59<53:18,  4.25s/it]"
          ]
        },
        {
          "output_type": "stream",
          "name": "stdout",
          "text": [
            "Crawl data with product_id 59362957\n"
          ]
        },
        {
          "output_type": "stream",
          "name": "stderr",
          "text": [
            "\r 62%|██████▏   | 1249/2000 [1:20:03<49:53,  3.99s/it]"
          ]
        },
        {
          "output_type": "stream",
          "name": "stdout",
          "text": [
            "Crawl data with product_id 19913965\n"
          ]
        },
        {
          "output_type": "stream",
          "name": "stderr",
          "text": [
            "\r 62%|██████▎   | 1250/2000 [1:20:07<51:10,  4.09s/it]"
          ]
        },
        {
          "output_type": "stream",
          "name": "stdout",
          "text": [
            "Crawl data with product_id 435394\n"
          ]
        },
        {
          "output_type": "stream",
          "name": "stderr",
          "text": [
            "\r 63%|██████▎   | 1251/2000 [1:20:11<51:56,  4.16s/it]"
          ]
        },
        {
          "output_type": "stream",
          "name": "stdout",
          "text": [
            "Crawl data with product_id 247640435\n"
          ]
        },
        {
          "output_type": "stream",
          "name": "stderr",
          "text": [
            "\r 63%|██████▎   | 1252/2000 [1:20:16<52:29,  4.21s/it]"
          ]
        },
        {
          "output_type": "stream",
          "name": "stdout",
          "text": [
            "Crawl data with product_id 190464328\n"
          ]
        },
        {
          "output_type": "stream",
          "name": "stderr",
          "text": [
            "\r 63%|██████▎   | 1253/2000 [1:20:19<49:12,  3.95s/it]"
          ]
        },
        {
          "output_type": "stream",
          "name": "stdout",
          "text": [
            "Crawl data with product_id 597018\n"
          ]
        },
        {
          "output_type": "stream",
          "name": "stderr",
          "text": [
            "\r 63%|██████▎   | 1254/2000 [1:20:22<46:44,  3.76s/it]"
          ]
        },
        {
          "output_type": "stream",
          "name": "stdout",
          "text": [
            "Crawl data with product_id 535728\n"
          ]
        },
        {
          "output_type": "stream",
          "name": "stderr",
          "text": [
            "\r 63%|██████▎   | 1255/2000 [1:20:27<48:50,  3.93s/it]"
          ]
        },
        {
          "output_type": "stream",
          "name": "stdout",
          "text": [
            "Crawl data with product_id 248766076\n"
          ]
        },
        {
          "output_type": "stream",
          "name": "stderr",
          "text": [
            "\r 63%|██████▎   | 1256/2000 [1:20:31<50:23,  4.06s/it]"
          ]
        },
        {
          "output_type": "stream",
          "name": "stdout",
          "text": [
            "Crawl data with product_id 219161866\n"
          ]
        },
        {
          "output_type": "stream",
          "name": "stderr",
          "text": [
            "\r 63%|██████▎   | 1257/2000 [1:20:35<47:39,  3.85s/it]"
          ]
        },
        {
          "output_type": "stream",
          "name": "stdout",
          "text": [
            "Crawl data with product_id 53095301\n"
          ]
        },
        {
          "output_type": "stream",
          "name": "stderr",
          "text": [
            "\r 63%|██████▎   | 1258/2000 [1:20:38<45:41,  3.70s/it]"
          ]
        },
        {
          "output_type": "stream",
          "name": "stdout",
          "text": [
            "Crawl data with product_id 52800355\n"
          ]
        },
        {
          "output_type": "stream",
          "name": "stderr",
          "text": [
            "\r 63%|██████▎   | 1259/2000 [1:20:42<48:10,  3.90s/it]"
          ]
        },
        {
          "output_type": "stream",
          "name": "stdout",
          "text": [
            "Crawl data with product_id 49273648\n"
          ]
        },
        {
          "output_type": "stream",
          "name": "stderr",
          "text": [
            "\r 63%|██████▎   | 1260/2000 [1:20:47<49:42,  4.03s/it]"
          ]
        },
        {
          "output_type": "stream",
          "name": "stdout",
          "text": [
            "Crawl data with product_id 184897049\n"
          ]
        },
        {
          "output_type": "stream",
          "name": "stderr",
          "text": [
            "\r 63%|██████▎   | 1261/2000 [1:20:51<50:47,  4.12s/it]"
          ]
        },
        {
          "output_type": "stream",
          "name": "stdout",
          "text": [
            "Crawl data with product_id 253358313\n"
          ]
        },
        {
          "output_type": "stream",
          "name": "stderr",
          "text": [
            "\r 63%|██████▎   | 1262/2000 [1:20:54<47:48,  3.89s/it]"
          ]
        },
        {
          "output_type": "stream",
          "name": "stdout",
          "text": [
            "Crawl data with product_id 247294038\n"
          ]
        },
        {
          "output_type": "stream",
          "name": "stderr",
          "text": [
            "\r 63%|██████▎   | 1263/2000 [1:20:58<45:40,  3.72s/it]"
          ]
        },
        {
          "output_type": "stream",
          "name": "stdout",
          "text": [
            "Crawl data with product_id 248447135\n"
          ]
        },
        {
          "output_type": "stream",
          "name": "stderr",
          "text": [
            "\r 63%|██████▎   | 1264/2000 [1:21:02<47:50,  3.90s/it]"
          ]
        },
        {
          "output_type": "stream",
          "name": "stdout",
          "text": [
            "Crawl data with product_id 253469886\n"
          ]
        },
        {
          "output_type": "stream",
          "name": "stderr",
          "text": [
            "\r 63%|██████▎   | 1265/2000 [1:21:05<45:43,  3.73s/it]"
          ]
        },
        {
          "output_type": "stream",
          "name": "stdout",
          "text": [
            "Crawl data with product_id 248688057\n"
          ]
        },
        {
          "output_type": "stream",
          "name": "stderr",
          "text": [
            "\r 63%|██████▎   | 1266/2000 [1:21:09<44:07,  3.61s/it]"
          ]
        },
        {
          "output_type": "stream",
          "name": "stdout",
          "text": [
            "Crawl data with product_id 262464179\n"
          ]
        },
        {
          "output_type": "stream",
          "name": "stderr",
          "text": [
            "\r 63%|██████▎   | 1267/2000 [1:21:12<43:00,  3.52s/it]"
          ]
        },
        {
          "output_type": "stream",
          "name": "stdout",
          "text": [
            "Crawl data with product_id 72515451\n"
          ]
        },
        {
          "output_type": "stream",
          "name": "stderr",
          "text": [
            "\r 63%|██████▎   | 1268/2000 [1:21:15<42:09,  3.46s/it]"
          ]
        },
        {
          "output_type": "stream",
          "name": "stdout",
          "text": [
            "Crawl data with product_id 249988063\n"
          ]
        },
        {
          "output_type": "stream",
          "name": "stderr",
          "text": [
            "\r 63%|██████▎   | 1269/2000 [1:21:18<41:38,  3.42s/it]"
          ]
        },
        {
          "output_type": "stream",
          "name": "stdout",
          "text": [
            "Crawl data with product_id 174207259\n"
          ]
        },
        {
          "output_type": "stream",
          "name": "stderr",
          "text": [
            "\r 64%|██████▎   | 1270/2000 [1:21:22<41:12,  3.39s/it]"
          ]
        },
        {
          "output_type": "stream",
          "name": "stdout",
          "text": [
            "Crawl data with product_id 161426368\n"
          ]
        },
        {
          "output_type": "stream",
          "name": "stderr",
          "text": [
            "\r 64%|██████▎   | 1271/2000 [1:21:26<44:31,  3.66s/it]"
          ]
        },
        {
          "output_type": "stream",
          "name": "stdout",
          "text": [
            "Crawl data with product_id 76053681\n"
          ]
        },
        {
          "output_type": "stream",
          "name": "stderr",
          "text": [
            "\r 64%|██████▎   | 1272/2000 [1:21:30<43:36,  3.59s/it]"
          ]
        },
        {
          "output_type": "stream",
          "name": "stdout",
          "text": [
            "Crawl data with product_id 156234335\n"
          ]
        },
        {
          "output_type": "stream",
          "name": "stderr",
          "text": [
            "\r 64%|██████▎   | 1273/2000 [1:21:34<46:07,  3.81s/it]"
          ]
        },
        {
          "output_type": "stream",
          "name": "stdout",
          "text": [
            "Crawl data with product_id 174604025\n"
          ]
        },
        {
          "output_type": "stream",
          "name": "stderr",
          "text": [
            "\r 64%|██████▎   | 1274/2000 [1:21:37<44:12,  3.65s/it]"
          ]
        },
        {
          "output_type": "stream",
          "name": "stdout",
          "text": [
            "Crawl data with product_id 534765\n"
          ]
        },
        {
          "output_type": "stream",
          "name": "stderr",
          "text": [
            "\r 64%|██████▍   | 1275/2000 [1:21:41<46:39,  3.86s/it]"
          ]
        },
        {
          "output_type": "stream",
          "name": "stdout",
          "text": [
            "Crawl data with product_id 175445588\n"
          ]
        },
        {
          "output_type": "stream",
          "name": "stderr",
          "text": [
            "\r 64%|██████▍   | 1276/2000 [1:21:46<48:18,  4.00s/it]"
          ]
        },
        {
          "output_type": "stream",
          "name": "stdout",
          "text": [
            "Crawl data with product_id 194406739\n"
          ]
        },
        {
          "output_type": "stream",
          "name": "stderr",
          "text": [
            "\r 64%|██████▍   | 1277/2000 [1:21:49<45:52,  3.81s/it]"
          ]
        },
        {
          "output_type": "stream",
          "name": "stdout",
          "text": [
            "Crawl data with product_id 22648247\n"
          ]
        },
        {
          "output_type": "stream",
          "name": "stderr",
          "text": [
            "\r 64%|██████▍   | 1278/2000 [1:21:52<44:01,  3.66s/it]"
          ]
        },
        {
          "output_type": "stream",
          "name": "stdout",
          "text": [
            "Crawl data with product_id 203848495\n"
          ]
        },
        {
          "output_type": "stream",
          "name": "stderr",
          "text": [
            "\r 64%|██████▍   | 1279/2000 [1:21:56<42:40,  3.55s/it]"
          ]
        },
        {
          "output_type": "stream",
          "name": "stdout",
          "text": [
            "Crawl data with product_id 251468440\n"
          ]
        },
        {
          "output_type": "stream",
          "name": "stderr",
          "text": [
            "\r 64%|██████▍   | 1280/2000 [1:22:00<45:25,  3.78s/it]"
          ]
        },
        {
          "output_type": "stream",
          "name": "stdout",
          "text": [
            "Crawl data with product_id 16258388\n"
          ]
        },
        {
          "output_type": "stream",
          "name": "stderr",
          "text": [
            "\r 64%|██████▍   | 1281/2000 [1:22:04<44:24,  3.71s/it]"
          ]
        },
        {
          "output_type": "stream",
          "name": "stdout",
          "text": [
            "Crawl data with product_id 80412715\n"
          ]
        },
        {
          "output_type": "stream",
          "name": "stderr",
          "text": [
            "\r 64%|██████▍   | 1282/2000 [1:22:07<42:56,  3.59s/it]"
          ]
        },
        {
          "output_type": "stream",
          "name": "stdout",
          "text": [
            "Crawl data with product_id 248779150\n"
          ]
        },
        {
          "output_type": "stream",
          "name": "stderr",
          "text": [
            "\r 64%|██████▍   | 1283/2000 [1:22:11<45:34,  3.81s/it]"
          ]
        },
        {
          "output_type": "stream",
          "name": "stdout",
          "text": [
            "Crawl data with product_id 248755538\n"
          ]
        },
        {
          "output_type": "stream",
          "name": "stderr",
          "text": [
            "\r 64%|██████▍   | 1284/2000 [1:22:16<47:18,  3.97s/it]"
          ]
        },
        {
          "output_type": "stream",
          "name": "stdout",
          "text": [
            "Crawl data with product_id 37890747\n"
          ]
        },
        {
          "output_type": "stream",
          "name": "stderr",
          "text": [
            "\r 64%|██████▍   | 1285/2000 [1:22:20<48:33,  4.08s/it]"
          ]
        },
        {
          "output_type": "stream",
          "name": "stdout",
          "text": [
            "Crawl data with product_id 93070764\n"
          ]
        },
        {
          "output_type": "stream",
          "name": "stderr",
          "text": [
            "\r 64%|██████▍   | 1286/2000 [1:22:24<49:20,  4.15s/it]"
          ]
        },
        {
          "output_type": "stream",
          "name": "stdout",
          "text": [
            "Crawl data with product_id 169490146\n"
          ]
        },
        {
          "output_type": "stream",
          "name": "stderr",
          "text": [
            "\r 64%|██████▍   | 1287/2000 [1:22:28<46:19,  3.90s/it]"
          ]
        },
        {
          "output_type": "stream",
          "name": "stdout",
          "text": [
            "Crawl data with product_id 196137873\n"
          ]
        },
        {
          "output_type": "stream",
          "name": "stderr",
          "text": [
            "\r 64%|██████▍   | 1288/2000 [1:22:32<47:44,  4.02s/it]"
          ]
        },
        {
          "output_type": "stream",
          "name": "stdout",
          "text": [
            "Crawl data with product_id 645882\n"
          ]
        },
        {
          "output_type": "stream",
          "name": "stderr",
          "text": [
            "\r 64%|██████▍   | 1289/2000 [1:22:35<45:11,  3.81s/it]"
          ]
        },
        {
          "output_type": "stream",
          "name": "stdout",
          "text": [
            "Crawl data with product_id 14318182\n"
          ]
        },
        {
          "output_type": "stream",
          "name": "stderr",
          "text": [
            "\r 64%|██████▍   | 1290/2000 [1:22:40<46:52,  3.96s/it]"
          ]
        },
        {
          "output_type": "stream",
          "name": "stdout",
          "text": [
            "Crawl data with product_id 7887138\n"
          ]
        },
        {
          "output_type": "stream",
          "name": "stderr",
          "text": [
            "\r 65%|██████▍   | 1291/2000 [1:22:43<44:31,  3.77s/it]"
          ]
        },
        {
          "output_type": "stream",
          "name": "stdout",
          "text": [
            "Crawl data with product_id 197337576\n"
          ]
        },
        {
          "output_type": "stream",
          "name": "stderr",
          "text": [
            "\r 65%|██████▍   | 1292/2000 [1:22:46<42:51,  3.63s/it]"
          ]
        },
        {
          "output_type": "stream",
          "name": "stdout",
          "text": [
            "Crawl data with product_id 41062682\n"
          ]
        },
        {
          "output_type": "stream",
          "name": "stderr",
          "text": [
            "\r 65%|██████▍   | 1293/2000 [1:22:51<45:19,  3.85s/it]"
          ]
        },
        {
          "output_type": "stream",
          "name": "stdout",
          "text": [
            "Crawl data with product_id 339308\n"
          ]
        },
        {
          "output_type": "stream",
          "name": "stderr",
          "text": [
            "\r 65%|██████▍   | 1294/2000 [1:22:55<47:02,  4.00s/it]"
          ]
        },
        {
          "output_type": "stream",
          "name": "stdout",
          "text": [
            "Crawl data with product_id 91097224\n"
          ]
        },
        {
          "output_type": "stream",
          "name": "stderr",
          "text": [
            "\r 65%|██████▍   | 1295/2000 [1:22:59<48:09,  4.10s/it]"
          ]
        },
        {
          "output_type": "stream",
          "name": "stdout",
          "text": [
            "Crawl data with product_id 17961817\n"
          ]
        },
        {
          "output_type": "stream",
          "name": "stderr",
          "text": [
            "\r 65%|██████▍   | 1296/2000 [1:23:04<48:58,  4.17s/it]"
          ]
        },
        {
          "output_type": "stream",
          "name": "stdout",
          "text": [
            "Crawl data with product_id 32638313\n"
          ]
        },
        {
          "output_type": "stream",
          "name": "stderr",
          "text": [
            "\r 65%|██████▍   | 1297/2000 [1:23:07<45:58,  3.92s/it]"
          ]
        },
        {
          "output_type": "stream",
          "name": "stdout",
          "text": [
            "Crawl data with product_id 188731015\n"
          ]
        },
        {
          "output_type": "stream",
          "name": "stderr",
          "text": [
            "\r 65%|██████▍   | 1298/2000 [1:23:11<47:15,  4.04s/it]"
          ]
        },
        {
          "output_type": "stream",
          "name": "stdout",
          "text": [
            "Crawl data with product_id 7924784\n"
          ]
        },
        {
          "output_type": "stream",
          "name": "stderr",
          "text": [
            "\r 65%|██████▍   | 1299/2000 [1:23:15<44:42,  3.83s/it]"
          ]
        },
        {
          "output_type": "stream",
          "name": "stdout",
          "text": [
            "Crawl data with product_id 253098403\n"
          ]
        },
        {
          "output_type": "stream",
          "name": "stderr",
          "text": [
            "\r 65%|██████▌   | 1300/2000 [1:23:18<42:54,  3.68s/it]"
          ]
        },
        {
          "output_type": "stream",
          "name": "stdout",
          "text": [
            "Crawl data with product_id 262454618\n"
          ]
        },
        {
          "output_type": "stream",
          "name": "stderr",
          "text": [
            "\r 65%|██████▌   | 1301/2000 [1:23:21<41:32,  3.57s/it]"
          ]
        },
        {
          "output_type": "stream",
          "name": "stdout",
          "text": [
            "Crawl data with product_id 24490042\n"
          ]
        },
        {
          "output_type": "stream",
          "name": "stderr",
          "text": [
            "\r 65%|██████▌   | 1302/2000 [1:23:26<44:16,  3.81s/it]"
          ]
        },
        {
          "output_type": "stream",
          "name": "stdout",
          "text": [
            "Crawl data with product_id 153297967\n"
          ]
        },
        {
          "output_type": "stream",
          "name": "stderr",
          "text": [
            "\r 65%|██████▌   | 1303/2000 [1:23:29<42:33,  3.66s/it]"
          ]
        },
        {
          "output_type": "stream",
          "name": "stdout",
          "text": [
            "Crawl data with product_id 230098935\n"
          ]
        },
        {
          "output_type": "stream",
          "name": "stderr",
          "text": [
            "\r 65%|██████▌   | 1304/2000 [1:23:32<41:14,  3.56s/it]"
          ]
        },
        {
          "output_type": "stream",
          "name": "stdout",
          "text": [
            "Crawl data with product_id 2792861\n"
          ]
        },
        {
          "output_type": "stream",
          "name": "stderr",
          "text": [
            "\r 65%|██████▌   | 1305/2000 [1:23:36<43:46,  3.78s/it]"
          ]
        },
        {
          "output_type": "stream",
          "name": "stdout",
          "text": [
            "Crawl data with product_id 208406265\n"
          ]
        },
        {
          "output_type": "stream",
          "name": "stderr",
          "text": [
            "\r 65%|██████▌   | 1306/2000 [1:23:41<45:36,  3.94s/it]"
          ]
        },
        {
          "output_type": "stream",
          "name": "stdout",
          "text": [
            "Crawl data with product_id 59397199\n"
          ]
        },
        {
          "output_type": "stream",
          "name": "stderr",
          "text": [
            "\r 65%|██████▌   | 1307/2000 [1:23:44<43:37,  3.78s/it]"
          ]
        },
        {
          "output_type": "stream",
          "name": "stdout",
          "text": [
            "Crawl data with product_id 145167505\n"
          ]
        },
        {
          "output_type": "stream",
          "name": "stderr",
          "text": [
            "\r 65%|██████▌   | 1308/2000 [1:23:48<42:04,  3.65s/it]"
          ]
        },
        {
          "output_type": "stream",
          "name": "stdout",
          "text": [
            "Crawl data with product_id 248688224\n"
          ]
        },
        {
          "output_type": "stream",
          "name": "stderr",
          "text": [
            "\r 65%|██████▌   | 1309/2000 [1:23:51<40:55,  3.55s/it]"
          ]
        },
        {
          "output_type": "stream",
          "name": "stdout",
          "text": [
            "Crawl data with product_id 171698120\n"
          ]
        },
        {
          "output_type": "stream",
          "name": "stderr",
          "text": [
            "\r 66%|██████▌   | 1310/2000 [1:23:54<40:06,  3.49s/it]"
          ]
        },
        {
          "output_type": "stream",
          "name": "stdout",
          "text": [
            "Crawl data with product_id 214658780\n"
          ]
        },
        {
          "output_type": "stream",
          "name": "stderr",
          "text": [
            "\r 66%|██████▌   | 1311/2000 [1:23:59<42:58,  3.74s/it]"
          ]
        },
        {
          "output_type": "stream",
          "name": "stdout",
          "text": [
            "Crawl data with product_id 178831507\n"
          ]
        },
        {
          "output_type": "stream",
          "name": "stderr",
          "text": [
            "\r 66%|██████▌   | 1312/2000 [1:24:03<44:52,  3.91s/it]"
          ]
        },
        {
          "output_type": "stream",
          "name": "stdout",
          "text": [
            "Crawl data with product_id 9730291\n"
          ]
        },
        {
          "output_type": "stream",
          "name": "stderr",
          "text": [
            "\r 66%|██████▌   | 1313/2000 [1:24:07<46:23,  4.05s/it]"
          ]
        },
        {
          "output_type": "stream",
          "name": "stdout",
          "text": [
            "Crawl data with product_id 203001020\n"
          ]
        },
        {
          "output_type": "stream",
          "name": "stderr",
          "text": [
            "\r 66%|██████▌   | 1314/2000 [1:24:12<47:16,  4.14s/it]"
          ]
        },
        {
          "output_type": "stream",
          "name": "stdout",
          "text": [
            "Crawl data with product_id 249382475\n"
          ]
        },
        {
          "output_type": "stream",
          "name": "stderr",
          "text": [
            "\r 66%|██████▌   | 1315/2000 [1:24:16<47:59,  4.20s/it]"
          ]
        },
        {
          "output_type": "stream",
          "name": "stdout",
          "text": [
            "Crawl data with product_id 175798774\n"
          ]
        },
        {
          "output_type": "stream",
          "name": "stderr",
          "text": [
            "\r 66%|██████▌   | 1316/2000 [1:24:20<48:23,  4.25s/it]"
          ]
        },
        {
          "output_type": "stream",
          "name": "stdout",
          "text": [
            "Crawl data with product_id 222662774\n"
          ]
        },
        {
          "output_type": "stream",
          "name": "stderr",
          "text": [
            "\r 66%|██████▌   | 1317/2000 [1:24:24<45:15,  3.98s/it]"
          ]
        },
        {
          "output_type": "stream",
          "name": "stdout",
          "text": [
            "Crawl data with product_id 242620446\n"
          ]
        },
        {
          "output_type": "stream",
          "name": "stderr",
          "text": [
            "\r 66%|██████▌   | 1318/2000 [1:24:28<47:02,  4.14s/it]"
          ]
        },
        {
          "output_type": "stream",
          "name": "stdout",
          "text": [
            "Crawl data with product_id 189697979\n"
          ]
        },
        {
          "output_type": "stream",
          "name": "stderr",
          "text": [
            "\r 66%|██████▌   | 1319/2000 [1:24:31<44:10,  3.89s/it]"
          ]
        },
        {
          "output_type": "stream",
          "name": "stdout",
          "text": [
            "Crawl data with product_id 250198492\n"
          ]
        },
        {
          "output_type": "stream",
          "name": "stderr",
          "text": [
            "\r 66%|██████▌   | 1320/2000 [1:24:35<42:20,  3.74s/it]"
          ]
        },
        {
          "output_type": "stream",
          "name": "stdout",
          "text": [
            "Crawl data with product_id 89602074\n"
          ]
        },
        {
          "output_type": "stream",
          "name": "stderr",
          "text": [
            "\r 66%|██████▌   | 1321/2000 [1:24:38<40:51,  3.61s/it]"
          ]
        },
        {
          "output_type": "stream",
          "name": "stdout",
          "text": [
            "Crawl data with product_id 242497758\n"
          ]
        },
        {
          "output_type": "stream",
          "name": "stderr",
          "text": [
            "\r 66%|██████▌   | 1322/2000 [1:24:42<43:08,  3.82s/it]"
          ]
        },
        {
          "output_type": "stream",
          "name": "stdout",
          "text": [
            "Crawl data with product_id 169749419\n"
          ]
        },
        {
          "output_type": "stream",
          "name": "stderr",
          "text": [
            "\r 66%|██████▌   | 1323/2000 [1:24:46<41:31,  3.68s/it]"
          ]
        },
        {
          "output_type": "stream",
          "name": "stdout",
          "text": [
            "Crawl data with product_id 87603298\n"
          ]
        },
        {
          "output_type": "stream",
          "name": "stderr",
          "text": [
            "\r 66%|██████▌   | 1324/2000 [1:24:50<43:40,  3.88s/it]"
          ]
        },
        {
          "output_type": "stream",
          "name": "stdout",
          "text": [
            "Crawl data with product_id 178231969\n"
          ]
        },
        {
          "output_type": "stream",
          "name": "stderr",
          "text": [
            "\r 66%|██████▋   | 1325/2000 [1:24:53<41:48,  3.72s/it]"
          ]
        },
        {
          "output_type": "stream",
          "name": "stdout",
          "text": [
            "Crawl data with product_id 205149853\n"
          ]
        },
        {
          "output_type": "stream",
          "name": "stderr",
          "text": [
            "\r 66%|██████▋   | 1326/2000 [1:24:58<43:47,  3.90s/it]"
          ]
        },
        {
          "output_type": "stream",
          "name": "stdout",
          "text": [
            "Crawl data with product_id 253313225\n"
          ]
        },
        {
          "output_type": "stream",
          "name": "stderr",
          "text": [
            "\r 66%|██████▋   | 1327/2000 [1:25:02<45:12,  4.03s/it]"
          ]
        },
        {
          "output_type": "stream",
          "name": "stdout",
          "text": [
            "Crawl data with product_id 53486725\n"
          ]
        },
        {
          "output_type": "stream",
          "name": "stderr",
          "text": [
            "\r 66%|██████▋   | 1328/2000 [1:25:05<42:49,  3.82s/it]"
          ]
        },
        {
          "output_type": "stream",
          "name": "stdout",
          "text": [
            "Crawl data with product_id 143916862\n"
          ]
        },
        {
          "output_type": "stream",
          "name": "stderr",
          "text": [
            "\r 66%|██████▋   | 1329/2000 [1:25:09<40:59,  3.67s/it]"
          ]
        },
        {
          "output_type": "stream",
          "name": "stdout",
          "text": [
            "Crawl data with product_id 151983974\n"
          ]
        },
        {
          "output_type": "stream",
          "name": "stderr",
          "text": [
            "\r 66%|██████▋   | 1330/2000 [1:25:13<43:47,  3.92s/it]"
          ]
        },
        {
          "output_type": "stream",
          "name": "stdout",
          "text": [
            "Crawl data with product_id 86267527\n"
          ]
        },
        {
          "output_type": "stream",
          "name": "stderr",
          "text": [
            "\r 67%|██████▋   | 1331/2000 [1:25:18<44:58,  4.03s/it]"
          ]
        },
        {
          "output_type": "stream",
          "name": "stdout",
          "text": [
            "Crawl data with product_id 249791389\n"
          ]
        },
        {
          "output_type": "stream",
          "name": "stderr",
          "text": [
            "\r 67%|██████▋   | 1332/2000 [1:25:22<45:56,  4.13s/it]"
          ]
        },
        {
          "output_type": "stream",
          "name": "stdout",
          "text": [
            "Crawl data with product_id 77627094\n"
          ]
        },
        {
          "output_type": "stream",
          "name": "stderr",
          "text": [
            "\r 67%|██████▋   | 1333/2000 [1:25:26<46:30,  4.18s/it]"
          ]
        },
        {
          "output_type": "stream",
          "name": "stdout",
          "text": [
            "Crawl data with product_id 246168105\n"
          ]
        },
        {
          "output_type": "stream",
          "name": "stderr",
          "text": [
            "\r 67%|██████▋   | 1334/2000 [1:25:30<43:40,  3.93s/it]"
          ]
        },
        {
          "output_type": "stream",
          "name": "stdout",
          "text": [
            "Crawl data with product_id 215945425\n"
          ]
        },
        {
          "output_type": "stream",
          "name": "stderr",
          "text": [
            "\r 67%|██████▋   | 1335/2000 [1:25:34<44:56,  4.06s/it]"
          ]
        },
        {
          "output_type": "stream",
          "name": "stdout",
          "text": [
            "Crawl data with product_id 87931049\n"
          ]
        },
        {
          "output_type": "stream",
          "name": "stderr",
          "text": [
            "\r 67%|██████▋   | 1336/2000 [1:25:38<45:52,  4.15s/it]"
          ]
        },
        {
          "output_type": "stream",
          "name": "stdout",
          "text": [
            "Crawl data with product_id 253311680\n"
          ]
        },
        {
          "output_type": "stream",
          "name": "stderr",
          "text": [
            "\r 67%|██████▋   | 1337/2000 [1:25:42<43:13,  3.91s/it]"
          ]
        },
        {
          "output_type": "stream",
          "name": "stdout",
          "text": [
            "Crawl data with product_id 230098177\n"
          ]
        },
        {
          "output_type": "stream",
          "name": "stderr",
          "text": [
            "\r 67%|██████▋   | 1338/2000 [1:25:46<44:33,  4.04s/it]"
          ]
        },
        {
          "output_type": "stream",
          "name": "stdout",
          "text": [
            "Crawl data with product_id 202283294\n"
          ]
        },
        {
          "output_type": "stream",
          "name": "stderr",
          "text": [
            "\r 67%|██████▋   | 1339/2000 [1:25:49<42:12,  3.83s/it]"
          ]
        },
        {
          "output_type": "stream",
          "name": "stdout",
          "text": [
            "Crawl data with product_id 207935897\n"
          ]
        },
        {
          "output_type": "stream",
          "name": "stderr",
          "text": [
            "\r 67%|██████▋   | 1340/2000 [1:25:53<40:36,  3.69s/it]"
          ]
        },
        {
          "output_type": "stream",
          "name": "stdout",
          "text": [
            "Crawl data with product_id 75991338\n"
          ]
        },
        {
          "output_type": "stream",
          "name": "stderr",
          "text": [
            "\r 67%|██████▋   | 1341/2000 [1:25:57<42:37,  3.88s/it]"
          ]
        },
        {
          "output_type": "stream",
          "name": "stdout",
          "text": [
            "Crawl data with product_id 132837691\n"
          ]
        },
        {
          "output_type": "stream",
          "name": "stderr",
          "text": [
            "\r 67%|██████▋   | 1342/2000 [1:26:01<44:10,  4.03s/it]"
          ]
        },
        {
          "output_type": "stream",
          "name": "stdout",
          "text": [
            "Crawl data with product_id 36851408\n"
          ]
        },
        {
          "output_type": "stream",
          "name": "stderr",
          "text": [
            "\r 67%|██████▋   | 1343/2000 [1:26:05<41:51,  3.82s/it]"
          ]
        },
        {
          "output_type": "stream",
          "name": "stdout",
          "text": [
            "Crawl data with product_id 72123317\n"
          ]
        },
        {
          "output_type": "stream",
          "name": "stderr",
          "text": [
            "\r 67%|██████▋   | 1344/2000 [1:26:08<40:09,  3.67s/it]"
          ]
        },
        {
          "output_type": "stream",
          "name": "stdout",
          "text": [
            "Crawl data with product_id 158895368\n"
          ]
        },
        {
          "output_type": "stream",
          "name": "stderr",
          "text": [
            "\r 67%|██████▋   | 1345/2000 [1:26:11<38:57,  3.57s/it]"
          ]
        },
        {
          "output_type": "stream",
          "name": "stdout",
          "text": [
            "Crawl data with product_id 127032493\n"
          ]
        },
        {
          "output_type": "stream",
          "name": "stderr",
          "text": [
            "\r 67%|██████▋   | 1346/2000 [1:26:15<38:07,  3.50s/it]"
          ]
        },
        {
          "output_type": "stream",
          "name": "stdout",
          "text": [
            "Crawl data with product_id 21902438\n"
          ]
        },
        {
          "output_type": "stream",
          "name": "stderr",
          "text": [
            "\r 67%|██████▋   | 1347/2000 [1:26:19<40:47,  3.75s/it]"
          ]
        },
        {
          "output_type": "stream",
          "name": "stdout",
          "text": [
            "Crawl data with product_id 190469298\n"
          ]
        },
        {
          "output_type": "stream",
          "name": "stderr",
          "text": [
            "\r 67%|██████▋   | 1348/2000 [1:26:23<42:44,  3.93s/it]"
          ]
        },
        {
          "output_type": "stream",
          "name": "stdout",
          "text": [
            "Crawl data with product_id 20421698\n"
          ]
        },
        {
          "output_type": "stream",
          "name": "stderr",
          "text": [
            "\r 67%|██████▋   | 1349/2000 [1:26:27<40:49,  3.76s/it]"
          ]
        },
        {
          "output_type": "stream",
          "name": "stdout",
          "text": [
            "Crawl data with product_id 206784509\n"
          ]
        },
        {
          "output_type": "stream",
          "name": "stderr",
          "text": [
            "\r 68%|██████▊   | 1350/2000 [1:26:31<42:40,  3.94s/it]"
          ]
        },
        {
          "output_type": "stream",
          "name": "stdout",
          "text": [
            "Crawl data with product_id 197897129\n"
          ]
        },
        {
          "output_type": "stream",
          "name": "stderr",
          "text": [
            "\r 68%|██████▊   | 1351/2000 [1:26:35<43:54,  4.06s/it]"
          ]
        },
        {
          "output_type": "stream",
          "name": "stdout",
          "text": [
            "Crawl data with product_id 250128580\n"
          ]
        },
        {
          "output_type": "stream",
          "name": "stderr",
          "text": [
            "\r 68%|██████▊   | 1352/2000 [1:26:40<44:41,  4.14s/it]"
          ]
        },
        {
          "output_type": "stream",
          "name": "stdout",
          "text": [
            "Crawl data with product_id 203905201\n"
          ]
        },
        {
          "output_type": "stream",
          "name": "stderr",
          "text": [
            "\r 68%|██████▊   | 1353/2000 [1:26:43<42:01,  3.90s/it]"
          ]
        },
        {
          "output_type": "stream",
          "name": "stdout",
          "text": [
            "Crawl data with product_id 48541702\n"
          ]
        },
        {
          "output_type": "stream",
          "name": "stderr",
          "text": [
            "\r 68%|██████▊   | 1354/2000 [1:26:47<43:16,  4.02s/it]"
          ]
        },
        {
          "output_type": "stream",
          "name": "stdout",
          "text": [
            "Crawl data with product_id 185092235\n"
          ]
        },
        {
          "output_type": "stream",
          "name": "stderr",
          "text": [
            "\r 68%|██████▊   | 1355/2000 [1:26:52<44:11,  4.11s/it]"
          ]
        },
        {
          "output_type": "stream",
          "name": "stdout",
          "text": [
            "Crawl data with product_id 176115848\n"
          ]
        },
        {
          "output_type": "stream",
          "name": "stderr",
          "text": [
            "\r 68%|██████▊   | 1356/2000 [1:26:56<44:54,  4.18s/it]"
          ]
        },
        {
          "output_type": "stream",
          "name": "stdout",
          "text": [
            "Crawl data with product_id 87993358\n"
          ]
        },
        {
          "output_type": "stream",
          "name": "stderr",
          "text": [
            "\r 68%|██████▊   | 1357/2000 [1:27:00<45:22,  4.23s/it]"
          ]
        },
        {
          "output_type": "stream",
          "name": "stdout",
          "text": [
            "Crawl data with product_id 252569541\n"
          ]
        },
        {
          "output_type": "stream",
          "name": "stderr",
          "text": [
            "\r 68%|██████▊   | 1358/2000 [1:27:05<45:37,  4.26s/it]"
          ]
        },
        {
          "output_type": "stream",
          "name": "stdout",
          "text": [
            "Crawl data with product_id 44433390\n"
          ]
        },
        {
          "output_type": "stream",
          "name": "stderr",
          "text": [
            "\r 68%|██████▊   | 1359/2000 [1:27:08<42:37,  3.99s/it]"
          ]
        },
        {
          "output_type": "stream",
          "name": "stdout",
          "text": [
            "Crawl data with product_id 249767555\n"
          ]
        },
        {
          "output_type": "stream",
          "name": "stderr",
          "text": [
            "\r 68%|██████▊   | 1360/2000 [1:27:11<40:27,  3.79s/it]"
          ]
        },
        {
          "output_type": "stream",
          "name": "stdout",
          "text": [
            "Crawl data with product_id 186880516\n"
          ]
        },
        {
          "output_type": "stream",
          "name": "stderr",
          "text": [
            "\r 68%|██████▊   | 1361/2000 [1:27:15<38:59,  3.66s/it]"
          ]
        },
        {
          "output_type": "stream",
          "name": "stdout",
          "text": [
            "Crawl data with product_id 53641120\n"
          ]
        },
        {
          "output_type": "stream",
          "name": "stderr",
          "text": [
            "\r 68%|██████▊   | 1362/2000 [1:27:19<41:07,  3.87s/it]"
          ]
        },
        {
          "output_type": "stream",
          "name": "stdout",
          "text": [
            "Crawl data with product_id 242280020\n"
          ]
        },
        {
          "output_type": "stream",
          "name": "stderr",
          "text": [
            "\r 68%|██████▊   | 1363/2000 [1:27:22<39:20,  3.71s/it]"
          ]
        },
        {
          "output_type": "stream",
          "name": "stdout",
          "text": [
            "Crawl data with product_id 201936438\n"
          ]
        },
        {
          "output_type": "stream",
          "name": "stderr",
          "text": [
            "\r 68%|██████▊   | 1364/2000 [1:27:26<38:00,  3.59s/it]"
          ]
        },
        {
          "output_type": "stream",
          "name": "stdout",
          "text": [
            "Crawl data with product_id 201944130\n"
          ]
        },
        {
          "output_type": "stream",
          "name": "stderr",
          "text": [
            "\r 68%|██████▊   | 1365/2000 [1:27:29<37:01,  3.50s/it]"
          ]
        },
        {
          "output_type": "stream",
          "name": "stdout",
          "text": [
            "Crawl data with product_id 555540\n"
          ]
        },
        {
          "output_type": "stream",
          "name": "stderr",
          "text": [
            "\r 68%|██████▊   | 1366/2000 [1:27:33<39:44,  3.76s/it]"
          ]
        },
        {
          "output_type": "stream",
          "name": "stdout",
          "text": [
            "Crawl data with product_id 236016120\n"
          ]
        },
        {
          "output_type": "stream",
          "name": "stderr",
          "text": [
            "\r 68%|██████▊   | 1367/2000 [1:27:37<38:23,  3.64s/it]"
          ]
        },
        {
          "output_type": "stream",
          "name": "stdout",
          "text": [
            "Crawl data with product_id 32901544\n"
          ]
        },
        {
          "output_type": "stream",
          "name": "stderr",
          "text": [
            "\r 68%|██████▊   | 1368/2000 [1:27:40<37:25,  3.55s/it]"
          ]
        },
        {
          "output_type": "stream",
          "name": "stdout",
          "text": [
            "Crawl data with product_id 240330674\n"
          ]
        },
        {
          "output_type": "stream",
          "name": "stderr",
          "text": [
            "\r 68%|██████▊   | 1369/2000 [1:27:45<39:50,  3.79s/it]"
          ]
        },
        {
          "output_type": "stream",
          "name": "stdout",
          "text": [
            "Crawl data with product_id 102770881\n"
          ]
        },
        {
          "output_type": "stream",
          "name": "stderr",
          "text": [
            "\r 68%|██████▊   | 1370/2000 [1:27:49<41:46,  3.98s/it]"
          ]
        },
        {
          "output_type": "stream",
          "name": "stdout",
          "text": [
            "Crawl data with product_id 450283\n"
          ]
        },
        {
          "output_type": "stream",
          "name": "stderr",
          "text": [
            "\r 69%|██████▊   | 1371/2000 [1:27:53<42:47,  4.08s/it]"
          ]
        },
        {
          "output_type": "stream",
          "name": "stdout",
          "text": [
            "Crawl data with product_id 102891013\n"
          ]
        },
        {
          "output_type": "stream",
          "name": "stderr",
          "text": [
            "\r 69%|██████▊   | 1372/2000 [1:27:58<43:25,  4.15s/it]"
          ]
        },
        {
          "output_type": "stream",
          "name": "stdout",
          "text": [
            "Crawl data with product_id 31622791\n"
          ]
        },
        {
          "output_type": "stream",
          "name": "stderr",
          "text": [
            "\r 69%|██████▊   | 1373/2000 [1:28:01<40:41,  3.89s/it]"
          ]
        },
        {
          "output_type": "stream",
          "name": "stdout",
          "text": [
            "Crawl data with product_id 107452308\n"
          ]
        },
        {
          "output_type": "stream",
          "name": "stderr",
          "text": [
            "\r 69%|██████▊   | 1374/2000 [1:28:05<41:59,  4.02s/it]"
          ]
        },
        {
          "output_type": "stream",
          "name": "stdout",
          "text": [
            "Crawl data with product_id 177767602\n"
          ]
        },
        {
          "output_type": "stream",
          "name": "stderr",
          "text": [
            "\r 69%|██████▉   | 1375/2000 [1:28:10<42:50,  4.11s/it]"
          ]
        },
        {
          "output_type": "stream",
          "name": "stdout",
          "text": [
            "Crawl data with product_id 42459002\n"
          ]
        },
        {
          "output_type": "stream",
          "name": "stderr",
          "text": [
            "\r 69%|██████▉   | 1376/2000 [1:28:14<43:27,  4.18s/it]"
          ]
        },
        {
          "output_type": "stream",
          "name": "stdout",
          "text": [
            "Crawl data with product_id 57942316\n"
          ]
        },
        {
          "output_type": "stream",
          "name": "stderr",
          "text": [
            "\r 69%|██████▉   | 1377/2000 [1:28:18<43:53,  4.23s/it]"
          ]
        },
        {
          "output_type": "stream",
          "name": "stdout",
          "text": [
            "Crawl data with product_id 127551334\n"
          ]
        },
        {
          "output_type": "stream",
          "name": "stderr",
          "text": [
            "\r 69%|██████▉   | 1378/2000 [1:28:23<44:11,  4.26s/it]"
          ]
        },
        {
          "output_type": "stream",
          "name": "stdout",
          "text": [
            "Crawl data with product_id 67712889\n"
          ]
        },
        {
          "output_type": "stream",
          "name": "stderr",
          "text": [
            "\r 69%|██████▉   | 1379/2000 [1:28:26<41:14,  3.98s/it]"
          ]
        },
        {
          "output_type": "stream",
          "name": "stdout",
          "text": [
            "Crawl data with product_id 247705757\n"
          ]
        },
        {
          "output_type": "stream",
          "name": "stderr",
          "text": [
            "\r 69%|██████▉   | 1380/2000 [1:28:29<39:10,  3.79s/it]"
          ]
        },
        {
          "output_type": "stream",
          "name": "stdout",
          "text": [
            "Crawl data with product_id 165700192\n"
          ]
        },
        {
          "output_type": "stream",
          "name": "stderr",
          "text": [
            "\r 69%|██████▉   | 1381/2000 [1:28:33<37:47,  3.66s/it]"
          ]
        },
        {
          "output_type": "stream",
          "name": "stdout",
          "text": [
            "Crawl data with product_id 27943011\n"
          ]
        },
        {
          "output_type": "stream",
          "name": "stderr",
          "text": [
            "\r 69%|██████▉   | 1382/2000 [1:28:36<36:39,  3.56s/it]"
          ]
        },
        {
          "output_type": "stream",
          "name": "stdout",
          "text": [
            "Crawl data with product_id 262781434\n"
          ]
        },
        {
          "output_type": "stream",
          "name": "stderr",
          "text": [
            "\r 69%|██████▉   | 1383/2000 [1:28:40<38:56,  3.79s/it]"
          ]
        },
        {
          "output_type": "stream",
          "name": "stdout",
          "text": [
            "Crawl data with product_id 199028348\n"
          ]
        },
        {
          "output_type": "stream",
          "name": "stderr",
          "text": [
            "\r 69%|██████▉   | 1384/2000 [1:28:45<40:39,  3.96s/it]"
          ]
        },
        {
          "output_type": "stream",
          "name": "stdout",
          "text": [
            "Crawl data with product_id 2777821\n"
          ]
        },
        {
          "output_type": "stream",
          "name": "stderr",
          "text": [
            "\r 69%|██████▉   | 1385/2000 [1:28:48<38:33,  3.76s/it]"
          ]
        },
        {
          "output_type": "stream",
          "name": "stdout",
          "text": [
            "Crawl data with product_id 177774600\n"
          ]
        },
        {
          "output_type": "stream",
          "name": "stderr",
          "text": [
            "\r 69%|██████▉   | 1386/2000 [1:28:52<40:14,  3.93s/it]"
          ]
        },
        {
          "output_type": "stream",
          "name": "stdout",
          "text": [
            "Crawl data with product_id 247256981\n"
          ]
        },
        {
          "output_type": "stream",
          "name": "stderr",
          "text": [
            "\r 69%|██████▉   | 1387/2000 [1:28:56<38:22,  3.76s/it]"
          ]
        },
        {
          "output_type": "stream",
          "name": "stdout",
          "text": [
            "Crawl data with product_id 564919\n"
          ]
        },
        {
          "output_type": "stream",
          "name": "stderr",
          "text": [
            "\r 69%|██████▉   | 1388/2000 [1:29:00<40:06,  3.93s/it]"
          ]
        },
        {
          "output_type": "stream",
          "name": "stdout",
          "text": [
            "Crawl data with product_id 202840393\n"
          ]
        },
        {
          "output_type": "stream",
          "name": "stderr",
          "text": [
            "\r 69%|██████▉   | 1389/2000 [1:29:04<41:25,  4.07s/it]"
          ]
        },
        {
          "output_type": "stream",
          "name": "stdout",
          "text": [
            "Crawl data with product_id 81086620\n"
          ]
        },
        {
          "output_type": "stream",
          "name": "stderr",
          "text": [
            "\r 70%|██████▉   | 1390/2000 [1:29:09<42:20,  4.17s/it]"
          ]
        },
        {
          "output_type": "stream",
          "name": "stdout",
          "text": [
            "Crawl data with product_id 96057075\n"
          ]
        },
        {
          "output_type": "stream",
          "name": "stderr",
          "text": [
            "\r 70%|██████▉   | 1391/2000 [1:29:12<39:40,  3.91s/it]"
          ]
        },
        {
          "output_type": "stream",
          "name": "stdout",
          "text": [
            "Crawl data with product_id 143219853\n"
          ]
        },
        {
          "output_type": "stream",
          "name": "stderr",
          "text": [
            "\r 70%|██████▉   | 1392/2000 [1:29:15<37:52,  3.74s/it]"
          ]
        },
        {
          "output_type": "stream",
          "name": "stdout",
          "text": [
            "Crawl data with product_id 196005761\n"
          ]
        },
        {
          "output_type": "stream",
          "name": "stderr",
          "text": [
            "\r 70%|██████▉   | 1393/2000 [1:29:20<39:35,  3.91s/it]"
          ]
        },
        {
          "output_type": "stream",
          "name": "stdout",
          "text": [
            "Crawl data with product_id 93022550\n"
          ]
        },
        {
          "output_type": "stream",
          "name": "stderr",
          "text": [
            "\r 70%|██████▉   | 1394/2000 [1:29:24<40:49,  4.04s/it]"
          ]
        },
        {
          "output_type": "stream",
          "name": "stdout",
          "text": [
            "Crawl data with product_id 198495028\n"
          ]
        },
        {
          "output_type": "stream",
          "name": "stderr",
          "text": [
            "\r 70%|██████▉   | 1395/2000 [1:29:28<41:36,  4.13s/it]"
          ]
        },
        {
          "output_type": "stream",
          "name": "stdout",
          "text": [
            "Crawl data with product_id 26412691\n"
          ]
        },
        {
          "output_type": "stream",
          "name": "stderr",
          "text": [
            "\r 70%|██████▉   | 1396/2000 [1:29:33<42:11,  4.19s/it]"
          ]
        },
        {
          "output_type": "stream",
          "name": "stdout",
          "text": [
            "Crawl data with product_id 1565659\n"
          ]
        },
        {
          "output_type": "stream",
          "name": "stderr",
          "text": [
            "\r 70%|██████▉   | 1397/2000 [1:29:36<39:27,  3.93s/it]"
          ]
        },
        {
          "output_type": "stream",
          "name": "stdout",
          "text": [
            "Crawl data with product_id 59553860\n"
          ]
        },
        {
          "output_type": "stream",
          "name": "stderr",
          "text": [
            "\r 70%|██████▉   | 1398/2000 [1:29:39<37:36,  3.75s/it]"
          ]
        },
        {
          "output_type": "stream",
          "name": "stdout",
          "text": [
            "Crawl data with product_id 200520544\n"
          ]
        },
        {
          "output_type": "stream",
          "name": "stderr",
          "text": [
            "\r 70%|██████▉   | 1399/2000 [1:29:44<39:20,  3.93s/it]"
          ]
        },
        {
          "output_type": "stream",
          "name": "stdout",
          "text": [
            "Crawl data with product_id 205730797\n"
          ]
        },
        {
          "output_type": "stream",
          "name": "stderr",
          "text": [
            "\r 70%|███████   | 1400/2000 [1:29:47<37:23,  3.74s/it]"
          ]
        },
        {
          "output_type": "stream",
          "name": "stdout",
          "text": [
            "Crawl data with product_id 653963\n"
          ]
        },
        {
          "output_type": "stream",
          "name": "stderr",
          "text": [
            "\r 70%|███████   | 1401/2000 [1:29:50<36:07,  3.62s/it]"
          ]
        },
        {
          "output_type": "stream",
          "name": "stdout",
          "text": [
            "Crawl data with product_id 212551848\n"
          ]
        },
        {
          "output_type": "stream",
          "name": "stderr",
          "text": [
            "\r 70%|███████   | 1402/2000 [1:29:54<35:07,  3.52s/it]"
          ]
        },
        {
          "output_type": "stream",
          "name": "stdout",
          "text": [
            "Crawl data with product_id 80358850\n"
          ]
        },
        {
          "output_type": "stream",
          "name": "stderr",
          "text": [
            "\r 70%|███████   | 1403/2000 [1:29:58<37:32,  3.77s/it]"
          ]
        },
        {
          "output_type": "stream",
          "name": "stdout",
          "text": [
            "Crawl data with product_id 174878646\n"
          ]
        },
        {
          "output_type": "stream",
          "name": "stderr",
          "text": [
            "\r 70%|███████   | 1404/2000 [1:30:02<39:08,  3.94s/it]"
          ]
        },
        {
          "output_type": "stream",
          "name": "stdout",
          "text": [
            "Crawl data with product_id 186881395\n"
          ]
        },
        {
          "output_type": "stream",
          "name": "stderr",
          "text": [
            "\r 70%|███████   | 1405/2000 [1:30:06<37:13,  3.75s/it]"
          ]
        },
        {
          "output_type": "stream",
          "name": "stdout",
          "text": [
            "Crawl data with product_id 213864568\n"
          ]
        },
        {
          "output_type": "stream",
          "name": "stderr",
          "text": [
            "\r 70%|███████   | 1406/2000 [1:30:10<38:55,  3.93s/it]"
          ]
        },
        {
          "output_type": "stream",
          "name": "stdout",
          "text": [
            "Crawl data with product_id 249844452\n"
          ]
        },
        {
          "output_type": "stream",
          "name": "stderr",
          "text": [
            "\r 70%|███████   | 1407/2000 [1:30:13<37:01,  3.75s/it]"
          ]
        },
        {
          "output_type": "stream",
          "name": "stdout",
          "text": [
            "Crawl data with product_id 60392004\n"
          ]
        },
        {
          "output_type": "stream",
          "name": "stderr",
          "text": [
            "\r 70%|███████   | 1408/2000 [1:30:18<38:42,  3.92s/it]"
          ]
        },
        {
          "output_type": "stream",
          "name": "stdout",
          "text": [
            "Crawl data with product_id 7927473\n"
          ]
        },
        {
          "output_type": "stream",
          "name": "stderr",
          "text": [
            "\r 70%|███████   | 1409/2000 [1:30:21<36:56,  3.75s/it]"
          ]
        },
        {
          "output_type": "stream",
          "name": "stdout",
          "text": [
            "Crawl data with product_id 247319307\n"
          ]
        },
        {
          "output_type": "stream",
          "name": "stderr",
          "text": [
            "\r 70%|███████   | 1410/2000 [1:30:25<38:33,  3.92s/it]"
          ]
        },
        {
          "output_type": "stream",
          "name": "stdout",
          "text": [
            "Crawl data with product_id 58397045\n"
          ]
        },
        {
          "output_type": "stream",
          "name": "stderr",
          "text": [
            "\r 71%|███████   | 1411/2000 [1:30:30<39:46,  4.05s/it]"
          ]
        },
        {
          "output_type": "stream",
          "name": "stdout",
          "text": [
            "Crawl data with product_id 193203778\n"
          ]
        },
        {
          "output_type": "stream",
          "name": "stderr",
          "text": [
            "\r 71%|███████   | 1412/2000 [1:30:34<40:32,  4.14s/it]"
          ]
        },
        {
          "output_type": "stream",
          "name": "stdout",
          "text": [
            "Crawl data with product_id 135046069\n"
          ]
        },
        {
          "output_type": "stream",
          "name": "stderr",
          "text": [
            "\r 71%|███████   | 1413/2000 [1:30:38<41:08,  4.21s/it]"
          ]
        },
        {
          "output_type": "stream",
          "name": "stdout",
          "text": [
            "Crawl data with product_id 216009024\n"
          ]
        },
        {
          "output_type": "stream",
          "name": "stderr",
          "text": [
            "\r 71%|███████   | 1414/2000 [1:30:43<41:24,  4.24s/it]"
          ]
        },
        {
          "output_type": "stream",
          "name": "stdout",
          "text": [
            "Crawl data with product_id 440757\n"
          ]
        },
        {
          "output_type": "stream",
          "name": "stderr",
          "text": [
            "\r 71%|███████   | 1415/2000 [1:30:47<41:37,  4.27s/it]"
          ]
        },
        {
          "output_type": "stream",
          "name": "stdout",
          "text": [
            "Crawl data with product_id 108937710\n"
          ]
        },
        {
          "output_type": "stream",
          "name": "stderr",
          "text": [
            "\r 71%|███████   | 1416/2000 [1:30:51<41:44,  4.29s/it]"
          ]
        },
        {
          "output_type": "stream",
          "name": "stdout",
          "text": [
            "Crawl data with product_id 199102691\n"
          ]
        },
        {
          "output_type": "stream",
          "name": "stderr",
          "text": [
            "\r 71%|███████   | 1417/2000 [1:30:56<41:41,  4.29s/it]"
          ]
        },
        {
          "output_type": "stream",
          "name": "stdout",
          "text": [
            "Crawl data with product_id 77774784\n"
          ]
        },
        {
          "output_type": "stream",
          "name": "stderr",
          "text": [
            "\r 71%|███████   | 1418/2000 [1:30:59<38:45,  4.00s/it]"
          ]
        },
        {
          "output_type": "stream",
          "name": "stdout",
          "text": [
            "Crawl data with product_id 47161869\n"
          ]
        },
        {
          "output_type": "stream",
          "name": "stderr",
          "text": [
            "\r 71%|███████   | 1419/2000 [1:31:03<39:44,  4.10s/it]"
          ]
        },
        {
          "output_type": "stream",
          "name": "stdout",
          "text": [
            "Crawl data with product_id 257647052\n"
          ]
        },
        {
          "output_type": "stream",
          "name": "stderr",
          "text": [
            "\r 71%|███████   | 1420/2000 [1:31:07<37:32,  3.88s/it]"
          ]
        },
        {
          "output_type": "stream",
          "name": "stdout",
          "text": [
            "Crawl data with product_id 53716212\n"
          ]
        },
        {
          "output_type": "stream",
          "name": "stderr",
          "text": [
            "\r 71%|███████   | 1421/2000 [1:31:10<35:52,  3.72s/it]"
          ]
        },
        {
          "output_type": "stream",
          "name": "stdout",
          "text": [
            "Crawl data with product_id 253275226\n"
          ]
        },
        {
          "output_type": "stream",
          "name": "stderr",
          "text": [
            "\r 71%|███████   | 1422/2000 [1:31:13<34:43,  3.60s/it]"
          ]
        },
        {
          "output_type": "stream",
          "name": "stdout",
          "text": [
            "Crawl data with product_id 193234694\n"
          ]
        },
        {
          "output_type": "stream",
          "name": "stderr",
          "text": [
            "\r 71%|███████   | 1423/2000 [1:31:18<36:46,  3.82s/it]"
          ]
        },
        {
          "output_type": "stream",
          "name": "stdout",
          "text": [
            "Crawl data with product_id 186881819\n"
          ]
        },
        {
          "output_type": "stream",
          "name": "stderr",
          "text": [
            "\r 71%|███████   | 1424/2000 [1:31:22<38:11,  3.98s/it]"
          ]
        },
        {
          "output_type": "stream",
          "name": "stdout",
          "text": [
            "Crawl data with product_id 217103285\n"
          ]
        },
        {
          "output_type": "stream",
          "name": "stderr",
          "text": [
            "\r 71%|███████▏  | 1425/2000 [1:31:26<39:04,  4.08s/it]"
          ]
        },
        {
          "output_type": "stream",
          "name": "stdout",
          "text": [
            "Crawl data with product_id 204887374\n"
          ]
        },
        {
          "output_type": "stream",
          "name": "stderr",
          "text": [
            "\r 71%|███████▏  | 1426/2000 [1:31:30<36:57,  3.86s/it]"
          ]
        },
        {
          "output_type": "stream",
          "name": "stdout",
          "text": [
            "Crawl data with product_id 190468532\n"
          ]
        },
        {
          "output_type": "stream",
          "name": "stderr",
          "text": [
            "\r 71%|███████▏  | 1427/2000 [1:31:34<38:18,  4.01s/it]"
          ]
        },
        {
          "output_type": "stream",
          "name": "stdout",
          "text": [
            "Crawl data with product_id 395735\n"
          ]
        },
        {
          "output_type": "stream",
          "name": "stderr",
          "text": [
            "\r 71%|███████▏  | 1428/2000 [1:31:37<36:12,  3.80s/it]"
          ]
        },
        {
          "output_type": "stream",
          "name": "stdout",
          "text": [
            "Crawl data with product_id 205863234\n"
          ]
        },
        {
          "output_type": "stream",
          "name": "stderr",
          "text": [
            "\r 71%|███████▏  | 1429/2000 [1:31:42<37:37,  3.95s/it]"
          ]
        },
        {
          "output_type": "stream",
          "name": "stdout",
          "text": [
            "Crawl data with product_id 551419\n"
          ]
        },
        {
          "output_type": "stream",
          "name": "stderr",
          "text": [
            "\r 72%|███████▏  | 1430/2000 [1:31:46<38:37,  4.07s/it]"
          ]
        },
        {
          "output_type": "stream",
          "name": "stdout",
          "text": [
            "Crawl data with product_id 197499851\n"
          ]
        },
        {
          "output_type": "stream",
          "name": "stderr",
          "text": [
            "\r 72%|███████▏  | 1431/2000 [1:31:49<36:26,  3.84s/it]"
          ]
        },
        {
          "output_type": "stream",
          "name": "stdout",
          "text": [
            "Crawl data with product_id 196203030\n"
          ]
        },
        {
          "output_type": "stream",
          "name": "stderr",
          "text": [
            "\r 72%|███████▏  | 1432/2000 [1:31:53<34:51,  3.68s/it]"
          ]
        },
        {
          "output_type": "stream",
          "name": "stdout",
          "text": [
            "Crawl data with product_id 49002482\n"
          ]
        },
        {
          "output_type": "stream",
          "name": "stderr",
          "text": [
            "\r 72%|███████▏  | 1433/2000 [1:31:57<36:36,  3.87s/it]"
          ]
        },
        {
          "output_type": "stream",
          "name": "stdout",
          "text": [
            "Crawl data with product_id 479818\n"
          ]
        },
        {
          "output_type": "stream",
          "name": "stderr",
          "text": [
            "\r 72%|███████▏  | 1434/2000 [1:32:00<35:00,  3.71s/it]"
          ]
        },
        {
          "output_type": "stream",
          "name": "stdout",
          "text": [
            "Crawl data with product_id 230098292\n"
          ]
        },
        {
          "output_type": "stream",
          "name": "stderr",
          "text": [
            "\r 72%|███████▏  | 1435/2000 [1:32:04<33:58,  3.61s/it]"
          ]
        },
        {
          "output_type": "stream",
          "name": "stdout",
          "text": [
            "Crawl data with product_id 138504795\n"
          ]
        },
        {
          "output_type": "stream",
          "name": "stderr",
          "text": [
            "\r 72%|███████▏  | 1436/2000 [1:32:08<35:59,  3.83s/it]"
          ]
        },
        {
          "output_type": "stream",
          "name": "stdout",
          "text": [
            "Crawl data with product_id 174181208\n"
          ]
        },
        {
          "output_type": "stream",
          "name": "stderr",
          "text": [
            "\r 72%|███████▏  | 1437/2000 [1:32:11<34:33,  3.68s/it]"
          ]
        },
        {
          "output_type": "stream",
          "name": "stdout",
          "text": [
            "Crawl data with product_id 110447686\n"
          ]
        },
        {
          "output_type": "stream",
          "name": "stderr",
          "text": [
            "\r 72%|███████▏  | 1438/2000 [1:32:15<33:29,  3.57s/it]"
          ]
        },
        {
          "output_type": "stream",
          "name": "stdout",
          "text": [
            "Crawl data with product_id 215110820\n"
          ]
        },
        {
          "output_type": "stream",
          "name": "stderr",
          "text": [
            "\r 72%|███████▏  | 1439/2000 [1:32:18<32:43,  3.50s/it]"
          ]
        },
        {
          "output_type": "stream",
          "name": "stdout",
          "text": [
            "Crawl data with product_id 73687709\n"
          ]
        },
        {
          "output_type": "stream",
          "name": "stderr",
          "text": [
            "\r 72%|███████▏  | 1440/2000 [1:32:21<32:07,  3.44s/it]"
          ]
        },
        {
          "output_type": "stream",
          "name": "stdout",
          "text": [
            "Crawl data with product_id 104015147\n"
          ]
        },
        {
          "output_type": "stream",
          "name": "stderr",
          "text": [
            "\r 72%|███████▏  | 1441/2000 [1:32:25<31:51,  3.42s/it]"
          ]
        },
        {
          "output_type": "stream",
          "name": "stdout",
          "text": [
            "Crawl data with product_id 199607903\n"
          ]
        },
        {
          "output_type": "stream",
          "name": "stderr",
          "text": [
            "\r 72%|███████▏  | 1442/2000 [1:32:28<31:31,  3.39s/it]"
          ]
        },
        {
          "output_type": "stream",
          "name": "stdout",
          "text": [
            "Crawl data with product_id 177753074\n"
          ]
        },
        {
          "output_type": "stream",
          "name": "stderr",
          "text": [
            "\r 72%|███████▏  | 1443/2000 [1:32:31<31:20,  3.38s/it]"
          ]
        },
        {
          "output_type": "stream",
          "name": "stdout",
          "text": [
            "Crawl data with product_id 196970436\n"
          ]
        },
        {
          "output_type": "stream",
          "name": "stderr",
          "text": [
            "\r 72%|███████▏  | 1444/2000 [1:32:35<31:06,  3.36s/it]"
          ]
        },
        {
          "output_type": "stream",
          "name": "stdout",
          "text": [
            "Crawl data with product_id 207825481\n"
          ]
        },
        {
          "output_type": "stream",
          "name": "stderr",
          "text": [
            "\r 72%|███████▏  | 1445/2000 [1:32:40<35:37,  3.85s/it]"
          ]
        },
        {
          "output_type": "stream",
          "name": "stdout",
          "text": [
            "Crawl data with product_id 198262364\n"
          ]
        },
        {
          "output_type": "stream",
          "name": "stderr",
          "text": [
            "\r 72%|███████▏  | 1446/2000 [1:32:44<36:53,  4.00s/it]"
          ]
        },
        {
          "output_type": "stream",
          "name": "stdout",
          "text": [
            "Crawl data with product_id 203428483\n"
          ]
        },
        {
          "output_type": "stream",
          "name": "stderr",
          "text": [
            "\r 72%|███████▏  | 1447/2000 [1:32:48<37:41,  4.09s/it]"
          ]
        },
        {
          "output_type": "stream",
          "name": "stdout",
          "text": [
            "Crawl data with product_id 87642026\n"
          ]
        },
        {
          "output_type": "stream",
          "name": "stderr",
          "text": [
            "\r 72%|███████▏  | 1448/2000 [1:32:52<35:26,  3.85s/it]"
          ]
        },
        {
          "output_type": "stream",
          "name": "stdout",
          "text": [
            "Crawl data with product_id 68562739\n"
          ]
        },
        {
          "output_type": "stream",
          "name": "stderr",
          "text": [
            "\r 72%|███████▏  | 1449/2000 [1:32:55<34:31,  3.76s/it]"
          ]
        },
        {
          "output_type": "stream",
          "name": "stdout",
          "text": [
            "Crawl data with product_id 2120581\n"
          ]
        },
        {
          "output_type": "stream",
          "name": "stderr",
          "text": [
            "\r 72%|███████▎  | 1450/2000 [1:32:58<33:14,  3.63s/it]"
          ]
        },
        {
          "output_type": "stream",
          "name": "stdout",
          "text": [
            "Crawl data with product_id 165184278\n"
          ]
        },
        {
          "output_type": "stream",
          "name": "stderr",
          "text": [
            "\r 73%|███████▎  | 1451/2000 [1:33:03<35:11,  3.85s/it]"
          ]
        },
        {
          "output_type": "stream",
          "name": "stdout",
          "text": [
            "Crawl data with product_id 249424387\n"
          ]
        },
        {
          "output_type": "stream",
          "name": "stderr",
          "text": [
            "\r 73%|███████▎  | 1452/2000 [1:33:06<33:41,  3.69s/it]"
          ]
        },
        {
          "output_type": "stream",
          "name": "stdout",
          "text": [
            "Crawl data with product_id 45321632\n"
          ]
        },
        {
          "output_type": "stream",
          "name": "stderr",
          "text": [
            "\r 73%|███████▎  | 1453/2000 [1:33:09<32:41,  3.59s/it]"
          ]
        },
        {
          "output_type": "stream",
          "name": "stdout",
          "text": [
            "Crawl data with product_id 56679741\n"
          ]
        },
        {
          "output_type": "stream",
          "name": "stderr",
          "text": [
            "\r 73%|███████▎  | 1454/2000 [1:33:13<32:42,  3.59s/it]"
          ]
        },
        {
          "output_type": "stream",
          "name": "stdout",
          "text": [
            "Crawl data with product_id 185410045\n"
          ]
        },
        {
          "output_type": "stream",
          "name": "stderr",
          "text": [
            "\r 73%|███████▎  | 1455/2000 [1:33:16<32:03,  3.53s/it]"
          ]
        },
        {
          "output_type": "stream",
          "name": "stdout",
          "text": [
            "Crawl data with product_id 782267\n"
          ]
        },
        {
          "output_type": "stream",
          "name": "stderr",
          "text": [
            "\r 73%|███████▎  | 1456/2000 [1:33:20<31:33,  3.48s/it]"
          ]
        },
        {
          "output_type": "stream",
          "name": "stdout",
          "text": [
            "Crawl data with product_id 146988862\n"
          ]
        },
        {
          "output_type": "stream",
          "name": "stderr",
          "text": [
            "\r 73%|███████▎  | 1457/2000 [1:33:23<31:07,  3.44s/it]"
          ]
        },
        {
          "output_type": "stream",
          "name": "stdout",
          "text": [
            "Crawl data with product_id 191592399\n"
          ]
        },
        {
          "output_type": "stream",
          "name": "stderr",
          "text": [
            "\r 73%|███████▎  | 1458/2000 [1:33:27<33:29,  3.71s/it]"
          ]
        },
        {
          "output_type": "stream",
          "name": "stdout",
          "text": [
            "Crawl data with product_id 51563576\n"
          ]
        },
        {
          "output_type": "stream",
          "name": "stderr",
          "text": [
            "\r 73%|███████▎  | 1459/2000 [1:33:32<35:02,  3.89s/it]"
          ]
        },
        {
          "output_type": "stream",
          "name": "stdout",
          "text": [
            "Crawl data with product_id 178777234\n"
          ]
        },
        {
          "output_type": "stream",
          "name": "stderr",
          "text": [
            "\r 73%|███████▎  | 1460/2000 [1:33:35<33:32,  3.73s/it]"
          ]
        },
        {
          "output_type": "stream",
          "name": "stdout",
          "text": [
            "Crawl data with product_id 206781735\n"
          ]
        },
        {
          "output_type": "stream",
          "name": "stderr",
          "text": [
            "\r 73%|███████▎  | 1461/2000 [1:33:39<35:01,  3.90s/it]"
          ]
        },
        {
          "output_type": "stream",
          "name": "stdout",
          "text": [
            "Crawl data with product_id 542731\n"
          ]
        },
        {
          "output_type": "stream",
          "name": "stderr",
          "text": [
            "\r 73%|███████▎  | 1462/2000 [1:33:44<36:01,  4.02s/it]"
          ]
        },
        {
          "output_type": "stream",
          "name": "stdout",
          "text": [
            "Crawl data with product_id 544338\n"
          ]
        },
        {
          "output_type": "stream",
          "name": "stderr",
          "text": [
            "\r 73%|███████▎  | 1463/2000 [1:33:48<36:43,  4.10s/it]"
          ]
        },
        {
          "output_type": "stream",
          "name": "stdout",
          "text": [
            "Crawl data with product_id 37793848\n"
          ]
        },
        {
          "output_type": "stream",
          "name": "stderr",
          "text": [
            "\r 73%|███████▎  | 1464/2000 [1:33:52<37:16,  4.17s/it]"
          ]
        },
        {
          "output_type": "stream",
          "name": "stdout",
          "text": [
            "Crawl data with product_id 41549140\n"
          ]
        },
        {
          "output_type": "stream",
          "name": "stderr",
          "text": [
            "\r 73%|███████▎  | 1465/2000 [1:33:56<35:01,  3.93s/it]"
          ]
        },
        {
          "output_type": "stream",
          "name": "stdout",
          "text": [
            "Crawl data with product_id 51564885\n"
          ]
        },
        {
          "output_type": "stream",
          "name": "stderr",
          "text": [
            "\r 73%|███████▎  | 1466/2000 [1:33:59<33:26,  3.76s/it]"
          ]
        },
        {
          "output_type": "stream",
          "name": "stdout",
          "text": [
            "Crawl data with product_id 253136488\n"
          ]
        },
        {
          "output_type": "stream",
          "name": "stderr",
          "text": [
            "\r 73%|███████▎  | 1467/2000 [1:34:03<32:41,  3.68s/it]"
          ]
        },
        {
          "output_type": "stream",
          "name": "stdout",
          "text": [
            "Crawl data with product_id 191058455\n"
          ]
        },
        {
          "output_type": "stream",
          "name": "stderr",
          "text": [
            "\r 73%|███████▎  | 1468/2000 [1:34:06<31:43,  3.58s/it]"
          ]
        },
        {
          "output_type": "stream",
          "name": "stdout",
          "text": [
            "Crawl data with product_id 138269663\n"
          ]
        },
        {
          "output_type": "stream",
          "name": "stderr",
          "text": [
            "\r 73%|███████▎  | 1469/2000 [1:34:10<33:39,  3.80s/it]"
          ]
        },
        {
          "output_type": "stream",
          "name": "stdout",
          "text": [
            "Crawl data with product_id 161386560\n"
          ]
        },
        {
          "output_type": "stream",
          "name": "stderr",
          "text": [
            "\r 74%|███████▎  | 1470/2000 [1:34:14<32:24,  3.67s/it]"
          ]
        },
        {
          "output_type": "stream",
          "name": "stdout",
          "text": [
            "Crawl data with product_id 84872572\n"
          ]
        },
        {
          "output_type": "stream",
          "name": "stderr",
          "text": [
            "\r 74%|███████▎  | 1471/2000 [1:34:18<34:03,  3.86s/it]"
          ]
        },
        {
          "output_type": "stream",
          "name": "stdout",
          "text": [
            "Crawl data with product_id 191148978\n"
          ]
        },
        {
          "output_type": "stream",
          "name": "stderr",
          "text": [
            "\r 74%|███████▎  | 1472/2000 [1:34:21<32:32,  3.70s/it]"
          ]
        },
        {
          "output_type": "stream",
          "name": "stdout",
          "text": [
            "Crawl data with product_id 136143597\n"
          ]
        },
        {
          "output_type": "stream",
          "name": "stderr",
          "text": [
            "\r 74%|███████▎  | 1473/2000 [1:34:25<31:32,  3.59s/it]"
          ]
        },
        {
          "output_type": "stream",
          "name": "stdout",
          "text": [
            "Crawl data with product_id 190468823\n"
          ]
        },
        {
          "output_type": "stream",
          "name": "stderr",
          "text": [
            "\r 74%|███████▎  | 1474/2000 [1:34:29<33:24,  3.81s/it]"
          ]
        },
        {
          "output_type": "stream",
          "name": "stdout",
          "text": [
            "Crawl data with product_id 248591413\n"
          ]
        },
        {
          "output_type": "stream",
          "name": "stderr",
          "text": [
            "\r 74%|███████▍  | 1475/2000 [1:34:33<34:40,  3.96s/it]"
          ]
        },
        {
          "output_type": "stream",
          "name": "stdout",
          "text": [
            "Crawl data with product_id 249485557\n"
          ]
        },
        {
          "output_type": "stream",
          "name": "stderr",
          "text": [
            "\r 74%|███████▍  | 1476/2000 [1:34:38<36:02,  4.13s/it]"
          ]
        },
        {
          "output_type": "stream",
          "name": "stdout",
          "text": [
            "Crawl data with product_id 72639901\n"
          ]
        },
        {
          "output_type": "stream",
          "name": "stderr",
          "text": [
            "\r 74%|███████▍  | 1477/2000 [1:34:42<36:30,  4.19s/it]"
          ]
        },
        {
          "output_type": "stream",
          "name": "stdout",
          "text": [
            "Crawl data with product_id 15722679\n"
          ]
        },
        {
          "output_type": "stream",
          "name": "stderr",
          "text": [
            "\r 74%|███████▍  | 1478/2000 [1:34:46<36:50,  4.24s/it]"
          ]
        },
        {
          "output_type": "stream",
          "name": "stdout",
          "text": [
            "Crawl data with product_id 49026035\n"
          ]
        },
        {
          "output_type": "stream",
          "name": "stderr",
          "text": [
            "\r 74%|███████▍  | 1479/2000 [1:34:51<37:02,  4.27s/it]"
          ]
        },
        {
          "output_type": "stream",
          "name": "stdout",
          "text": [
            "Crawl data with product_id 77756874\n"
          ]
        },
        {
          "output_type": "stream",
          "name": "stderr",
          "text": [
            "\r 74%|███████▍  | 1480/2000 [1:34:54<34:28,  3.98s/it]"
          ]
        },
        {
          "output_type": "stream",
          "name": "stdout",
          "text": [
            "Crawl data with product_id 201427176\n"
          ]
        },
        {
          "output_type": "stream",
          "name": "stderr",
          "text": [
            "\r 74%|███████▍  | 1481/2000 [1:34:57<32:41,  3.78s/it]"
          ]
        },
        {
          "output_type": "stream",
          "name": "stdout",
          "text": [
            "Crawl data with product_id 217624536\n"
          ]
        },
        {
          "output_type": "stream",
          "name": "stderr",
          "text": [
            "\r 74%|███████▍  | 1482/2000 [1:35:02<34:29,  4.00s/it]"
          ]
        },
        {
          "output_type": "stream",
          "name": "stdout",
          "text": [
            "Crawl data with product_id 260933326\n"
          ]
        },
        {
          "output_type": "stream",
          "name": "stderr",
          "text": [
            "\r 74%|███████▍  | 1483/2000 [1:35:06<35:22,  4.11s/it]"
          ]
        },
        {
          "output_type": "stream",
          "name": "stdout",
          "text": [
            "Crawl data with product_id 229697387\n"
          ]
        },
        {
          "output_type": "stream",
          "name": "stderr",
          "text": [
            "\r 74%|███████▍  | 1484/2000 [1:35:11<35:50,  4.17s/it]"
          ]
        },
        {
          "output_type": "stream",
          "name": "stdout",
          "text": [
            "Crawl data with product_id 59452262\n"
          ]
        },
        {
          "output_type": "stream",
          "name": "stderr",
          "text": [
            "\r 74%|███████▍  | 1485/2000 [1:35:15<36:13,  4.22s/it]"
          ]
        },
        {
          "output_type": "stream",
          "name": "stdout",
          "text": [
            "Crawl data with product_id 24939016\n"
          ]
        },
        {
          "output_type": "stream",
          "name": "stderr",
          "text": [
            "\r 74%|███████▍  | 1486/2000 [1:35:18<33:52,  3.95s/it]"
          ]
        },
        {
          "output_type": "stream",
          "name": "stdout",
          "text": [
            "Crawl data with product_id 13394068\n"
          ]
        },
        {
          "output_type": "stream",
          "name": "stderr",
          "text": [
            "\r 74%|███████▍  | 1487/2000 [1:35:22<32:22,  3.79s/it]"
          ]
        },
        {
          "output_type": "stream",
          "name": "stdout",
          "text": [
            "Crawl data with product_id 245766161\n"
          ]
        },
        {
          "output_type": "stream",
          "name": "stderr",
          "text": [
            "\r 74%|███████▍  | 1488/2000 [1:35:26<33:39,  3.94s/it]"
          ]
        },
        {
          "output_type": "stream",
          "name": "stdout",
          "text": [
            "Crawl data with product_id 229726586\n"
          ]
        },
        {
          "output_type": "stream",
          "name": "stderr",
          "text": [
            "\r 74%|███████▍  | 1489/2000 [1:35:29<31:56,  3.75s/it]"
          ]
        },
        {
          "output_type": "stream",
          "name": "stdout",
          "text": [
            "Crawl data with product_id 262791339\n"
          ]
        },
        {
          "output_type": "stream",
          "name": "stderr",
          "text": [
            "\r 74%|███████▍  | 1490/2000 [1:35:34<33:49,  3.98s/it]"
          ]
        },
        {
          "output_type": "stream",
          "name": "stdout",
          "text": [
            "Crawl data with product_id 203276069\n"
          ]
        },
        {
          "output_type": "stream",
          "name": "stderr",
          "text": [
            "\r 75%|███████▍  | 1491/2000 [1:35:38<34:36,  4.08s/it]"
          ]
        },
        {
          "output_type": "stream",
          "name": "stdout",
          "text": [
            "Crawl data with product_id 76049859\n"
          ]
        },
        {
          "output_type": "stream",
          "name": "stderr",
          "text": [
            "\r 75%|███████▍  | 1492/2000 [1:35:42<35:11,  4.16s/it]"
          ]
        },
        {
          "output_type": "stream",
          "name": "stdout",
          "text": [
            "Crawl data with product_id 79555637\n"
          ]
        },
        {
          "output_type": "stream",
          "name": "stderr",
          "text": [
            "\r 75%|███████▍  | 1493/2000 [1:35:46<33:01,  3.91s/it]"
          ]
        },
        {
          "output_type": "stream",
          "name": "stdout",
          "text": [
            "Crawl data with product_id 214608854\n"
          ]
        },
        {
          "output_type": "stream",
          "name": "stderr",
          "text": [
            "\r 75%|███████▍  | 1494/2000 [1:35:50<34:01,  4.03s/it]"
          ]
        },
        {
          "output_type": "stream",
          "name": "stdout",
          "text": [
            "Crawl data with product_id 545112\n"
          ]
        },
        {
          "output_type": "stream",
          "name": "stderr",
          "text": [
            "\r 75%|███████▍  | 1495/2000 [1:35:54<34:41,  4.12s/it]"
          ]
        },
        {
          "output_type": "stream",
          "name": "stdout",
          "text": [
            "Crawl data with product_id 248265765\n"
          ]
        },
        {
          "output_type": "stream",
          "name": "stderr",
          "text": [
            "\r 75%|███████▍  | 1496/2000 [1:35:59<35:13,  4.19s/it]"
          ]
        },
        {
          "output_type": "stream",
          "name": "stdout",
          "text": [
            "Crawl data with product_id 180602510\n"
          ]
        },
        {
          "output_type": "stream",
          "name": "stderr",
          "text": [
            "\r 75%|███████▍  | 1497/2000 [1:36:03<35:28,  4.23s/it]"
          ]
        },
        {
          "output_type": "stream",
          "name": "stdout",
          "text": [
            "Crawl data with product_id 217528917\n"
          ]
        },
        {
          "output_type": "stream",
          "name": "stderr",
          "text": [
            "\r 75%|███████▍  | 1498/2000 [1:36:06<33:16,  3.98s/it]"
          ]
        },
        {
          "output_type": "stream",
          "name": "stdout",
          "text": [
            "Crawl data with product_id 77680804\n"
          ]
        },
        {
          "output_type": "stream",
          "name": "stderr",
          "text": [
            "\r 75%|███████▍  | 1499/2000 [1:36:11<34:03,  4.08s/it]"
          ]
        },
        {
          "output_type": "stream",
          "name": "stdout",
          "text": [
            "Crawl data with product_id 178606748\n"
          ]
        },
        {
          "output_type": "stream",
          "name": "stderr",
          "text": [
            "\r 75%|███████▌  | 1500/2000 [1:36:14<32:03,  3.85s/it]"
          ]
        },
        {
          "output_type": "stream",
          "name": "stdout",
          "text": [
            "Crawl data with product_id 135411628\n"
          ]
        },
        {
          "output_type": "stream",
          "name": "stderr",
          "text": [
            "\r 75%|███████▌  | 1501/2000 [1:36:18<33:12,  3.99s/it]"
          ]
        },
        {
          "output_type": "stream",
          "name": "stdout",
          "text": [
            "Crawl data with product_id 22145348\n"
          ]
        },
        {
          "output_type": "stream",
          "name": "stderr",
          "text": [
            "\r 75%|███████▌  | 1502/2000 [1:36:23<34:37,  4.17s/it]"
          ]
        },
        {
          "output_type": "stream",
          "name": "stdout",
          "text": [
            "Crawl data with product_id 205039747\n"
          ]
        },
        {
          "output_type": "stream",
          "name": "stderr",
          "text": [
            "\r 75%|███████▌  | 1503/2000 [1:36:27<34:58,  4.22s/it]"
          ]
        },
        {
          "output_type": "stream",
          "name": "stdout",
          "text": [
            "Crawl data with product_id 490803\n"
          ]
        },
        {
          "output_type": "stream",
          "name": "stderr",
          "text": [
            "\r 75%|███████▌  | 1504/2000 [1:36:32<35:05,  4.24s/it]"
          ]
        },
        {
          "output_type": "stream",
          "name": "stdout",
          "text": [
            "Crawl data with product_id 545018\n"
          ]
        },
        {
          "output_type": "stream",
          "name": "stderr",
          "text": [
            "\r 75%|███████▌  | 1505/2000 [1:36:35<32:50,  3.98s/it]"
          ]
        },
        {
          "output_type": "stream",
          "name": "stdout",
          "text": [
            "Crawl data with product_id 242695378\n"
          ]
        },
        {
          "output_type": "stream",
          "name": "stderr",
          "text": [
            "\r 75%|███████▌  | 1506/2000 [1:36:38<31:11,  3.79s/it]"
          ]
        },
        {
          "output_type": "stream",
          "name": "stdout",
          "text": [
            "Crawl data with product_id 177757924\n"
          ]
        },
        {
          "output_type": "stream",
          "name": "stderr",
          "text": [
            "\r 75%|███████▌  | 1507/2000 [1:36:43<32:23,  3.94s/it]"
          ]
        },
        {
          "output_type": "stream",
          "name": "stdout",
          "text": [
            "Crawl data with product_id 777258\n"
          ]
        },
        {
          "output_type": "stream",
          "name": "stderr",
          "text": [
            "\r 75%|███████▌  | 1508/2000 [1:36:47<33:18,  4.06s/it]"
          ]
        },
        {
          "output_type": "stream",
          "name": "stdout",
          "text": [
            "Crawl data with product_id 177704404\n"
          ]
        },
        {
          "output_type": "stream",
          "name": "stderr",
          "text": [
            "\r 75%|███████▌  | 1509/2000 [1:36:50<31:26,  3.84s/it]"
          ]
        },
        {
          "output_type": "stream",
          "name": "stdout",
          "text": [
            "Crawl data with product_id 201936415\n"
          ]
        },
        {
          "output_type": "stream",
          "name": "stderr",
          "text": [
            "\r 76%|███████▌  | 1510/2000 [1:36:54<30:05,  3.68s/it]"
          ]
        },
        {
          "output_type": "stream",
          "name": "stdout",
          "text": [
            "Crawl data with product_id 248754503\n"
          ]
        },
        {
          "output_type": "stream",
          "name": "stderr",
          "text": [
            "\r 76%|███████▌  | 1511/2000 [1:36:57<29:04,  3.57s/it]"
          ]
        },
        {
          "output_type": "stream",
          "name": "stdout",
          "text": [
            "Crawl data with product_id 154476165\n"
          ]
        },
        {
          "output_type": "stream",
          "name": "stderr",
          "text": [
            "\r 76%|███████▌  | 1512/2000 [1:37:00<28:26,  3.50s/it]"
          ]
        },
        {
          "output_type": "stream",
          "name": "stdout",
          "text": [
            "Crawl data with product_id 169459481\n"
          ]
        },
        {
          "output_type": "stream",
          "name": "stderr",
          "text": [
            "\r 76%|███████▌  | 1513/2000 [1:37:05<30:25,  3.75s/it]"
          ]
        },
        {
          "output_type": "stream",
          "name": "stdout",
          "text": [
            "Crawl data with product_id 2386715\n"
          ]
        },
        {
          "output_type": "stream",
          "name": "stderr",
          "text": [
            "\r 76%|███████▌  | 1514/2000 [1:37:08<29:18,  3.62s/it]"
          ]
        },
        {
          "output_type": "stream",
          "name": "stdout",
          "text": [
            "Crawl data with product_id 10694011\n"
          ]
        },
        {
          "output_type": "stream",
          "name": "stderr",
          "text": [
            "\r 76%|███████▌  | 1515/2000 [1:37:12<30:59,  3.83s/it]"
          ]
        },
        {
          "output_type": "stream",
          "name": "stdout",
          "text": [
            "Crawl data with product_id 75490754\n"
          ]
        },
        {
          "output_type": "stream",
          "name": "stderr",
          "text": [
            "\r 76%|███████▌  | 1516/2000 [1:37:16<29:42,  3.68s/it]"
          ]
        },
        {
          "output_type": "stream",
          "name": "stdout",
          "text": [
            "Crawl data with product_id 181170537\n"
          ]
        },
        {
          "output_type": "stream",
          "name": "stderr",
          "text": [
            "\r 76%|███████▌  | 1517/2000 [1:37:20<31:12,  3.88s/it]"
          ]
        },
        {
          "output_type": "stream",
          "name": "stdout",
          "text": [
            "Crawl data with product_id 56796547\n"
          ]
        },
        {
          "output_type": "stream",
          "name": "stderr",
          "text": [
            "\r 76%|███████▌  | 1518/2000 [1:37:23<29:56,  3.73s/it]"
          ]
        },
        {
          "output_type": "stream",
          "name": "stdout",
          "text": [
            "Crawl data with product_id 198569572\n"
          ]
        },
        {
          "output_type": "stream",
          "name": "stderr",
          "text": [
            "\r 76%|███████▌  | 1519/2000 [1:37:28<31:15,  3.90s/it]"
          ]
        },
        {
          "output_type": "stream",
          "name": "stdout",
          "text": [
            "Crawl data with product_id 67273383\n"
          ]
        },
        {
          "output_type": "stream",
          "name": "stderr",
          "text": [
            "\r 76%|███████▌  | 1520/2000 [1:37:32<32:58,  4.12s/it]"
          ]
        },
        {
          "output_type": "stream",
          "name": "stdout",
          "text": [
            "Crawl data with product_id 164273180\n"
          ]
        },
        {
          "output_type": "stream",
          "name": "stderr",
          "text": [
            "\r 76%|███████▌  | 1521/2000 [1:37:36<33:20,  4.18s/it]"
          ]
        },
        {
          "output_type": "stream",
          "name": "stdout",
          "text": [
            "Crawl data with product_id 138269683\n"
          ]
        },
        {
          "output_type": "stream",
          "name": "stderr",
          "text": [
            "\r 76%|███████▌  | 1522/2000 [1:37:40<31:11,  3.91s/it]"
          ]
        },
        {
          "output_type": "stream",
          "name": "stdout",
          "text": [
            "Crawl data with product_id 139296702\n"
          ]
        },
        {
          "output_type": "stream",
          "name": "stderr",
          "text": [
            "\r 76%|███████▌  | 1523/2000 [1:37:44<32:06,  4.04s/it]"
          ]
        },
        {
          "output_type": "stream",
          "name": "stdout",
          "text": [
            "Crawl data with product_id 505337\n"
          ]
        },
        {
          "output_type": "stream",
          "name": "stderr",
          "text": [
            "\r 76%|███████▌  | 1524/2000 [1:37:47<30:24,  3.83s/it]"
          ]
        },
        {
          "output_type": "stream",
          "name": "stdout",
          "text": [
            "Crawl data with product_id 95310193\n"
          ]
        },
        {
          "output_type": "stream",
          "name": "stderr",
          "text": [
            "\r 76%|███████▋  | 1525/2000 [1:37:52<31:31,  3.98s/it]"
          ]
        },
        {
          "output_type": "stream",
          "name": "stdout",
          "text": [
            "Crawl data with product_id 242100098\n"
          ]
        },
        {
          "output_type": "stream",
          "name": "stderr",
          "text": [
            "\r 76%|███████▋  | 1526/2000 [1:37:55<29:52,  3.78s/it]"
          ]
        },
        {
          "output_type": "stream",
          "name": "stdout",
          "text": [
            "Crawl data with product_id 77590322\n"
          ]
        },
        {
          "output_type": "stream",
          "name": "stderr",
          "text": [
            "\r 76%|███████▋  | 1527/2000 [1:37:58<28:46,  3.65s/it]"
          ]
        },
        {
          "output_type": "stream",
          "name": "stdout",
          "text": [
            "Crawl data with product_id 160796451\n"
          ]
        },
        {
          "output_type": "stream",
          "name": "stderr",
          "text": [
            "\r 76%|███████▋  | 1528/2000 [1:38:03<30:19,  3.86s/it]"
          ]
        },
        {
          "output_type": "stream",
          "name": "stdout",
          "text": [
            "Crawl data with product_id 180399927\n"
          ]
        },
        {
          "output_type": "stream",
          "name": "stderr",
          "text": [
            "\r 76%|███████▋  | 1529/2000 [1:38:06<28:59,  3.69s/it]"
          ]
        },
        {
          "output_type": "stream",
          "name": "stdout",
          "text": [
            "Crawl data with product_id 156234337\n"
          ]
        },
        {
          "output_type": "stream",
          "name": "stderr",
          "text": [
            "\r 76%|███████▋  | 1530/2000 [1:38:10<30:29,  3.89s/it]"
          ]
        },
        {
          "output_type": "stream",
          "name": "stdout",
          "text": [
            "Crawl data with product_id 28266473\n"
          ]
        },
        {
          "output_type": "stream",
          "name": "stderr",
          "text": [
            "\r 77%|███████▋  | 1531/2000 [1:38:15<31:25,  4.02s/it]"
          ]
        },
        {
          "output_type": "stream",
          "name": "stdout",
          "text": [
            "Crawl data with product_id 90624298\n"
          ]
        },
        {
          "output_type": "stream",
          "name": "stderr",
          "text": [
            "\r 77%|███████▋  | 1532/2000 [1:38:19<32:08,  4.12s/it]"
          ]
        },
        {
          "output_type": "stream",
          "name": "stdout",
          "text": [
            "Crawl data with product_id 29830672\n"
          ]
        },
        {
          "output_type": "stream",
          "name": "stderr",
          "text": [
            "\r 77%|███████▋  | 1533/2000 [1:38:23<32:34,  4.18s/it]"
          ]
        },
        {
          "output_type": "stream",
          "name": "stdout",
          "text": [
            "Crawl data with product_id 205901824\n"
          ]
        },
        {
          "output_type": "stream",
          "name": "stderr",
          "text": [
            "\r 77%|███████▋  | 1534/2000 [1:38:27<31:01,  4.00s/it]"
          ]
        },
        {
          "output_type": "stream",
          "name": "stdout",
          "text": [
            "Crawl data with product_id 6714893\n"
          ]
        },
        {
          "output_type": "stream",
          "name": "stderr",
          "text": [
            "\r 77%|███████▋  | 1535/2000 [1:38:30<29:18,  3.78s/it]"
          ]
        },
        {
          "output_type": "stream",
          "name": "stdout",
          "text": [
            "Crawl data with product_id 197418093\n"
          ]
        },
        {
          "output_type": "stream",
          "name": "stderr",
          "text": [
            "\r 77%|███████▋  | 1536/2000 [1:38:34<28:07,  3.64s/it]"
          ]
        },
        {
          "output_type": "stream",
          "name": "stdout",
          "text": [
            "Crawl data with product_id 59107035\n"
          ]
        },
        {
          "output_type": "stream",
          "name": "stderr",
          "text": [
            "\r 77%|███████▋  | 1537/2000 [1:38:38<29:40,  3.84s/it]"
          ]
        },
        {
          "output_type": "stream",
          "name": "stdout",
          "text": [
            "Crawl data with product_id 69644756\n"
          ]
        },
        {
          "output_type": "stream",
          "name": "stderr",
          "text": [
            "\r 77%|███████▋  | 1538/2000 [1:38:42<29:57,  3.89s/it]"
          ]
        },
        {
          "output_type": "stream",
          "name": "stdout",
          "text": [
            "Crawl data with product_id 10585190\n"
          ]
        },
        {
          "output_type": "stream",
          "name": "stderr",
          "text": [
            "\r 77%|███████▋  | 1539/2000 [1:38:45<28:41,  3.73s/it]"
          ]
        },
        {
          "output_type": "stream",
          "name": "stdout",
          "text": [
            "Crawl data with product_id 148802206\n"
          ]
        },
        {
          "output_type": "stream",
          "name": "stderr",
          "text": [
            "\r 77%|███████▋  | 1540/2000 [1:38:50<30:02,  3.92s/it]"
          ]
        },
        {
          "output_type": "stream",
          "name": "stdout",
          "text": [
            "Crawl data with product_id 48166628\n"
          ]
        },
        {
          "output_type": "stream",
          "name": "stderr",
          "text": [
            "\r 77%|███████▋  | 1541/2000 [1:38:54<30:58,  4.05s/it]"
          ]
        },
        {
          "output_type": "stream",
          "name": "stdout",
          "text": [
            "Crawl data with product_id 7171977\n"
          ]
        },
        {
          "output_type": "stream",
          "name": "stderr",
          "text": [
            "\r 77%|███████▋  | 1542/2000 [1:38:58<31:36,  4.14s/it]"
          ]
        },
        {
          "output_type": "stream",
          "name": "stdout",
          "text": [
            "Crawl data with product_id 184832973\n"
          ]
        },
        {
          "output_type": "stream",
          "name": "stderr",
          "text": [
            "\r 77%|███████▋  | 1543/2000 [1:39:02<30:04,  3.95s/it]"
          ]
        },
        {
          "output_type": "stream",
          "name": "stdout",
          "text": [
            "Crawl data with product_id 104558877\n"
          ]
        },
        {
          "output_type": "stream",
          "name": "stderr",
          "text": [
            "\r 77%|███████▋  | 1544/2000 [1:39:06<30:55,  4.07s/it]"
          ]
        },
        {
          "output_type": "stream",
          "name": "stdout",
          "text": [
            "Crawl data with product_id 50416094\n"
          ]
        },
        {
          "output_type": "stream",
          "name": "stderr",
          "text": [
            "\r 77%|███████▋  | 1545/2000 [1:39:10<29:06,  3.84s/it]"
          ]
        },
        {
          "output_type": "stream",
          "name": "stdout",
          "text": [
            "Crawl data with product_id 214654961\n"
          ]
        },
        {
          "output_type": "stream",
          "name": "stderr",
          "text": [
            "\r 77%|███████▋  | 1546/2000 [1:39:14<30:08,  3.98s/it]"
          ]
        },
        {
          "output_type": "stream",
          "name": "stdout",
          "text": [
            "Crawl data with product_id 9807335\n"
          ]
        },
        {
          "output_type": "stream",
          "name": "stderr",
          "text": [
            "\r 77%|███████▋  | 1547/2000 [1:39:18<30:51,  4.09s/it]"
          ]
        },
        {
          "output_type": "stream",
          "name": "stdout",
          "text": [
            "Crawl data with product_id 248877528\n"
          ]
        },
        {
          "output_type": "stream",
          "name": "stderr",
          "text": [
            "\r 77%|███████▋  | 1548/2000 [1:39:22<31:21,  4.16s/it]"
          ]
        },
        {
          "output_type": "stream",
          "name": "stdout",
          "text": [
            "Crawl data with product_id 21844867\n"
          ]
        },
        {
          "output_type": "stream",
          "name": "stderr",
          "text": [
            "\r 77%|███████▋  | 1549/2000 [1:39:26<29:21,  3.91s/it]"
          ]
        },
        {
          "output_type": "stream",
          "name": "stdout",
          "text": [
            "Crawl data with product_id 97923382\n"
          ]
        },
        {
          "output_type": "stream",
          "name": "stderr",
          "text": [
            "\r 78%|███████▊  | 1550/2000 [1:39:29<27:59,  3.73s/it]"
          ]
        },
        {
          "output_type": "stream",
          "name": "stdout",
          "text": [
            "Crawl data with product_id 215888430\n"
          ]
        },
        {
          "output_type": "stream",
          "name": "stderr",
          "text": [
            "\r 78%|███████▊  | 1551/2000 [1:39:33<29:19,  3.92s/it]"
          ]
        },
        {
          "output_type": "stream",
          "name": "stdout",
          "text": [
            "Crawl data with product_id 215943886\n"
          ]
        },
        {
          "output_type": "stream",
          "name": "stderr",
          "text": [
            "\r 78%|███████▊  | 1552/2000 [1:39:38<30:09,  4.04s/it]"
          ]
        },
        {
          "output_type": "stream",
          "name": "stdout",
          "text": [
            "Crawl data with product_id 200852588\n"
          ]
        },
        {
          "output_type": "stream",
          "name": "stderr",
          "text": [
            "\r 78%|███████▊  | 1553/2000 [1:39:42<30:41,  4.12s/it]"
          ]
        },
        {
          "output_type": "stream",
          "name": "stdout",
          "text": [
            "Crawl data with product_id 63448513\n"
          ]
        },
        {
          "output_type": "stream",
          "name": "stderr",
          "text": [
            "\r 78%|███████▊  | 1554/2000 [1:39:46<31:08,  4.19s/it]"
          ]
        },
        {
          "output_type": "stream",
          "name": "stdout",
          "text": [
            "Crawl data with product_id 204879395\n"
          ]
        },
        {
          "output_type": "stream",
          "name": "stderr",
          "text": [
            "\r 78%|███████▊  | 1555/2000 [1:39:50<29:08,  3.93s/it]"
          ]
        },
        {
          "output_type": "stream",
          "name": "stdout",
          "text": [
            "Crawl data with product_id 609182\n"
          ]
        },
        {
          "output_type": "stream",
          "name": "stderr",
          "text": [
            "\r 78%|███████▊  | 1556/2000 [1:39:53<27:49,  3.76s/it]"
          ]
        },
        {
          "output_type": "stream",
          "name": "stdout",
          "text": [
            "Crawl data with product_id 349668\n"
          ]
        },
        {
          "output_type": "stream",
          "name": "stderr",
          "text": [
            "\r 78%|███████▊  | 1557/2000 [1:39:57<29:04,  3.94s/it]"
          ]
        },
        {
          "output_type": "stream",
          "name": "stdout",
          "text": [
            "Crawl data with product_id 51492508\n"
          ]
        },
        {
          "output_type": "stream",
          "name": "stderr",
          "text": [
            "\r 78%|███████▊  | 1558/2000 [1:40:01<27:41,  3.76s/it]"
          ]
        },
        {
          "output_type": "stream",
          "name": "stdout",
          "text": [
            "Crawl data with product_id 54008183\n"
          ]
        },
        {
          "output_type": "stream",
          "name": "stderr",
          "text": [
            "\r 78%|███████▊  | 1559/2000 [1:40:05<28:52,  3.93s/it]"
          ]
        },
        {
          "output_type": "stream",
          "name": "stdout",
          "text": [
            "Crawl data with product_id 47340499\n"
          ]
        },
        {
          "output_type": "stream",
          "name": "stderr",
          "text": [
            "\r 78%|███████▊  | 1560/2000 [1:40:09<29:37,  4.04s/it]"
          ]
        },
        {
          "output_type": "stream",
          "name": "stdout",
          "text": [
            "Crawl data with product_id 787096\n"
          ]
        },
        {
          "output_type": "stream",
          "name": "stderr",
          "text": [
            "\r 78%|███████▊  | 1561/2000 [1:40:13<27:59,  3.83s/it]"
          ]
        },
        {
          "output_type": "stream",
          "name": "stdout",
          "text": [
            "Crawl data with product_id 4594441\n"
          ]
        },
        {
          "output_type": "stream",
          "name": "stderr",
          "text": [
            "\r 78%|███████▊  | 1562/2000 [1:40:17<29:07,  3.99s/it]"
          ]
        },
        {
          "output_type": "stream",
          "name": "stdout",
          "text": [
            "Crawl data with product_id 247273793\n"
          ]
        },
        {
          "output_type": "stream",
          "name": "stderr",
          "text": [
            "\r 78%|███████▊  | 1563/2000 [1:40:20<27:35,  3.79s/it]"
          ]
        },
        {
          "output_type": "stream",
          "name": "stdout",
          "text": [
            "Crawl data with product_id 77481121\n"
          ]
        },
        {
          "output_type": "stream",
          "name": "stderr",
          "text": [
            "\r 78%|███████▊  | 1564/2000 [1:40:25<28:45,  3.96s/it]"
          ]
        },
        {
          "output_type": "stream",
          "name": "stdout",
          "text": [
            "Crawl data with product_id 176767149\n"
          ]
        },
        {
          "output_type": "stream",
          "name": "stderr",
          "text": [
            "\r 78%|███████▊  | 1565/2000 [1:40:29<29:28,  4.07s/it]"
          ]
        },
        {
          "output_type": "stream",
          "name": "stdout",
          "text": [
            "Crawl data with product_id 216394882\n"
          ]
        },
        {
          "output_type": "stream",
          "name": "stderr",
          "text": [
            "\r 78%|███████▊  | 1566/2000 [1:40:33<29:57,  4.14s/it]"
          ]
        },
        {
          "output_type": "stream",
          "name": "stdout",
          "text": [
            "Crawl data with product_id 24164580\n"
          ]
        },
        {
          "output_type": "stream",
          "name": "stderr",
          "text": [
            "\r 78%|███████▊  | 1567/2000 [1:40:37<28:07,  3.90s/it]"
          ]
        },
        {
          "output_type": "stream",
          "name": "stdout",
          "text": [
            "Crawl data with product_id 446389\n"
          ]
        },
        {
          "output_type": "stream",
          "name": "stderr",
          "text": [
            "\r 78%|███████▊  | 1568/2000 [1:40:40<26:49,  3.73s/it]"
          ]
        },
        {
          "output_type": "stream",
          "name": "stdout",
          "text": [
            "Crawl data with product_id 242411245\n"
          ]
        },
        {
          "output_type": "stream",
          "name": "stderr",
          "text": [
            "\r 78%|███████▊  | 1569/2000 [1:40:43<25:56,  3.61s/it]"
          ]
        },
        {
          "output_type": "stream",
          "name": "stdout",
          "text": [
            "Crawl data with product_id 60391888\n"
          ]
        },
        {
          "output_type": "stream",
          "name": "stderr",
          "text": [
            "\r 78%|███████▊  | 1570/2000 [1:40:48<27:54,  3.89s/it]"
          ]
        },
        {
          "output_type": "stream",
          "name": "stdout",
          "text": [
            "Crawl data with product_id 199027428\n"
          ]
        },
        {
          "output_type": "stream",
          "name": "stderr",
          "text": [
            "\r 79%|███████▊  | 1571/2000 [1:40:51<26:39,  3.73s/it]"
          ]
        },
        {
          "output_type": "stream",
          "name": "stdout",
          "text": [
            "Crawl data with product_id 14168902\n"
          ]
        },
        {
          "output_type": "stream",
          "name": "stderr",
          "text": [
            "\r 79%|███████▊  | 1572/2000 [1:40:55<25:52,  3.63s/it]"
          ]
        },
        {
          "output_type": "stream",
          "name": "stdout",
          "text": [
            "Crawl data with product_id 180399929\n"
          ]
        },
        {
          "output_type": "stream",
          "name": "stderr",
          "text": [
            "\r 79%|███████▊  | 1573/2000 [1:40:59<27:14,  3.83s/it]"
          ]
        },
        {
          "output_type": "stream",
          "name": "stdout",
          "text": [
            "Crawl data with product_id 188299042\n"
          ]
        },
        {
          "output_type": "stream",
          "name": "stderr",
          "text": [
            "\r 79%|███████▊  | 1574/2000 [1:41:02<26:08,  3.68s/it]"
          ]
        },
        {
          "output_type": "stream",
          "name": "stdout",
          "text": [
            "Crawl data with product_id 80900187\n"
          ]
        },
        {
          "output_type": "stream",
          "name": "stderr",
          "text": [
            "\r 79%|███████▉  | 1575/2000 [1:41:07<28:50,  4.07s/it]"
          ]
        },
        {
          "output_type": "stream",
          "name": "stdout",
          "text": [
            "Crawl data with product_id 1038490\n"
          ]
        },
        {
          "output_type": "stream",
          "name": "stderr",
          "text": [
            "\r 79%|███████▉  | 1576/2000 [1:41:11<27:11,  3.85s/it]"
          ]
        },
        {
          "output_type": "stream",
          "name": "stdout",
          "text": [
            "Crawl data with product_id 190468662\n"
          ]
        },
        {
          "output_type": "stream",
          "name": "stderr",
          "text": [
            "\r 79%|███████▉  | 1577/2000 [1:41:15<28:11,  4.00s/it]"
          ]
        },
        {
          "output_type": "stream",
          "name": "stdout",
          "text": [
            "Crawl data with product_id 241996987\n"
          ]
        },
        {
          "output_type": "stream",
          "name": "stderr",
          "text": [
            "\r 79%|███████▉  | 1578/2000 [1:41:19<28:49,  4.10s/it]"
          ]
        },
        {
          "output_type": "stream",
          "name": "stdout",
          "text": [
            "Crawl data with product_id 217641607\n"
          ]
        },
        {
          "output_type": "stream",
          "name": "stderr",
          "text": [
            "\r 79%|███████▉  | 1579/2000 [1:41:23<27:08,  3.87s/it]"
          ]
        },
        {
          "output_type": "stream",
          "name": "stdout",
          "text": [
            "Crawl data with product_id 200784012\n"
          ]
        },
        {
          "output_type": "stream",
          "name": "stderr",
          "text": [
            "\r 79%|███████▉  | 1580/2000 [1:41:27<28:04,  4.01s/it]"
          ]
        },
        {
          "output_type": "stream",
          "name": "stdout",
          "text": [
            "Crawl data with product_id 143959754\n"
          ]
        },
        {
          "output_type": "stream",
          "name": "stderr",
          "text": [
            "\r 79%|███████▉  | 1581/2000 [1:41:31<28:43,  4.11s/it]"
          ]
        },
        {
          "output_type": "stream",
          "name": "stdout",
          "text": [
            "Crawl data with product_id 177321531\n"
          ]
        },
        {
          "output_type": "stream",
          "name": "stderr",
          "text": [
            "\r 79%|███████▉  | 1582/2000 [1:41:36<29:06,  4.18s/it]"
          ]
        },
        {
          "output_type": "stream",
          "name": "stdout",
          "text": [
            "Crawl data with product_id 185964486\n"
          ]
        },
        {
          "output_type": "stream",
          "name": "stderr",
          "text": [
            "\r 79%|███████▉  | 1583/2000 [1:41:39<27:16,  3.92s/it]"
          ]
        },
        {
          "output_type": "stream",
          "name": "stdout",
          "text": [
            "Crawl data with product_id 241978615\n"
          ]
        },
        {
          "output_type": "stream",
          "name": "stderr",
          "text": [
            "\r 79%|███████▉  | 1584/2000 [1:41:42<25:59,  3.75s/it]"
          ]
        },
        {
          "output_type": "stream",
          "name": "stdout",
          "text": [
            "Crawl data with product_id 202007364\n"
          ]
        },
        {
          "output_type": "stream",
          "name": "stderr",
          "text": [
            "\r 79%|███████▉  | 1585/2000 [1:41:46<24:59,  3.61s/it]"
          ]
        },
        {
          "output_type": "stream",
          "name": "stdout",
          "text": [
            "Crawl data with product_id 419050\n"
          ]
        },
        {
          "output_type": "stream",
          "name": "stderr",
          "text": [
            "\r 79%|███████▉  | 1586/2000 [1:41:49<24:18,  3.52s/it]"
          ]
        },
        {
          "output_type": "stream",
          "name": "stdout",
          "text": [
            "Crawl data with product_id 69644750\n"
          ]
        },
        {
          "output_type": "stream",
          "name": "stderr",
          "text": [
            "\r 79%|███████▉  | 1587/2000 [1:41:52<23:50,  3.46s/it]"
          ]
        },
        {
          "output_type": "stream",
          "name": "stdout",
          "text": [
            "Crawl data with product_id 436920\n"
          ]
        },
        {
          "output_type": "stream",
          "name": "stderr",
          "text": [
            "\r 79%|███████▉  | 1588/2000 [1:41:57<25:34,  3.72s/it]"
          ]
        },
        {
          "output_type": "stream",
          "name": "stdout",
          "text": [
            "Crawl data with product_id 536094\n"
          ]
        },
        {
          "output_type": "stream",
          "name": "stderr",
          "text": [
            "\r 79%|███████▉  | 1589/2000 [1:42:01<26:42,  3.90s/it]"
          ]
        },
        {
          "output_type": "stream",
          "name": "stdout",
          "text": [
            "Crawl data with product_id 555934\n"
          ]
        },
        {
          "output_type": "stream",
          "name": "stderr",
          "text": [
            "\r 80%|███████▉  | 1590/2000 [1:42:05<26:48,  3.92s/it]"
          ]
        },
        {
          "output_type": "stream",
          "name": "stdout",
          "text": [
            "Crawl data with product_id 242013355\n"
          ]
        },
        {
          "output_type": "stream",
          "name": "stderr",
          "text": [
            "\r 80%|███████▉  | 1591/2000 [1:42:09<27:33,  4.04s/it]"
          ]
        },
        {
          "output_type": "stream",
          "name": "stdout",
          "text": [
            "Crawl data with product_id 73531896\n"
          ]
        },
        {
          "output_type": "stream",
          "name": "stderr",
          "text": [
            "\r 80%|███████▉  | 1592/2000 [1:42:13<26:01,  3.83s/it]"
          ]
        },
        {
          "output_type": "stream",
          "name": "stdout",
          "text": [
            "Crawl data with product_id 67240858\n"
          ]
        },
        {
          "output_type": "stream",
          "name": "stderr",
          "text": [
            "\r 80%|███████▉  | 1593/2000 [1:42:16<24:56,  3.68s/it]"
          ]
        },
        {
          "output_type": "stream",
          "name": "stdout",
          "text": [
            "Crawl data with product_id 190827318\n"
          ]
        },
        {
          "output_type": "stream",
          "name": "stderr",
          "text": [
            "\r 80%|███████▉  | 1594/2000 [1:42:19<24:11,  3.58s/it]"
          ]
        },
        {
          "output_type": "stream",
          "name": "stdout",
          "text": [
            "Crawl data with product_id 82482207\n"
          ]
        },
        {
          "output_type": "stream",
          "name": "stderr",
          "text": [
            "\r 80%|███████▉  | 1595/2000 [1:42:24<25:45,  3.82s/it]"
          ]
        },
        {
          "output_type": "stream",
          "name": "stdout",
          "text": [
            "Crawl data with product_id 177312711\n"
          ]
        },
        {
          "output_type": "stream",
          "name": "stderr",
          "text": [
            "\r 80%|███████▉  | 1596/2000 [1:42:28<26:44,  3.97s/it]"
          ]
        },
        {
          "output_type": "stream",
          "name": "stdout",
          "text": [
            "Crawl data with product_id 144379630\n"
          ]
        },
        {
          "output_type": "stream",
          "name": "stderr",
          "text": [
            "\r 80%|███████▉  | 1597/2000 [1:42:31<25:29,  3.80s/it]"
          ]
        },
        {
          "output_type": "stream",
          "name": "stdout",
          "text": [
            "Crawl data with product_id 488396\n"
          ]
        },
        {
          "output_type": "stream",
          "name": "stderr",
          "text": [
            "\r 80%|███████▉  | 1598/2000 [1:42:35<24:32,  3.66s/it]"
          ]
        },
        {
          "output_type": "stream",
          "name": "stdout",
          "text": [
            "Crawl data with product_id 100858080\n"
          ]
        },
        {
          "output_type": "stream",
          "name": "stderr",
          "text": [
            "\r 80%|███████▉  | 1599/2000 [1:42:39<25:46,  3.86s/it]"
          ]
        },
        {
          "output_type": "stream",
          "name": "stdout",
          "text": [
            "Crawl data with product_id 12053828\n"
          ]
        },
        {
          "output_type": "stream",
          "name": "stderr",
          "text": [
            "\r 80%|████████  | 1600/2000 [1:42:43<26:35,  3.99s/it]"
          ]
        },
        {
          "output_type": "stream",
          "name": "stdout",
          "text": [
            "Crawl data with product_id 215888262\n"
          ]
        },
        {
          "output_type": "stream",
          "name": "stderr",
          "text": [
            "\r 80%|████████  | 1601/2000 [1:42:47<25:16,  3.80s/it]"
          ]
        },
        {
          "output_type": "stream",
          "name": "stdout",
          "text": [
            "Crawl data with product_id 10303809\n"
          ]
        },
        {
          "output_type": "stream",
          "name": "stderr",
          "text": [
            "\r 80%|████████  | 1602/2000 [1:42:50<24:19,  3.67s/it]"
          ]
        },
        {
          "output_type": "stream",
          "name": "stdout",
          "text": [
            "Crawl data with product_id 73309755\n"
          ]
        },
        {
          "output_type": "stream",
          "name": "stderr",
          "text": [
            "\r 80%|████████  | 1603/2000 [1:42:54<25:37,  3.87s/it]"
          ]
        },
        {
          "output_type": "stream",
          "name": "stdout",
          "text": [
            "Crawl data with product_id 1651891\n"
          ]
        },
        {
          "output_type": "stream",
          "name": "stderr",
          "text": [
            "\r 80%|████████  | 1604/2000 [1:42:59<26:31,  4.02s/it]"
          ]
        },
        {
          "output_type": "stream",
          "name": "stdout",
          "text": [
            "Crawl data with product_id 216091434\n"
          ]
        },
        {
          "output_type": "stream",
          "name": "stderr",
          "text": [
            "\r 80%|████████  | 1605/2000 [1:43:02<25:02,  3.80s/it]"
          ]
        },
        {
          "output_type": "stream",
          "name": "stdout",
          "text": [
            "Crawl data with product_id 43892947\n"
          ]
        },
        {
          "output_type": "stream",
          "name": "stderr",
          "text": [
            "\r 80%|████████  | 1606/2000 [1:43:05<23:59,  3.65s/it]"
          ]
        },
        {
          "output_type": "stream",
          "name": "stdout",
          "text": [
            "Crawl data with product_id 251274545\n"
          ]
        },
        {
          "output_type": "stream",
          "name": "stderr",
          "text": [
            "\r 80%|████████  | 1607/2000 [1:43:09<23:18,  3.56s/it]"
          ]
        },
        {
          "output_type": "stream",
          "name": "stdout",
          "text": [
            "Crawl data with product_id 251466435\n"
          ]
        },
        {
          "output_type": "stream",
          "name": "stderr",
          "text": [
            "\r 80%|████████  | 1608/2000 [1:43:12<22:46,  3.49s/it]"
          ]
        },
        {
          "output_type": "stream",
          "name": "stdout",
          "text": [
            "Crawl data with product_id 203277133\n"
          ]
        },
        {
          "output_type": "stream",
          "name": "stderr",
          "text": [
            "\r 80%|████████  | 1609/2000 [1:43:15<22:23,  3.44s/it]"
          ]
        },
        {
          "output_type": "stream",
          "name": "stdout",
          "text": [
            "Crawl data with product_id 249083680\n"
          ]
        },
        {
          "output_type": "stream",
          "name": "stderr",
          "text": [
            "\r 80%|████████  | 1610/2000 [1:43:19<22:07,  3.40s/it]"
          ]
        },
        {
          "output_type": "stream",
          "name": "stdout",
          "text": [
            "Crawl data with product_id 247782511\n"
          ]
        },
        {
          "output_type": "stream",
          "name": "stderr",
          "text": [
            "\r 81%|████████  | 1611/2000 [1:43:22<22:00,  3.39s/it]"
          ]
        },
        {
          "output_type": "stream",
          "name": "stdout",
          "text": [
            "Crawl data with product_id 105739817\n"
          ]
        },
        {
          "output_type": "stream",
          "name": "stderr",
          "text": [
            "\r 81%|████████  | 1612/2000 [1:43:25<21:47,  3.37s/it]"
          ]
        },
        {
          "output_type": "stream",
          "name": "stdout",
          "text": [
            "Crawl data with product_id 15696473\n"
          ]
        },
        {
          "output_type": "stream",
          "name": "stderr",
          "text": [
            "\r 81%|████████  | 1613/2000 [1:43:30<23:38,  3.67s/it]"
          ]
        },
        {
          "output_type": "stream",
          "name": "stdout",
          "text": [
            "Crawl data with product_id 891337\n"
          ]
        },
        {
          "output_type": "stream",
          "name": "stderr",
          "text": [
            "\r 81%|████████  | 1614/2000 [1:43:34<24:50,  3.86s/it]"
          ]
        },
        {
          "output_type": "stream",
          "name": "stdout",
          "text": [
            "Crawl data with product_id 410317\n"
          ]
        },
        {
          "output_type": "stream",
          "name": "stderr",
          "text": [
            "\r 81%|████████  | 1615/2000 [1:43:37<23:44,  3.70s/it]"
          ]
        },
        {
          "output_type": "stream",
          "name": "stdout",
          "text": [
            "Crawl data with product_id 261942229\n"
          ]
        },
        {
          "output_type": "stream",
          "name": "stderr",
          "text": [
            "\r 81%|████████  | 1616/2000 [1:43:41<22:57,  3.59s/it]"
          ]
        },
        {
          "output_type": "stream",
          "name": "stdout",
          "text": [
            "Crawl data with product_id 253367688\n"
          ]
        },
        {
          "output_type": "stream",
          "name": "stderr",
          "text": [
            "\r 81%|████████  | 1617/2000 [1:43:45<24:19,  3.81s/it]"
          ]
        },
        {
          "output_type": "stream",
          "name": "stdout",
          "text": [
            "Crawl data with product_id 208778439\n"
          ]
        },
        {
          "output_type": "stream",
          "name": "stderr",
          "text": [
            "\r 81%|████████  | 1618/2000 [1:43:48<23:18,  3.66s/it]"
          ]
        },
        {
          "output_type": "stream",
          "name": "stdout",
          "text": [
            "Crawl data with product_id 154126168\n"
          ]
        },
        {
          "output_type": "stream",
          "name": "stderr",
          "text": [
            "\r 81%|████████  | 1619/2000 [1:43:53<24:31,  3.86s/it]"
          ]
        },
        {
          "output_type": "stream",
          "name": "stdout",
          "text": [
            "Crawl data with product_id 205984025\n"
          ]
        },
        {
          "output_type": "stream",
          "name": "stderr",
          "text": [
            "\r 81%|████████  | 1620/2000 [1:43:57<25:18,  4.00s/it]"
          ]
        },
        {
          "output_type": "stream",
          "name": "stdout",
          "text": [
            "Crawl data with product_id 253107110\n"
          ]
        },
        {
          "output_type": "stream",
          "name": "stderr",
          "text": [
            "\r 81%|████████  | 1621/2000 [1:44:01<25:53,  4.10s/it]"
          ]
        },
        {
          "output_type": "stream",
          "name": "stdout",
          "text": [
            "Crawl data with product_id 639292\n"
          ]
        },
        {
          "output_type": "stream",
          "name": "stderr",
          "text": [
            "\r 81%|████████  | 1622/2000 [1:44:06<26:15,  4.17s/it]"
          ]
        },
        {
          "output_type": "stream",
          "name": "stdout",
          "text": [
            "Crawl data with product_id 188928020\n"
          ]
        },
        {
          "output_type": "stream",
          "name": "stderr",
          "text": [
            "\r 81%|████████  | 1623/2000 [1:44:10<26:29,  4.22s/it]"
          ]
        },
        {
          "output_type": "stream",
          "name": "stdout",
          "text": [
            "Crawl data with product_id 186242148\n"
          ]
        },
        {
          "output_type": "stream",
          "name": "stderr",
          "text": [
            "\r 81%|████████  | 1624/2000 [1:44:14<26:39,  4.25s/it]"
          ]
        },
        {
          "output_type": "stream",
          "name": "stdout",
          "text": [
            "Crawl data with product_id 73879863\n"
          ]
        },
        {
          "output_type": "stream",
          "name": "stderr",
          "text": [
            "\r 81%|████████▏ | 1625/2000 [1:44:18<24:47,  3.97s/it]"
          ]
        },
        {
          "output_type": "stream",
          "name": "stdout",
          "text": [
            "Crawl data with product_id 491712\n"
          ]
        },
        {
          "output_type": "stream",
          "name": "stderr",
          "text": [
            "\r 81%|████████▏ | 1626/2000 [1:44:21<23:31,  3.77s/it]"
          ]
        },
        {
          "output_type": "stream",
          "name": "stdout",
          "text": [
            "Crawl data with product_id 7922982\n"
          ]
        },
        {
          "output_type": "stream",
          "name": "stderr",
          "text": [
            "\r 81%|████████▏ | 1627/2000 [1:44:25<24:31,  3.95s/it]"
          ]
        },
        {
          "output_type": "stream",
          "name": "stdout",
          "text": [
            "Crawl data with product_id 91027908\n"
          ]
        },
        {
          "output_type": "stream",
          "name": "stderr",
          "text": [
            "\r 81%|████████▏ | 1628/2000 [1:44:29<23:18,  3.76s/it]"
          ]
        },
        {
          "output_type": "stream",
          "name": "stdout",
          "text": [
            "Crawl data with product_id 202529128\n"
          ]
        },
        {
          "output_type": "stream",
          "name": "stderr",
          "text": [
            "\r 81%|████████▏ | 1629/2000 [1:44:33<24:15,  3.92s/it]"
          ]
        },
        {
          "output_type": "stream",
          "name": "stdout",
          "text": [
            "Crawl data with product_id 829894\n"
          ]
        },
        {
          "output_type": "stream",
          "name": "stderr",
          "text": [
            "\r 82%|████████▏ | 1630/2000 [1:44:36<23:05,  3.74s/it]"
          ]
        },
        {
          "output_type": "stream",
          "name": "stdout",
          "text": [
            "Crawl data with product_id 242627811\n"
          ]
        },
        {
          "output_type": "stream",
          "name": "stderr",
          "text": [
            "\r 82%|████████▏ | 1631/2000 [1:44:41<24:05,  3.92s/it]"
          ]
        },
        {
          "output_type": "stream",
          "name": "stdout",
          "text": [
            "Crawl data with product_id 178231985\n"
          ]
        },
        {
          "output_type": "stream",
          "name": "stderr",
          "text": [
            "\r 82%|████████▏ | 1632/2000 [1:44:44<22:55,  3.74s/it]"
          ]
        },
        {
          "output_type": "stream",
          "name": "stdout",
          "text": [
            "Crawl data with product_id 637333\n"
          ]
        },
        {
          "output_type": "stream",
          "name": "stderr",
          "text": [
            "\r 82%|████████▏ | 1633/2000 [1:44:48<23:56,  3.91s/it]"
          ]
        },
        {
          "output_type": "stream",
          "name": "stdout",
          "text": [
            "Crawl data with product_id 203463480\n"
          ]
        },
        {
          "output_type": "stream",
          "name": "stderr",
          "text": [
            "\r 82%|████████▏ | 1634/2000 [1:44:53<24:36,  4.04s/it]"
          ]
        },
        {
          "output_type": "stream",
          "name": "stdout",
          "text": [
            "Crawl data with product_id 532967\n"
          ]
        },
        {
          "output_type": "stream",
          "name": "stderr",
          "text": [
            "\r 82%|████████▏ | 1635/2000 [1:44:56<23:17,  3.83s/it]"
          ]
        },
        {
          "output_type": "stream",
          "name": "stdout",
          "text": [
            "Crawl data with product_id 250181958\n"
          ]
        },
        {
          "output_type": "stream",
          "name": "stderr",
          "text": [
            "\r 82%|████████▏ | 1636/2000 [1:44:59<22:19,  3.68s/it]"
          ]
        },
        {
          "output_type": "stream",
          "name": "stdout",
          "text": [
            "Crawl data with product_id 180396458\n"
          ]
        },
        {
          "output_type": "stream",
          "name": "stderr",
          "text": [
            "\r 82%|████████▏ | 1637/2000 [1:45:04<23:30,  3.89s/it]"
          ]
        },
        {
          "output_type": "stream",
          "name": "stdout",
          "text": [
            "Crawl data with product_id 249720110\n"
          ]
        },
        {
          "output_type": "stream",
          "name": "stderr",
          "text": [
            "\r 82%|████████▏ | 1638/2000 [1:45:07<22:23,  3.71s/it]"
          ]
        },
        {
          "output_type": "stream",
          "name": "stdout",
          "text": [
            "Crawl data with product_id 249181546\n"
          ]
        },
        {
          "output_type": "stream",
          "name": "stderr",
          "text": [
            "\r 82%|████████▏ | 1639/2000 [1:45:10<21:40,  3.60s/it]"
          ]
        },
        {
          "output_type": "stream",
          "name": "stdout",
          "text": [
            "Crawl data with product_id 193603476\n"
          ]
        },
        {
          "output_type": "stream",
          "name": "stderr",
          "text": [
            "\r 82%|████████▏ | 1640/2000 [1:45:15<22:59,  3.83s/it]"
          ]
        },
        {
          "output_type": "stream",
          "name": "stdout",
          "text": [
            "Crawl data with product_id 251255366\n"
          ]
        },
        {
          "output_type": "stream",
          "name": "stderr",
          "text": [
            "\r 82%|████████▏ | 1641/2000 [1:45:19<23:49,  3.98s/it]"
          ]
        },
        {
          "output_type": "stream",
          "name": "stdout",
          "text": [
            "Crawl data with product_id 201045771\n"
          ]
        },
        {
          "output_type": "stream",
          "name": "stderr",
          "text": [
            "\r 82%|████████▏ | 1642/2000 [1:45:23<24:25,  4.09s/it]"
          ]
        },
        {
          "output_type": "stream",
          "name": "stdout",
          "text": [
            "Crawl data with product_id 16440469\n"
          ]
        },
        {
          "output_type": "stream",
          "name": "stderr",
          "text": [
            "\r 82%|████████▏ | 1643/2000 [1:45:28<24:46,  4.16s/it]"
          ]
        },
        {
          "output_type": "stream",
          "name": "stdout",
          "text": [
            "Crawl data with product_id 210403793\n"
          ]
        },
        {
          "output_type": "stream",
          "name": "stderr",
          "text": [
            "\r 82%|████████▏ | 1644/2000 [1:45:32<25:02,  4.22s/it]"
          ]
        },
        {
          "output_type": "stream",
          "name": "stdout",
          "text": [
            "Crawl data with product_id 48752639\n"
          ]
        },
        {
          "output_type": "stream",
          "name": "stderr",
          "text": [
            "\r 82%|████████▏ | 1645/2000 [1:45:36<25:10,  4.26s/it]"
          ]
        },
        {
          "output_type": "stream",
          "name": "stdout",
          "text": [
            "Crawl data with product_id 25733769\n"
          ]
        },
        {
          "output_type": "stream",
          "name": "stderr",
          "text": [
            "\r 82%|████████▏ | 1646/2000 [1:45:40<23:27,  3.98s/it]"
          ]
        },
        {
          "output_type": "stream",
          "name": "stdout",
          "text": [
            "Crawl data with product_id 219410208\n"
          ]
        },
        {
          "output_type": "stream",
          "name": "stderr",
          "text": [
            "\r 82%|████████▏ | 1647/2000 [1:45:44<23:58,  4.07s/it]"
          ]
        },
        {
          "output_type": "stream",
          "name": "stdout",
          "text": [
            "Crawl data with product_id 171549956\n"
          ]
        },
        {
          "output_type": "stream",
          "name": "stderr",
          "text": [
            "\r 82%|████████▏ | 1648/2000 [1:45:47<22:40,  3.87s/it]"
          ]
        },
        {
          "output_type": "stream",
          "name": "stdout",
          "text": [
            "Crawl data with product_id 243058311\n"
          ]
        },
        {
          "output_type": "stream",
          "name": "stderr",
          "text": [
            "\r 82%|████████▏ | 1649/2000 [1:45:51<21:44,  3.72s/it]"
          ]
        },
        {
          "output_type": "stream",
          "name": "stdout",
          "text": [
            "Crawl data with product_id 241984931\n"
          ]
        },
        {
          "output_type": "stream",
          "name": "stderr",
          "text": [
            "\r 82%|████████▎ | 1650/2000 [1:45:55<22:47,  3.91s/it]"
          ]
        },
        {
          "output_type": "stream",
          "name": "stdout",
          "text": [
            "Crawl data with product_id 1577233\n"
          ]
        },
        {
          "output_type": "stream",
          "name": "stderr",
          "text": [
            "\r 83%|████████▎ | 1651/2000 [1:45:58<21:40,  3.73s/it]"
          ]
        },
        {
          "output_type": "stream",
          "name": "stdout",
          "text": [
            "Crawl data with product_id 24164812\n"
          ]
        },
        {
          "output_type": "stream",
          "name": "stderr",
          "text": [
            "\r 83%|████████▎ | 1652/2000 [1:46:02<20:51,  3.60s/it]"
          ]
        },
        {
          "output_type": "stream",
          "name": "stdout",
          "text": [
            "Crawl data with product_id 106542974\n"
          ]
        },
        {
          "output_type": "stream",
          "name": "stderr",
          "text": [
            "\r 83%|████████▎ | 1653/2000 [1:46:06<22:03,  3.81s/it]"
          ]
        },
        {
          "output_type": "stream",
          "name": "stdout",
          "text": [
            "Crawl data with product_id 262302303\n"
          ]
        },
        {
          "output_type": "stream",
          "name": "stderr",
          "text": [
            "\r 83%|████████▎ | 1654/2000 [1:46:09<21:29,  3.73s/it]"
          ]
        },
        {
          "output_type": "stream",
          "name": "stdout",
          "text": [
            "Crawl data with product_id 219188604\n"
          ]
        },
        {
          "output_type": "stream",
          "name": "stderr",
          "text": [
            "\r 83%|████████▎ | 1655/2000 [1:46:14<22:51,  3.97s/it]"
          ]
        },
        {
          "output_type": "stream",
          "name": "stdout",
          "text": [
            "Crawl data with product_id 248499171\n"
          ]
        },
        {
          "output_type": "stream",
          "name": "stderr",
          "text": [
            "\r 83%|████████▎ | 1656/2000 [1:46:17<21:42,  3.79s/it]"
          ]
        },
        {
          "output_type": "stream",
          "name": "stdout",
          "text": [
            "Crawl data with product_id 243158518\n"
          ]
        },
        {
          "output_type": "stream",
          "name": "stderr",
          "text": [
            "\r 83%|████████▎ | 1657/2000 [1:46:22<22:36,  3.95s/it]"
          ]
        },
        {
          "output_type": "stream",
          "name": "stdout",
          "text": [
            "Crawl data with product_id 246644779\n"
          ]
        },
        {
          "output_type": "stream",
          "name": "stderr",
          "text": [
            "\r 83%|████████▎ | 1658/2000 [1:46:26<23:08,  4.06s/it]"
          ]
        },
        {
          "output_type": "stream",
          "name": "stdout",
          "text": [
            "Crawl data with product_id 174824704\n"
          ]
        },
        {
          "output_type": "stream",
          "name": "stderr",
          "text": [
            "\r 83%|████████▎ | 1659/2000 [1:46:30<23:29,  4.13s/it]"
          ]
        },
        {
          "output_type": "stream",
          "name": "stdout",
          "text": [
            "Crawl data with product_id 601739\n"
          ]
        },
        {
          "output_type": "stream",
          "name": "stderr",
          "text": [
            "\r 83%|████████▎ | 1660/2000 [1:46:35<23:42,  4.18s/it]"
          ]
        },
        {
          "output_type": "stream",
          "name": "stdout",
          "text": [
            "Crawl data with product_id 77221388\n"
          ]
        },
        {
          "output_type": "stream",
          "name": "stderr",
          "text": [
            "\r 83%|████████▎ | 1661/2000 [1:46:38<22:09,  3.92s/it]"
          ]
        },
        {
          "output_type": "stream",
          "name": "stdout",
          "text": [
            "Crawl data with product_id 184245551\n"
          ]
        },
        {
          "output_type": "stream",
          "name": "stderr",
          "text": [
            "\r 83%|████████▎ | 1662/2000 [1:46:41<21:05,  3.74s/it]"
          ]
        },
        {
          "output_type": "stream",
          "name": "stdout",
          "text": [
            "Crawl data with product_id 193419081\n"
          ]
        },
        {
          "output_type": "stream",
          "name": "stderr",
          "text": [
            "\r 83%|████████▎ | 1663/2000 [1:46:45<20:20,  3.62s/it]"
          ]
        },
        {
          "output_type": "stream",
          "name": "stdout",
          "text": [
            "Crawl data with product_id 159034192\n"
          ]
        },
        {
          "output_type": "stream",
          "name": "stderr",
          "text": [
            "\r 83%|████████▎ | 1664/2000 [1:46:49<21:27,  3.83s/it]"
          ]
        },
        {
          "output_type": "stream",
          "name": "stdout",
          "text": [
            "Crawl data with product_id 72611607\n"
          ]
        },
        {
          "output_type": "stream",
          "name": "stderr",
          "text": [
            "\r 83%|████████▎ | 1665/2000 [1:46:53<22:18,  4.00s/it]"
          ]
        },
        {
          "output_type": "stream",
          "name": "stdout",
          "text": [
            "Crawl data with product_id 187598474\n"
          ]
        },
        {
          "output_type": "stream",
          "name": "stderr",
          "text": [
            "\r 83%|████████▎ | 1666/2000 [1:46:58<22:48,  4.10s/it]"
          ]
        },
        {
          "output_type": "stream",
          "name": "stdout",
          "text": [
            "Crawl data with product_id 405015\n"
          ]
        },
        {
          "output_type": "stream",
          "name": "stderr",
          "text": [
            "\r 83%|████████▎ | 1667/2000 [1:47:02<23:07,  4.17s/it]"
          ]
        },
        {
          "output_type": "stream",
          "name": "stdout",
          "text": [
            "Crawl data with product_id 189374966\n"
          ]
        },
        {
          "output_type": "stream",
          "name": "stderr",
          "text": [
            "\r 83%|████████▎ | 1668/2000 [1:47:06<23:22,  4.22s/it]"
          ]
        },
        {
          "output_type": "stream",
          "name": "stdout",
          "text": [
            "Crawl data with product_id 9799007\n"
          ]
        },
        {
          "output_type": "stream",
          "name": "stderr",
          "text": [
            "\r 83%|████████▎ | 1669/2000 [1:47:11<23:32,  4.27s/it]"
          ]
        },
        {
          "output_type": "stream",
          "name": "stdout",
          "text": [
            "Crawl data with product_id 252862123\n"
          ]
        },
        {
          "output_type": "stream",
          "name": "stderr",
          "text": [
            "\r 84%|████████▎ | 1670/2000 [1:47:15<23:32,  4.28s/it]"
          ]
        },
        {
          "output_type": "stream",
          "name": "stdout",
          "text": [
            "Crawl data with product_id 205007809\n"
          ]
        },
        {
          "output_type": "stream",
          "name": "stderr",
          "text": [
            "\r 84%|████████▎ | 1671/2000 [1:47:18<21:55,  4.00s/it]"
          ]
        },
        {
          "output_type": "stream",
          "name": "stdout",
          "text": [
            "Crawl data with product_id 197896989\n"
          ]
        },
        {
          "output_type": "stream",
          "name": "stderr",
          "text": [
            "\r 84%|████████▎ | 1672/2000 [1:47:22<20:43,  3.79s/it]"
          ]
        },
        {
          "output_type": "stream",
          "name": "stdout",
          "text": [
            "Crawl data with product_id 195990578\n"
          ]
        },
        {
          "output_type": "stream",
          "name": "stderr",
          "text": [
            "\r 84%|████████▎ | 1673/2000 [1:47:25<19:52,  3.65s/it]"
          ]
        },
        {
          "output_type": "stream",
          "name": "stdout",
          "text": [
            "Crawl data with product_id 108946186\n"
          ]
        },
        {
          "output_type": "stream",
          "name": "stderr",
          "text": [
            "\r 84%|████████▎ | 1674/2000 [1:47:28<19:17,  3.55s/it]"
          ]
        },
        {
          "output_type": "stream",
          "name": "stdout",
          "text": [
            "Crawl data with product_id 190096449\n"
          ]
        },
        {
          "output_type": "stream",
          "name": "stderr",
          "text": [
            "\r 84%|████████▍ | 1675/2000 [1:47:33<20:27,  3.78s/it]"
          ]
        },
        {
          "output_type": "stream",
          "name": "stdout",
          "text": [
            "Crawl data with product_id 997531\n"
          ]
        },
        {
          "output_type": "stream",
          "name": "stderr",
          "text": [
            "\r 84%|████████▍ | 1676/2000 [1:47:36<19:38,  3.64s/it]"
          ]
        },
        {
          "output_type": "stream",
          "name": "stdout",
          "text": [
            "Crawl data with product_id 196202813\n"
          ]
        },
        {
          "output_type": "stream",
          "name": "stderr",
          "text": [
            "\r 84%|████████▍ | 1677/2000 [1:47:39<19:03,  3.54s/it]"
          ]
        },
        {
          "output_type": "stream",
          "name": "stdout",
          "text": [
            "Crawl data with product_id 252862060\n"
          ]
        },
        {
          "output_type": "stream",
          "name": "stderr",
          "text": [
            "\r 84%|████████▍ | 1678/2000 [1:47:44<20:23,  3.80s/it]"
          ]
        },
        {
          "output_type": "stream",
          "name": "stdout",
          "text": [
            "Crawl data with product_id 76527972\n"
          ]
        },
        {
          "output_type": "stream",
          "name": "stderr",
          "text": [
            "\r 84%|████████▍ | 1679/2000 [1:47:47<19:31,  3.65s/it]"
          ]
        },
        {
          "output_type": "stream",
          "name": "stdout",
          "text": [
            "Crawl data with product_id 45842927\n"
          ]
        },
        {
          "output_type": "stream",
          "name": "stderr",
          "text": [
            "\r 84%|████████▍ | 1680/2000 [1:47:50<18:56,  3.55s/it]"
          ]
        },
        {
          "output_type": "stream",
          "name": "stdout",
          "text": [
            "Crawl data with product_id 724074\n"
          ]
        },
        {
          "output_type": "stream",
          "name": "stderr",
          "text": [
            "\r 84%|████████▍ | 1681/2000 [1:47:55<20:07,  3.79s/it]"
          ]
        },
        {
          "output_type": "stream",
          "name": "stdout",
          "text": [
            "Crawl data with product_id 57707231\n"
          ]
        },
        {
          "output_type": "stream",
          "name": "stderr",
          "text": [
            "\r 84%|████████▍ | 1682/2000 [1:47:58<19:18,  3.64s/it]"
          ]
        },
        {
          "output_type": "stream",
          "name": "stdout",
          "text": [
            "Crawl data with product_id 4953183\n"
          ]
        },
        {
          "output_type": "stream",
          "name": "stderr",
          "text": [
            "\r 84%|████████▍ | 1683/2000 [1:48:01<18:44,  3.55s/it]"
          ]
        },
        {
          "output_type": "stream",
          "name": "stdout",
          "text": [
            "Crawl data with product_id 1619629\n"
          ]
        },
        {
          "output_type": "stream",
          "name": "stderr",
          "text": [
            "\r 84%|████████▍ | 1684/2000 [1:48:05<18:19,  3.48s/it]"
          ]
        },
        {
          "output_type": "stream",
          "name": "stdout",
          "text": [
            "Crawl data with product_id 185435147\n"
          ]
        },
        {
          "output_type": "stream",
          "name": "stderr",
          "text": [
            "\r 84%|████████▍ | 1685/2000 [1:48:09<19:37,  3.74s/it]"
          ]
        },
        {
          "output_type": "stream",
          "name": "stdout",
          "text": [
            "Crawl data with product_id 23266928\n"
          ]
        },
        {
          "output_type": "stream",
          "name": "stderr",
          "text": [
            "\r 84%|████████▍ | 1686/2000 [1:48:13<20:27,  3.91s/it]"
          ]
        },
        {
          "output_type": "stream",
          "name": "stdout",
          "text": [
            "Crawl data with product_id 184651515\n"
          ]
        },
        {
          "output_type": "stream",
          "name": "stderr",
          "text": [
            "\r 84%|████████▍ | 1687/2000 [1:48:17<19:31,  3.74s/it]"
          ]
        },
        {
          "output_type": "stream",
          "name": "stdout",
          "text": [
            "Crawl data with product_id 212449932\n"
          ]
        },
        {
          "output_type": "stream",
          "name": "stderr",
          "text": [
            "\r 84%|████████▍ | 1688/2000 [1:48:20<18:47,  3.61s/it]"
          ]
        },
        {
          "output_type": "stream",
          "name": "stdout",
          "text": [
            "Crawl data with product_id 253621243\n"
          ]
        },
        {
          "output_type": "stream",
          "name": "stderr",
          "text": [
            "\r 84%|████████▍ | 1689/2000 [1:48:23<18:15,  3.52s/it]"
          ]
        },
        {
          "output_type": "stream",
          "name": "stdout",
          "text": [
            "Crawl data with product_id 66512252\n"
          ]
        },
        {
          "output_type": "stream",
          "name": "stderr",
          "text": [
            "\r 84%|████████▍ | 1690/2000 [1:48:26<17:53,  3.46s/it]"
          ]
        },
        {
          "output_type": "stream",
          "name": "stdout",
          "text": [
            "Crawl data with product_id 215185958\n"
          ]
        },
        {
          "output_type": "stream",
          "name": "stderr",
          "text": [
            "\r 85%|████████▍ | 1691/2000 [1:48:30<17:40,  3.43s/it]"
          ]
        },
        {
          "output_type": "stream",
          "name": "stdout",
          "text": [
            "Crawl data with product_id 48981814\n"
          ]
        },
        {
          "output_type": "stream",
          "name": "stderr",
          "text": [
            "\r 85%|████████▍ | 1692/2000 [1:48:34<18:59,  3.70s/it]"
          ]
        },
        {
          "output_type": "stream",
          "name": "stdout",
          "text": [
            "Crawl data with product_id 163915148\n"
          ]
        },
        {
          "output_type": "stream",
          "name": "stderr",
          "text": [
            "\r 85%|████████▍ | 1693/2000 [1:48:38<19:54,  3.89s/it]"
          ]
        },
        {
          "output_type": "stream",
          "name": "stdout",
          "text": [
            "Crawl data with product_id 38517945\n"
          ]
        },
        {
          "output_type": "stream",
          "name": "stderr",
          "text": [
            "\r 85%|████████▍ | 1694/2000 [1:48:43<20:30,  4.02s/it]"
          ]
        },
        {
          "output_type": "stream",
          "name": "stdout",
          "text": [
            "Crawl data with product_id 77627245\n"
          ]
        },
        {
          "output_type": "stream",
          "name": "stderr",
          "text": [
            "\r 85%|████████▍ | 1695/2000 [1:48:47<20:55,  4.12s/it]"
          ]
        },
        {
          "output_type": "stream",
          "name": "stdout",
          "text": [
            "Crawl data with product_id 247837972\n"
          ]
        },
        {
          "output_type": "stream",
          "name": "stderr",
          "text": [
            "\r 85%|████████▍ | 1696/2000 [1:48:50<19:39,  3.88s/it]"
          ]
        },
        {
          "output_type": "stream",
          "name": "stdout",
          "text": [
            "Crawl data with product_id 75835764\n"
          ]
        },
        {
          "output_type": "stream",
          "name": "stderr",
          "text": [
            "\r 85%|████████▍ | 1697/2000 [1:48:54<18:44,  3.71s/it]"
          ]
        },
        {
          "output_type": "stream",
          "name": "stdout",
          "text": [
            "Crawl data with product_id 183540838\n"
          ]
        },
        {
          "output_type": "stream",
          "name": "stderr",
          "text": [
            "\r 85%|████████▍ | 1698/2000 [1:48:58<19:36,  3.90s/it]"
          ]
        },
        {
          "output_type": "stream",
          "name": "stdout",
          "text": [
            "Crawl data with product_id 91544606\n"
          ]
        },
        {
          "output_type": "stream",
          "name": "stderr",
          "text": [
            "\r 85%|████████▍ | 1699/2000 [1:49:02<20:10,  4.02s/it]"
          ]
        },
        {
          "output_type": "stream",
          "name": "stdout",
          "text": [
            "Crawl data with product_id 653954\n"
          ]
        },
        {
          "output_type": "stream",
          "name": "stderr",
          "text": [
            "\r 85%|████████▌ | 1700/2000 [1:49:07<20:34,  4.11s/it]"
          ]
        },
        {
          "output_type": "stream",
          "name": "stdout",
          "text": [
            "Crawl data with product_id 7200491\n"
          ]
        },
        {
          "output_type": "stream",
          "name": "stderr",
          "text": [
            "\r 85%|████████▌ | 1701/2000 [1:49:10<19:24,  3.90s/it]"
          ]
        },
        {
          "output_type": "stream",
          "name": "stdout",
          "text": [
            "Crawl data with product_id 176943658\n"
          ]
        },
        {
          "output_type": "stream",
          "name": "stderr",
          "text": [
            "\r 85%|████████▌ | 1702/2000 [1:49:14<18:33,  3.74s/it]"
          ]
        },
        {
          "output_type": "stream",
          "name": "stdout",
          "text": [
            "Crawl data with product_id 28163044\n"
          ]
        },
        {
          "output_type": "stream",
          "name": "stderr",
          "text": [
            "\r 85%|████████▌ | 1703/2000 [1:49:17<17:51,  3.61s/it]"
          ]
        },
        {
          "output_type": "stream",
          "name": "stdout",
          "text": [
            "Crawl data with product_id 216096889\n"
          ]
        },
        {
          "output_type": "stream",
          "name": "stderr",
          "text": [
            "\r 85%|████████▌ | 1704/2000 [1:49:21<18:50,  3.82s/it]"
          ]
        },
        {
          "output_type": "stream",
          "name": "stdout",
          "text": [
            "Crawl data with product_id 197655113\n"
          ]
        },
        {
          "output_type": "stream",
          "name": "stderr",
          "text": [
            "\r 85%|████████▌ | 1705/2000 [1:49:24<18:01,  3.66s/it]"
          ]
        },
        {
          "output_type": "stream",
          "name": "stdout",
          "text": [
            "Crawl data with product_id 120161815\n"
          ]
        },
        {
          "output_type": "stream",
          "name": "stderr",
          "text": [
            "\r 85%|████████▌ | 1706/2000 [1:49:28<17:24,  3.55s/it]"
          ]
        },
        {
          "output_type": "stream",
          "name": "stdout",
          "text": [
            "Crawl data with product_id 253136513\n"
          ]
        },
        {
          "output_type": "stream",
          "name": "stderr",
          "text": [
            "\r 85%|████████▌ | 1707/2000 [1:49:32<18:31,  3.79s/it]"
          ]
        },
        {
          "output_type": "stream",
          "name": "stdout",
          "text": [
            "Crawl data with product_id 177704491\n"
          ]
        },
        {
          "output_type": "stream",
          "name": "stderr",
          "text": [
            "\r 85%|████████▌ | 1708/2000 [1:49:36<19:14,  3.95s/it]"
          ]
        },
        {
          "output_type": "stream",
          "name": "stdout",
          "text": [
            "Crawl data with product_id 545105\n"
          ]
        },
        {
          "output_type": "stream",
          "name": "stderr",
          "text": [
            "\r 85%|████████▌ | 1709/2000 [1:49:40<18:16,  3.77s/it]"
          ]
        },
        {
          "output_type": "stream",
          "name": "stdout",
          "text": [
            "Crawl data with product_id 247680702\n"
          ]
        },
        {
          "output_type": "stream",
          "name": "stderr",
          "text": [
            "\r 86%|████████▌ | 1710/2000 [1:49:43<17:34,  3.64s/it]"
          ]
        },
        {
          "output_type": "stream",
          "name": "stdout",
          "text": [
            "Crawl data with product_id 204872822\n"
          ]
        },
        {
          "output_type": "stream",
          "name": "stderr",
          "text": [
            "\r 86%|████████▌ | 1711/2000 [1:49:46<17:03,  3.54s/it]"
          ]
        },
        {
          "output_type": "stream",
          "name": "stdout",
          "text": [
            "Crawl data with product_id 69078513\n"
          ]
        },
        {
          "output_type": "stream",
          "name": "stderr",
          "text": [
            "\r 86%|████████▌ | 1712/2000 [1:49:51<18:11,  3.79s/it]"
          ]
        },
        {
          "output_type": "stream",
          "name": "stdout",
          "text": [
            "Crawl data with product_id 197417968\n"
          ]
        },
        {
          "output_type": "stream",
          "name": "stderr",
          "text": [
            "\r 86%|████████▌ | 1713/2000 [1:49:55<18:53,  3.95s/it]"
          ]
        },
        {
          "output_type": "stream",
          "name": "stdout",
          "text": [
            "Crawl data with product_id 257862874\n"
          ]
        },
        {
          "output_type": "stream",
          "name": "stderr",
          "text": [
            "\r 86%|████████▌ | 1714/2000 [1:49:58<17:54,  3.76s/it]"
          ]
        },
        {
          "output_type": "stream",
          "name": "stdout",
          "text": [
            "Crawl data with product_id 217524117\n"
          ]
        },
        {
          "output_type": "stream",
          "name": "stderr",
          "text": [
            "\r 86%|████████▌ | 1715/2000 [1:50:03<18:42,  3.94s/it]"
          ]
        },
        {
          "output_type": "stream",
          "name": "stdout",
          "text": [
            "Crawl data with product_id 174518895\n"
          ]
        },
        {
          "output_type": "stream",
          "name": "stderr",
          "text": [
            "\r 86%|████████▌ | 1716/2000 [1:50:06<17:50,  3.77s/it]"
          ]
        },
        {
          "output_type": "stream",
          "name": "stdout",
          "text": [
            "Crawl data with product_id 202224564\n"
          ]
        },
        {
          "output_type": "stream",
          "name": "stderr",
          "text": [
            "\r 86%|████████▌ | 1717/2000 [1:50:10<17:16,  3.66s/it]"
          ]
        },
        {
          "output_type": "stream",
          "name": "stdout",
          "text": [
            "Crawl data with product_id 197346686\n"
          ]
        },
        {
          "output_type": "stream",
          "name": "stderr",
          "text": [
            "\r 86%|████████▌ | 1718/2000 [1:50:14<18:09,  3.86s/it]"
          ]
        },
        {
          "output_type": "stream",
          "name": "stdout",
          "text": [
            "Crawl data with product_id 248133791\n"
          ]
        },
        {
          "output_type": "stream",
          "name": "stderr",
          "text": [
            "\r 86%|████████▌ | 1719/2000 [1:50:17<17:22,  3.71s/it]"
          ]
        },
        {
          "output_type": "stream",
          "name": "stdout",
          "text": [
            "Crawl data with product_id 198205934\n"
          ]
        },
        {
          "output_type": "stream",
          "name": "stderr",
          "text": [
            "\r 86%|████████▌ | 1720/2000 [1:50:22<18:10,  3.90s/it]"
          ]
        },
        {
          "output_type": "stream",
          "name": "stdout",
          "text": [
            "Crawl data with product_id 605785\n"
          ]
        },
        {
          "output_type": "stream",
          "name": "stderr",
          "text": [
            "\r 86%|████████▌ | 1721/2000 [1:50:25<17:18,  3.72s/it]"
          ]
        },
        {
          "output_type": "stream",
          "name": "stdout",
          "text": [
            "Crawl data with product_id 217779115\n"
          ]
        },
        {
          "output_type": "stream",
          "name": "stderr",
          "text": [
            "\r 86%|████████▌ | 1722/2000 [1:50:29<18:06,  3.91s/it]"
          ]
        },
        {
          "output_type": "stream",
          "name": "stdout",
          "text": [
            "Crawl data with product_id 196562017\n"
          ]
        },
        {
          "output_type": "stream",
          "name": "stderr",
          "text": [
            "\r 86%|████████▌ | 1723/2000 [1:50:34<18:38,  4.04s/it]"
          ]
        },
        {
          "output_type": "stream",
          "name": "stdout",
          "text": [
            "Crawl data with product_id 160759002\n"
          ]
        },
        {
          "output_type": "stream",
          "name": "stderr",
          "text": [
            "\r 86%|████████▌ | 1724/2000 [1:50:38<18:57,  4.12s/it]"
          ]
        },
        {
          "output_type": "stream",
          "name": "stdout",
          "text": [
            "Crawl data with product_id 76175422\n"
          ]
        },
        {
          "output_type": "stream",
          "name": "stderr",
          "text": [
            "\r 86%|████████▋ | 1725/2000 [1:50:41<17:46,  3.88s/it]"
          ]
        },
        {
          "output_type": "stream",
          "name": "stdout",
          "text": [
            "Crawl data with product_id 708521\n"
          ]
        },
        {
          "output_type": "stream",
          "name": "stderr",
          "text": [
            "\r 86%|████████▋ | 1726/2000 [1:50:45<18:17,  4.01s/it]"
          ]
        },
        {
          "output_type": "stream",
          "name": "stdout",
          "text": [
            "Crawl data with product_id 125519572\n"
          ]
        },
        {
          "output_type": "stream",
          "name": "stderr",
          "text": [
            "\r 86%|████████▋ | 1727/2000 [1:50:50<18:44,  4.12s/it]"
          ]
        },
        {
          "output_type": "stream",
          "name": "stdout",
          "text": [
            "Crawl data with product_id 147988204\n"
          ]
        },
        {
          "output_type": "stream",
          "name": "stderr",
          "text": [
            "\r 86%|████████▋ | 1728/2000 [1:50:54<18:57,  4.18s/it]"
          ]
        },
        {
          "output_type": "stream",
          "name": "stdout",
          "text": [
            "Crawl data with product_id 105157493\n"
          ]
        },
        {
          "output_type": "stream",
          "name": "stderr",
          "text": [
            "\r 86%|████████▋ | 1729/2000 [1:50:58<17:46,  3.94s/it]"
          ]
        },
        {
          "output_type": "stream",
          "name": "stdout",
          "text": [
            "Crawl data with product_id 253629740\n"
          ]
        },
        {
          "output_type": "stream",
          "name": "stderr",
          "text": [
            "\r 86%|████████▋ | 1730/2000 [1:51:02<18:13,  4.05s/it]"
          ]
        },
        {
          "output_type": "stream",
          "name": "stdout",
          "text": [
            "Crawl data with product_id 139296699\n"
          ]
        },
        {
          "output_type": "stream",
          "name": "stderr",
          "text": [
            "\r 87%|████████▋ | 1731/2000 [1:51:07<19:24,  4.33s/it]"
          ]
        },
        {
          "output_type": "stream",
          "name": "stdout",
          "text": [
            "Crawl data with product_id 345779\n"
          ]
        },
        {
          "output_type": "stream",
          "name": "stderr",
          "text": [
            "\r 87%|████████▋ | 1732/2000 [1:51:10<18:00,  4.03s/it]"
          ]
        },
        {
          "output_type": "stream",
          "name": "stdout",
          "text": [
            "Crawl data with product_id 247299379\n"
          ]
        },
        {
          "output_type": "stream",
          "name": "stderr",
          "text": [
            "\r 87%|████████▋ | 1733/2000 [1:51:14<17:00,  3.82s/it]"
          ]
        },
        {
          "output_type": "stream",
          "name": "stdout",
          "text": [
            "Crawl data with product_id 58481323\n"
          ]
        },
        {
          "output_type": "stream",
          "name": "stderr",
          "text": [
            "\r 87%|████████▋ | 1734/2000 [1:51:18<17:34,  3.96s/it]"
          ]
        },
        {
          "output_type": "stream",
          "name": "stdout",
          "text": [
            "Crawl data with product_id 36702003\n"
          ]
        },
        {
          "output_type": "stream",
          "name": "stderr",
          "text": [
            "\r 87%|████████▋ | 1735/2000 [1:51:21<16:39,  3.77s/it]"
          ]
        },
        {
          "output_type": "stream",
          "name": "stdout",
          "text": [
            "Crawl data with product_id 254085223\n"
          ]
        },
        {
          "output_type": "stream",
          "name": "stderr",
          "text": [
            "\r 87%|████████▋ | 1736/2000 [1:51:25<17:17,  3.93s/it]"
          ]
        },
        {
          "output_type": "stream",
          "name": "stdout",
          "text": [
            "Crawl data with product_id 89000434\n"
          ]
        },
        {
          "output_type": "stream",
          "name": "stderr",
          "text": [
            "\r 87%|████████▋ | 1737/2000 [1:51:29<16:24,  3.74s/it]"
          ]
        },
        {
          "output_type": "stream",
          "name": "stdout",
          "text": [
            "Crawl data with product_id 214010996\n"
          ]
        },
        {
          "output_type": "stream",
          "name": "stderr",
          "text": [
            "\r 87%|████████▋ | 1738/2000 [1:51:33<17:09,  3.93s/it]"
          ]
        },
        {
          "output_type": "stream",
          "name": "stdout",
          "text": [
            "Crawl data with product_id 262515409\n"
          ]
        },
        {
          "output_type": "stream",
          "name": "stderr",
          "text": [
            "\r 87%|████████▋ | 1739/2000 [1:51:36<16:19,  3.75s/it]"
          ]
        },
        {
          "output_type": "stream",
          "name": "stdout",
          "text": [
            "Crawl data with product_id 210732843\n"
          ]
        },
        {
          "output_type": "stream",
          "name": "stderr",
          "text": [
            "\r 87%|████████▋ | 1740/2000 [1:51:41<17:00,  3.92s/it]"
          ]
        },
        {
          "output_type": "stream",
          "name": "stdout",
          "text": [
            "Crawl data with product_id 148750671\n"
          ]
        },
        {
          "output_type": "stream",
          "name": "stderr",
          "text": [
            "\r 87%|████████▋ | 1741/2000 [1:51:44<16:09,  3.74s/it]"
          ]
        },
        {
          "output_type": "stream",
          "name": "stdout",
          "text": [
            "Crawl data with product_id 186191660\n"
          ]
        },
        {
          "output_type": "stream",
          "name": "stderr",
          "text": [
            "\r 87%|████████▋ | 1742/2000 [1:51:47<15:35,  3.62s/it]"
          ]
        },
        {
          "output_type": "stream",
          "name": "stdout",
          "text": [
            "Crawl data with product_id 101771796\n"
          ]
        },
        {
          "output_type": "stream",
          "name": "stderr",
          "text": [
            "\r 87%|████████▋ | 1743/2000 [1:51:51<15:11,  3.55s/it]"
          ]
        },
        {
          "output_type": "stream",
          "name": "stdout",
          "text": [
            "Crawl data with product_id 197655116\n"
          ]
        },
        {
          "output_type": "stream",
          "name": "stderr",
          "text": [
            "\r 87%|████████▋ | 1744/2000 [1:51:55<16:06,  3.78s/it]"
          ]
        },
        {
          "output_type": "stream",
          "name": "stdout",
          "text": [
            "Crawl data with product_id 201799019\n"
          ]
        },
        {
          "output_type": "stream",
          "name": "stderr",
          "text": [
            "\r 87%|████████▋ | 1745/2000 [1:51:58<15:28,  3.64s/it]"
          ]
        },
        {
          "output_type": "stream",
          "name": "stdout",
          "text": [
            "Crawl data with product_id 199739988\n"
          ]
        },
        {
          "output_type": "stream",
          "name": "stderr",
          "text": [
            "\r 87%|████████▋ | 1746/2000 [1:52:02<15:01,  3.55s/it]"
          ]
        },
        {
          "output_type": "stream",
          "name": "stdout",
          "text": [
            "Crawl data with product_id 15245890\n"
          ]
        },
        {
          "output_type": "stream",
          "name": "stderr",
          "text": [
            "\r 87%|████████▋ | 1747/2000 [1:52:06<15:55,  3.77s/it]"
          ]
        },
        {
          "output_type": "stream",
          "name": "stdout",
          "text": [
            "Crawl data with product_id 83344595\n"
          ]
        },
        {
          "output_type": "stream",
          "name": "stderr",
          "text": [
            "\r 87%|████████▋ | 1748/2000 [1:52:10<16:35,  3.95s/it]"
          ]
        },
        {
          "output_type": "stream",
          "name": "stdout",
          "text": [
            "Crawl data with product_id 438733\n"
          ]
        },
        {
          "output_type": "stream",
          "name": "stderr",
          "text": [
            "\r 87%|████████▋ | 1749/2000 [1:52:15<17:00,  4.06s/it]"
          ]
        },
        {
          "output_type": "stream",
          "name": "stdout",
          "text": [
            "Crawl data with product_id 262652538\n"
          ]
        },
        {
          "output_type": "stream",
          "name": "stderr",
          "text": [
            "\r 88%|████████▊ | 1750/2000 [1:52:18<16:02,  3.85s/it]"
          ]
        },
        {
          "output_type": "stream",
          "name": "stdout",
          "text": [
            "Crawl data with product_id 1733329\n"
          ]
        },
        {
          "output_type": "stream",
          "name": "stderr",
          "text": [
            "\r 88%|████████▊ | 1751/2000 [1:52:21<15:20,  3.70s/it]"
          ]
        },
        {
          "output_type": "stream",
          "name": "stdout",
          "text": [
            "Crawl data with product_id 207360199\n"
          ]
        },
        {
          "output_type": "stream",
          "name": "stderr",
          "text": [
            "\r 88%|████████▊ | 1752/2000 [1:52:26<16:03,  3.89s/it]"
          ]
        },
        {
          "output_type": "stream",
          "name": "stdout",
          "text": [
            "Crawl data with product_id 147988212\n"
          ]
        },
        {
          "output_type": "stream",
          "name": "stderr",
          "text": [
            "\r 88%|████████▊ | 1753/2000 [1:52:30<16:31,  4.01s/it]"
          ]
        },
        {
          "output_type": "stream",
          "name": "stdout",
          "text": [
            "Crawl data with product_id 192473000\n"
          ]
        },
        {
          "output_type": "stream",
          "name": "stderr",
          "text": [
            "\r 88%|████████▊ | 1754/2000 [1:52:34<16:50,  4.11s/it]"
          ]
        },
        {
          "output_type": "stream",
          "name": "stdout",
          "text": [
            "Crawl data with product_id 249664609\n"
          ]
        },
        {
          "output_type": "stream",
          "name": "stderr",
          "text": [
            "\r 88%|████████▊ | 1755/2000 [1:52:38<15:48,  3.87s/it]"
          ]
        },
        {
          "output_type": "stream",
          "name": "stdout",
          "text": [
            "Crawl data with product_id 406355\n"
          ]
        },
        {
          "output_type": "stream",
          "name": "stderr",
          "text": [
            "\r 88%|████████▊ | 1756/2000 [1:52:42<16:18,  4.01s/it]"
          ]
        },
        {
          "output_type": "stream",
          "name": "stdout",
          "text": [
            "Crawl data with product_id 9729340\n"
          ]
        },
        {
          "output_type": "stream",
          "name": "stderr",
          "text": [
            "\r 88%|████████▊ | 1757/2000 [1:52:46<15:38,  3.86s/it]"
          ]
        },
        {
          "output_type": "stream",
          "name": "stdout",
          "text": [
            "Crawl data with product_id 924309\n"
          ]
        },
        {
          "output_type": "stream",
          "name": "stderr",
          "text": [
            "\r 88%|████████▊ | 1758/2000 [1:52:50<16:10,  4.01s/it]"
          ]
        },
        {
          "output_type": "stream",
          "name": "stdout",
          "text": [
            "Crawl data with product_id 214095091\n"
          ]
        },
        {
          "output_type": "stream",
          "name": "stderr",
          "text": [
            "\r 88%|████████▊ | 1759/2000 [1:52:53<15:19,  3.82s/it]"
          ]
        },
        {
          "output_type": "stream",
          "name": "stdout",
          "text": [
            "Crawl data with product_id 31206232\n"
          ]
        },
        {
          "output_type": "stream",
          "name": "stderr",
          "text": [
            "\r 88%|████████▊ | 1760/2000 [1:52:58<15:51,  3.97s/it]"
          ]
        },
        {
          "output_type": "stream",
          "name": "stdout",
          "text": [
            "Crawl data with product_id 249032107\n"
          ]
        },
        {
          "output_type": "stream",
          "name": "stderr",
          "text": [
            "\r 88%|████████▊ | 1761/2000 [1:53:02<16:13,  4.07s/it]"
          ]
        },
        {
          "output_type": "stream",
          "name": "stdout",
          "text": [
            "Crawl data with product_id 118208802\n"
          ]
        },
        {
          "output_type": "stream",
          "name": "stderr",
          "text": [
            "\r 88%|████████▊ | 1762/2000 [1:53:06<16:27,  4.15s/it]"
          ]
        },
        {
          "output_type": "stream",
          "name": "stdout",
          "text": [
            "Crawl data with product_id 159909085\n"
          ]
        },
        {
          "output_type": "stream",
          "name": "stderr",
          "text": [
            "\r 88%|████████▊ | 1763/2000 [1:53:11<16:49,  4.26s/it]"
          ]
        },
        {
          "output_type": "stream",
          "name": "stdout",
          "text": [
            "Crawl data with product_id 207903350\n"
          ]
        },
        {
          "output_type": "stream",
          "name": "stderr",
          "text": [
            "\r 88%|████████▊ | 1764/2000 [1:53:14<15:39,  3.98s/it]"
          ]
        },
        {
          "output_type": "stream",
          "name": "stdout",
          "text": [
            "Crawl data with product_id 252130183\n"
          ]
        },
        {
          "output_type": "stream",
          "name": "stderr",
          "text": [
            "\r 88%|████████▊ | 1765/2000 [1:53:17<14:50,  3.79s/it]"
          ]
        },
        {
          "output_type": "stream",
          "name": "stdout",
          "text": [
            "Crawl data with product_id 424991\n"
          ]
        },
        {
          "output_type": "stream",
          "name": "stderr",
          "text": [
            "\r 88%|████████▊ | 1766/2000 [1:53:21<14:16,  3.66s/it]"
          ]
        },
        {
          "output_type": "stream",
          "name": "stdout",
          "text": [
            "Crawl data with product_id 247298277\n"
          ]
        },
        {
          "output_type": "stream",
          "name": "stderr",
          "text": [
            "\r 88%|████████▊ | 1767/2000 [1:53:25<14:59,  3.86s/it]"
          ]
        },
        {
          "output_type": "stream",
          "name": "stdout",
          "text": [
            "Crawl data with product_id 14996960\n"
          ]
        },
        {
          "output_type": "stream",
          "name": "stderr",
          "text": [
            "\r 88%|████████▊ | 1768/2000 [1:53:28<14:17,  3.70s/it]"
          ]
        },
        {
          "output_type": "stream",
          "name": "stdout",
          "text": [
            "Crawl data with product_id 1731793\n"
          ]
        },
        {
          "output_type": "stream",
          "name": "stderr",
          "text": [
            "\r 88%|████████▊ | 1769/2000 [1:53:33<14:56,  3.88s/it]"
          ]
        },
        {
          "output_type": "stream",
          "name": "stdout",
          "text": [
            "Crawl data with product_id 215407948\n"
          ]
        },
        {
          "output_type": "stream",
          "name": "stderr",
          "text": [
            "\r 88%|████████▊ | 1770/2000 [1:53:36<14:13,  3.71s/it]"
          ]
        },
        {
          "output_type": "stream",
          "name": "stdout",
          "text": [
            "Crawl data with product_id 573669\n"
          ]
        },
        {
          "output_type": "stream",
          "name": "stderr",
          "text": [
            "\r 89%|████████▊ | 1771/2000 [1:53:39<13:43,  3.60s/it]"
          ]
        },
        {
          "output_type": "stream",
          "name": "stdout",
          "text": [
            "Crawl data with product_id 45613736\n"
          ]
        },
        {
          "output_type": "stream",
          "name": "stderr",
          "text": [
            "\r 89%|████████▊ | 1772/2000 [1:53:43<13:21,  3.52s/it]"
          ]
        },
        {
          "output_type": "stream",
          "name": "stdout",
          "text": [
            "Crawl data with product_id 86999714\n"
          ]
        },
        {
          "output_type": "stream",
          "name": "stderr",
          "text": [
            "\r 89%|████████▊ | 1773/2000 [1:53:46<13:06,  3.46s/it]"
          ]
        },
        {
          "output_type": "stream",
          "name": "stdout",
          "text": [
            "Crawl data with product_id 181699650\n"
          ]
        },
        {
          "output_type": "stream",
          "name": "stderr",
          "text": [
            "\r 89%|████████▊ | 1774/2000 [1:53:49<12:53,  3.42s/it]"
          ]
        },
        {
          "output_type": "stream",
          "name": "stdout",
          "text": [
            "Crawl data with product_id 143146012\n"
          ]
        },
        {
          "output_type": "stream",
          "name": "stderr",
          "text": [
            "\r 89%|████████▉ | 1775/2000 [1:53:54<13:49,  3.69s/it]"
          ]
        },
        {
          "output_type": "stream",
          "name": "stdout",
          "text": [
            "Crawl data with product_id 1466877\n"
          ]
        },
        {
          "output_type": "stream",
          "name": "stderr",
          "text": [
            "\r 89%|████████▉ | 1776/2000 [1:53:57<13:23,  3.59s/it]"
          ]
        },
        {
          "output_type": "stream",
          "name": "stdout",
          "text": [
            "Crawl data with product_id 94903583\n"
          ]
        },
        {
          "output_type": "stream",
          "name": "stderr",
          "text": [
            "\r 89%|████████▉ | 1777/2000 [1:54:00<13:01,  3.50s/it]"
          ]
        },
        {
          "output_type": "stream",
          "name": "stdout",
          "text": [
            "Crawl data with product_id 200820342\n"
          ]
        },
        {
          "output_type": "stream",
          "name": "stderr",
          "text": [
            "\r 89%|████████▉ | 1778/2000 [1:54:05<13:53,  3.75s/it]"
          ]
        },
        {
          "output_type": "stream",
          "name": "stdout",
          "text": [
            "Crawl data with product_id 249388540\n"
          ]
        },
        {
          "output_type": "stream",
          "name": "stderr",
          "text": [
            "\r 89%|████████▉ | 1779/2000 [1:54:09<14:28,  3.93s/it]"
          ]
        },
        {
          "output_type": "stream",
          "name": "stdout",
          "text": [
            "Crawl data with product_id 201161517\n"
          ]
        },
        {
          "output_type": "stream",
          "name": "stderr",
          "text": [
            "\r 89%|████████▉ | 1780/2000 [1:54:14<15:34,  4.25s/it]"
          ]
        },
        {
          "output_type": "stream",
          "name": "stdout",
          "text": [
            "Crawl data with product_id 596344\n"
          ]
        },
        {
          "output_type": "stream",
          "name": "stderr",
          "text": [
            "\r 89%|████████▉ | 1781/2000 [1:54:18<15:35,  4.27s/it]"
          ]
        },
        {
          "output_type": "stream",
          "name": "stdout",
          "text": [
            "Crawl data with product_id 21334260\n"
          ]
        },
        {
          "output_type": "stream",
          "name": "stderr",
          "text": [
            "\r 89%|████████▉ | 1782/2000 [1:54:22<14:28,  3.99s/it]"
          ]
        },
        {
          "output_type": "stream",
          "name": "stdout",
          "text": [
            "Crawl data with product_id 559738\n"
          ]
        },
        {
          "output_type": "stream",
          "name": "stderr",
          "text": [
            "\r 89%|████████▉ | 1783/2000 [1:54:26<14:46,  4.08s/it]"
          ]
        },
        {
          "output_type": "stream",
          "name": "stdout",
          "text": [
            "Crawl data with product_id 212049320\n"
          ]
        },
        {
          "output_type": "stream",
          "name": "stderr",
          "text": [
            "\r 89%|████████▉ | 1784/2000 [1:54:29<13:57,  3.88s/it]"
          ]
        },
        {
          "output_type": "stream",
          "name": "stdout",
          "text": [
            "Crawl data with product_id 57898772\n"
          ]
        },
        {
          "output_type": "stream",
          "name": "stderr",
          "text": [
            "\r 89%|████████▉ | 1785/2000 [1:54:33<13:17,  3.71s/it]"
          ]
        },
        {
          "output_type": "stream",
          "name": "stdout",
          "text": [
            "Crawl data with product_id 49459949\n"
          ]
        },
        {
          "output_type": "stream",
          "name": "stderr",
          "text": [
            "\r 89%|████████▉ | 1786/2000 [1:54:37<13:52,  3.89s/it]"
          ]
        },
        {
          "output_type": "stream",
          "name": "stdout",
          "text": [
            "Crawl data with product_id 254188222\n"
          ]
        },
        {
          "output_type": "stream",
          "name": "stderr",
          "text": [
            "\r 89%|████████▉ | 1787/2000 [1:54:40<13:12,  3.72s/it]"
          ]
        },
        {
          "output_type": "stream",
          "name": "stdout",
          "text": [
            "Crawl data with product_id 135566443\n"
          ]
        },
        {
          "output_type": "stream",
          "name": "stderr",
          "text": [
            "\r 89%|████████▉ | 1788/2000 [1:54:45<13:47,  3.90s/it]"
          ]
        },
        {
          "output_type": "stream",
          "name": "stdout",
          "text": [
            "Crawl data with product_id 8121789\n"
          ]
        },
        {
          "output_type": "stream",
          "name": "stderr",
          "text": [
            "\r 89%|████████▉ | 1789/2000 [1:54:48<13:08,  3.74s/it]"
          ]
        },
        {
          "output_type": "stream",
          "name": "stdout",
          "text": [
            "Crawl data with product_id 76118183\n"
          ]
        },
        {
          "output_type": "stream",
          "name": "stderr",
          "text": [
            "\r 90%|████████▉ | 1790/2000 [1:54:52<13:40,  3.91s/it]"
          ]
        },
        {
          "output_type": "stream",
          "name": "stdout",
          "text": [
            "Crawl data with product_id 25980161\n"
          ]
        },
        {
          "output_type": "stream",
          "name": "stderr",
          "text": [
            "\r 90%|████████▉ | 1791/2000 [1:54:57<14:03,  4.04s/it]"
          ]
        },
        {
          "output_type": "stream",
          "name": "stdout",
          "text": [
            "Crawl data with product_id 453654\n"
          ]
        },
        {
          "output_type": "stream",
          "name": "stderr",
          "text": [
            "\r 90%|████████▉ | 1792/2000 [1:55:01<14:18,  4.13s/it]"
          ]
        },
        {
          "output_type": "stream",
          "name": "stdout",
          "text": [
            "Crawl data with product_id 136084824\n"
          ]
        },
        {
          "output_type": "stream",
          "name": "stderr",
          "text": [
            "\r 90%|████████▉ | 1793/2000 [1:55:04<13:25,  3.89s/it]"
          ]
        },
        {
          "output_type": "stream",
          "name": "stdout",
          "text": [
            "Crawl data with product_id 204286419\n"
          ]
        },
        {
          "output_type": "stream",
          "name": "stderr",
          "text": [
            "\r 90%|████████▉ | 1794/2000 [1:55:09<13:49,  4.03s/it]"
          ]
        },
        {
          "output_type": "stream",
          "name": "stdout",
          "text": [
            "Crawl data with product_id 56719633\n"
          ]
        },
        {
          "output_type": "stream",
          "name": "stderr",
          "text": [
            "\r 90%|████████▉ | 1795/2000 [1:55:13<14:06,  4.13s/it]"
          ]
        },
        {
          "output_type": "stream",
          "name": "stdout",
          "text": [
            "Crawl data with product_id 72558006\n"
          ]
        },
        {
          "output_type": "stream",
          "name": "stderr",
          "text": [
            "\r 90%|████████▉ | 1796/2000 [1:55:17<14:13,  4.18s/it]"
          ]
        },
        {
          "output_type": "stream",
          "name": "stdout",
          "text": [
            "Crawl data with product_id 57150157\n"
          ]
        },
        {
          "output_type": "stream",
          "name": "stderr",
          "text": [
            "\r 90%|████████▉ | 1797/2000 [1:55:21<13:16,  3.92s/it]"
          ]
        },
        {
          "output_type": "stream",
          "name": "stdout",
          "text": [
            "Crawl data with product_id 253059440\n"
          ]
        },
        {
          "output_type": "stream",
          "name": "stderr",
          "text": [
            "\r 90%|████████▉ | 1798/2000 [1:55:24<12:39,  3.76s/it]"
          ]
        },
        {
          "output_type": "stream",
          "name": "stdout",
          "text": [
            "Crawl data with product_id 48166624\n"
          ]
        },
        {
          "output_type": "stream",
          "name": "stderr",
          "text": [
            "\r 90%|████████▉ | 1799/2000 [1:55:27<12:10,  3.63s/it]"
          ]
        },
        {
          "output_type": "stream",
          "name": "stdout",
          "text": [
            "Crawl data with product_id 166545503\n"
          ]
        },
        {
          "output_type": "stream",
          "name": "stderr",
          "text": [
            "\r 90%|█████████ | 1800/2000 [1:55:32<12:49,  3.85s/it]"
          ]
        },
        {
          "output_type": "stream",
          "name": "stdout",
          "text": [
            "Crawl data with product_id 249680747\n"
          ]
        },
        {
          "output_type": "stream",
          "name": "stderr",
          "text": [
            "\r 90%|█████████ | 1801/2000 [1:55:36<13:13,  3.99s/it]"
          ]
        },
        {
          "output_type": "stream",
          "name": "stdout",
          "text": [
            "Crawl data with product_id 153625053\n"
          ]
        },
        {
          "output_type": "stream",
          "name": "stderr",
          "text": [
            "\r 90%|█████████ | 1802/2000 [1:55:39<12:31,  3.79s/it]"
          ]
        },
        {
          "output_type": "stream",
          "name": "stdout",
          "text": [
            "Crawl data with product_id 247261363\n"
          ]
        },
        {
          "output_type": "stream",
          "name": "stderr",
          "text": [
            "\r 90%|█████████ | 1803/2000 [1:55:43<11:59,  3.65s/it]"
          ]
        },
        {
          "output_type": "stream",
          "name": "stdout",
          "text": [
            "Crawl data with product_id 161426364\n"
          ]
        },
        {
          "output_type": "stream",
          "name": "stderr",
          "text": [
            "\r 90%|█████████ | 1804/2000 [1:55:47<12:37,  3.86s/it]"
          ]
        },
        {
          "output_type": "stream",
          "name": "stdout",
          "text": [
            "Crawl data with product_id 6681659\n"
          ]
        },
        {
          "output_type": "stream",
          "name": "stderr",
          "text": [
            "\r 90%|█████████ | 1805/2000 [1:55:50<12:01,  3.70s/it]"
          ]
        },
        {
          "output_type": "stream",
          "name": "stdout",
          "text": [
            "Crawl data with product_id 195969373\n"
          ]
        },
        {
          "output_type": "stream",
          "name": "stderr",
          "text": [
            "\r 90%|█████████ | 1806/2000 [1:55:54<11:35,  3.58s/it]"
          ]
        },
        {
          "output_type": "stream",
          "name": "stdout",
          "text": [
            "Crawl data with product_id 142402392\n"
          ]
        },
        {
          "output_type": "stream",
          "name": "stderr",
          "text": [
            "\r 90%|█████████ | 1807/2000 [1:55:58<12:15,  3.81s/it]"
          ]
        },
        {
          "output_type": "stream",
          "name": "stdout",
          "text": [
            "Crawl data with product_id 184334882\n"
          ]
        },
        {
          "output_type": "stream",
          "name": "stderr",
          "text": [
            "\r 90%|█████████ | 1808/2000 [1:56:01<11:43,  3.66s/it]"
          ]
        },
        {
          "output_type": "stream",
          "name": "stdout",
          "text": [
            "Crawl data with product_id 1731777\n"
          ]
        },
        {
          "output_type": "stream",
          "name": "stderr",
          "text": [
            "\r 90%|█████████ | 1809/2000 [1:56:06<12:19,  3.87s/it]"
          ]
        },
        {
          "output_type": "stream",
          "name": "stdout",
          "text": [
            "Crawl data with product_id 242283674\n"
          ]
        },
        {
          "output_type": "stream",
          "name": "stderr",
          "text": [
            "\r 90%|█████████ | 1810/2000 [1:56:10<12:40,  4.00s/it]"
          ]
        },
        {
          "output_type": "stream",
          "name": "stdout",
          "text": [
            "Crawl data with product_id 782289\n"
          ]
        },
        {
          "output_type": "stream",
          "name": "stderr",
          "text": [
            "\r 91%|█████████ | 1811/2000 [1:56:14<12:55,  4.10s/it]"
          ]
        },
        {
          "output_type": "stream",
          "name": "stdout",
          "text": [
            "Crawl data with product_id 9977542\n"
          ]
        },
        {
          "output_type": "stream",
          "name": "stderr",
          "text": [
            "\r 91%|█████████ | 1812/2000 [1:56:19<13:09,  4.20s/it]"
          ]
        },
        {
          "output_type": "stream",
          "name": "stdout",
          "text": [
            "Crawl data with product_id 485391\n"
          ]
        },
        {
          "output_type": "stream",
          "name": "stderr",
          "text": [
            "\r 91%|█████████ | 1813/2000 [1:56:22<12:17,  3.94s/it]"
          ]
        },
        {
          "output_type": "stream",
          "name": "stdout",
          "text": [
            "Crawl data with product_id 217696343\n"
          ]
        },
        {
          "output_type": "stream",
          "name": "stderr",
          "text": [
            "\r 91%|█████████ | 1814/2000 [1:56:26<12:34,  4.06s/it]"
          ]
        },
        {
          "output_type": "stream",
          "name": "stdout",
          "text": [
            "Crawl data with product_id 199042696\n"
          ]
        },
        {
          "output_type": "stream",
          "name": "stderr",
          "text": [
            "\r 91%|█████████ | 1815/2000 [1:56:30<11:49,  3.84s/it]"
          ]
        },
        {
          "output_type": "stream",
          "name": "stdout",
          "text": [
            "Crawl data with product_id 7565605\n"
          ]
        },
        {
          "output_type": "stream",
          "name": "stderr",
          "text": [
            "\r 91%|█████████ | 1816/2000 [1:56:34<12:13,  3.99s/it]"
          ]
        },
        {
          "output_type": "stream",
          "name": "stdout",
          "text": [
            "Crawl data with product_id 239182357\n"
          ]
        },
        {
          "output_type": "stream",
          "name": "stderr",
          "text": [
            "\r 91%|█████████ | 1817/2000 [1:56:39<12:30,  4.10s/it]"
          ]
        },
        {
          "output_type": "stream",
          "name": "stdout",
          "text": [
            "Crawl data with product_id 777277\n"
          ]
        },
        {
          "output_type": "stream",
          "name": "stderr",
          "text": [
            "\r 91%|█████████ | 1818/2000 [1:56:42<11:44,  3.87s/it]"
          ]
        },
        {
          "output_type": "stream",
          "name": "stdout",
          "text": [
            "Crawl data with product_id 87216701\n"
          ]
        },
        {
          "output_type": "stream",
          "name": "stderr",
          "text": [
            "\r 91%|█████████ | 1819/2000 [1:56:45<11:10,  3.71s/it]"
          ]
        },
        {
          "output_type": "stream",
          "name": "stdout",
          "text": [
            "Crawl data with product_id 197499213\n"
          ]
        },
        {
          "output_type": "stream",
          "name": "stderr",
          "text": [
            "\r 91%|█████████ | 1820/2000 [1:56:49<11:40,  3.89s/it]"
          ]
        },
        {
          "output_type": "stream",
          "name": "stdout",
          "text": [
            "Crawl data with product_id 211950324\n"
          ]
        },
        {
          "output_type": "stream",
          "name": "stderr",
          "text": [
            "\r 91%|█████████ | 1821/2000 [1:56:53<11:05,  3.72s/it]"
          ]
        },
        {
          "output_type": "stream",
          "name": "stdout",
          "text": [
            "Crawl data with product_id 94903602\n"
          ]
        },
        {
          "output_type": "stream",
          "name": "stderr",
          "text": [
            "\r 91%|█████████ | 1822/2000 [1:56:57<11:35,  3.91s/it]"
          ]
        },
        {
          "output_type": "stream",
          "name": "stdout",
          "text": [
            "Crawl data with product_id 248687329\n"
          ]
        },
        {
          "output_type": "stream",
          "name": "stderr",
          "text": [
            "\r 91%|█████████ | 1823/2000 [1:57:01<11:53,  4.03s/it]"
          ]
        },
        {
          "output_type": "stream",
          "name": "stdout",
          "text": [
            "Crawl data with product_id 222662283\n"
          ]
        },
        {
          "output_type": "stream",
          "name": "stderr",
          "text": [
            "\r 91%|█████████ | 1824/2000 [1:57:06<12:07,  4.13s/it]"
          ]
        },
        {
          "output_type": "stream",
          "name": "stdout",
          "text": [
            "Crawl data with product_id 251451486\n"
          ]
        },
        {
          "output_type": "stream",
          "name": "stderr",
          "text": [
            "\r 91%|█████████▏| 1825/2000 [1:57:10<12:16,  4.21s/it]"
          ]
        },
        {
          "output_type": "stream",
          "name": "stdout",
          "text": [
            "Crawl data with product_id 85623302\n"
          ]
        },
        {
          "output_type": "stream",
          "name": "stderr",
          "text": [
            "\r 91%|█████████▏| 1826/2000 [1:57:15<12:19,  4.25s/it]"
          ]
        },
        {
          "output_type": "stream",
          "name": "stdout",
          "text": [
            "Crawl data with product_id 167530446\n"
          ]
        },
        {
          "output_type": "stream",
          "name": "stderr",
          "text": [
            "\r 91%|█████████▏| 1827/2000 [1:57:18<11:26,  3.97s/it]"
          ]
        },
        {
          "output_type": "stream",
          "name": "stdout",
          "text": [
            "Crawl data with product_id 252858864\n"
          ]
        },
        {
          "output_type": "stream",
          "name": "stderr",
          "text": [
            "\r 91%|█████████▏| 1828/2000 [1:57:22<11:40,  4.08s/it]"
          ]
        },
        {
          "output_type": "stream",
          "name": "stdout",
          "text": [
            "Crawl data with product_id 181990931\n"
          ]
        },
        {
          "output_type": "stream",
          "name": "stderr",
          "text": [
            "\r 91%|█████████▏| 1829/2000 [1:57:26<10:58,  3.85s/it]"
          ]
        },
        {
          "output_type": "stream",
          "name": "stdout",
          "text": [
            "Crawl data with product_id 252799818\n"
          ]
        },
        {
          "output_type": "stream",
          "name": "stderr",
          "text": [
            "\r 92%|█████████▏| 1830/2000 [1:57:30<11:19,  3.99s/it]"
          ]
        },
        {
          "output_type": "stream",
          "name": "stdout",
          "text": [
            "Crawl data with product_id 191314603\n"
          ]
        },
        {
          "output_type": "stream",
          "name": "stderr",
          "text": [
            "\r 92%|█████████▏| 1831/2000 [1:57:33<10:42,  3.80s/it]"
          ]
        },
        {
          "output_type": "stream",
          "name": "stdout",
          "text": [
            "Crawl data with product_id 186085670\n"
          ]
        },
        {
          "output_type": "stream",
          "name": "stderr",
          "text": [
            "\r 92%|█████████▏| 1832/2000 [1:57:37<10:15,  3.66s/it]"
          ]
        },
        {
          "output_type": "stream",
          "name": "stdout",
          "text": [
            "Crawl data with product_id 36701734\n"
          ]
        },
        {
          "output_type": "stream",
          "name": "stderr",
          "text": [
            "\r 92%|█████████▏| 1833/2000 [1:57:40<10:07,  3.64s/it]"
          ]
        },
        {
          "output_type": "stream",
          "name": "stdout",
          "text": [
            "Crawl data with product_id 207699263\n"
          ]
        },
        {
          "output_type": "stream",
          "name": "stderr",
          "text": [
            "\r 92%|█████████▏| 1834/2000 [1:57:44<10:38,  3.84s/it]"
          ]
        },
        {
          "output_type": "stream",
          "name": "stdout",
          "text": [
            "Crawl data with product_id 344772\n"
          ]
        },
        {
          "output_type": "stream",
          "name": "stderr",
          "text": [
            "\r 92%|█████████▏| 1835/2000 [1:57:48<10:10,  3.70s/it]"
          ]
        },
        {
          "output_type": "stream",
          "name": "stdout",
          "text": [
            "Crawl data with product_id 199102781\n"
          ]
        },
        {
          "output_type": "stream",
          "name": "stderr",
          "text": [
            "\r 92%|█████████▏| 1836/2000 [1:57:52<10:37,  3.89s/it]"
          ]
        },
        {
          "output_type": "stream",
          "name": "stdout",
          "text": [
            "Crawl data with product_id 136227602\n"
          ]
        },
        {
          "output_type": "stream",
          "name": "stderr",
          "text": [
            "\r 92%|█████████▏| 1837/2000 [1:57:55<10:06,  3.72s/it]"
          ]
        },
        {
          "output_type": "stream",
          "name": "stdout",
          "text": [
            "Crawl data with product_id 202182078\n"
          ]
        },
        {
          "output_type": "stream",
          "name": "stderr",
          "text": [
            "\r 92%|█████████▏| 1838/2000 [1:58:00<10:33,  3.91s/it]"
          ]
        },
        {
          "output_type": "stream",
          "name": "stdout",
          "text": [
            "Crawl data with product_id 10324525\n"
          ]
        },
        {
          "output_type": "stream",
          "name": "stderr",
          "text": [
            "\r 92%|█████████▏| 1839/2000 [1:58:04<10:49,  4.04s/it]"
          ]
        },
        {
          "output_type": "stream",
          "name": "stdout",
          "text": [
            "Crawl data with product_id 1826677\n"
          ]
        },
        {
          "output_type": "stream",
          "name": "stderr",
          "text": [
            "\r 92%|█████████▏| 1840/2000 [1:58:08<11:00,  4.13s/it]"
          ]
        },
        {
          "output_type": "stream",
          "name": "stdout",
          "text": [
            "Crawl data with product_id 254188110\n"
          ]
        },
        {
          "output_type": "stream",
          "name": "stderr",
          "text": [
            "\r 92%|█████████▏| 1841/2000 [1:58:12<10:19,  3.90s/it]"
          ]
        },
        {
          "output_type": "stream",
          "name": "stdout",
          "text": [
            "Crawl data with product_id 58665387\n"
          ]
        },
        {
          "output_type": "stream",
          "name": "stderr",
          "text": [
            "\r 92%|█████████▏| 1842/2000 [1:58:15<09:49,  3.73s/it]"
          ]
        },
        {
          "output_type": "stream",
          "name": "stdout",
          "text": [
            "Crawl data with product_id 22647623\n"
          ]
        },
        {
          "output_type": "stream",
          "name": "stderr",
          "text": [
            "\r 92%|█████████▏| 1843/2000 [1:58:19<09:26,  3.61s/it]"
          ]
        },
        {
          "output_type": "stream",
          "name": "stdout",
          "text": [
            "Crawl data with product_id 220824750\n"
          ]
        },
        {
          "output_type": "stream",
          "name": "stderr",
          "text": [
            "\r 92%|█████████▏| 1844/2000 [1:58:22<09:09,  3.52s/it]"
          ]
        },
        {
          "output_type": "stream",
          "name": "stdout",
          "text": [
            "Crawl data with product_id 143144351\n"
          ]
        },
        {
          "output_type": "stream",
          "name": "stderr",
          "text": [
            "\r 92%|█████████▏| 1845/2000 [1:58:26<09:43,  3.77s/it]"
          ]
        },
        {
          "output_type": "stream",
          "name": "stdout",
          "text": [
            "Crawl data with product_id 190468930\n"
          ]
        },
        {
          "output_type": "stream",
          "name": "stderr",
          "text": [
            "\r 92%|█████████▏| 1846/2000 [1:58:31<10:07,  3.94s/it]"
          ]
        },
        {
          "output_type": "stream",
          "name": "stdout",
          "text": [
            "Crawl data with product_id 47603311\n"
          ]
        },
        {
          "output_type": "stream",
          "name": "stderr",
          "text": [
            "\r 92%|█████████▏| 1847/2000 [1:58:34<09:35,  3.76s/it]"
          ]
        },
        {
          "output_type": "stream",
          "name": "stdout",
          "text": [
            "Crawl data with product_id 186877004\n"
          ]
        },
        {
          "output_type": "stream",
          "name": "stderr",
          "text": [
            "\r 92%|█████████▏| 1848/2000 [1:58:37<09:13,  3.64s/it]"
          ]
        },
        {
          "output_type": "stream",
          "name": "stdout",
          "text": [
            "Crawl data with product_id 253089115\n"
          ]
        },
        {
          "output_type": "stream",
          "name": "stderr",
          "text": [
            "\r 92%|█████████▏| 1849/2000 [1:58:42<09:40,  3.84s/it]"
          ]
        },
        {
          "output_type": "stream",
          "name": "stdout",
          "text": [
            "Crawl data with product_id 9800964\n"
          ]
        },
        {
          "output_type": "stream",
          "name": "stderr",
          "text": [
            "\r 92%|█████████▎| 1850/2000 [1:58:45<09:14,  3.69s/it]"
          ]
        },
        {
          "output_type": "stream",
          "name": "stdout",
          "text": [
            "Crawl data with product_id 208069906\n"
          ]
        },
        {
          "output_type": "stream",
          "name": "stderr",
          "text": [
            "\r 93%|█████████▎| 1851/2000 [1:58:48<08:55,  3.59s/it]"
          ]
        },
        {
          "output_type": "stream",
          "name": "stdout",
          "text": [
            "Crawl data with product_id 241318525\n"
          ]
        },
        {
          "output_type": "stream",
          "name": "stderr",
          "text": [
            "\r 93%|█████████▎| 1852/2000 [1:58:53<09:23,  3.81s/it]"
          ]
        },
        {
          "output_type": "stream",
          "name": "stdout",
          "text": [
            "Crawl data with product_id 221274755\n"
          ]
        },
        {
          "output_type": "stream",
          "name": "stderr",
          "text": [
            "\r 93%|█████████▎| 1853/2000 [1:58:56<09:03,  3.69s/it]"
          ]
        },
        {
          "output_type": "stream",
          "name": "stdout",
          "text": [
            "Crawl data with product_id 254147078\n"
          ]
        },
        {
          "output_type": "stream",
          "name": "stderr",
          "text": [
            "\r 93%|█████████▎| 1854/2000 [1:58:59<08:45,  3.60s/it]"
          ]
        },
        {
          "output_type": "stream",
          "name": "stdout",
          "text": [
            "Crawl data with product_id 125497112\n"
          ]
        },
        {
          "output_type": "stream",
          "name": "stderr",
          "text": [
            "\r 93%|█████████▎| 1855/2000 [1:59:03<08:30,  3.52s/it]"
          ]
        },
        {
          "output_type": "stream",
          "name": "stdout",
          "text": [
            "Crawl data with product_id 7184573\n"
          ]
        },
        {
          "output_type": "stream",
          "name": "stderr",
          "text": [
            "\r 93%|█████████▎| 1856/2000 [1:59:07<09:04,  3.78s/it]"
          ]
        },
        {
          "output_type": "stream",
          "name": "stdout",
          "text": [
            "Crawl data with product_id 219155311\n"
          ]
        },
        {
          "output_type": "stream",
          "name": "stderr",
          "text": [
            "\r 93%|█████████▎| 1857/2000 [1:59:11<09:24,  3.95s/it]"
          ]
        },
        {
          "output_type": "stream",
          "name": "stdout",
          "text": [
            "Crawl data with product_id 242012337\n"
          ]
        },
        {
          "output_type": "stream",
          "name": "stderr",
          "text": [
            "\r 93%|█████████▎| 1858/2000 [1:59:15<08:55,  3.77s/it]"
          ]
        },
        {
          "output_type": "stream",
          "name": "stdout",
          "text": [
            "Crawl data with product_id 200941051\n"
          ]
        },
        {
          "output_type": "stream",
          "name": "stderr",
          "text": [
            "\r 93%|█████████▎| 1859/2000 [1:59:19<09:17,  3.95s/it]"
          ]
        },
        {
          "output_type": "stream",
          "name": "stdout",
          "text": [
            "Crawl data with product_id 127032860\n"
          ]
        },
        {
          "output_type": "stream",
          "name": "stderr",
          "text": [
            "\r 93%|█████████▎| 1860/2000 [1:59:23<09:28,  4.06s/it]"
          ]
        },
        {
          "output_type": "stream",
          "name": "stdout",
          "text": [
            "Crawl data with product_id 200851525\n"
          ]
        },
        {
          "output_type": "stream",
          "name": "stderr",
          "text": [
            "\r 93%|█████████▎| 1861/2000 [1:59:27<08:52,  3.83s/it]"
          ]
        },
        {
          "output_type": "stream",
          "name": "stdout",
          "text": [
            "Crawl data with product_id 242101791\n"
          ]
        },
        {
          "output_type": "stream",
          "name": "stderr",
          "text": [
            "\r 93%|█████████▎| 1862/2000 [1:59:30<08:26,  3.67s/it]"
          ]
        },
        {
          "output_type": "stream",
          "name": "stdout",
          "text": [
            "Crawl data with product_id 225324660\n"
          ]
        },
        {
          "output_type": "stream",
          "name": "stderr",
          "text": [
            "\r 93%|█████████▎| 1863/2000 [1:59:34<08:50,  3.87s/it]"
          ]
        },
        {
          "output_type": "stream",
          "name": "stdout",
          "text": [
            "Crawl data with product_id 200004319\n"
          ]
        },
        {
          "output_type": "stream",
          "name": "stderr",
          "text": [
            "\r 93%|█████████▎| 1864/2000 [1:59:38<08:24,  3.71s/it]"
          ]
        },
        {
          "output_type": "stream",
          "name": "stdout",
          "text": [
            "Crawl data with product_id 242034357\n"
          ]
        },
        {
          "output_type": "stream",
          "name": "stderr",
          "text": [
            "\r 93%|█████████▎| 1865/2000 [1:59:41<08:06,  3.60s/it]"
          ]
        },
        {
          "output_type": "stream",
          "name": "stdout",
          "text": [
            "Crawl data with product_id 16440463\n"
          ]
        },
        {
          "output_type": "stream",
          "name": "stderr",
          "text": [
            "\r 93%|█████████▎| 1866/2000 [1:59:44<07:51,  3.52s/it]"
          ]
        },
        {
          "output_type": "stream",
          "name": "stdout",
          "text": [
            "Crawl data with product_id 7164855\n"
          ]
        },
        {
          "output_type": "stream",
          "name": "stderr",
          "text": [
            "\r 93%|█████████▎| 1867/2000 [1:59:48<07:40,  3.46s/it]"
          ]
        },
        {
          "output_type": "stream",
          "name": "stdout",
          "text": [
            "Crawl data with product_id 340952\n"
          ]
        },
        {
          "output_type": "stream",
          "name": "stderr",
          "text": [
            "\r 93%|█████████▎| 1868/2000 [1:59:52<08:11,  3.72s/it]"
          ]
        },
        {
          "output_type": "stream",
          "name": "stdout",
          "text": [
            "Crawl data with product_id 195639906\n"
          ]
        },
        {
          "output_type": "stream",
          "name": "stderr",
          "text": [
            "\r 93%|█████████▎| 1869/2000 [1:59:56<08:31,  3.90s/it]"
          ]
        },
        {
          "output_type": "stream",
          "name": "stdout",
          "text": [
            "Crawl data with product_id 216933882\n"
          ]
        },
        {
          "output_type": "stream",
          "name": "stderr",
          "text": [
            "\r 94%|█████████▎| 1870/2000 [2:00:00<08:05,  3.73s/it]"
          ]
        },
        {
          "output_type": "stream",
          "name": "stdout",
          "text": [
            "Crawl data with product_id 81237380\n"
          ]
        },
        {
          "output_type": "stream",
          "name": "stderr",
          "text": [
            "\r 94%|█████████▎| 1871/2000 [2:00:04<08:23,  3.90s/it]"
          ]
        },
        {
          "output_type": "stream",
          "name": "stdout",
          "text": [
            "Crawl data with product_id 1508585\n"
          ]
        },
        {
          "output_type": "stream",
          "name": "stderr",
          "text": [
            "\r 94%|█████████▎| 1872/2000 [2:00:08<08:35,  4.03s/it]"
          ]
        },
        {
          "output_type": "stream",
          "name": "stdout",
          "text": [
            "Crawl data with product_id 251930476\n"
          ]
        },
        {
          "output_type": "stream",
          "name": "stderr",
          "text": [
            "\r 94%|█████████▎| 1873/2000 [2:00:12<08:06,  3.83s/it]"
          ]
        },
        {
          "output_type": "stream",
          "name": "stdout",
          "text": [
            "Crawl data with product_id 194752132\n"
          ]
        },
        {
          "output_type": "stream",
          "name": "stderr",
          "text": [
            "\r 94%|█████████▎| 1874/2000 [2:00:15<07:43,  3.68s/it]"
          ]
        },
        {
          "output_type": "stream",
          "name": "stdout",
          "text": [
            "Crawl data with product_id 213588027\n"
          ]
        },
        {
          "output_type": "stream",
          "name": "stderr",
          "text": [
            "\r 94%|█████████▍| 1875/2000 [2:00:18<07:26,  3.57s/it]"
          ]
        },
        {
          "output_type": "stream",
          "name": "stdout",
          "text": [
            "Crawl data with product_id 87391047\n"
          ]
        },
        {
          "output_type": "stream",
          "name": "stderr",
          "text": [
            "\r 94%|█████████▍| 1876/2000 [2:00:23<07:50,  3.79s/it]"
          ]
        },
        {
          "output_type": "stream",
          "name": "stdout",
          "text": [
            "Crawl data with product_id 199839965\n"
          ]
        },
        {
          "output_type": "stream",
          "name": "stderr",
          "text": [
            "\r 94%|█████████▍| 1877/2000 [2:00:27<08:06,  3.96s/it]"
          ]
        },
        {
          "output_type": "stream",
          "name": "stdout",
          "text": [
            "Crawl data with product_id 176127768\n"
          ]
        },
        {
          "output_type": "stream",
          "name": "stderr",
          "text": [
            "\r 94%|█████████▍| 1878/2000 [2:00:31<08:17,  4.08s/it]"
          ]
        },
        {
          "output_type": "stream",
          "name": "stdout",
          "text": [
            "Crawl data with product_id 251957414\n"
          ]
        },
        {
          "output_type": "stream",
          "name": "stderr",
          "text": [
            "\r 94%|█████████▍| 1879/2000 [2:00:36<08:25,  4.18s/it]"
          ]
        },
        {
          "output_type": "stream",
          "name": "stdout",
          "text": [
            "Crawl data with product_id 205184872\n"
          ]
        },
        {
          "output_type": "stream",
          "name": "stderr",
          "text": [
            "\r 94%|█████████▍| 1880/2000 [2:00:40<08:27,  4.23s/it]"
          ]
        },
        {
          "output_type": "stream",
          "name": "stdout",
          "text": [
            "Crawl data with product_id 76105914\n"
          ]
        },
        {
          "output_type": "stream",
          "name": "stderr",
          "text": [
            "\r 94%|█████████▍| 1881/2000 [2:00:45<08:29,  4.28s/it]"
          ]
        },
        {
          "output_type": "stream",
          "name": "stdout",
          "text": [
            "Crawl data with product_id 33492445\n"
          ]
        },
        {
          "output_type": "stream",
          "name": "stderr",
          "text": [
            "\r 94%|█████████▍| 1882/2000 [2:00:48<07:52,  4.01s/it]"
          ]
        },
        {
          "output_type": "stream",
          "name": "stdout",
          "text": [
            "Crawl data with product_id 184878656\n"
          ]
        },
        {
          "output_type": "stream",
          "name": "stderr",
          "text": [
            "\r 94%|█████████▍| 1883/2000 [2:00:51<07:25,  3.80s/it]"
          ]
        },
        {
          "output_type": "stream",
          "name": "stdout",
          "text": [
            "Crawl data with product_id 207400021\n"
          ]
        },
        {
          "output_type": "stream",
          "name": "stderr",
          "text": [
            "\r 94%|█████████▍| 1884/2000 [2:00:55<07:03,  3.65s/it]"
          ]
        },
        {
          "output_type": "stream",
          "name": "stdout",
          "text": [
            "Crawl data with product_id 1314617\n"
          ]
        },
        {
          "output_type": "stream",
          "name": "stderr",
          "text": [
            "\r 94%|█████████▍| 1885/2000 [2:00:59<07:24,  3.86s/it]"
          ]
        },
        {
          "output_type": "stream",
          "name": "stdout",
          "text": [
            "Crawl data with product_id 196544415\n"
          ]
        },
        {
          "output_type": "stream",
          "name": "stderr",
          "text": [
            "\r 94%|█████████▍| 1886/2000 [2:01:03<07:36,  4.00s/it]"
          ]
        },
        {
          "output_type": "stream",
          "name": "stdout",
          "text": [
            "Crawl data with product_id 196488195\n"
          ]
        },
        {
          "output_type": "stream",
          "name": "stderr",
          "text": [
            "\r 94%|█████████▍| 1887/2000 [2:01:07<07:09,  3.80s/it]"
          ]
        },
        {
          "output_type": "stream",
          "name": "stdout",
          "text": [
            "Crawl data with product_id 247858740\n"
          ]
        },
        {
          "output_type": "stream",
          "name": "stderr",
          "text": [
            "\r 94%|█████████▍| 1888/2000 [2:01:10<06:49,  3.66s/it]"
          ]
        },
        {
          "output_type": "stream",
          "name": "stdout",
          "text": [
            "Crawl data with product_id 193586391\n"
          ]
        },
        {
          "output_type": "stream",
          "name": "stderr",
          "text": [
            "\r 94%|█████████▍| 1889/2000 [2:01:14<07:07,  3.85s/it]"
          ]
        },
        {
          "output_type": "stream",
          "name": "stdout",
          "text": [
            "Crawl data with product_id 58268328\n"
          ]
        },
        {
          "output_type": "stream",
          "name": "stderr",
          "text": [
            "\r 94%|█████████▍| 1890/2000 [2:01:18<07:19,  3.99s/it]"
          ]
        },
        {
          "output_type": "stream",
          "name": "stdout",
          "text": [
            "Crawl data with product_id 190755666\n"
          ]
        },
        {
          "output_type": "stream",
          "name": "stderr",
          "text": [
            "\r 95%|█████████▍| 1891/2000 [2:01:23<07:26,  4.10s/it]"
          ]
        },
        {
          "output_type": "stream",
          "name": "stdout",
          "text": [
            "Crawl data with product_id 35174133\n"
          ]
        },
        {
          "output_type": "stream",
          "name": "stderr",
          "text": [
            "\r 95%|█████████▍| 1892/2000 [2:01:26<06:58,  3.87s/it]"
          ]
        },
        {
          "output_type": "stream",
          "name": "stdout",
          "text": [
            "Crawl data with product_id 96366402\n"
          ]
        },
        {
          "output_type": "stream",
          "name": "stderr",
          "text": [
            "\r 95%|█████████▍| 1893/2000 [2:01:31<07:09,  4.02s/it]"
          ]
        },
        {
          "output_type": "stream",
          "name": "stdout",
          "text": [
            "Crawl data with product_id 10593956\n"
          ]
        },
        {
          "output_type": "stream",
          "name": "stderr",
          "text": [
            "\r 95%|█████████▍| 1894/2000 [2:01:34<06:43,  3.81s/it]"
          ]
        },
        {
          "output_type": "stream",
          "name": "stdout",
          "text": [
            "Crawl data with product_id 198651510\n"
          ]
        },
        {
          "output_type": "stream",
          "name": "stderr",
          "text": [
            "\r 95%|█████████▍| 1895/2000 [2:01:37<06:24,  3.67s/it]"
          ]
        },
        {
          "output_type": "stream",
          "name": "stdout",
          "text": [
            "Crawl data with product_id 113527250\n"
          ]
        },
        {
          "output_type": "stream",
          "name": "stderr",
          "text": [
            "\r 95%|█████████▍| 1896/2000 [2:01:41<06:10,  3.56s/it]"
          ]
        },
        {
          "output_type": "stream",
          "name": "stdout",
          "text": [
            "Crawl data with product_id 243034866\n"
          ]
        },
        {
          "output_type": "stream",
          "name": "stderr",
          "text": [
            "\r 95%|█████████▍| 1897/2000 [2:01:44<06:01,  3.51s/it]"
          ]
        },
        {
          "output_type": "stream",
          "name": "stdout",
          "text": [
            "Crawl data with product_id 140640985\n"
          ]
        },
        {
          "output_type": "stream",
          "name": "stderr",
          "text": [
            "\r 95%|█████████▍| 1898/2000 [2:01:48<06:23,  3.76s/it]"
          ]
        },
        {
          "output_type": "stream",
          "name": "stdout",
          "text": [
            "Crawl data with product_id 160371995\n"
          ]
        },
        {
          "output_type": "stream",
          "name": "stderr",
          "text": [
            "\r 95%|█████████▍| 1899/2000 [2:01:53<06:37,  3.93s/it]"
          ]
        },
        {
          "output_type": "stream",
          "name": "stdout",
          "text": [
            "Crawl data with product_id 247880154\n"
          ]
        },
        {
          "output_type": "stream",
          "name": "stderr",
          "text": [
            "\r 95%|█████████▌| 1900/2000 [2:01:57<06:46,  4.07s/it]"
          ]
        },
        {
          "output_type": "stream",
          "name": "stdout",
          "text": [
            "Crawl data with product_id 84591601\n"
          ]
        },
        {
          "output_type": "stream",
          "name": "stderr",
          "text": [
            "\r 95%|█████████▌| 1901/2000 [2:02:01<06:50,  4.15s/it]"
          ]
        },
        {
          "output_type": "stream",
          "name": "stdout",
          "text": [
            "Crawl data with product_id 192708076\n"
          ]
        },
        {
          "output_type": "stream",
          "name": "stderr",
          "text": [
            "\r 95%|█████████▌| 1902/2000 [2:02:06<06:51,  4.20s/it]"
          ]
        },
        {
          "output_type": "stream",
          "name": "stdout",
          "text": [
            "Crawl data with product_id 22039781\n"
          ]
        },
        {
          "output_type": "stream",
          "name": "stderr",
          "text": [
            "\r 95%|█████████▌| 1903/2000 [2:02:10<06:51,  4.24s/it]"
          ]
        },
        {
          "output_type": "stream",
          "name": "stdout",
          "text": [
            "Crawl data with product_id 149781063\n"
          ]
        },
        {
          "output_type": "stream",
          "name": "stderr",
          "text": [
            "\r 95%|█████████▌| 1904/2000 [2:02:14<06:49,  4.26s/it]"
          ]
        },
        {
          "output_type": "stream",
          "name": "stdout",
          "text": [
            "Crawl data with product_id 892681\n"
          ]
        },
        {
          "output_type": "stream",
          "name": "stderr",
          "text": [
            "\r 95%|█████████▌| 1905/2000 [2:02:19<06:46,  4.28s/it]"
          ]
        },
        {
          "output_type": "stream",
          "name": "stdout",
          "text": [
            "Crawl data with product_id 202215286\n"
          ]
        },
        {
          "output_type": "stream",
          "name": "stderr",
          "text": [
            "\r 95%|█████████▌| 1906/2000 [2:02:23<06:43,  4.29s/it]"
          ]
        },
        {
          "output_type": "stream",
          "name": "stdout",
          "text": [
            "Crawl data with product_id 55881500\n"
          ]
        },
        {
          "output_type": "stream",
          "name": "stderr",
          "text": [
            "\r 95%|█████████▌| 1907/2000 [2:02:27<06:39,  4.30s/it]"
          ]
        },
        {
          "output_type": "stream",
          "name": "stdout",
          "text": [
            "Crawl data with product_id 450031\n"
          ]
        },
        {
          "output_type": "stream",
          "name": "stderr",
          "text": [
            "\r 95%|█████████▌| 1908/2000 [2:02:31<06:08,  4.00s/it]"
          ]
        },
        {
          "output_type": "stream",
          "name": "stdout",
          "text": [
            "Crawl data with product_id 26139486\n"
          ]
        },
        {
          "output_type": "stream",
          "name": "stderr",
          "text": [
            "\r 95%|█████████▌| 1909/2000 [2:02:35<06:13,  4.10s/it]"
          ]
        },
        {
          "output_type": "stream",
          "name": "stdout",
          "text": [
            "Crawl data with product_id 97821656\n"
          ]
        },
        {
          "output_type": "stream",
          "name": "stderr",
          "text": [
            "\r 96%|█████████▌| 1910/2000 [2:02:38<05:48,  3.87s/it]"
          ]
        },
        {
          "output_type": "stream",
          "name": "stdout",
          "text": [
            "Crawl data with product_id 104786107\n"
          ]
        },
        {
          "output_type": "stream",
          "name": "stderr",
          "text": [
            "\r 96%|█████████▌| 1911/2000 [2:02:43<05:56,  4.01s/it]"
          ]
        },
        {
          "output_type": "stream",
          "name": "stdout",
          "text": [
            "Crawl data with product_id 247719149\n"
          ]
        },
        {
          "output_type": "stream",
          "name": "stderr",
          "text": [
            "\r 96%|█████████▌| 1912/2000 [2:02:47<06:01,  4.10s/it]"
          ]
        },
        {
          "output_type": "stream",
          "name": "stdout",
          "text": [
            "Crawl data with product_id 40933989\n"
          ]
        },
        {
          "output_type": "stream",
          "name": "stderr",
          "text": [
            "\r 96%|█████████▌| 1913/2000 [2:02:50<05:36,  3.87s/it]"
          ]
        },
        {
          "output_type": "stream",
          "name": "stdout",
          "text": [
            "Crawl data with product_id 23436051\n"
          ]
        },
        {
          "output_type": "stream",
          "name": "stderr",
          "text": [
            "\r 96%|█████████▌| 1914/2000 [2:02:53<05:17,  3.70s/it]"
          ]
        },
        {
          "output_type": "stream",
          "name": "stdout",
          "text": [
            "Crawl data with product_id 213568355\n"
          ]
        },
        {
          "output_type": "stream",
          "name": "stderr",
          "text": [
            "\r 96%|█████████▌| 1915/2000 [2:02:57<05:05,  3.60s/it]"
          ]
        },
        {
          "output_type": "stream",
          "name": "stdout",
          "text": [
            "Crawl data with product_id 114300559\n"
          ]
        },
        {
          "output_type": "stream",
          "name": "stderr",
          "text": [
            "\r 96%|█████████▌| 1916/2000 [2:03:01<05:20,  3.82s/it]"
          ]
        },
        {
          "output_type": "stream",
          "name": "stdout",
          "text": [
            "Crawl data with product_id 159482530\n"
          ]
        },
        {
          "output_type": "stream",
          "name": "stderr",
          "text": [
            "\r 96%|█████████▌| 1917/2000 [2:03:05<05:04,  3.67s/it]"
          ]
        },
        {
          "output_type": "stream",
          "name": "stdout",
          "text": [
            "Crawl data with product_id 252855120\n"
          ]
        },
        {
          "output_type": "stream",
          "name": "stderr",
          "text": [
            "\r 96%|█████████▌| 1918/2000 [2:03:09<05:17,  3.87s/it]"
          ]
        },
        {
          "output_type": "stream",
          "name": "stdout",
          "text": [
            "Crawl data with product_id 242265036\n"
          ]
        },
        {
          "output_type": "stream",
          "name": "stderr",
          "text": [
            "\r 96%|█████████▌| 1919/2000 [2:03:12<04:59,  3.70s/it]"
          ]
        },
        {
          "output_type": "stream",
          "name": "stdout",
          "text": [
            "Crawl data with product_id 597194\n"
          ]
        },
        {
          "output_type": "stream",
          "name": "stderr",
          "text": [
            "\r 96%|█████████▌| 1920/2000 [2:03:16<05:03,  3.79s/it]"
          ]
        },
        {
          "output_type": "stream",
          "name": "stdout",
          "text": [
            "Crawl data with product_id 71353279\n"
          ]
        },
        {
          "output_type": "stream",
          "name": "stderr",
          "text": [
            "\r 96%|█████████▌| 1921/2000 [2:03:19<04:48,  3.65s/it]"
          ]
        },
        {
          "output_type": "stream",
          "name": "stdout",
          "text": [
            "Crawl data with product_id 253366391\n"
          ]
        },
        {
          "output_type": "stream",
          "name": "stderr",
          "text": [
            "\r 96%|█████████▌| 1922/2000 [2:03:24<05:00,  3.86s/it]"
          ]
        },
        {
          "output_type": "stream",
          "name": "stdout",
          "text": [
            "Crawl data with product_id 230110133\n"
          ]
        },
        {
          "output_type": "stream",
          "name": "stderr",
          "text": [
            "\r 96%|█████████▌| 1923/2000 [2:03:28<05:07,  4.00s/it]"
          ]
        },
        {
          "output_type": "stream",
          "name": "stdout",
          "text": [
            "Crawl data with product_id 3037365\n"
          ]
        },
        {
          "output_type": "stream",
          "name": "stderr",
          "text": [
            "\r 96%|█████████▌| 1924/2000 [2:03:32<05:11,  4.09s/it]"
          ]
        },
        {
          "output_type": "stream",
          "name": "stdout",
          "text": [
            "Crawl data with product_id 242101865\n"
          ]
        },
        {
          "output_type": "stream",
          "name": "stderr",
          "text": [
            "\r 96%|█████████▋| 1925/2000 [2:03:37<05:11,  4.16s/it]"
          ]
        },
        {
          "output_type": "stream",
          "name": "stdout",
          "text": [
            "Crawl data with product_id 72225422\n"
          ]
        },
        {
          "output_type": "stream",
          "name": "stderr",
          "text": [
            "\r 96%|█████████▋| 1926/2000 [2:03:41<05:11,  4.21s/it]"
          ]
        },
        {
          "output_type": "stream",
          "name": "stdout",
          "text": [
            "Crawl data with product_id 173206660\n"
          ]
        },
        {
          "output_type": "stream",
          "name": "stderr",
          "text": [
            "\r 96%|█████████▋| 1927/2000 [2:03:44<04:47,  3.94s/it]"
          ]
        },
        {
          "output_type": "stream",
          "name": "stdout",
          "text": [
            "Crawl data with product_id 77222794\n"
          ]
        },
        {
          "output_type": "stream",
          "name": "stderr",
          "text": [
            "\r 96%|█████████▋| 1928/2000 [2:03:48<04:31,  3.77s/it]"
          ]
        },
        {
          "output_type": "stream",
          "name": "stdout",
          "text": [
            "Crawl data with product_id 204874725\n"
          ]
        },
        {
          "output_type": "stream",
          "name": "stderr",
          "text": [
            "\r 96%|█████████▋| 1929/2000 [2:03:52<04:39,  3.94s/it]"
          ]
        },
        {
          "output_type": "stream",
          "name": "stdout",
          "text": [
            "Crawl data with product_id 205894415\n"
          ]
        },
        {
          "output_type": "stream",
          "name": "stderr",
          "text": [
            "\r 96%|█████████▋| 1930/2000 [2:03:55<04:22,  3.76s/it]"
          ]
        },
        {
          "output_type": "stream",
          "name": "stdout",
          "text": [
            "Crawl data with product_id 217186309\n"
          ]
        },
        {
          "output_type": "stream",
          "name": "stderr",
          "text": [
            "\r 97%|█████████▋| 1931/2000 [2:03:59<04:09,  3.62s/it]"
          ]
        },
        {
          "output_type": "stream",
          "name": "stdout",
          "text": [
            "Crawl data with product_id 217103829\n"
          ]
        },
        {
          "output_type": "stream",
          "name": "stderr",
          "text": [
            "\r 97%|█████████▋| 1932/2000 [2:04:03<04:20,  3.83s/it]"
          ]
        },
        {
          "output_type": "stream",
          "name": "stdout",
          "text": [
            "Crawl data with product_id 200618721\n"
          ]
        },
        {
          "output_type": "stream",
          "name": "stderr",
          "text": [
            "\r 97%|█████████▋| 1933/2000 [2:04:06<04:07,  3.69s/it]"
          ]
        },
        {
          "output_type": "stream",
          "name": "stdout",
          "text": [
            "Crawl data with product_id 49502464\n"
          ]
        },
        {
          "output_type": "stream",
          "name": "stderr",
          "text": [
            "\r 97%|█████████▋| 1934/2000 [2:04:10<03:56,  3.58s/it]"
          ]
        },
        {
          "output_type": "stream",
          "name": "stdout",
          "text": [
            "Crawl data with product_id 248583364\n"
          ]
        },
        {
          "output_type": "stream",
          "name": "stderr",
          "text": [
            "\r 97%|█████████▋| 1935/2000 [2:04:13<03:51,  3.56s/it]"
          ]
        },
        {
          "output_type": "stream",
          "name": "stdout",
          "text": [
            "Crawl data with product_id 174240244\n"
          ]
        },
        {
          "output_type": "stream",
          "name": "stderr",
          "text": [
            "\r 97%|█████████▋| 1936/2000 [2:04:18<04:02,  3.80s/it]"
          ]
        },
        {
          "output_type": "stream",
          "name": "stdout",
          "text": [
            "Crawl data with product_id 98128120\n"
          ]
        },
        {
          "output_type": "stream",
          "name": "stderr",
          "text": [
            "\r 97%|█████████▋| 1937/2000 [2:04:22<04:09,  3.96s/it]"
          ]
        },
        {
          "output_type": "stream",
          "name": "stdout",
          "text": [
            "Crawl data with product_id 8042258\n"
          ]
        },
        {
          "output_type": "stream",
          "name": "stderr",
          "text": [
            "\r 97%|█████████▋| 1938/2000 [2:04:26<04:11,  4.06s/it]"
          ]
        },
        {
          "output_type": "stream",
          "name": "stdout",
          "text": [
            "Crawl data with product_id 174012989\n"
          ]
        },
        {
          "output_type": "stream",
          "name": "stderr",
          "text": [
            "\r 97%|█████████▋| 1939/2000 [2:04:30<03:54,  3.84s/it]"
          ]
        },
        {
          "output_type": "stream",
          "name": "stdout",
          "text": [
            "Crawl data with product_id 540444\n"
          ]
        },
        {
          "output_type": "stream",
          "name": "stderr",
          "text": [
            "\r 97%|█████████▋| 1940/2000 [2:04:34<03:59,  3.99s/it]"
          ]
        },
        {
          "output_type": "stream",
          "name": "stdout",
          "text": [
            "Crawl data with product_id 130776819\n"
          ]
        },
        {
          "output_type": "stream",
          "name": "stderr",
          "text": [
            "\r 97%|█████████▋| 1941/2000 [2:04:37<03:43,  3.78s/it]"
          ]
        },
        {
          "output_type": "stream",
          "name": "stdout",
          "text": [
            "Crawl data with product_id 188993745\n"
          ]
        },
        {
          "output_type": "stream",
          "name": "stderr",
          "text": [
            "\r 97%|█████████▋| 1942/2000 [2:04:42<03:48,  3.95s/it]"
          ]
        },
        {
          "output_type": "stream",
          "name": "stdout",
          "text": [
            "Crawl data with product_id 177242752\n"
          ]
        },
        {
          "output_type": "stream",
          "name": "stderr",
          "text": [
            "\r 97%|█████████▋| 1943/2000 [2:04:46<03:51,  4.06s/it]"
          ]
        },
        {
          "output_type": "stream",
          "name": "stdout",
          "text": [
            "Crawl data with product_id 248498447\n"
          ]
        },
        {
          "output_type": "stream",
          "name": "stderr",
          "text": [
            "\r 97%|█████████▋| 1944/2000 [2:04:50<03:52,  4.15s/it]"
          ]
        },
        {
          "output_type": "stream",
          "name": "stdout",
          "text": [
            "Crawl data with product_id 217351146\n"
          ]
        },
        {
          "output_type": "stream",
          "name": "stderr",
          "text": [
            "\r 97%|█████████▋| 1945/2000 [2:04:54<03:35,  3.92s/it]"
          ]
        },
        {
          "output_type": "stream",
          "name": "stdout",
          "text": [
            "Crawl data with product_id 184650965\n"
          ]
        },
        {
          "output_type": "stream",
          "name": "stderr",
          "text": [
            "\r 97%|█████████▋| 1946/2000 [2:04:58<03:38,  4.04s/it]"
          ]
        },
        {
          "output_type": "stream",
          "name": "stdout",
          "text": [
            "Crawl data with product_id 54917312\n"
          ]
        },
        {
          "output_type": "stream",
          "name": "stderr",
          "text": [
            "\r 97%|█████████▋| 1947/2000 [2:05:01<03:22,  3.82s/it]"
          ]
        },
        {
          "output_type": "stream",
          "name": "stdout",
          "text": [
            "Crawl data with product_id 21357900\n"
          ]
        },
        {
          "output_type": "stream",
          "name": "stderr",
          "text": [
            "\r 97%|█████████▋| 1948/2000 [2:05:06<03:26,  3.97s/it]"
          ]
        },
        {
          "output_type": "stream",
          "name": "stdout",
          "text": [
            "Crawl data with product_id 171581193\n"
          ]
        },
        {
          "output_type": "stream",
          "name": "stderr",
          "text": [
            "\r 97%|█████████▋| 1949/2000 [2:05:09<03:12,  3.77s/it]"
          ]
        },
        {
          "output_type": "stream",
          "name": "stdout",
          "text": [
            "Crawl data with product_id 404185\n"
          ]
        },
        {
          "output_type": "stream",
          "name": "stderr",
          "text": [
            "\r 98%|█████████▊| 1950/2000 [2:05:12<03:01,  3.63s/it]"
          ]
        },
        {
          "output_type": "stream",
          "name": "stdout",
          "text": [
            "Crawl data with product_id 72935828\n"
          ]
        },
        {
          "output_type": "stream",
          "name": "stderr",
          "text": [
            "\r 98%|█████████▊| 1951/2000 [2:05:16<02:53,  3.55s/it]"
          ]
        },
        {
          "output_type": "stream",
          "name": "stdout",
          "text": [
            "Crawl data with product_id 76601020\n"
          ]
        },
        {
          "output_type": "stream",
          "name": "stderr",
          "text": [
            "\r 98%|█████████▊| 1952/2000 [2:05:20<03:01,  3.79s/it]"
          ]
        },
        {
          "output_type": "stream",
          "name": "stdout",
          "text": [
            "Crawl data with product_id 207914888\n"
          ]
        },
        {
          "output_type": "stream",
          "name": "stderr",
          "text": [
            "\r 98%|█████████▊| 1953/2000 [2:05:23<02:51,  3.65s/it]"
          ]
        },
        {
          "output_type": "stream",
          "name": "stdout",
          "text": [
            "Crawl data with product_id 58932531\n"
          ]
        },
        {
          "output_type": "stream",
          "name": "stderr",
          "text": [
            "\r 98%|█████████▊| 1954/2000 [2:05:27<02:43,  3.56s/it]"
          ]
        },
        {
          "output_type": "stream",
          "name": "stdout",
          "text": [
            "Crawl data with product_id 51696842\n"
          ]
        },
        {
          "output_type": "stream",
          "name": "stderr",
          "text": [
            "\r 98%|█████████▊| 1955/2000 [2:05:31<02:51,  3.81s/it]"
          ]
        },
        {
          "output_type": "stream",
          "name": "stdout",
          "text": [
            "Crawl data with product_id 252872742\n"
          ]
        },
        {
          "output_type": "stream",
          "name": "stderr",
          "text": [
            "\r 98%|█████████▊| 1956/2000 [2:05:34<02:41,  3.67s/it]"
          ]
        },
        {
          "output_type": "stream",
          "name": "stdout",
          "text": [
            "Crawl data with product_id 249399477\n"
          ]
        },
        {
          "output_type": "stream",
          "name": "stderr",
          "text": [
            "\r 98%|█████████▊| 1957/2000 [2:05:38<02:33,  3.56s/it]"
          ]
        },
        {
          "output_type": "stream",
          "name": "stdout",
          "text": [
            "Crawl data with product_id 84872706\n"
          ]
        },
        {
          "output_type": "stream",
          "name": "stderr",
          "text": [
            "\r 98%|█████████▊| 1958/2000 [2:05:41<02:26,  3.49s/it]"
          ]
        },
        {
          "output_type": "stream",
          "name": "stdout",
          "text": [
            "Crawl data with product_id 201567388\n"
          ]
        },
        {
          "output_type": "stream",
          "name": "stderr",
          "text": [
            "\r 98%|█████████▊| 1959/2000 [2:05:44<02:20,  3.44s/it]"
          ]
        },
        {
          "output_type": "stream",
          "name": "stdout",
          "text": [
            "Crawl data with product_id 200673125\n"
          ]
        },
        {
          "output_type": "stream",
          "name": "stderr",
          "text": [
            "\r 98%|█████████▊| 1960/2000 [2:05:48<02:16,  3.41s/it]"
          ]
        },
        {
          "output_type": "stream",
          "name": "stdout",
          "text": [
            "Crawl data with product_id 102766399\n"
          ]
        },
        {
          "output_type": "stream",
          "name": "stderr",
          "text": [
            "\r 98%|█████████▊| 1961/2000 [2:05:52<02:23,  3.68s/it]"
          ]
        },
        {
          "output_type": "stream",
          "name": "stdout",
          "text": [
            "Crawl data with product_id 251985082\n"
          ]
        },
        {
          "output_type": "stream",
          "name": "stderr",
          "text": [
            "\r 98%|█████████▊| 1962/2000 [2:05:55<02:16,  3.58s/it]"
          ]
        },
        {
          "output_type": "stream",
          "name": "stdout",
          "text": [
            "Crawl data with product_id 77627257\n"
          ]
        },
        {
          "output_type": "stream",
          "name": "stderr",
          "text": [
            "\r 98%|█████████▊| 1963/2000 [2:06:00<02:20,  3.80s/it]"
          ]
        },
        {
          "output_type": "stream",
          "name": "stdout",
          "text": [
            "Crawl data with product_id 22652455\n"
          ]
        },
        {
          "output_type": "stream",
          "name": "stderr",
          "text": [
            "\r 98%|█████████▊| 1964/2000 [2:06:04<02:22,  3.96s/it]"
          ]
        },
        {
          "output_type": "stream",
          "name": "stdout",
          "text": [
            "Crawl data with product_id 87833261\n"
          ]
        },
        {
          "output_type": "stream",
          "name": "stderr",
          "text": [
            "\r 98%|█████████▊| 1965/2000 [2:06:07<02:11,  3.77s/it]"
          ]
        },
        {
          "output_type": "stream",
          "name": "stdout",
          "text": [
            "Crawl data with product_id 77627096\n"
          ]
        },
        {
          "output_type": "stream",
          "name": "stderr",
          "text": [
            "\r 98%|█████████▊| 1966/2000 [2:06:12<02:13,  3.93s/it]"
          ]
        },
        {
          "output_type": "stream",
          "name": "stdout",
          "text": [
            "Crawl data with product_id 491479\n"
          ]
        },
        {
          "output_type": "stream",
          "name": "stderr",
          "text": [
            "\r 98%|█████████▊| 1967/2000 [2:06:15<02:03,  3.75s/it]"
          ]
        },
        {
          "output_type": "stream",
          "name": "stdout",
          "text": [
            "Crawl data with product_id 32535358\n"
          ]
        },
        {
          "output_type": "stream",
          "name": "stderr",
          "text": [
            "\r 98%|█████████▊| 1968/2000 [2:06:19<02:05,  3.92s/it]"
          ]
        },
        {
          "output_type": "stream",
          "name": "stdout",
          "text": [
            "Crawl data with product_id 32737035\n"
          ]
        },
        {
          "output_type": "stream",
          "name": "stderr",
          "text": [
            "\r 98%|█████████▊| 1969/2000 [2:06:23<02:05,  4.04s/it]"
          ]
        },
        {
          "output_type": "stream",
          "name": "stdout",
          "text": [
            "Crawl data with product_id 247289987\n"
          ]
        },
        {
          "output_type": "stream",
          "name": "stderr",
          "text": [
            "\r 98%|█████████▊| 1970/2000 [2:06:27<01:54,  3.82s/it]"
          ]
        },
        {
          "output_type": "stream",
          "name": "stdout",
          "text": [
            "Crawl data with product_id 201936428\n"
          ]
        },
        {
          "output_type": "stream",
          "name": "stderr",
          "text": [
            "\r 99%|█████████▊| 1971/2000 [2:06:31<01:55,  3.97s/it]"
          ]
        },
        {
          "output_type": "stream",
          "name": "stdout",
          "text": [
            "Crawl data with product_id 193896473\n"
          ]
        },
        {
          "output_type": "stream",
          "name": "stderr",
          "text": [
            "\r 99%|█████████▊| 1972/2000 [2:06:35<01:54,  4.09s/it]"
          ]
        },
        {
          "output_type": "stream",
          "name": "stdout",
          "text": [
            "Crawl data with product_id 191823494\n"
          ]
        },
        {
          "output_type": "stream",
          "name": "stderr",
          "text": [
            "\r 99%|█████████▊| 1973/2000 [2:06:39<01:49,  4.05s/it]"
          ]
        },
        {
          "output_type": "stream",
          "name": "stdout",
          "text": [
            "Crawl data with product_id 602692\n"
          ]
        },
        {
          "output_type": "stream",
          "name": "stderr",
          "text": [
            "\r 99%|█████████▊| 1974/2000 [2:06:43<01:39,  3.83s/it]"
          ]
        },
        {
          "output_type": "stream",
          "name": "stdout",
          "text": [
            "Crawl data with product_id 573933\n"
          ]
        },
        {
          "output_type": "stream",
          "name": "stderr",
          "text": [
            "\r 99%|█████████▉| 1975/2000 [2:06:46<01:31,  3.67s/it]"
          ]
        },
        {
          "output_type": "stream",
          "name": "stdout",
          "text": [
            "Crawl data with product_id 208913642\n"
          ]
        },
        {
          "output_type": "stream",
          "name": "stderr",
          "text": [
            "\r 99%|█████████▉| 1976/2000 [2:06:50<01:32,  3.87s/it]"
          ]
        },
        {
          "output_type": "stream",
          "name": "stdout",
          "text": [
            "Crawl data with product_id 215888416\n"
          ]
        },
        {
          "output_type": "stream",
          "name": "stderr",
          "text": [
            "\r 99%|█████████▉| 1977/2000 [2:06:55<01:32,  4.01s/it]"
          ]
        },
        {
          "output_type": "stream",
          "name": "stdout",
          "text": [
            "Crawl data with product_id 209864179\n"
          ]
        },
        {
          "output_type": "stream",
          "name": "stderr",
          "text": [
            "\r 99%|█████████▉| 1978/2000 [2:06:59<01:30,  4.11s/it]"
          ]
        },
        {
          "output_type": "stream",
          "name": "stdout",
          "text": [
            "Crawl data with product_id 99056402\n"
          ]
        },
        {
          "output_type": "stream",
          "name": "stderr",
          "text": [
            "\r 99%|█████████▉| 1979/2000 [2:07:03<01:27,  4.18s/it]"
          ]
        },
        {
          "output_type": "stream",
          "name": "stdout",
          "text": [
            "Crawl data with product_id 248908610\n"
          ]
        },
        {
          "output_type": "stream",
          "name": "stderr",
          "text": [
            "\r 99%|█████████▉| 1980/2000 [2:07:07<01:18,  3.92s/it]"
          ]
        },
        {
          "output_type": "stream",
          "name": "stdout",
          "text": [
            "Crawl data with product_id 173837569\n"
          ]
        },
        {
          "output_type": "stream",
          "name": "stderr",
          "text": [
            "\r 99%|█████████▉| 1981/2000 [2:07:10<01:11,  3.76s/it]"
          ]
        },
        {
          "output_type": "stream",
          "name": "stdout",
          "text": [
            "Crawl data with product_id 193533059\n"
          ]
        },
        {
          "output_type": "stream",
          "name": "stderr",
          "text": [
            "\r 99%|█████████▉| 1982/2000 [2:07:13<01:05,  3.64s/it]"
          ]
        },
        {
          "output_type": "stream",
          "name": "stdout",
          "text": [
            "Crawl data with product_id 101771784\n"
          ]
        },
        {
          "output_type": "stream",
          "name": "stderr",
          "text": [
            "\r 99%|█████████▉| 1983/2000 [2:07:17<01:00,  3.55s/it]"
          ]
        },
        {
          "output_type": "stream",
          "name": "stdout",
          "text": [
            "Crawl data with product_id 203477250\n"
          ]
        },
        {
          "output_type": "stream",
          "name": "stderr",
          "text": [
            "\r 99%|█████████▉| 1984/2000 [2:07:20<00:55,  3.48s/it]"
          ]
        },
        {
          "output_type": "stream",
          "name": "stdout",
          "text": [
            "Crawl data with product_id 210531011\n"
          ]
        },
        {
          "output_type": "stream",
          "name": "stderr",
          "text": [
            "\r 99%|█████████▉| 1985/2000 [2:07:23<00:51,  3.43s/it]"
          ]
        },
        {
          "output_type": "stream",
          "name": "stdout",
          "text": [
            "Crawl data with product_id 216114305\n"
          ]
        },
        {
          "output_type": "stream",
          "name": "stderr",
          "text": [
            "\r 99%|█████████▉| 1986/2000 [2:07:28<00:51,  3.70s/it]"
          ]
        },
        {
          "output_type": "stream",
          "name": "stdout",
          "text": [
            "Crawl data with product_id 1651921\n"
          ]
        },
        {
          "output_type": "stream",
          "name": "stderr",
          "text": [
            "\r 99%|█████████▉| 1987/2000 [2:07:31<00:46,  3.59s/it]"
          ]
        },
        {
          "output_type": "stream",
          "name": "stdout",
          "text": [
            "Crawl data with product_id 262043947\n"
          ]
        },
        {
          "output_type": "stream",
          "name": "stderr",
          "text": [
            "\r 99%|█████████▉| 1988/2000 [2:07:35<00:45,  3.81s/it]"
          ]
        },
        {
          "output_type": "stream",
          "name": "stdout",
          "text": [
            "Crawl data with product_id 249012204\n"
          ]
        },
        {
          "output_type": "stream",
          "name": "stderr",
          "text": [
            "\r 99%|█████████▉| 1989/2000 [2:07:40<00:43,  3.97s/it]"
          ]
        },
        {
          "output_type": "stream",
          "name": "stdout",
          "text": [
            "Crawl data with product_id 253367577\n"
          ]
        },
        {
          "output_type": "stream",
          "name": "stderr",
          "text": [
            "\r100%|█████████▉| 1990/2000 [2:07:44<00:40,  4.08s/it]"
          ]
        },
        {
          "output_type": "stream",
          "name": "stdout",
          "text": [
            "Crawl data with product_id 84454873\n"
          ]
        },
        {
          "output_type": "stream",
          "name": "stderr",
          "text": [
            "\r100%|█████████▉| 1991/2000 [2:07:47<00:34,  3.85s/it]"
          ]
        },
        {
          "output_type": "stream",
          "name": "stdout",
          "text": [
            "Crawl data with product_id 173609618\n"
          ]
        },
        {
          "output_type": "stream",
          "name": "stderr",
          "text": [
            "\r100%|█████████▉| 1992/2000 [2:07:51<00:29,  3.69s/it]"
          ]
        },
        {
          "output_type": "stream",
          "name": "stdout",
          "text": [
            "Crawl data with product_id 191655870\n"
          ]
        },
        {
          "output_type": "stream",
          "name": "stderr",
          "text": [
            "\r100%|█████████▉| 1993/2000 [2:07:55<00:27,  3.88s/it]"
          ]
        },
        {
          "output_type": "stream",
          "name": "stdout",
          "text": [
            "Crawl data with product_id 217340408\n"
          ]
        },
        {
          "output_type": "stream",
          "name": "stderr",
          "text": [
            "\r100%|█████████▉| 1994/2000 [2:07:59<00:24,  4.03s/it]"
          ]
        },
        {
          "output_type": "stream",
          "name": "stdout",
          "text": [
            "Crawl data with product_id 44017501\n"
          ]
        },
        {
          "output_type": "stream",
          "name": "stderr",
          "text": [
            "\r100%|█████████▉| 1995/2000 [2:08:03<00:19,  3.82s/it]"
          ]
        },
        {
          "output_type": "stream",
          "name": "stdout",
          "text": [
            "Crawl data with product_id 205218124\n"
          ]
        },
        {
          "output_type": "stream",
          "name": "stderr",
          "text": [
            "\r100%|█████████▉| 1996/2000 [2:08:07<00:15,  3.97s/it]"
          ]
        },
        {
          "output_type": "stream",
          "name": "stdout",
          "text": [
            "Crawl data with product_id 212324229\n"
          ]
        },
        {
          "output_type": "stream",
          "name": "stderr",
          "text": [
            "\r100%|█████████▉| 1997/2000 [2:08:11<00:12,  4.07s/it]"
          ]
        },
        {
          "output_type": "stream",
          "name": "stdout",
          "text": [
            "Crawl data with product_id 213794737\n"
          ]
        },
        {
          "output_type": "stream",
          "name": "stderr",
          "text": [
            "\r100%|█████████▉| 1998/2000 [2:08:15<00:07,  3.85s/it]"
          ]
        },
        {
          "output_type": "stream",
          "name": "stdout",
          "text": [
            "Crawl data with product_id 127250552\n"
          ]
        },
        {
          "output_type": "stream",
          "name": "stderr",
          "text": [
            "\r100%|█████████▉| 1999/2000 [2:08:18<00:03,  3.71s/it]"
          ]
        },
        {
          "output_type": "stream",
          "name": "stdout",
          "text": [
            "Crawl data with product_id 215727474\n"
          ]
        },
        {
          "output_type": "stream",
          "name": "stderr",
          "text": [
            "100%|██████████| 2000/2000 [2:08:22<00:00,  3.85s/it]\n"
          ]
        }
      ]
    },
    {
      "cell_type": "code",
      "source": [
        "df_product['product_type'].value_counts()"
      ],
      "metadata": {
        "colab": {
          "base_uri": "https://localhost:8080/"
        },
        "id": "bY_6HfEvrvNf",
        "outputId": "7d5c9e60-8d76-4a1c-84b2-7ec07a247635"
      },
      "execution_count": null,
      "outputs": [
        {
          "output_type": "execute_result",
          "data": {
            "text/plain": [
              "simple          1983\n",
              "configurable      17\n",
              "Name: product_type, dtype: int64"
            ]
          },
          "metadata": {},
          "execution_count": 40
        }
      ]
    },
    {
      "cell_type": "markdown",
      "source": [
        "# Take comment product data"
      ],
      "metadata": {
        "id": "168lpnVNUK4F"
      }
    },
    {
      "cell_type": "code",
      "source": [
        "headers = {\n",
        "    'User-Agent': 'Mozilla/5.0 (Windows NT 10.0; Win64; x64) AppleWebKit/537.36 (KHTML, like Gecko) Chrome/114.0.0.0 Safari/537.36 Edg/114.0.1823.43',\n",
        "    'Accept': 'application/json, text/plain, */*',\n",
        "    'Accept-Language': 'en-US,en;q=0.9',\n",
        "    'Referer': 'https://tiki.vn/nhung-tu-nhan-cua-dia-ly-p73787185.html?itm_campaign=CTP_YPD_TKA_PLA_UNK_ALL_UNK_UNK_UNK_UNK_X.124269_Y.1222467_Z.2137272_CN.Nhung-Tu-Nhan-Cua-%C4%90ia-Ly&itm_medium=CPC&itm_source=tiki-ads&spid=74220460',\n",
        "    'x-guest-token': 'CDtngIjEHO9wkPSdZVicmvoLpq4eTN7F',\n",
        "    'Connection': 'keep-alive',\n",
        "    'TE': 'Trailers',\n",
        "}\n",
        "\n",
        "params = {\n",
        "    'limit': '5',\n",
        "    'include': 'comments,contribute_info,attribute_vote_summary',\n",
        "    'sort': 'score|desc,id|desc,stars|all',\n",
        "    'page': '1',\n",
        "    'spid': '74220460',\n",
        "    'product_id': '73787185',\n",
        "    'seller_id': '26874'\n",
        "}"
      ],
      "metadata": {
        "id": "ePRye7FOSsMT"
      },
      "execution_count": null,
      "outputs": []
    },
    {
      "cell_type": "code",
      "source": [
        "def parse_comment_product(json):\n",
        "    data = dict()\n",
        "    data['id'] = json.get(id)\n",
        "    data['title'] = json.get('title')\n",
        "    data['content'] = json.get('content')\n",
        "    data['thank_count'] = json.get('thank_count')\n",
        "    data['customer_id']  = json.get('customer_id')\n",
        "    data['product_id']  = json.get('product_id')\n",
        "    data['rating'] = json.get('rating')\n",
        "    data['created_at'] = json.get('created_at')\n",
        "    data['customer_name'] = json.get('created_by')['name']\n",
        "    data['purchased_at'] = json.get('created_by')['purchased_at']\n",
        "    data['delivery_date'] = json.get('timeline')['delivery_date']\n",
        "    data['review_created_date'] = json.get('timeline')['review_created_date']\n",
        "    data['is_photo'] = json.get('is_photo')\n",
        "    return data"
      ],
      "metadata": {
        "id": "LxNiorITppkM"
      },
      "execution_count": null,
      "outputs": []
    },
    {
      "cell_type": "code",
      "source": [
        "list_pid = df['id'].to_list()\n",
        "comment_product = []\n",
        "for p_id in tqdm(list_pid, total = len(list_pid)):\n",
        "    params['product_id'] = p_id\n",
        "    print('Crawl comment for product {}'.format(p_id))\n",
        "    i = 0\n",
        "    while True:\n",
        "        params['page'] = i\n",
        "        response = requests.get('https://tiki.vn/api/v2/reviews', headers=headers, params=params, cookies=cookies)\n",
        "        if response.status_code == 200:\n",
        "            print('Crawl comment page {}'.format(i))\n",
        "            for comment in response.json().get('data'):\n",
        "                comment_product.append(parse_comment_product(comment))\n",
        "        elif response.status_code >= 400:\n",
        "            break\n",
        "        i += 1\n",
        "        time.sleep(random.randrange(3, 5))\n",
        "\n",
        "df_comment = pd.DataFrame(comment_product)\n",
        "df_comment.to_csv('comment_product_data_tiki.csv', index=False)"
      ],
      "metadata": {
        "id": "rNgaj0B3pnz4"
      },
      "execution_count": null,
      "outputs": []
    },
    {
      "cell_type": "markdown",
      "source": [
        "# Take all comment data from specific product"
      ],
      "metadata": {
        "id": "PAZ-txYg829P"
      }
    },
    {
      "cell_type": "code",
      "source": [
        "cookies = {\n",
        "    'TIKI_GUEST_TOKEN': '92ab101f-ce6b-23b0-8985-82fc8ecc43e9',\n",
        "    'TOKENS': '{%22access_token%22:%22CDtngIjEHO9wkPSdZVicmvoLpq4eTN7F%22}',\n",
        "    'delivery_zone': 'Vk4wMzkwMDYwMDE= ',\n",
        "    '_gid': 'GA1.2.1538172037.1686981394',\n",
        "    'tiki_client_id': '1634355494.1686981394',\n",
        "    '_gcl_au': '1.1.1078875446.1686981434',\n",
        "    '_hjSessionUser_522327': 'eyJpZCI6IjNmZjg1NWQ0LTFhMjYtNWFlZS1hMTk5LTYzZTk1M2M2OWEwZSIsImNyZWF0ZWQiOjE2Nzg1Mzg0ODgwNTksImV4aXN0aW5nIjp0cnVlfQ==',\n",
        "    '__uidac': '484ad2540e4996ff9a668885198c8b7d',\n",
        "    '__iid': '749',\n",
        "    '__iid': '749',\n",
        "    '__su': '0',\n",
        "    '__su': '0',\n",
        "    '_hjSession_522327': 'eyJpZCI6IjQzZDk4ZDZkLWM4NzYtNDFkOC1iNjIwLTAwMjc3M2ViYzE1OCIsImNyZWF0ZWQiOjE2ODcwMjg1MzY3NTUsImluU2FtcGxlIjpmYWxzZX0=',\n",
        "    '_hjAbsoluteSessionInProgress': '0',\n",
        "    'TIKI_RECOMMENDATION': '3dee37885d9ce0baa553e8946f887771',\n",
        "    'TKSESSID': '143776d84cdbb8d3a6c7238419c4c9dd',\n",
        "    'amp_99d374': '_90Wq28kHCLmjvSvgy_E8a...1h35fdpb6.1h35fdqll.o.1f.27',\n",
        "    '_ga': 'GA1.1.1634355494.1686981394',\n",
        "    '_hjIncludedInSessionSample_522327': '0',\n",
        "    'cto_bundle': 'y3KALV9QNnVvSkVDNnhRQ29xcXpKQ2wyMk5rSnpvUTRQRnEyTVRJTGklMkZHSWJZMzZyODBxMWkzUHgyekxBR2x6Rm5HOXlzYUdxeFAlMkJwWjdaUVNPS1JNMWRST2QxSlZxbDAlMkJCN1JOcmRxV0cxR3BYclMyRDFIYnExTE5DJTJGZXVKbFdCdVVt',\n",
        "    '_ga_GSD4ETCY1D': 'GS1.1.1687032364.5.0.1687032538.60.0.0'\n",
        "}\n",
        "\n",
        "headers = {\n",
        "    'User-Agent': 'Mozilla/5.0 (Windows NT 10.0; Win64; x64) AppleWebKit/537.36 (KHTML, like Gecko) Chrome/114.0.0.0 Safari/537.36 Edg/114.0.1823.43',\n",
        "    'Accept': 'application/json, text/plain, */*',\n",
        "    'Accept-Language': 'en-US,en;q=0.9',\n",
        "    'Referer': 'https://tiki.vn/cay-cam-ngot-cua-toi-p74021317.html?itm_campaign=tiki-reco_UNK_DT_UNK_UNK_tiki-listing_UNK_p-category-mpid-listing-v1_202306180600_MD_batched_PID.74021318&itm_medium=CPC&itm_source=tiki-reco&spid=74021318&fbclid=IwAR12WxXMJ20umthjRT0bEq9YuVn7pSkySnxD9UbCdzye-Y3_EUXE5qWU6b8',\n",
        "    'x-guest-token': 'CDtngIjEHO9wkPSdZVicmvoLpq4eTN7F',\n",
        "    'Connection': 'keep-alive',\n",
        "    'TE': 'Trailers',\n",
        "}\n",
        "\n",
        "params = {\n",
        "    'limit': '5',\n",
        "    'include': 'comments,contribute_info,attribute_vote_summary',\n",
        "    'sort': 'score|desc,id|desc,stars|all',\n",
        "    'page': '1',\n",
        "    'spid': '74021318',\n",
        "    'product_id': '74021317',\n",
        "    'seller_id': '1'\n",
        "}"
      ],
      "metadata": {
        "id": "CXflN_qiKsuq"
      },
      "execution_count": null,
      "outputs": []
    },
    {
      "cell_type": "code",
      "source": [
        "def parse_comment_product(json):\n",
        "    data = dict()\n",
        "    data['id'] = json.get(id)\n",
        "    data['title'] = json.get('title')\n",
        "    data['content'] = json.get('content')\n",
        "    data['status'] = json.get('status')\n",
        "    data['comment_count'] = json.get('comment_count')\n",
        "    data['thank_count'] = json.get('thank_count')\n",
        "    data['customer_id']  = json.get('customer_id')\n",
        "    data['product_id']  = json.get('product_id')\n",
        "    data['rating'] = json.get('rating')\n",
        "    data['score'] = json.get('score')\n",
        "    data['created_at'] = json.get('created_at')\n",
        "    data['is_photo'] = json.get('is_photo')\n",
        "\n",
        "    created = json.get('created_by')\n",
        "    if (created == []) or (not created):\n",
        "        data['customer_name'] = np.nan\n",
        "        data['purchased_at'] = np.nan\n",
        "    else:\n",
        "        data['customer_name'] = json.get('created_by')['full_name']\n",
        "        data['purchased_at'] = json.get('created_by')['purchased_at']\n",
        "\n",
        "    timestamp = json.get('timeline')\n",
        "    if (timestamp == []) or (not timestamp):\n",
        "        data['delivery_date'] = np.nan\n",
        "        data['review_created_date'] = np.nan\n",
        "    else:\n",
        "        delivery = json.get('timeline')['delivery_date']\n",
        "        if (delivery == []) or (not delivery):\n",
        "            data['delivery_date'] = np.nan\n",
        "        else:\n",
        "            data['delivery_date'] = json.get('timeline')['delivery_date']\n",
        "        review_date = json.get('timeline')['review_created_date']\n",
        "        if (review_date == []) or (not review_date):\n",
        "            data['review_created_date'] = np.nan\n",
        "        else:\n",
        "            data['review_created_date'] = json.get('timeline')['review_created_date']\n",
        "\n",
        "    vote = json.get('vote_attributes')\n",
        "    if vote != []:\n",
        "        data['agree_vote'] = json.get('vote_attributes')['agree']\n",
        "        data['disagree_vote'] = json.get('vote_attributes')['disagree']\n",
        "    else:\n",
        "        data['agree_vote'] = np.nan\n",
        "        data['disagree_vote'] = np.nan\n",
        "    return data"
      ],
      "metadata": {
        "id": "FWXDKSBSKw7p"
      },
      "execution_count": null,
      "outputs": []
    },
    {
      "cell_type": "code",
      "source": [
        "comment_product = []\n",
        "for i in range(2547): #2546\n",
        "    params['page'] = i\n",
        "    response = requests.get('https://tiki.vn/api/v2/reviews', headers=headers, params=params, cookies=cookies)\n",
        "    if response.status_code == 200:\n",
        "        print('Crawl comment page {}'.format(i))\n",
        "        for comment in response.json().get('data'):\n",
        "            comment_product.append(parse_comment_product(comment))\n",
        "    elif response.status_code >= 400:\n",
        "        break\n",
        "    time.sleep(random.randrange(3, 5))\n",
        "\n",
        "df_comment = pd.DataFrame(comment_product)\n",
        "# df_comment.to_csv('comment_product_data_tiki.csv', index=False)"
      ],
      "metadata": {
        "colab": {
          "base_uri": "https://localhost:8080/"
        },
        "id": "Nomh_FxrLNmh",
        "outputId": "ca4b0cad-875d-46ca-908f-2f3a0cd5d934"
      },
      "execution_count": null,
      "outputs": [
        {
          "output_type": "stream",
          "name": "stdout",
          "text": [
            "Crawl comment page 0\n",
            "Crawl comment page 1\n",
            "Crawl comment page 2\n",
            "Crawl comment page 3\n",
            "Crawl comment page 4\n",
            "Crawl comment page 5\n",
            "Crawl comment page 6\n",
            "Crawl comment page 7\n",
            "Crawl comment page 8\n",
            "Crawl comment page 9\n",
            "Crawl comment page 10\n",
            "Crawl comment page 11\n",
            "Crawl comment page 12\n",
            "Crawl comment page 13\n",
            "Crawl comment page 14\n",
            "Crawl comment page 15\n",
            "Crawl comment page 16\n",
            "Crawl comment page 17\n",
            "Crawl comment page 18\n",
            "Crawl comment page 19\n",
            "Crawl comment page 20\n",
            "Crawl comment page 21\n",
            "Crawl comment page 22\n",
            "Crawl comment page 23\n",
            "Crawl comment page 24\n",
            "Crawl comment page 25\n",
            "Crawl comment page 26\n",
            "Crawl comment page 27\n",
            "Crawl comment page 28\n",
            "Crawl comment page 29\n",
            "Crawl comment page 30\n",
            "Crawl comment page 31\n",
            "Crawl comment page 32\n",
            "Crawl comment page 33\n",
            "Crawl comment page 34\n",
            "Crawl comment page 35\n",
            "Crawl comment page 36\n",
            "Crawl comment page 37\n",
            "Crawl comment page 38\n",
            "Crawl comment page 39\n",
            "Crawl comment page 40\n",
            "Crawl comment page 41\n",
            "Crawl comment page 42\n",
            "Crawl comment page 43\n",
            "Crawl comment page 44\n",
            "Crawl comment page 45\n",
            "Crawl comment page 46\n",
            "Crawl comment page 47\n",
            "Crawl comment page 48\n",
            "Crawl comment page 49\n",
            "Crawl comment page 50\n",
            "Crawl comment page 51\n",
            "Crawl comment page 52\n",
            "Crawl comment page 53\n",
            "Crawl comment page 54\n",
            "Crawl comment page 55\n",
            "Crawl comment page 56\n",
            "Crawl comment page 57\n",
            "Crawl comment page 58\n",
            "Crawl comment page 59\n",
            "Crawl comment page 60\n",
            "Crawl comment page 61\n",
            "Crawl comment page 62\n",
            "Crawl comment page 63\n",
            "Crawl comment page 64\n",
            "Crawl comment page 65\n",
            "Crawl comment page 66\n",
            "Crawl comment page 67\n",
            "Crawl comment page 68\n",
            "Crawl comment page 69\n",
            "Crawl comment page 70\n",
            "Crawl comment page 71\n",
            "Crawl comment page 72\n",
            "Crawl comment page 73\n",
            "Crawl comment page 74\n",
            "Crawl comment page 75\n",
            "Crawl comment page 76\n",
            "Crawl comment page 77\n",
            "Crawl comment page 78\n",
            "Crawl comment page 79\n",
            "Crawl comment page 80\n",
            "Crawl comment page 81\n",
            "Crawl comment page 82\n",
            "Crawl comment page 83\n",
            "Crawl comment page 84\n",
            "Crawl comment page 85\n",
            "Crawl comment page 86\n",
            "Crawl comment page 87\n",
            "Crawl comment page 88\n",
            "Crawl comment page 89\n",
            "Crawl comment page 90\n",
            "Crawl comment page 91\n",
            "Crawl comment page 92\n",
            "Crawl comment page 93\n",
            "Crawl comment page 94\n",
            "Crawl comment page 95\n",
            "Crawl comment page 96\n",
            "Crawl comment page 97\n",
            "Crawl comment page 98\n",
            "Crawl comment page 99\n",
            "Crawl comment page 100\n",
            "Crawl comment page 101\n",
            "Crawl comment page 102\n",
            "Crawl comment page 103\n",
            "Crawl comment page 104\n",
            "Crawl comment page 105\n",
            "Crawl comment page 106\n",
            "Crawl comment page 107\n",
            "Crawl comment page 108\n",
            "Crawl comment page 109\n",
            "Crawl comment page 110\n",
            "Crawl comment page 111\n",
            "Crawl comment page 112\n",
            "Crawl comment page 113\n",
            "Crawl comment page 114\n",
            "Crawl comment page 115\n",
            "Crawl comment page 116\n",
            "Crawl comment page 117\n",
            "Crawl comment page 118\n",
            "Crawl comment page 119\n",
            "Crawl comment page 120\n",
            "Crawl comment page 121\n",
            "Crawl comment page 122\n",
            "Crawl comment page 123\n",
            "Crawl comment page 124\n",
            "Crawl comment page 125\n",
            "Crawl comment page 126\n",
            "Crawl comment page 127\n",
            "Crawl comment page 128\n",
            "Crawl comment page 129\n",
            "Crawl comment page 130\n",
            "Crawl comment page 131\n",
            "Crawl comment page 132\n",
            "Crawl comment page 133\n",
            "Crawl comment page 134\n",
            "Crawl comment page 135\n",
            "Crawl comment page 136\n",
            "Crawl comment page 137\n",
            "Crawl comment page 138\n",
            "Crawl comment page 139\n",
            "Crawl comment page 140\n",
            "Crawl comment page 141\n",
            "Crawl comment page 142\n",
            "Crawl comment page 143\n",
            "Crawl comment page 144\n",
            "Crawl comment page 145\n",
            "Crawl comment page 146\n",
            "Crawl comment page 147\n",
            "Crawl comment page 148\n",
            "Crawl comment page 149\n",
            "Crawl comment page 150\n",
            "Crawl comment page 151\n",
            "Crawl comment page 152\n",
            "Crawl comment page 153\n",
            "Crawl comment page 154\n",
            "Crawl comment page 155\n",
            "Crawl comment page 156\n",
            "Crawl comment page 157\n",
            "Crawl comment page 158\n",
            "Crawl comment page 159\n",
            "Crawl comment page 160\n",
            "Crawl comment page 161\n",
            "Crawl comment page 162\n",
            "Crawl comment page 163\n",
            "Crawl comment page 164\n",
            "Crawl comment page 165\n",
            "Crawl comment page 166\n",
            "Crawl comment page 167\n",
            "Crawl comment page 168\n",
            "Crawl comment page 169\n",
            "Crawl comment page 170\n",
            "Crawl comment page 171\n",
            "Crawl comment page 172\n",
            "Crawl comment page 173\n",
            "Crawl comment page 174\n",
            "Crawl comment page 175\n",
            "Crawl comment page 176\n",
            "Crawl comment page 177\n",
            "Crawl comment page 178\n",
            "Crawl comment page 179\n",
            "Crawl comment page 180\n",
            "Crawl comment page 181\n",
            "Crawl comment page 182\n",
            "Crawl comment page 183\n",
            "Crawl comment page 184\n",
            "Crawl comment page 185\n",
            "Crawl comment page 186\n",
            "Crawl comment page 187\n",
            "Crawl comment page 188\n",
            "Crawl comment page 189\n",
            "Crawl comment page 190\n",
            "Crawl comment page 191\n",
            "Crawl comment page 192\n",
            "Crawl comment page 193\n",
            "Crawl comment page 194\n",
            "Crawl comment page 195\n",
            "Crawl comment page 196\n",
            "Crawl comment page 197\n",
            "Crawl comment page 198\n",
            "Crawl comment page 199\n",
            "Crawl comment page 200\n",
            "Crawl comment page 201\n",
            "Crawl comment page 202\n",
            "Crawl comment page 203\n",
            "Crawl comment page 204\n",
            "Crawl comment page 205\n",
            "Crawl comment page 206\n",
            "Crawl comment page 207\n",
            "Crawl comment page 208\n",
            "Crawl comment page 209\n",
            "Crawl comment page 210\n",
            "Crawl comment page 211\n",
            "Crawl comment page 212\n",
            "Crawl comment page 213\n",
            "Crawl comment page 214\n",
            "Crawl comment page 215\n",
            "Crawl comment page 216\n",
            "Crawl comment page 217\n",
            "Crawl comment page 218\n",
            "Crawl comment page 219\n",
            "Crawl comment page 220\n",
            "Crawl comment page 221\n",
            "Crawl comment page 222\n",
            "Crawl comment page 223\n",
            "Crawl comment page 224\n",
            "Crawl comment page 225\n",
            "Crawl comment page 226\n",
            "Crawl comment page 227\n",
            "Crawl comment page 228\n",
            "Crawl comment page 229\n",
            "Crawl comment page 230\n",
            "Crawl comment page 231\n",
            "Crawl comment page 232\n",
            "Crawl comment page 233\n",
            "Crawl comment page 234\n",
            "Crawl comment page 235\n",
            "Crawl comment page 236\n",
            "Crawl comment page 237\n",
            "Crawl comment page 238\n",
            "Crawl comment page 239\n",
            "Crawl comment page 240\n",
            "Crawl comment page 241\n",
            "Crawl comment page 242\n",
            "Crawl comment page 243\n",
            "Crawl comment page 244\n",
            "Crawl comment page 245\n",
            "Crawl comment page 246\n",
            "Crawl comment page 247\n",
            "Crawl comment page 248\n",
            "Crawl comment page 249\n",
            "Crawl comment page 250\n",
            "Crawl comment page 251\n",
            "Crawl comment page 252\n",
            "Crawl comment page 253\n",
            "Crawl comment page 254\n",
            "Crawl comment page 255\n",
            "Crawl comment page 256\n",
            "Crawl comment page 257\n",
            "Crawl comment page 258\n",
            "Crawl comment page 259\n",
            "Crawl comment page 260\n",
            "Crawl comment page 261\n",
            "Crawl comment page 262\n",
            "Crawl comment page 263\n",
            "Crawl comment page 264\n",
            "Crawl comment page 265\n",
            "Crawl comment page 266\n",
            "Crawl comment page 267\n",
            "Crawl comment page 268\n",
            "Crawl comment page 269\n",
            "Crawl comment page 270\n",
            "Crawl comment page 271\n",
            "Crawl comment page 272\n",
            "Crawl comment page 273\n",
            "Crawl comment page 274\n",
            "Crawl comment page 275\n",
            "Crawl comment page 276\n",
            "Crawl comment page 277\n",
            "Crawl comment page 278\n",
            "Crawl comment page 279\n",
            "Crawl comment page 280\n",
            "Crawl comment page 281\n",
            "Crawl comment page 282\n",
            "Crawl comment page 283\n",
            "Crawl comment page 284\n",
            "Crawl comment page 285\n",
            "Crawl comment page 286\n",
            "Crawl comment page 287\n",
            "Crawl comment page 288\n",
            "Crawl comment page 289\n",
            "Crawl comment page 290\n",
            "Crawl comment page 291\n",
            "Crawl comment page 292\n",
            "Crawl comment page 293\n",
            "Crawl comment page 294\n",
            "Crawl comment page 295\n",
            "Crawl comment page 296\n",
            "Crawl comment page 297\n",
            "Crawl comment page 298\n",
            "Crawl comment page 299\n",
            "Crawl comment page 300\n",
            "Crawl comment page 301\n",
            "Crawl comment page 302\n",
            "Crawl comment page 303\n",
            "Crawl comment page 304\n",
            "Crawl comment page 305\n",
            "Crawl comment page 306\n",
            "Crawl comment page 307\n",
            "Crawl comment page 308\n",
            "Crawl comment page 309\n",
            "Crawl comment page 310\n",
            "Crawl comment page 311\n",
            "Crawl comment page 312\n",
            "Crawl comment page 313\n",
            "Crawl comment page 314\n",
            "Crawl comment page 315\n",
            "Crawl comment page 316\n",
            "Crawl comment page 317\n",
            "Crawl comment page 318\n",
            "Crawl comment page 319\n",
            "Crawl comment page 320\n",
            "Crawl comment page 321\n",
            "Crawl comment page 322\n",
            "Crawl comment page 323\n",
            "Crawl comment page 324\n",
            "Crawl comment page 325\n",
            "Crawl comment page 326\n",
            "Crawl comment page 327\n",
            "Crawl comment page 328\n",
            "Crawl comment page 329\n",
            "Crawl comment page 330\n",
            "Crawl comment page 331\n",
            "Crawl comment page 332\n",
            "Crawl comment page 333\n",
            "Crawl comment page 334\n",
            "Crawl comment page 335\n",
            "Crawl comment page 336\n",
            "Crawl comment page 337\n",
            "Crawl comment page 338\n",
            "Crawl comment page 339\n",
            "Crawl comment page 340\n",
            "Crawl comment page 341\n",
            "Crawl comment page 342\n",
            "Crawl comment page 343\n",
            "Crawl comment page 344\n",
            "Crawl comment page 345\n",
            "Crawl comment page 346\n",
            "Crawl comment page 347\n",
            "Crawl comment page 348\n",
            "Crawl comment page 349\n",
            "Crawl comment page 350\n",
            "Crawl comment page 351\n",
            "Crawl comment page 352\n",
            "Crawl comment page 353\n",
            "Crawl comment page 354\n",
            "Crawl comment page 355\n",
            "Crawl comment page 356\n",
            "Crawl comment page 357\n",
            "Crawl comment page 358\n",
            "Crawl comment page 359\n",
            "Crawl comment page 360\n",
            "Crawl comment page 361\n",
            "Crawl comment page 362\n",
            "Crawl comment page 363\n",
            "Crawl comment page 364\n",
            "Crawl comment page 365\n",
            "Crawl comment page 366\n",
            "Crawl comment page 367\n",
            "Crawl comment page 368\n",
            "Crawl comment page 369\n",
            "Crawl comment page 370\n",
            "Crawl comment page 371\n",
            "Crawl comment page 372\n",
            "Crawl comment page 373\n",
            "Crawl comment page 374\n",
            "Crawl comment page 375\n",
            "Crawl comment page 376\n",
            "Crawl comment page 377\n",
            "Crawl comment page 378\n",
            "Crawl comment page 379\n",
            "Crawl comment page 380\n",
            "Crawl comment page 381\n",
            "Crawl comment page 382\n",
            "Crawl comment page 383\n",
            "Crawl comment page 384\n",
            "Crawl comment page 385\n",
            "Crawl comment page 386\n",
            "Crawl comment page 387\n",
            "Crawl comment page 388\n",
            "Crawl comment page 389\n",
            "Crawl comment page 390\n",
            "Crawl comment page 391\n",
            "Crawl comment page 392\n",
            "Crawl comment page 393\n",
            "Crawl comment page 394\n",
            "Crawl comment page 395\n",
            "Crawl comment page 396\n",
            "Crawl comment page 397\n",
            "Crawl comment page 398\n",
            "Crawl comment page 399\n",
            "Crawl comment page 400\n",
            "Crawl comment page 401\n",
            "Crawl comment page 402\n",
            "Crawl comment page 403\n",
            "Crawl comment page 404\n",
            "Crawl comment page 405\n",
            "Crawl comment page 406\n",
            "Crawl comment page 407\n",
            "Crawl comment page 408\n",
            "Crawl comment page 409\n",
            "Crawl comment page 410\n",
            "Crawl comment page 411\n",
            "Crawl comment page 412\n",
            "Crawl comment page 413\n",
            "Crawl comment page 414\n",
            "Crawl comment page 415\n",
            "Crawl comment page 416\n",
            "Crawl comment page 417\n",
            "Crawl comment page 418\n",
            "Crawl comment page 419\n",
            "Crawl comment page 420\n",
            "Crawl comment page 421\n",
            "Crawl comment page 422\n",
            "Crawl comment page 423\n",
            "Crawl comment page 424\n",
            "Crawl comment page 425\n",
            "Crawl comment page 426\n",
            "Crawl comment page 427\n",
            "Crawl comment page 428\n",
            "Crawl comment page 429\n",
            "Crawl comment page 430\n",
            "Crawl comment page 431\n",
            "Crawl comment page 432\n",
            "Crawl comment page 433\n",
            "Crawl comment page 434\n",
            "Crawl comment page 435\n",
            "Crawl comment page 436\n",
            "Crawl comment page 437\n",
            "Crawl comment page 438\n",
            "Crawl comment page 439\n",
            "Crawl comment page 440\n",
            "Crawl comment page 441\n",
            "Crawl comment page 442\n",
            "Crawl comment page 443\n",
            "Crawl comment page 444\n",
            "Crawl comment page 445\n",
            "Crawl comment page 446\n",
            "Crawl comment page 447\n",
            "Crawl comment page 448\n",
            "Crawl comment page 449\n",
            "Crawl comment page 450\n",
            "Crawl comment page 451\n",
            "Crawl comment page 452\n",
            "Crawl comment page 453\n",
            "Crawl comment page 454\n",
            "Crawl comment page 455\n",
            "Crawl comment page 456\n",
            "Crawl comment page 457\n",
            "Crawl comment page 458\n",
            "Crawl comment page 459\n",
            "Crawl comment page 460\n",
            "Crawl comment page 461\n",
            "Crawl comment page 462\n",
            "Crawl comment page 463\n",
            "Crawl comment page 464\n",
            "Crawl comment page 465\n",
            "Crawl comment page 466\n",
            "Crawl comment page 467\n",
            "Crawl comment page 468\n",
            "Crawl comment page 469\n",
            "Crawl comment page 470\n",
            "Crawl comment page 471\n",
            "Crawl comment page 472\n",
            "Crawl comment page 473\n",
            "Crawl comment page 474\n",
            "Crawl comment page 475\n",
            "Crawl comment page 476\n",
            "Crawl comment page 477\n",
            "Crawl comment page 478\n",
            "Crawl comment page 479\n",
            "Crawl comment page 480\n",
            "Crawl comment page 481\n",
            "Crawl comment page 482\n",
            "Crawl comment page 483\n",
            "Crawl comment page 484\n",
            "Crawl comment page 485\n",
            "Crawl comment page 486\n",
            "Crawl comment page 487\n",
            "Crawl comment page 488\n",
            "Crawl comment page 489\n",
            "Crawl comment page 490\n",
            "Crawl comment page 491\n",
            "Crawl comment page 492\n",
            "Crawl comment page 493\n",
            "Crawl comment page 494\n",
            "Crawl comment page 495\n",
            "Crawl comment page 496\n",
            "Crawl comment page 497\n",
            "Crawl comment page 498\n",
            "Crawl comment page 499\n",
            "Crawl comment page 500\n",
            "Crawl comment page 501\n",
            "Crawl comment page 502\n",
            "Crawl comment page 503\n",
            "Crawl comment page 504\n",
            "Crawl comment page 505\n",
            "Crawl comment page 506\n",
            "Crawl comment page 507\n",
            "Crawl comment page 508\n",
            "Crawl comment page 509\n",
            "Crawl comment page 510\n",
            "Crawl comment page 511\n",
            "Crawl comment page 512\n",
            "Crawl comment page 513\n",
            "Crawl comment page 514\n",
            "Crawl comment page 515\n",
            "Crawl comment page 516\n",
            "Crawl comment page 517\n",
            "Crawl comment page 518\n",
            "Crawl comment page 519\n",
            "Crawl comment page 520\n",
            "Crawl comment page 521\n",
            "Crawl comment page 522\n",
            "Crawl comment page 523\n",
            "Crawl comment page 524\n",
            "Crawl comment page 525\n",
            "Crawl comment page 526\n",
            "Crawl comment page 527\n",
            "Crawl comment page 528\n",
            "Crawl comment page 529\n",
            "Crawl comment page 530\n",
            "Crawl comment page 531\n",
            "Crawl comment page 532\n",
            "Crawl comment page 533\n",
            "Crawl comment page 534\n",
            "Crawl comment page 535\n",
            "Crawl comment page 536\n",
            "Crawl comment page 537\n",
            "Crawl comment page 538\n",
            "Crawl comment page 539\n",
            "Crawl comment page 540\n",
            "Crawl comment page 541\n",
            "Crawl comment page 542\n",
            "Crawl comment page 543\n",
            "Crawl comment page 544\n",
            "Crawl comment page 545\n",
            "Crawl comment page 546\n",
            "Crawl comment page 547\n",
            "Crawl comment page 548\n",
            "Crawl comment page 549\n",
            "Crawl comment page 550\n",
            "Crawl comment page 551\n",
            "Crawl comment page 552\n",
            "Crawl comment page 553\n",
            "Crawl comment page 554\n",
            "Crawl comment page 555\n",
            "Crawl comment page 556\n",
            "Crawl comment page 557\n",
            "Crawl comment page 558\n",
            "Crawl comment page 559\n",
            "Crawl comment page 560\n",
            "Crawl comment page 561\n",
            "Crawl comment page 562\n",
            "Crawl comment page 563\n",
            "Crawl comment page 564\n",
            "Crawl comment page 565\n",
            "Crawl comment page 566\n",
            "Crawl comment page 567\n",
            "Crawl comment page 568\n",
            "Crawl comment page 569\n",
            "Crawl comment page 570\n",
            "Crawl comment page 571\n",
            "Crawl comment page 572\n",
            "Crawl comment page 573\n",
            "Crawl comment page 574\n",
            "Crawl comment page 575\n",
            "Crawl comment page 576\n",
            "Crawl comment page 577\n",
            "Crawl comment page 578\n",
            "Crawl comment page 579\n",
            "Crawl comment page 580\n",
            "Crawl comment page 581\n",
            "Crawl comment page 582\n",
            "Crawl comment page 583\n",
            "Crawl comment page 584\n",
            "Crawl comment page 585\n",
            "Crawl comment page 586\n",
            "Crawl comment page 587\n",
            "Crawl comment page 588\n",
            "Crawl comment page 589\n",
            "Crawl comment page 590\n",
            "Crawl comment page 591\n",
            "Crawl comment page 592\n",
            "Crawl comment page 593\n",
            "Crawl comment page 594\n",
            "Crawl comment page 595\n",
            "Crawl comment page 596\n",
            "Crawl comment page 597\n",
            "Crawl comment page 598\n",
            "Crawl comment page 599\n",
            "Crawl comment page 600\n",
            "Crawl comment page 601\n",
            "Crawl comment page 602\n",
            "Crawl comment page 603\n",
            "Crawl comment page 604\n",
            "Crawl comment page 605\n",
            "Crawl comment page 606\n",
            "Crawl comment page 607\n",
            "Crawl comment page 608\n",
            "Crawl comment page 609\n",
            "Crawl comment page 610\n",
            "Crawl comment page 611\n",
            "Crawl comment page 612\n",
            "Crawl comment page 613\n",
            "Crawl comment page 614\n",
            "Crawl comment page 615\n",
            "Crawl comment page 616\n",
            "Crawl comment page 617\n",
            "Crawl comment page 618\n",
            "Crawl comment page 619\n",
            "Crawl comment page 620\n",
            "Crawl comment page 621\n",
            "Crawl comment page 622\n",
            "Crawl comment page 623\n",
            "Crawl comment page 624\n",
            "Crawl comment page 625\n",
            "Crawl comment page 626\n",
            "Crawl comment page 627\n",
            "Crawl comment page 628\n",
            "Crawl comment page 629\n",
            "Crawl comment page 630\n",
            "Crawl comment page 631\n",
            "Crawl comment page 632\n",
            "Crawl comment page 633\n",
            "Crawl comment page 634\n",
            "Crawl comment page 635\n",
            "Crawl comment page 636\n",
            "Crawl comment page 637\n",
            "Crawl comment page 638\n",
            "Crawl comment page 639\n",
            "Crawl comment page 640\n",
            "Crawl comment page 641\n",
            "Crawl comment page 642\n",
            "Crawl comment page 643\n",
            "Crawl comment page 644\n",
            "Crawl comment page 645\n",
            "Crawl comment page 646\n",
            "Crawl comment page 647\n",
            "Crawl comment page 648\n",
            "Crawl comment page 649\n",
            "Crawl comment page 650\n",
            "Crawl comment page 651\n",
            "Crawl comment page 652\n",
            "Crawl comment page 653\n",
            "Crawl comment page 654\n",
            "Crawl comment page 655\n",
            "Crawl comment page 656\n",
            "Crawl comment page 657\n",
            "Crawl comment page 658\n",
            "Crawl comment page 659\n",
            "Crawl comment page 660\n",
            "Crawl comment page 661\n",
            "Crawl comment page 662\n",
            "Crawl comment page 663\n",
            "Crawl comment page 664\n",
            "Crawl comment page 665\n",
            "Crawl comment page 666\n",
            "Crawl comment page 667\n",
            "Crawl comment page 668\n",
            "Crawl comment page 669\n",
            "Crawl comment page 670\n",
            "Crawl comment page 671\n",
            "Crawl comment page 672\n",
            "Crawl comment page 673\n",
            "Crawl comment page 674\n",
            "Crawl comment page 675\n",
            "Crawl comment page 676\n",
            "Crawl comment page 677\n",
            "Crawl comment page 678\n",
            "Crawl comment page 679\n",
            "Crawl comment page 680\n",
            "Crawl comment page 681\n",
            "Crawl comment page 682\n",
            "Crawl comment page 683\n",
            "Crawl comment page 684\n",
            "Crawl comment page 685\n",
            "Crawl comment page 686\n",
            "Crawl comment page 687\n",
            "Crawl comment page 688\n",
            "Crawl comment page 689\n",
            "Crawl comment page 690\n",
            "Crawl comment page 691\n",
            "Crawl comment page 692\n",
            "Crawl comment page 693\n",
            "Crawl comment page 694\n",
            "Crawl comment page 695\n",
            "Crawl comment page 696\n",
            "Crawl comment page 697\n",
            "Crawl comment page 698\n",
            "Crawl comment page 699\n",
            "Crawl comment page 700\n",
            "Crawl comment page 701\n",
            "Crawl comment page 702\n",
            "Crawl comment page 703\n",
            "Crawl comment page 704\n",
            "Crawl comment page 705\n",
            "Crawl comment page 706\n",
            "Crawl comment page 707\n",
            "Crawl comment page 708\n",
            "Crawl comment page 709\n",
            "Crawl comment page 710\n",
            "Crawl comment page 711\n",
            "Crawl comment page 712\n",
            "Crawl comment page 713\n",
            "Crawl comment page 714\n",
            "Crawl comment page 715\n",
            "Crawl comment page 716\n",
            "Crawl comment page 717\n",
            "Crawl comment page 718\n",
            "Crawl comment page 719\n",
            "Crawl comment page 720\n",
            "Crawl comment page 721\n",
            "Crawl comment page 722\n",
            "Crawl comment page 723\n",
            "Crawl comment page 724\n",
            "Crawl comment page 725\n",
            "Crawl comment page 726\n",
            "Crawl comment page 727\n",
            "Crawl comment page 728\n",
            "Crawl comment page 729\n",
            "Crawl comment page 730\n",
            "Crawl comment page 731\n",
            "Crawl comment page 732\n",
            "Crawl comment page 733\n",
            "Crawl comment page 734\n",
            "Crawl comment page 735\n",
            "Crawl comment page 736\n",
            "Crawl comment page 737\n",
            "Crawl comment page 738\n",
            "Crawl comment page 739\n",
            "Crawl comment page 740\n",
            "Crawl comment page 741\n",
            "Crawl comment page 742\n",
            "Crawl comment page 743\n",
            "Crawl comment page 744\n",
            "Crawl comment page 745\n",
            "Crawl comment page 746\n",
            "Crawl comment page 747\n",
            "Crawl comment page 748\n",
            "Crawl comment page 749\n",
            "Crawl comment page 750\n",
            "Crawl comment page 751\n",
            "Crawl comment page 752\n",
            "Crawl comment page 753\n",
            "Crawl comment page 754\n",
            "Crawl comment page 755\n",
            "Crawl comment page 756\n",
            "Crawl comment page 757\n",
            "Crawl comment page 758\n",
            "Crawl comment page 759\n",
            "Crawl comment page 760\n",
            "Crawl comment page 761\n",
            "Crawl comment page 762\n",
            "Crawl comment page 763\n",
            "Crawl comment page 764\n",
            "Crawl comment page 765\n",
            "Crawl comment page 766\n",
            "Crawl comment page 767\n",
            "Crawl comment page 768\n",
            "Crawl comment page 769\n",
            "Crawl comment page 770\n",
            "Crawl comment page 771\n",
            "Crawl comment page 772\n",
            "Crawl comment page 773\n",
            "Crawl comment page 774\n",
            "Crawl comment page 775\n",
            "Crawl comment page 776\n",
            "Crawl comment page 777\n",
            "Crawl comment page 778\n",
            "Crawl comment page 779\n",
            "Crawl comment page 780\n",
            "Crawl comment page 781\n",
            "Crawl comment page 782\n",
            "Crawl comment page 783\n",
            "Crawl comment page 784\n",
            "Crawl comment page 785\n",
            "Crawl comment page 786\n",
            "Crawl comment page 787\n",
            "Crawl comment page 788\n",
            "Crawl comment page 789\n",
            "Crawl comment page 790\n",
            "Crawl comment page 791\n",
            "Crawl comment page 792\n",
            "Crawl comment page 793\n",
            "Crawl comment page 794\n",
            "Crawl comment page 795\n",
            "Crawl comment page 796\n",
            "Crawl comment page 797\n",
            "Crawl comment page 798\n",
            "Crawl comment page 799\n",
            "Crawl comment page 800\n",
            "Crawl comment page 801\n",
            "Crawl comment page 802\n",
            "Crawl comment page 803\n",
            "Crawl comment page 804\n",
            "Crawl comment page 805\n",
            "Crawl comment page 806\n",
            "Crawl comment page 807\n",
            "Crawl comment page 808\n",
            "Crawl comment page 809\n",
            "Crawl comment page 810\n",
            "Crawl comment page 811\n",
            "Crawl comment page 812\n",
            "Crawl comment page 813\n",
            "Crawl comment page 814\n",
            "Crawl comment page 815\n",
            "Crawl comment page 816\n",
            "Crawl comment page 817\n",
            "Crawl comment page 818\n",
            "Crawl comment page 819\n",
            "Crawl comment page 820\n",
            "Crawl comment page 821\n",
            "Crawl comment page 822\n",
            "Crawl comment page 823\n",
            "Crawl comment page 824\n",
            "Crawl comment page 825\n",
            "Crawl comment page 826\n",
            "Crawl comment page 827\n",
            "Crawl comment page 828\n",
            "Crawl comment page 829\n",
            "Crawl comment page 830\n",
            "Crawl comment page 831\n",
            "Crawl comment page 832\n",
            "Crawl comment page 833\n",
            "Crawl comment page 834\n",
            "Crawl comment page 835\n",
            "Crawl comment page 836\n",
            "Crawl comment page 837\n",
            "Crawl comment page 838\n",
            "Crawl comment page 839\n",
            "Crawl comment page 840\n",
            "Crawl comment page 841\n",
            "Crawl comment page 842\n",
            "Crawl comment page 843\n",
            "Crawl comment page 844\n",
            "Crawl comment page 845\n",
            "Crawl comment page 846\n",
            "Crawl comment page 847\n",
            "Crawl comment page 848\n",
            "Crawl comment page 849\n",
            "Crawl comment page 850\n",
            "Crawl comment page 851\n",
            "Crawl comment page 852\n",
            "Crawl comment page 853\n",
            "Crawl comment page 854\n",
            "Crawl comment page 855\n",
            "Crawl comment page 856\n",
            "Crawl comment page 857\n",
            "Crawl comment page 858\n",
            "Crawl comment page 859\n",
            "Crawl comment page 860\n",
            "Crawl comment page 861\n",
            "Crawl comment page 862\n",
            "Crawl comment page 863\n",
            "Crawl comment page 864\n",
            "Crawl comment page 865\n",
            "Crawl comment page 866\n",
            "Crawl comment page 867\n",
            "Crawl comment page 868\n",
            "Crawl comment page 869\n",
            "Crawl comment page 870\n",
            "Crawl comment page 871\n",
            "Crawl comment page 872\n",
            "Crawl comment page 873\n",
            "Crawl comment page 874\n",
            "Crawl comment page 875\n",
            "Crawl comment page 876\n",
            "Crawl comment page 877\n",
            "Crawl comment page 878\n",
            "Crawl comment page 879\n",
            "Crawl comment page 880\n",
            "Crawl comment page 881\n",
            "Crawl comment page 882\n",
            "Crawl comment page 883\n",
            "Crawl comment page 884\n",
            "Crawl comment page 885\n",
            "Crawl comment page 886\n",
            "Crawl comment page 887\n",
            "Crawl comment page 888\n",
            "Crawl comment page 889\n",
            "Crawl comment page 890\n",
            "Crawl comment page 891\n",
            "Crawl comment page 892\n",
            "Crawl comment page 893\n",
            "Crawl comment page 894\n",
            "Crawl comment page 895\n",
            "Crawl comment page 896\n",
            "Crawl comment page 897\n",
            "Crawl comment page 898\n",
            "Crawl comment page 899\n",
            "Crawl comment page 900\n",
            "Crawl comment page 901\n",
            "Crawl comment page 902\n",
            "Crawl comment page 903\n",
            "Crawl comment page 904\n",
            "Crawl comment page 905\n",
            "Crawl comment page 906\n",
            "Crawl comment page 907\n",
            "Crawl comment page 908\n",
            "Crawl comment page 909\n",
            "Crawl comment page 910\n",
            "Crawl comment page 911\n",
            "Crawl comment page 912\n",
            "Crawl comment page 913\n",
            "Crawl comment page 914\n",
            "Crawl comment page 915\n",
            "Crawl comment page 916\n",
            "Crawl comment page 917\n",
            "Crawl comment page 918\n",
            "Crawl comment page 919\n",
            "Crawl comment page 920\n",
            "Crawl comment page 921\n",
            "Crawl comment page 922\n",
            "Crawl comment page 923\n",
            "Crawl comment page 924\n",
            "Crawl comment page 925\n",
            "Crawl comment page 926\n",
            "Crawl comment page 927\n",
            "Crawl comment page 928\n",
            "Crawl comment page 929\n",
            "Crawl comment page 930\n",
            "Crawl comment page 931\n",
            "Crawl comment page 932\n",
            "Crawl comment page 933\n",
            "Crawl comment page 934\n",
            "Crawl comment page 935\n",
            "Crawl comment page 936\n",
            "Crawl comment page 937\n",
            "Crawl comment page 938\n",
            "Crawl comment page 939\n",
            "Crawl comment page 940\n",
            "Crawl comment page 941\n",
            "Crawl comment page 942\n",
            "Crawl comment page 943\n",
            "Crawl comment page 944\n",
            "Crawl comment page 945\n",
            "Crawl comment page 946\n",
            "Crawl comment page 947\n",
            "Crawl comment page 948\n",
            "Crawl comment page 949\n",
            "Crawl comment page 950\n",
            "Crawl comment page 951\n",
            "Crawl comment page 952\n",
            "Crawl comment page 953\n",
            "Crawl comment page 954\n",
            "Crawl comment page 955\n",
            "Crawl comment page 956\n",
            "Crawl comment page 957\n",
            "Crawl comment page 958\n",
            "Crawl comment page 959\n",
            "Crawl comment page 960\n",
            "Crawl comment page 961\n",
            "Crawl comment page 962\n",
            "Crawl comment page 963\n",
            "Crawl comment page 964\n",
            "Crawl comment page 965\n",
            "Crawl comment page 966\n",
            "Crawl comment page 967\n",
            "Crawl comment page 968\n",
            "Crawl comment page 969\n",
            "Crawl comment page 970\n",
            "Crawl comment page 971\n",
            "Crawl comment page 972\n",
            "Crawl comment page 973\n",
            "Crawl comment page 974\n",
            "Crawl comment page 975\n",
            "Crawl comment page 976\n",
            "Crawl comment page 977\n",
            "Crawl comment page 978\n",
            "Crawl comment page 979\n",
            "Crawl comment page 980\n",
            "Crawl comment page 981\n",
            "Crawl comment page 982\n",
            "Crawl comment page 983\n",
            "Crawl comment page 984\n",
            "Crawl comment page 985\n",
            "Crawl comment page 986\n",
            "Crawl comment page 987\n",
            "Crawl comment page 988\n",
            "Crawl comment page 989\n",
            "Crawl comment page 990\n",
            "Crawl comment page 991\n",
            "Crawl comment page 992\n",
            "Crawl comment page 993\n",
            "Crawl comment page 994\n",
            "Crawl comment page 995\n",
            "Crawl comment page 996\n",
            "Crawl comment page 997\n",
            "Crawl comment page 998\n",
            "Crawl comment page 999\n",
            "Crawl comment page 1000\n",
            "Crawl comment page 1001\n",
            "Crawl comment page 1002\n",
            "Crawl comment page 1003\n",
            "Crawl comment page 1004\n",
            "Crawl comment page 1005\n",
            "Crawl comment page 1006\n",
            "Crawl comment page 1007\n",
            "Crawl comment page 1008\n",
            "Crawl comment page 1009\n",
            "Crawl comment page 1010\n",
            "Crawl comment page 1011\n",
            "Crawl comment page 1012\n",
            "Crawl comment page 1013\n",
            "Crawl comment page 1014\n",
            "Crawl comment page 1015\n",
            "Crawl comment page 1016\n",
            "Crawl comment page 1017\n",
            "Crawl comment page 1018\n",
            "Crawl comment page 1019\n",
            "Crawl comment page 1020\n",
            "Crawl comment page 1021\n",
            "Crawl comment page 1022\n",
            "Crawl comment page 1023\n",
            "Crawl comment page 1024\n",
            "Crawl comment page 1025\n",
            "Crawl comment page 1026\n",
            "Crawl comment page 1027\n",
            "Crawl comment page 1028\n",
            "Crawl comment page 1029\n",
            "Crawl comment page 1030\n",
            "Crawl comment page 1031\n",
            "Crawl comment page 1032\n",
            "Crawl comment page 1033\n",
            "Crawl comment page 1034\n",
            "Crawl comment page 1035\n",
            "Crawl comment page 1036\n",
            "Crawl comment page 1037\n",
            "Crawl comment page 1038\n",
            "Crawl comment page 1039\n",
            "Crawl comment page 1040\n",
            "Crawl comment page 1041\n",
            "Crawl comment page 1042\n",
            "Crawl comment page 1043\n",
            "Crawl comment page 1044\n",
            "Crawl comment page 1045\n",
            "Crawl comment page 1046\n",
            "Crawl comment page 1047\n",
            "Crawl comment page 1048\n",
            "Crawl comment page 1049\n",
            "Crawl comment page 1050\n",
            "Crawl comment page 1051\n",
            "Crawl comment page 1052\n",
            "Crawl comment page 1053\n",
            "Crawl comment page 1054\n",
            "Crawl comment page 1055\n",
            "Crawl comment page 1056\n",
            "Crawl comment page 1057\n",
            "Crawl comment page 1058\n",
            "Crawl comment page 1059\n",
            "Crawl comment page 1060\n",
            "Crawl comment page 1061\n",
            "Crawl comment page 1062\n",
            "Crawl comment page 1063\n",
            "Crawl comment page 1064\n",
            "Crawl comment page 1065\n",
            "Crawl comment page 1066\n",
            "Crawl comment page 1067\n",
            "Crawl comment page 1068\n",
            "Crawl comment page 1069\n",
            "Crawl comment page 1070\n",
            "Crawl comment page 1071\n",
            "Crawl comment page 1072\n",
            "Crawl comment page 1073\n",
            "Crawl comment page 1074\n",
            "Crawl comment page 1075\n",
            "Crawl comment page 1076\n",
            "Crawl comment page 1077\n",
            "Crawl comment page 1078\n",
            "Crawl comment page 1079\n",
            "Crawl comment page 1080\n",
            "Crawl comment page 1081\n",
            "Crawl comment page 1082\n",
            "Crawl comment page 1083\n",
            "Crawl comment page 1084\n",
            "Crawl comment page 1085\n",
            "Crawl comment page 1086\n",
            "Crawl comment page 1087\n",
            "Crawl comment page 1088\n",
            "Crawl comment page 1089\n",
            "Crawl comment page 1090\n",
            "Crawl comment page 1091\n",
            "Crawl comment page 1092\n",
            "Crawl comment page 1093\n",
            "Crawl comment page 1094\n",
            "Crawl comment page 1095\n",
            "Crawl comment page 1096\n",
            "Crawl comment page 1097\n",
            "Crawl comment page 1098\n",
            "Crawl comment page 1099\n",
            "Crawl comment page 1100\n",
            "Crawl comment page 1101\n",
            "Crawl comment page 1102\n",
            "Crawl comment page 1103\n",
            "Crawl comment page 1104\n",
            "Crawl comment page 1105\n",
            "Crawl comment page 1106\n",
            "Crawl comment page 1107\n",
            "Crawl comment page 1108\n",
            "Crawl comment page 1109\n",
            "Crawl comment page 1110\n",
            "Crawl comment page 1111\n",
            "Crawl comment page 1112\n",
            "Crawl comment page 1113\n",
            "Crawl comment page 1114\n",
            "Crawl comment page 1115\n",
            "Crawl comment page 1116\n",
            "Crawl comment page 1117\n",
            "Crawl comment page 1118\n",
            "Crawl comment page 1119\n",
            "Crawl comment page 1120\n",
            "Crawl comment page 1121\n",
            "Crawl comment page 1122\n",
            "Crawl comment page 1123\n",
            "Crawl comment page 1124\n",
            "Crawl comment page 1125\n",
            "Crawl comment page 1126\n",
            "Crawl comment page 1127\n",
            "Crawl comment page 1128\n",
            "Crawl comment page 1129\n",
            "Crawl comment page 1130\n",
            "Crawl comment page 1131\n",
            "Crawl comment page 1132\n",
            "Crawl comment page 1133\n",
            "Crawl comment page 1134\n",
            "Crawl comment page 1135\n",
            "Crawl comment page 1136\n",
            "Crawl comment page 1137\n",
            "Crawl comment page 1138\n",
            "Crawl comment page 1139\n",
            "Crawl comment page 1140\n",
            "Crawl comment page 1141\n",
            "Crawl comment page 1142\n",
            "Crawl comment page 1143\n",
            "Crawl comment page 1144\n",
            "Crawl comment page 1145\n",
            "Crawl comment page 1146\n",
            "Crawl comment page 1147\n",
            "Crawl comment page 1148\n",
            "Crawl comment page 1149\n",
            "Crawl comment page 1150\n",
            "Crawl comment page 1151\n",
            "Crawl comment page 1152\n",
            "Crawl comment page 1153\n",
            "Crawl comment page 1154\n",
            "Crawl comment page 1155\n",
            "Crawl comment page 1156\n",
            "Crawl comment page 1157\n",
            "Crawl comment page 1158\n",
            "Crawl comment page 1159\n",
            "Crawl comment page 1160\n",
            "Crawl comment page 1161\n",
            "Crawl comment page 1162\n",
            "Crawl comment page 1163\n",
            "Crawl comment page 1164\n",
            "Crawl comment page 1165\n",
            "Crawl comment page 1166\n",
            "Crawl comment page 1167\n",
            "Crawl comment page 1168\n",
            "Crawl comment page 1169\n",
            "Crawl comment page 1170\n",
            "Crawl comment page 1171\n",
            "Crawl comment page 1172\n",
            "Crawl comment page 1173\n",
            "Crawl comment page 1174\n",
            "Crawl comment page 1175\n",
            "Crawl comment page 1176\n",
            "Crawl comment page 1177\n",
            "Crawl comment page 1178\n",
            "Crawl comment page 1179\n",
            "Crawl comment page 1180\n",
            "Crawl comment page 1181\n",
            "Crawl comment page 1182\n",
            "Crawl comment page 1183\n",
            "Crawl comment page 1184\n",
            "Crawl comment page 1185\n",
            "Crawl comment page 1186\n",
            "Crawl comment page 1187\n",
            "Crawl comment page 1188\n",
            "Crawl comment page 1189\n",
            "Crawl comment page 1190\n",
            "Crawl comment page 1191\n",
            "Crawl comment page 1192\n",
            "Crawl comment page 1193\n",
            "Crawl comment page 1194\n",
            "Crawl comment page 1195\n",
            "Crawl comment page 1196\n",
            "Crawl comment page 1197\n",
            "Crawl comment page 1198\n",
            "Crawl comment page 1199\n",
            "Crawl comment page 1200\n",
            "Crawl comment page 1201\n",
            "Crawl comment page 1202\n",
            "Crawl comment page 1203\n",
            "Crawl comment page 1204\n",
            "Crawl comment page 1205\n",
            "Crawl comment page 1206\n",
            "Crawl comment page 1207\n",
            "Crawl comment page 1208\n",
            "Crawl comment page 1209\n",
            "Crawl comment page 1210\n",
            "Crawl comment page 1211\n",
            "Crawl comment page 1212\n",
            "Crawl comment page 1213\n",
            "Crawl comment page 1214\n",
            "Crawl comment page 1215\n",
            "Crawl comment page 1216\n",
            "Crawl comment page 1217\n",
            "Crawl comment page 1218\n",
            "Crawl comment page 1219\n",
            "Crawl comment page 1220\n",
            "Crawl comment page 1221\n",
            "Crawl comment page 1222\n",
            "Crawl comment page 1223\n",
            "Crawl comment page 1224\n",
            "Crawl comment page 1225\n",
            "Crawl comment page 1226\n",
            "Crawl comment page 1227\n",
            "Crawl comment page 1228\n",
            "Crawl comment page 1229\n",
            "Crawl comment page 1230\n",
            "Crawl comment page 1231\n",
            "Crawl comment page 1232\n",
            "Crawl comment page 1233\n",
            "Crawl comment page 1234\n",
            "Crawl comment page 1235\n",
            "Crawl comment page 1236\n",
            "Crawl comment page 1237\n",
            "Crawl comment page 1238\n",
            "Crawl comment page 1239\n",
            "Crawl comment page 1240\n",
            "Crawl comment page 1241\n",
            "Crawl comment page 1242\n",
            "Crawl comment page 1243\n",
            "Crawl comment page 1244\n",
            "Crawl comment page 1245\n",
            "Crawl comment page 1246\n",
            "Crawl comment page 1247\n",
            "Crawl comment page 1248\n",
            "Crawl comment page 1249\n",
            "Crawl comment page 1250\n",
            "Crawl comment page 1251\n",
            "Crawl comment page 1252\n",
            "Crawl comment page 1253\n",
            "Crawl comment page 1254\n",
            "Crawl comment page 1255\n",
            "Crawl comment page 1256\n",
            "Crawl comment page 1257\n",
            "Crawl comment page 1258\n",
            "Crawl comment page 1259\n",
            "Crawl comment page 1260\n",
            "Crawl comment page 1261\n",
            "Crawl comment page 1262\n",
            "Crawl comment page 1263\n",
            "Crawl comment page 1264\n",
            "Crawl comment page 1265\n",
            "Crawl comment page 1266\n",
            "Crawl comment page 1267\n",
            "Crawl comment page 1268\n",
            "Crawl comment page 1269\n",
            "Crawl comment page 1270\n",
            "Crawl comment page 1271\n",
            "Crawl comment page 1272\n",
            "Crawl comment page 1273\n",
            "Crawl comment page 1274\n",
            "Crawl comment page 1275\n",
            "Crawl comment page 1276\n",
            "Crawl comment page 1277\n",
            "Crawl comment page 1278\n",
            "Crawl comment page 1279\n",
            "Crawl comment page 1280\n",
            "Crawl comment page 1281\n",
            "Crawl comment page 1282\n",
            "Crawl comment page 1283\n",
            "Crawl comment page 1284\n",
            "Crawl comment page 1285\n",
            "Crawl comment page 1286\n",
            "Crawl comment page 1287\n",
            "Crawl comment page 1288\n",
            "Crawl comment page 1289\n",
            "Crawl comment page 1290\n",
            "Crawl comment page 1291\n",
            "Crawl comment page 1292\n",
            "Crawl comment page 1293\n",
            "Crawl comment page 1294\n",
            "Crawl comment page 1295\n",
            "Crawl comment page 1296\n",
            "Crawl comment page 1297\n",
            "Crawl comment page 1298\n",
            "Crawl comment page 1299\n",
            "Crawl comment page 1300\n",
            "Crawl comment page 1301\n",
            "Crawl comment page 1302\n",
            "Crawl comment page 1303\n",
            "Crawl comment page 1304\n",
            "Crawl comment page 1305\n",
            "Crawl comment page 1306\n",
            "Crawl comment page 1307\n",
            "Crawl comment page 1308\n",
            "Crawl comment page 1309\n",
            "Crawl comment page 1310\n",
            "Crawl comment page 1311\n",
            "Crawl comment page 1312\n",
            "Crawl comment page 1313\n",
            "Crawl comment page 1314\n",
            "Crawl comment page 1315\n",
            "Crawl comment page 1316\n",
            "Crawl comment page 1317\n",
            "Crawl comment page 1318\n",
            "Crawl comment page 1319\n",
            "Crawl comment page 1320\n",
            "Crawl comment page 1321\n",
            "Crawl comment page 1322\n",
            "Crawl comment page 1323\n",
            "Crawl comment page 1324\n",
            "Crawl comment page 1325\n",
            "Crawl comment page 1326\n",
            "Crawl comment page 1327\n",
            "Crawl comment page 1328\n",
            "Crawl comment page 1329\n",
            "Crawl comment page 1330\n",
            "Crawl comment page 1331\n",
            "Crawl comment page 1332\n",
            "Crawl comment page 1333\n",
            "Crawl comment page 1334\n",
            "Crawl comment page 1335\n",
            "Crawl comment page 1336\n",
            "Crawl comment page 1337\n",
            "Crawl comment page 1338\n",
            "Crawl comment page 1339\n",
            "Crawl comment page 1340\n",
            "Crawl comment page 1341\n",
            "Crawl comment page 1342\n",
            "Crawl comment page 1343\n",
            "Crawl comment page 1344\n",
            "Crawl comment page 1345\n",
            "Crawl comment page 1346\n",
            "Crawl comment page 1347\n",
            "Crawl comment page 1348\n",
            "Crawl comment page 1349\n",
            "Crawl comment page 1350\n",
            "Crawl comment page 1351\n",
            "Crawl comment page 1352\n",
            "Crawl comment page 1353\n",
            "Crawl comment page 1354\n",
            "Crawl comment page 1355\n",
            "Crawl comment page 1356\n",
            "Crawl comment page 1357\n",
            "Crawl comment page 1358\n",
            "Crawl comment page 1359\n",
            "Crawl comment page 1360\n",
            "Crawl comment page 1361\n",
            "Crawl comment page 1362\n",
            "Crawl comment page 1363\n",
            "Crawl comment page 1364\n",
            "Crawl comment page 1365\n",
            "Crawl comment page 1366\n",
            "Crawl comment page 1367\n",
            "Crawl comment page 1368\n",
            "Crawl comment page 1369\n",
            "Crawl comment page 1370\n",
            "Crawl comment page 1371\n",
            "Crawl comment page 1372\n",
            "Crawl comment page 1373\n",
            "Crawl comment page 1374\n",
            "Crawl comment page 1375\n",
            "Crawl comment page 1376\n",
            "Crawl comment page 1377\n",
            "Crawl comment page 1378\n",
            "Crawl comment page 1379\n",
            "Crawl comment page 1380\n",
            "Crawl comment page 1381\n",
            "Crawl comment page 1382\n",
            "Crawl comment page 1383\n",
            "Crawl comment page 1384\n",
            "Crawl comment page 1385\n",
            "Crawl comment page 1386\n",
            "Crawl comment page 1387\n",
            "Crawl comment page 1388\n",
            "Crawl comment page 1389\n",
            "Crawl comment page 1390\n",
            "Crawl comment page 1391\n",
            "Crawl comment page 1392\n",
            "Crawl comment page 1393\n",
            "Crawl comment page 1394\n",
            "Crawl comment page 1395\n",
            "Crawl comment page 1396\n",
            "Crawl comment page 1397\n",
            "Crawl comment page 1398\n",
            "Crawl comment page 1399\n",
            "Crawl comment page 1400\n",
            "Crawl comment page 1401\n",
            "Crawl comment page 1402\n",
            "Crawl comment page 1403\n",
            "Crawl comment page 1404\n",
            "Crawl comment page 1405\n",
            "Crawl comment page 1406\n",
            "Crawl comment page 1407\n",
            "Crawl comment page 1408\n",
            "Crawl comment page 1409\n",
            "Crawl comment page 1410\n",
            "Crawl comment page 1411\n",
            "Crawl comment page 1412\n",
            "Crawl comment page 1413\n",
            "Crawl comment page 1414\n",
            "Crawl comment page 1415\n",
            "Crawl comment page 1416\n",
            "Crawl comment page 1417\n",
            "Crawl comment page 1418\n",
            "Crawl comment page 1419\n",
            "Crawl comment page 1420\n",
            "Crawl comment page 1421\n",
            "Crawl comment page 1422\n",
            "Crawl comment page 1423\n",
            "Crawl comment page 1424\n",
            "Crawl comment page 1425\n",
            "Crawl comment page 1426\n",
            "Crawl comment page 1427\n",
            "Crawl comment page 1428\n",
            "Crawl comment page 1429\n",
            "Crawl comment page 1430\n",
            "Crawl comment page 1431\n",
            "Crawl comment page 1432\n",
            "Crawl comment page 1433\n",
            "Crawl comment page 1434\n",
            "Crawl comment page 1435\n",
            "Crawl comment page 1436\n",
            "Crawl comment page 1437\n",
            "Crawl comment page 1438\n",
            "Crawl comment page 1439\n",
            "Crawl comment page 1440\n",
            "Crawl comment page 1441\n",
            "Crawl comment page 1442\n",
            "Crawl comment page 1443\n",
            "Crawl comment page 1444\n",
            "Crawl comment page 1445\n",
            "Crawl comment page 1446\n",
            "Crawl comment page 1447\n",
            "Crawl comment page 1448\n",
            "Crawl comment page 1449\n",
            "Crawl comment page 1450\n",
            "Crawl comment page 1451\n",
            "Crawl comment page 1452\n",
            "Crawl comment page 1453\n",
            "Crawl comment page 1454\n",
            "Crawl comment page 1455\n",
            "Crawl comment page 1456\n",
            "Crawl comment page 1457\n",
            "Crawl comment page 1458\n",
            "Crawl comment page 1459\n",
            "Crawl comment page 1460\n",
            "Crawl comment page 1461\n",
            "Crawl comment page 1462\n",
            "Crawl comment page 1463\n",
            "Crawl comment page 1464\n",
            "Crawl comment page 1465\n",
            "Crawl comment page 1466\n",
            "Crawl comment page 1467\n",
            "Crawl comment page 1468\n",
            "Crawl comment page 1469\n",
            "Crawl comment page 1470\n",
            "Crawl comment page 1471\n",
            "Crawl comment page 1472\n",
            "Crawl comment page 1473\n",
            "Crawl comment page 1474\n",
            "Crawl comment page 1475\n",
            "Crawl comment page 1476\n",
            "Crawl comment page 1477\n",
            "Crawl comment page 1478\n",
            "Crawl comment page 1479\n",
            "Crawl comment page 1480\n",
            "Crawl comment page 1481\n",
            "Crawl comment page 1482\n",
            "Crawl comment page 1483\n",
            "Crawl comment page 1484\n",
            "Crawl comment page 1485\n",
            "Crawl comment page 1486\n",
            "Crawl comment page 1487\n",
            "Crawl comment page 1488\n",
            "Crawl comment page 1489\n",
            "Crawl comment page 1490\n",
            "Crawl comment page 1491\n",
            "Crawl comment page 1492\n",
            "Crawl comment page 1493\n",
            "Crawl comment page 1494\n",
            "Crawl comment page 1495\n",
            "Crawl comment page 1496\n",
            "Crawl comment page 1497\n",
            "Crawl comment page 1498\n",
            "Crawl comment page 1499\n",
            "Crawl comment page 1500\n",
            "Crawl comment page 1501\n",
            "Crawl comment page 1502\n",
            "Crawl comment page 1503\n",
            "Crawl comment page 1504\n",
            "Crawl comment page 1505\n",
            "Crawl comment page 1506\n",
            "Crawl comment page 1507\n",
            "Crawl comment page 1508\n",
            "Crawl comment page 1509\n",
            "Crawl comment page 1510\n",
            "Crawl comment page 1511\n",
            "Crawl comment page 1512\n",
            "Crawl comment page 1513\n",
            "Crawl comment page 1514\n",
            "Crawl comment page 1515\n",
            "Crawl comment page 1516\n",
            "Crawl comment page 1517\n",
            "Crawl comment page 1518\n",
            "Crawl comment page 1519\n",
            "Crawl comment page 1520\n",
            "Crawl comment page 1521\n",
            "Crawl comment page 1522\n",
            "Crawl comment page 1523\n",
            "Crawl comment page 1524\n",
            "Crawl comment page 1525\n",
            "Crawl comment page 1526\n",
            "Crawl comment page 1527\n",
            "Crawl comment page 1528\n",
            "Crawl comment page 1529\n",
            "Crawl comment page 1530\n",
            "Crawl comment page 1531\n",
            "Crawl comment page 1532\n",
            "Crawl comment page 1533\n",
            "Crawl comment page 1534\n",
            "Crawl comment page 1535\n",
            "Crawl comment page 1536\n",
            "Crawl comment page 1537\n",
            "Crawl comment page 1538\n",
            "Crawl comment page 1539\n",
            "Crawl comment page 1540\n",
            "Crawl comment page 1541\n",
            "Crawl comment page 1542\n",
            "Crawl comment page 1543\n",
            "Crawl comment page 1544\n",
            "Crawl comment page 1545\n",
            "Crawl comment page 1546\n",
            "Crawl comment page 1547\n",
            "Crawl comment page 1548\n",
            "Crawl comment page 1549\n",
            "Crawl comment page 1550\n",
            "Crawl comment page 1551\n",
            "Crawl comment page 1552\n",
            "Crawl comment page 1553\n",
            "Crawl comment page 1554\n",
            "Crawl comment page 1555\n",
            "Crawl comment page 1556\n",
            "Crawl comment page 1557\n",
            "Crawl comment page 1558\n",
            "Crawl comment page 1559\n",
            "Crawl comment page 1560\n",
            "Crawl comment page 1561\n",
            "Crawl comment page 1562\n",
            "Crawl comment page 1563\n",
            "Crawl comment page 1564\n",
            "Crawl comment page 1565\n",
            "Crawl comment page 1566\n",
            "Crawl comment page 1567\n",
            "Crawl comment page 1568\n",
            "Crawl comment page 1569\n",
            "Crawl comment page 1570\n",
            "Crawl comment page 1571\n",
            "Crawl comment page 1572\n",
            "Crawl comment page 1573\n",
            "Crawl comment page 1574\n",
            "Crawl comment page 1575\n",
            "Crawl comment page 1576\n",
            "Crawl comment page 1577\n",
            "Crawl comment page 1578\n",
            "Crawl comment page 1579\n",
            "Crawl comment page 1580\n",
            "Crawl comment page 1581\n",
            "Crawl comment page 1582\n",
            "Crawl comment page 1583\n",
            "Crawl comment page 1584\n",
            "Crawl comment page 1585\n",
            "Crawl comment page 1586\n",
            "Crawl comment page 1587\n",
            "Crawl comment page 1588\n",
            "Crawl comment page 1589\n",
            "Crawl comment page 1590\n",
            "Crawl comment page 1591\n",
            "Crawl comment page 1592\n",
            "Crawl comment page 1593\n",
            "Crawl comment page 1594\n",
            "Crawl comment page 1595\n",
            "Crawl comment page 1596\n",
            "Crawl comment page 1597\n",
            "Crawl comment page 1598\n",
            "Crawl comment page 1599\n",
            "Crawl comment page 1600\n",
            "Crawl comment page 1601\n",
            "Crawl comment page 1602\n",
            "Crawl comment page 1603\n",
            "Crawl comment page 1604\n",
            "Crawl comment page 1605\n",
            "Crawl comment page 1606\n",
            "Crawl comment page 1607\n",
            "Crawl comment page 1608\n",
            "Crawl comment page 1609\n",
            "Crawl comment page 1610\n",
            "Crawl comment page 1611\n",
            "Crawl comment page 1612\n",
            "Crawl comment page 1613\n",
            "Crawl comment page 1614\n",
            "Crawl comment page 1615\n",
            "Crawl comment page 1616\n",
            "Crawl comment page 1617\n",
            "Crawl comment page 1618\n",
            "Crawl comment page 1619\n",
            "Crawl comment page 1620\n",
            "Crawl comment page 1621\n",
            "Crawl comment page 1622\n",
            "Crawl comment page 1623\n",
            "Crawl comment page 1624\n",
            "Crawl comment page 1625\n",
            "Crawl comment page 1626\n",
            "Crawl comment page 1627\n",
            "Crawl comment page 1628\n",
            "Crawl comment page 1629\n",
            "Crawl comment page 1630\n",
            "Crawl comment page 1631\n",
            "Crawl comment page 1632\n",
            "Crawl comment page 1633\n",
            "Crawl comment page 1634\n",
            "Crawl comment page 1635\n",
            "Crawl comment page 1636\n",
            "Crawl comment page 1637\n",
            "Crawl comment page 1638\n",
            "Crawl comment page 1639\n",
            "Crawl comment page 1640\n",
            "Crawl comment page 1641\n",
            "Crawl comment page 1642\n",
            "Crawl comment page 1643\n",
            "Crawl comment page 1644\n",
            "Crawl comment page 1645\n",
            "Crawl comment page 1646\n",
            "Crawl comment page 1647\n",
            "Crawl comment page 1648\n",
            "Crawl comment page 1649\n",
            "Crawl comment page 1650\n",
            "Crawl comment page 1651\n",
            "Crawl comment page 1652\n",
            "Crawl comment page 1653\n",
            "Crawl comment page 1654\n",
            "Crawl comment page 1655\n",
            "Crawl comment page 1656\n",
            "Crawl comment page 1657\n",
            "Crawl comment page 1658\n",
            "Crawl comment page 1659\n",
            "Crawl comment page 1660\n",
            "Crawl comment page 1661\n",
            "Crawl comment page 1662\n",
            "Crawl comment page 1663\n",
            "Crawl comment page 1664\n",
            "Crawl comment page 1665\n",
            "Crawl comment page 1666\n",
            "Crawl comment page 1667\n",
            "Crawl comment page 1668\n",
            "Crawl comment page 1669\n",
            "Crawl comment page 1670\n",
            "Crawl comment page 1671\n",
            "Crawl comment page 1672\n",
            "Crawl comment page 1673\n",
            "Crawl comment page 1674\n",
            "Crawl comment page 1675\n",
            "Crawl comment page 1676\n",
            "Crawl comment page 1677\n",
            "Crawl comment page 1678\n",
            "Crawl comment page 1679\n",
            "Crawl comment page 1680\n",
            "Crawl comment page 1681\n",
            "Crawl comment page 1682\n",
            "Crawl comment page 1683\n",
            "Crawl comment page 1684\n",
            "Crawl comment page 1685\n",
            "Crawl comment page 1686\n",
            "Crawl comment page 1687\n",
            "Crawl comment page 1688\n",
            "Crawl comment page 1689\n",
            "Crawl comment page 1690\n",
            "Crawl comment page 1691\n",
            "Crawl comment page 1692\n",
            "Crawl comment page 1693\n",
            "Crawl comment page 1694\n",
            "Crawl comment page 1695\n",
            "Crawl comment page 1696\n",
            "Crawl comment page 1697\n",
            "Crawl comment page 1698\n",
            "Crawl comment page 1699\n",
            "Crawl comment page 1700\n",
            "Crawl comment page 1701\n",
            "Crawl comment page 1702\n",
            "Crawl comment page 1703\n",
            "Crawl comment page 1704\n",
            "Crawl comment page 1705\n",
            "Crawl comment page 1706\n",
            "Crawl comment page 1707\n",
            "Crawl comment page 1708\n",
            "Crawl comment page 1709\n",
            "Crawl comment page 1710\n",
            "Crawl comment page 1711\n",
            "Crawl comment page 1712\n",
            "Crawl comment page 1713\n",
            "Crawl comment page 1714\n",
            "Crawl comment page 1715\n",
            "Crawl comment page 1716\n",
            "Crawl comment page 1717\n",
            "Crawl comment page 1718\n",
            "Crawl comment page 1719\n",
            "Crawl comment page 1720\n",
            "Crawl comment page 1721\n",
            "Crawl comment page 1722\n",
            "Crawl comment page 1723\n",
            "Crawl comment page 1724\n",
            "Crawl comment page 1725\n",
            "Crawl comment page 1726\n",
            "Crawl comment page 1727\n",
            "Crawl comment page 1728\n",
            "Crawl comment page 1729\n",
            "Crawl comment page 1730\n",
            "Crawl comment page 1731\n",
            "Crawl comment page 1732\n",
            "Crawl comment page 1733\n",
            "Crawl comment page 1734\n",
            "Crawl comment page 1735\n",
            "Crawl comment page 1736\n",
            "Crawl comment page 1737\n",
            "Crawl comment page 1738\n",
            "Crawl comment page 1739\n",
            "Crawl comment page 1740\n",
            "Crawl comment page 1741\n",
            "Crawl comment page 1742\n",
            "Crawl comment page 1743\n",
            "Crawl comment page 1744\n",
            "Crawl comment page 1745\n",
            "Crawl comment page 1746\n",
            "Crawl comment page 1747\n",
            "Crawl comment page 1748\n",
            "Crawl comment page 1749\n",
            "Crawl comment page 1750\n",
            "Crawl comment page 1751\n",
            "Crawl comment page 1752\n",
            "Crawl comment page 1753\n",
            "Crawl comment page 1754\n",
            "Crawl comment page 1755\n",
            "Crawl comment page 1756\n",
            "Crawl comment page 1757\n",
            "Crawl comment page 1758\n",
            "Crawl comment page 1759\n",
            "Crawl comment page 1760\n",
            "Crawl comment page 1761\n",
            "Crawl comment page 1762\n",
            "Crawl comment page 1763\n",
            "Crawl comment page 1764\n",
            "Crawl comment page 1765\n",
            "Crawl comment page 1766\n",
            "Crawl comment page 1767\n",
            "Crawl comment page 1768\n",
            "Crawl comment page 1769\n",
            "Crawl comment page 1770\n",
            "Crawl comment page 1771\n",
            "Crawl comment page 1772\n",
            "Crawl comment page 1773\n",
            "Crawl comment page 1774\n",
            "Crawl comment page 1775\n",
            "Crawl comment page 1776\n",
            "Crawl comment page 1777\n",
            "Crawl comment page 1778\n",
            "Crawl comment page 1779\n",
            "Crawl comment page 1780\n",
            "Crawl comment page 1781\n",
            "Crawl comment page 1782\n",
            "Crawl comment page 1783\n",
            "Crawl comment page 1784\n",
            "Crawl comment page 1785\n",
            "Crawl comment page 1786\n",
            "Crawl comment page 1787\n",
            "Crawl comment page 1788\n",
            "Crawl comment page 1789\n",
            "Crawl comment page 1790\n",
            "Crawl comment page 1791\n",
            "Crawl comment page 1792\n",
            "Crawl comment page 1793\n",
            "Crawl comment page 1794\n",
            "Crawl comment page 1795\n",
            "Crawl comment page 1796\n",
            "Crawl comment page 1797\n",
            "Crawl comment page 1798\n",
            "Crawl comment page 1799\n",
            "Crawl comment page 1800\n",
            "Crawl comment page 1801\n",
            "Crawl comment page 1802\n",
            "Crawl comment page 1803\n",
            "Crawl comment page 1804\n",
            "Crawl comment page 1805\n",
            "Crawl comment page 1806\n",
            "Crawl comment page 1807\n",
            "Crawl comment page 1808\n",
            "Crawl comment page 1809\n",
            "Crawl comment page 1810\n",
            "Crawl comment page 1811\n",
            "Crawl comment page 1812\n",
            "Crawl comment page 1813\n",
            "Crawl comment page 1814\n",
            "Crawl comment page 1815\n",
            "Crawl comment page 1816\n",
            "Crawl comment page 1817\n",
            "Crawl comment page 1818\n",
            "Crawl comment page 1819\n",
            "Crawl comment page 1820\n",
            "Crawl comment page 1821\n",
            "Crawl comment page 1822\n",
            "Crawl comment page 1823\n",
            "Crawl comment page 1824\n",
            "Crawl comment page 1825\n",
            "Crawl comment page 1826\n",
            "Crawl comment page 1827\n",
            "Crawl comment page 1828\n",
            "Crawl comment page 1829\n",
            "Crawl comment page 1830\n",
            "Crawl comment page 1831\n",
            "Crawl comment page 1832\n",
            "Crawl comment page 1833\n",
            "Crawl comment page 1834\n",
            "Crawl comment page 1835\n",
            "Crawl comment page 1836\n",
            "Crawl comment page 1837\n",
            "Crawl comment page 1838\n",
            "Crawl comment page 1839\n",
            "Crawl comment page 1840\n",
            "Crawl comment page 1841\n",
            "Crawl comment page 1842\n",
            "Crawl comment page 1843\n",
            "Crawl comment page 1844\n",
            "Crawl comment page 1845\n",
            "Crawl comment page 1846\n",
            "Crawl comment page 1847\n",
            "Crawl comment page 1848\n",
            "Crawl comment page 1849\n",
            "Crawl comment page 1850\n",
            "Crawl comment page 1851\n",
            "Crawl comment page 1852\n",
            "Crawl comment page 1853\n",
            "Crawl comment page 1854\n",
            "Crawl comment page 1855\n",
            "Crawl comment page 1856\n",
            "Crawl comment page 1857\n",
            "Crawl comment page 1858\n",
            "Crawl comment page 1859\n",
            "Crawl comment page 1860\n",
            "Crawl comment page 1861\n",
            "Crawl comment page 1862\n",
            "Crawl comment page 1863\n",
            "Crawl comment page 1864\n",
            "Crawl comment page 1865\n",
            "Crawl comment page 1866\n",
            "Crawl comment page 1867\n",
            "Crawl comment page 1868\n",
            "Crawl comment page 1869\n",
            "Crawl comment page 1870\n",
            "Crawl comment page 1871\n",
            "Crawl comment page 1872\n",
            "Crawl comment page 1873\n",
            "Crawl comment page 1874\n",
            "Crawl comment page 1875\n",
            "Crawl comment page 1876\n",
            "Crawl comment page 1877\n",
            "Crawl comment page 1878\n",
            "Crawl comment page 1879\n",
            "Crawl comment page 1880\n",
            "Crawl comment page 1881\n",
            "Crawl comment page 1882\n",
            "Crawl comment page 1883\n",
            "Crawl comment page 1884\n",
            "Crawl comment page 1885\n",
            "Crawl comment page 1886\n",
            "Crawl comment page 1887\n",
            "Crawl comment page 1888\n",
            "Crawl comment page 1889\n",
            "Crawl comment page 1890\n",
            "Crawl comment page 1891\n",
            "Crawl comment page 1892\n",
            "Crawl comment page 1893\n",
            "Crawl comment page 1894\n",
            "Crawl comment page 1895\n",
            "Crawl comment page 1896\n",
            "Crawl comment page 1897\n",
            "Crawl comment page 1898\n",
            "Crawl comment page 1899\n",
            "Crawl comment page 1900\n",
            "Crawl comment page 1901\n",
            "Crawl comment page 1902\n",
            "Crawl comment page 1903\n",
            "Crawl comment page 1904\n",
            "Crawl comment page 1905\n",
            "Crawl comment page 1906\n",
            "Crawl comment page 1907\n",
            "Crawl comment page 1908\n",
            "Crawl comment page 1909\n",
            "Crawl comment page 1910\n",
            "Crawl comment page 1911\n",
            "Crawl comment page 1912\n",
            "Crawl comment page 1913\n",
            "Crawl comment page 1914\n",
            "Crawl comment page 1915\n",
            "Crawl comment page 1916\n",
            "Crawl comment page 1917\n",
            "Crawl comment page 1918\n",
            "Crawl comment page 1919\n",
            "Crawl comment page 1920\n",
            "Crawl comment page 1921\n",
            "Crawl comment page 1922\n",
            "Crawl comment page 1923\n",
            "Crawl comment page 1924\n",
            "Crawl comment page 1925\n",
            "Crawl comment page 1926\n",
            "Crawl comment page 1927\n",
            "Crawl comment page 1928\n",
            "Crawl comment page 1929\n",
            "Crawl comment page 1930\n",
            "Crawl comment page 1931\n",
            "Crawl comment page 1932\n",
            "Crawl comment page 1933\n",
            "Crawl comment page 1934\n",
            "Crawl comment page 1935\n",
            "Crawl comment page 1936\n",
            "Crawl comment page 1937\n",
            "Crawl comment page 1938\n",
            "Crawl comment page 1939\n",
            "Crawl comment page 1940\n",
            "Crawl comment page 1941\n",
            "Crawl comment page 1942\n",
            "Crawl comment page 1943\n",
            "Crawl comment page 1944\n",
            "Crawl comment page 1945\n",
            "Crawl comment page 1946\n",
            "Crawl comment page 1947\n",
            "Crawl comment page 1948\n",
            "Crawl comment page 1949\n",
            "Crawl comment page 1950\n",
            "Crawl comment page 1951\n",
            "Crawl comment page 1952\n",
            "Crawl comment page 1953\n",
            "Crawl comment page 1954\n",
            "Crawl comment page 1955\n",
            "Crawl comment page 1956\n",
            "Crawl comment page 1957\n",
            "Crawl comment page 1958\n",
            "Crawl comment page 1959\n",
            "Crawl comment page 1960\n",
            "Crawl comment page 1961\n",
            "Crawl comment page 1962\n",
            "Crawl comment page 1963\n",
            "Crawl comment page 1964\n",
            "Crawl comment page 1965\n",
            "Crawl comment page 1966\n",
            "Crawl comment page 1967\n",
            "Crawl comment page 1968\n",
            "Crawl comment page 1969\n",
            "Crawl comment page 1970\n",
            "Crawl comment page 1971\n",
            "Crawl comment page 1972\n",
            "Crawl comment page 1973\n",
            "Crawl comment page 1974\n",
            "Crawl comment page 1975\n",
            "Crawl comment page 1976\n",
            "Crawl comment page 1977\n",
            "Crawl comment page 1978\n",
            "Crawl comment page 1979\n",
            "Crawl comment page 1980\n",
            "Crawl comment page 1981\n",
            "Crawl comment page 1982\n",
            "Crawl comment page 1983\n",
            "Crawl comment page 1984\n",
            "Crawl comment page 1985\n",
            "Crawl comment page 1986\n",
            "Crawl comment page 1987\n",
            "Crawl comment page 1988\n",
            "Crawl comment page 1989\n",
            "Crawl comment page 1990\n",
            "Crawl comment page 1991\n",
            "Crawl comment page 1992\n",
            "Crawl comment page 1993\n",
            "Crawl comment page 1994\n",
            "Crawl comment page 1995\n",
            "Crawl comment page 1996\n",
            "Crawl comment page 1997\n",
            "Crawl comment page 1998\n",
            "Crawl comment page 1999\n",
            "Crawl comment page 2000\n",
            "Crawl comment page 2001\n",
            "Crawl comment page 2002\n",
            "Crawl comment page 2003\n",
            "Crawl comment page 2004\n",
            "Crawl comment page 2005\n",
            "Crawl comment page 2006\n",
            "Crawl comment page 2007\n",
            "Crawl comment page 2008\n",
            "Crawl comment page 2009\n",
            "Crawl comment page 2010\n",
            "Crawl comment page 2011\n",
            "Crawl comment page 2012\n",
            "Crawl comment page 2013\n",
            "Crawl comment page 2014\n",
            "Crawl comment page 2015\n",
            "Crawl comment page 2016\n",
            "Crawl comment page 2017\n",
            "Crawl comment page 2018\n",
            "Crawl comment page 2019\n",
            "Crawl comment page 2020\n",
            "Crawl comment page 2021\n",
            "Crawl comment page 2022\n",
            "Crawl comment page 2023\n",
            "Crawl comment page 2024\n",
            "Crawl comment page 2025\n",
            "Crawl comment page 2026\n",
            "Crawl comment page 2027\n",
            "Crawl comment page 2028\n",
            "Crawl comment page 2029\n",
            "Crawl comment page 2030\n",
            "Crawl comment page 2031\n",
            "Crawl comment page 2032\n",
            "Crawl comment page 2033\n",
            "Crawl comment page 2034\n",
            "Crawl comment page 2035\n",
            "Crawl comment page 2036\n",
            "Crawl comment page 2037\n",
            "Crawl comment page 2038\n",
            "Crawl comment page 2039\n",
            "Crawl comment page 2040\n",
            "Crawl comment page 2041\n",
            "Crawl comment page 2042\n",
            "Crawl comment page 2043\n",
            "Crawl comment page 2044\n",
            "Crawl comment page 2045\n",
            "Crawl comment page 2046\n",
            "Crawl comment page 2047\n",
            "Crawl comment page 2048\n",
            "Crawl comment page 2049\n",
            "Crawl comment page 2050\n",
            "Crawl comment page 2051\n",
            "Crawl comment page 2052\n",
            "Crawl comment page 2053\n",
            "Crawl comment page 2054\n",
            "Crawl comment page 2055\n",
            "Crawl comment page 2056\n",
            "Crawl comment page 2057\n",
            "Crawl comment page 2058\n",
            "Crawl comment page 2059\n",
            "Crawl comment page 2060\n",
            "Crawl comment page 2061\n",
            "Crawl comment page 2062\n",
            "Crawl comment page 2063\n",
            "Crawl comment page 2064\n",
            "Crawl comment page 2065\n",
            "Crawl comment page 2066\n",
            "Crawl comment page 2067\n",
            "Crawl comment page 2068\n",
            "Crawl comment page 2069\n",
            "Crawl comment page 2070\n",
            "Crawl comment page 2071\n",
            "Crawl comment page 2072\n",
            "Crawl comment page 2073\n",
            "Crawl comment page 2074\n",
            "Crawl comment page 2075\n",
            "Crawl comment page 2076\n",
            "Crawl comment page 2077\n",
            "Crawl comment page 2078\n",
            "Crawl comment page 2079\n",
            "Crawl comment page 2080\n",
            "Crawl comment page 2081\n",
            "Crawl comment page 2082\n",
            "Crawl comment page 2083\n",
            "Crawl comment page 2084\n",
            "Crawl comment page 2085\n",
            "Crawl comment page 2086\n",
            "Crawl comment page 2087\n",
            "Crawl comment page 2088\n",
            "Crawl comment page 2089\n",
            "Crawl comment page 2090\n",
            "Crawl comment page 2091\n",
            "Crawl comment page 2092\n",
            "Crawl comment page 2093\n",
            "Crawl comment page 2094\n",
            "Crawl comment page 2095\n",
            "Crawl comment page 2096\n",
            "Crawl comment page 2097\n",
            "Crawl comment page 2098\n",
            "Crawl comment page 2099\n",
            "Crawl comment page 2100\n",
            "Crawl comment page 2101\n",
            "Crawl comment page 2102\n",
            "Crawl comment page 2103\n",
            "Crawl comment page 2104\n",
            "Crawl comment page 2105\n",
            "Crawl comment page 2106\n",
            "Crawl comment page 2107\n",
            "Crawl comment page 2108\n",
            "Crawl comment page 2109\n",
            "Crawl comment page 2110\n",
            "Crawl comment page 2111\n",
            "Crawl comment page 2112\n",
            "Crawl comment page 2113\n",
            "Crawl comment page 2114\n",
            "Crawl comment page 2115\n",
            "Crawl comment page 2116\n",
            "Crawl comment page 2117\n",
            "Crawl comment page 2118\n",
            "Crawl comment page 2119\n",
            "Crawl comment page 2120\n",
            "Crawl comment page 2121\n",
            "Crawl comment page 2122\n",
            "Crawl comment page 2123\n",
            "Crawl comment page 2124\n",
            "Crawl comment page 2125\n",
            "Crawl comment page 2126\n",
            "Crawl comment page 2127\n",
            "Crawl comment page 2128\n",
            "Crawl comment page 2129\n",
            "Crawl comment page 2130\n",
            "Crawl comment page 2131\n",
            "Crawl comment page 2132\n",
            "Crawl comment page 2133\n",
            "Crawl comment page 2134\n",
            "Crawl comment page 2135\n",
            "Crawl comment page 2136\n",
            "Crawl comment page 2137\n",
            "Crawl comment page 2138\n",
            "Crawl comment page 2139\n",
            "Crawl comment page 2140\n",
            "Crawl comment page 2141\n",
            "Crawl comment page 2142\n",
            "Crawl comment page 2143\n",
            "Crawl comment page 2144\n",
            "Crawl comment page 2145\n",
            "Crawl comment page 2146\n",
            "Crawl comment page 2147\n",
            "Crawl comment page 2148\n",
            "Crawl comment page 2149\n",
            "Crawl comment page 2150\n",
            "Crawl comment page 2151\n",
            "Crawl comment page 2152\n",
            "Crawl comment page 2153\n",
            "Crawl comment page 2154\n",
            "Crawl comment page 2155\n",
            "Crawl comment page 2156\n",
            "Crawl comment page 2157\n",
            "Crawl comment page 2158\n",
            "Crawl comment page 2159\n",
            "Crawl comment page 2160\n",
            "Crawl comment page 2161\n",
            "Crawl comment page 2162\n",
            "Crawl comment page 2163\n",
            "Crawl comment page 2164\n",
            "Crawl comment page 2165\n",
            "Crawl comment page 2166\n",
            "Crawl comment page 2167\n",
            "Crawl comment page 2168\n",
            "Crawl comment page 2169\n",
            "Crawl comment page 2170\n",
            "Crawl comment page 2171\n",
            "Crawl comment page 2172\n",
            "Crawl comment page 2173\n",
            "Crawl comment page 2174\n",
            "Crawl comment page 2175\n",
            "Crawl comment page 2176\n",
            "Crawl comment page 2177\n",
            "Crawl comment page 2178\n",
            "Crawl comment page 2179\n",
            "Crawl comment page 2180\n",
            "Crawl comment page 2181\n",
            "Crawl comment page 2182\n",
            "Crawl comment page 2183\n",
            "Crawl comment page 2184\n",
            "Crawl comment page 2185\n",
            "Crawl comment page 2186\n",
            "Crawl comment page 2187\n",
            "Crawl comment page 2188\n",
            "Crawl comment page 2189\n",
            "Crawl comment page 2190\n",
            "Crawl comment page 2191\n",
            "Crawl comment page 2192\n",
            "Crawl comment page 2193\n",
            "Crawl comment page 2194\n",
            "Crawl comment page 2195\n",
            "Crawl comment page 2196\n",
            "Crawl comment page 2197\n",
            "Crawl comment page 2198\n",
            "Crawl comment page 2199\n",
            "Crawl comment page 2200\n",
            "Crawl comment page 2201\n",
            "Crawl comment page 2202\n",
            "Crawl comment page 2203\n",
            "Crawl comment page 2204\n",
            "Crawl comment page 2205\n",
            "Crawl comment page 2206\n",
            "Crawl comment page 2207\n",
            "Crawl comment page 2208\n",
            "Crawl comment page 2209\n",
            "Crawl comment page 2210\n",
            "Crawl comment page 2211\n",
            "Crawl comment page 2212\n",
            "Crawl comment page 2213\n",
            "Crawl comment page 2214\n",
            "Crawl comment page 2215\n",
            "Crawl comment page 2216\n",
            "Crawl comment page 2217\n",
            "Crawl comment page 2218\n",
            "Crawl comment page 2219\n",
            "Crawl comment page 2220\n",
            "Crawl comment page 2221\n",
            "Crawl comment page 2222\n",
            "Crawl comment page 2223\n",
            "Crawl comment page 2224\n",
            "Crawl comment page 2225\n",
            "Crawl comment page 2226\n",
            "Crawl comment page 2227\n",
            "Crawl comment page 2228\n",
            "Crawl comment page 2229\n",
            "Crawl comment page 2230\n",
            "Crawl comment page 2231\n",
            "Crawl comment page 2232\n",
            "Crawl comment page 2233\n",
            "Crawl comment page 2234\n",
            "Crawl comment page 2235\n",
            "Crawl comment page 2236\n",
            "Crawl comment page 2237\n",
            "Crawl comment page 2238\n",
            "Crawl comment page 2239\n",
            "Crawl comment page 2240\n",
            "Crawl comment page 2241\n",
            "Crawl comment page 2242\n",
            "Crawl comment page 2243\n",
            "Crawl comment page 2244\n",
            "Crawl comment page 2245\n",
            "Crawl comment page 2246\n",
            "Crawl comment page 2247\n",
            "Crawl comment page 2248\n",
            "Crawl comment page 2249\n",
            "Crawl comment page 2250\n",
            "Crawl comment page 2251\n",
            "Crawl comment page 2252\n",
            "Crawl comment page 2253\n",
            "Crawl comment page 2254\n",
            "Crawl comment page 2255\n",
            "Crawl comment page 2256\n",
            "Crawl comment page 2257\n",
            "Crawl comment page 2258\n",
            "Crawl comment page 2259\n",
            "Crawl comment page 2260\n",
            "Crawl comment page 2261\n",
            "Crawl comment page 2262\n",
            "Crawl comment page 2263\n",
            "Crawl comment page 2264\n",
            "Crawl comment page 2265\n",
            "Crawl comment page 2266\n",
            "Crawl comment page 2267\n",
            "Crawl comment page 2268\n",
            "Crawl comment page 2269\n",
            "Crawl comment page 2270\n",
            "Crawl comment page 2271\n",
            "Crawl comment page 2272\n",
            "Crawl comment page 2273\n",
            "Crawl comment page 2274\n",
            "Crawl comment page 2275\n",
            "Crawl comment page 2276\n",
            "Crawl comment page 2277\n",
            "Crawl comment page 2278\n",
            "Crawl comment page 2279\n",
            "Crawl comment page 2280\n",
            "Crawl comment page 2281\n",
            "Crawl comment page 2282\n",
            "Crawl comment page 2283\n",
            "Crawl comment page 2284\n",
            "Crawl comment page 2285\n",
            "Crawl comment page 2286\n",
            "Crawl comment page 2287\n",
            "Crawl comment page 2288\n",
            "Crawl comment page 2289\n",
            "Crawl comment page 2290\n",
            "Crawl comment page 2291\n",
            "Crawl comment page 2292\n",
            "Crawl comment page 2293\n",
            "Crawl comment page 2294\n",
            "Crawl comment page 2295\n",
            "Crawl comment page 2296\n",
            "Crawl comment page 2297\n",
            "Crawl comment page 2298\n",
            "Crawl comment page 2299\n",
            "Crawl comment page 2300\n",
            "Crawl comment page 2301\n",
            "Crawl comment page 2302\n",
            "Crawl comment page 2303\n",
            "Crawl comment page 2304\n",
            "Crawl comment page 2305\n",
            "Crawl comment page 2306\n",
            "Crawl comment page 2307\n",
            "Crawl comment page 2308\n",
            "Crawl comment page 2309\n",
            "Crawl comment page 2310\n",
            "Crawl comment page 2311\n",
            "Crawl comment page 2312\n",
            "Crawl comment page 2313\n",
            "Crawl comment page 2314\n",
            "Crawl comment page 2315\n",
            "Crawl comment page 2316\n",
            "Crawl comment page 2317\n",
            "Crawl comment page 2318\n",
            "Crawl comment page 2319\n",
            "Crawl comment page 2320\n",
            "Crawl comment page 2321\n",
            "Crawl comment page 2322\n",
            "Crawl comment page 2323\n",
            "Crawl comment page 2324\n",
            "Crawl comment page 2325\n",
            "Crawl comment page 2326\n",
            "Crawl comment page 2327\n",
            "Crawl comment page 2328\n",
            "Crawl comment page 2329\n",
            "Crawl comment page 2330\n",
            "Crawl comment page 2331\n",
            "Crawl comment page 2332\n",
            "Crawl comment page 2333\n",
            "Crawl comment page 2334\n",
            "Crawl comment page 2335\n",
            "Crawl comment page 2336\n",
            "Crawl comment page 2337\n",
            "Crawl comment page 2338\n",
            "Crawl comment page 2339\n",
            "Crawl comment page 2340\n",
            "Crawl comment page 2341\n",
            "Crawl comment page 2342\n",
            "Crawl comment page 2343\n",
            "Crawl comment page 2344\n",
            "Crawl comment page 2345\n",
            "Crawl comment page 2346\n",
            "Crawl comment page 2347\n",
            "Crawl comment page 2348\n",
            "Crawl comment page 2349\n",
            "Crawl comment page 2350\n",
            "Crawl comment page 2351\n",
            "Crawl comment page 2352\n",
            "Crawl comment page 2353\n",
            "Crawl comment page 2354\n",
            "Crawl comment page 2355\n",
            "Crawl comment page 2356\n",
            "Crawl comment page 2357\n",
            "Crawl comment page 2358\n",
            "Crawl comment page 2359\n",
            "Crawl comment page 2360\n",
            "Crawl comment page 2361\n",
            "Crawl comment page 2362\n",
            "Crawl comment page 2363\n",
            "Crawl comment page 2364\n",
            "Crawl comment page 2365\n",
            "Crawl comment page 2366\n",
            "Crawl comment page 2367\n",
            "Crawl comment page 2368\n",
            "Crawl comment page 2369\n",
            "Crawl comment page 2370\n",
            "Crawl comment page 2371\n",
            "Crawl comment page 2372\n",
            "Crawl comment page 2373\n",
            "Crawl comment page 2374\n",
            "Crawl comment page 2375\n",
            "Crawl comment page 2376\n",
            "Crawl comment page 2377\n",
            "Crawl comment page 2378\n",
            "Crawl comment page 2379\n",
            "Crawl comment page 2380\n",
            "Crawl comment page 2381\n",
            "Crawl comment page 2382\n",
            "Crawl comment page 2383\n",
            "Crawl comment page 2384\n",
            "Crawl comment page 2385\n",
            "Crawl comment page 2386\n",
            "Crawl comment page 2387\n",
            "Crawl comment page 2388\n",
            "Crawl comment page 2389\n",
            "Crawl comment page 2390\n",
            "Crawl comment page 2391\n",
            "Crawl comment page 2392\n",
            "Crawl comment page 2393\n",
            "Crawl comment page 2394\n",
            "Crawl comment page 2395\n",
            "Crawl comment page 2396\n",
            "Crawl comment page 2397\n",
            "Crawl comment page 2398\n",
            "Crawl comment page 2399\n",
            "Crawl comment page 2400\n",
            "Crawl comment page 2401\n",
            "Crawl comment page 2402\n",
            "Crawl comment page 2403\n",
            "Crawl comment page 2404\n",
            "Crawl comment page 2405\n",
            "Crawl comment page 2406\n",
            "Crawl comment page 2407\n",
            "Crawl comment page 2408\n",
            "Crawl comment page 2409\n",
            "Crawl comment page 2410\n",
            "Crawl comment page 2411\n",
            "Crawl comment page 2412\n",
            "Crawl comment page 2413\n",
            "Crawl comment page 2414\n",
            "Crawl comment page 2415\n",
            "Crawl comment page 2416\n",
            "Crawl comment page 2417\n",
            "Crawl comment page 2418\n",
            "Crawl comment page 2419\n",
            "Crawl comment page 2420\n",
            "Crawl comment page 2421\n",
            "Crawl comment page 2422\n",
            "Crawl comment page 2423\n",
            "Crawl comment page 2424\n",
            "Crawl comment page 2425\n",
            "Crawl comment page 2426\n",
            "Crawl comment page 2427\n",
            "Crawl comment page 2428\n",
            "Crawl comment page 2429\n",
            "Crawl comment page 2430\n",
            "Crawl comment page 2431\n",
            "Crawl comment page 2432\n",
            "Crawl comment page 2433\n",
            "Crawl comment page 2434\n",
            "Crawl comment page 2435\n",
            "Crawl comment page 2436\n",
            "Crawl comment page 2437\n",
            "Crawl comment page 2438\n",
            "Crawl comment page 2439\n",
            "Crawl comment page 2440\n",
            "Crawl comment page 2441\n",
            "Crawl comment page 2442\n",
            "Crawl comment page 2443\n",
            "Crawl comment page 2444\n",
            "Crawl comment page 2445\n",
            "Crawl comment page 2446\n",
            "Crawl comment page 2447\n",
            "Crawl comment page 2448\n",
            "Crawl comment page 2449\n",
            "Crawl comment page 2450\n",
            "Crawl comment page 2451\n",
            "Crawl comment page 2452\n",
            "Crawl comment page 2453\n",
            "Crawl comment page 2454\n",
            "Crawl comment page 2455\n",
            "Crawl comment page 2456\n",
            "Crawl comment page 2457\n",
            "Crawl comment page 2458\n",
            "Crawl comment page 2459\n",
            "Crawl comment page 2460\n",
            "Crawl comment page 2461\n",
            "Crawl comment page 2462\n",
            "Crawl comment page 2463\n",
            "Crawl comment page 2464\n",
            "Crawl comment page 2465\n",
            "Crawl comment page 2466\n",
            "Crawl comment page 2467\n",
            "Crawl comment page 2468\n",
            "Crawl comment page 2469\n",
            "Crawl comment page 2470\n",
            "Crawl comment page 2471\n",
            "Crawl comment page 2472\n",
            "Crawl comment page 2473\n",
            "Crawl comment page 2474\n",
            "Crawl comment page 2475\n",
            "Crawl comment page 2476\n",
            "Crawl comment page 2477\n",
            "Crawl comment page 2478\n",
            "Crawl comment page 2479\n",
            "Crawl comment page 2480\n",
            "Crawl comment page 2481\n",
            "Crawl comment page 2482\n",
            "Crawl comment page 2483\n",
            "Crawl comment page 2484\n",
            "Crawl comment page 2485\n",
            "Crawl comment page 2486\n",
            "Crawl comment page 2487\n",
            "Crawl comment page 2488\n",
            "Crawl comment page 2489\n",
            "Crawl comment page 2490\n",
            "Crawl comment page 2491\n",
            "Crawl comment page 2492\n",
            "Crawl comment page 2493\n",
            "Crawl comment page 2494\n",
            "Crawl comment page 2495\n",
            "Crawl comment page 2496\n",
            "Crawl comment page 2497\n",
            "Crawl comment page 2498\n",
            "Crawl comment page 2499\n",
            "Crawl comment page 2500\n",
            "Crawl comment page 2501\n",
            "Crawl comment page 2502\n",
            "Crawl comment page 2503\n",
            "Crawl comment page 2504\n",
            "Crawl comment page 2505\n",
            "Crawl comment page 2506\n",
            "Crawl comment page 2507\n",
            "Crawl comment page 2508\n",
            "Crawl comment page 2509\n",
            "Crawl comment page 2510\n",
            "Crawl comment page 2511\n",
            "Crawl comment page 2512\n",
            "Crawl comment page 2513\n",
            "Crawl comment page 2514\n",
            "Crawl comment page 2515\n",
            "Crawl comment page 2516\n",
            "Crawl comment page 2517\n",
            "Crawl comment page 2518\n",
            "Crawl comment page 2519\n",
            "Crawl comment page 2520\n",
            "Crawl comment page 2521\n",
            "Crawl comment page 2522\n",
            "Crawl comment page 2523\n",
            "Crawl comment page 2524\n",
            "Crawl comment page 2525\n",
            "Crawl comment page 2526\n",
            "Crawl comment page 2527\n",
            "Crawl comment page 2528\n",
            "Crawl comment page 2529\n",
            "Crawl comment page 2530\n",
            "Crawl comment page 2531\n",
            "Crawl comment page 2532\n",
            "Crawl comment page 2533\n",
            "Crawl comment page 2534\n",
            "Crawl comment page 2535\n",
            "Crawl comment page 2536\n",
            "Crawl comment page 2537\n",
            "Crawl comment page 2538\n",
            "Crawl comment page 2539\n",
            "Crawl comment page 2540\n",
            "Crawl comment page 2541\n",
            "Crawl comment page 2542\n",
            "Crawl comment page 2543\n",
            "Crawl comment page 2544\n",
            "Crawl comment page 2545\n",
            "Crawl comment page 2546\n"
          ]
        }
      ]
    },
    {
      "cell_type": "code",
      "source": [
        "df_comment"
      ],
      "metadata": {
        "colab": {
          "base_uri": "https://localhost:8080/",
          "height": 1000
        },
        "id": "ARFkolC6LN_d",
        "outputId": "034b36da-434e-4a22-ed12-269b22c6edcc"
      },
      "execution_count": null,
      "outputs": [
        {
          "output_type": "execute_result",
          "data": {
            "text/plain": [
              "         id            title  \\\n",
              "0      None  Cực kì hài lòng   \n",
              "1      None  Cực kì hài lòng   \n",
              "2      None  Cực kì hài lòng   \n",
              "3      None  Cực kì hài lòng   \n",
              "4      None  Cực kì hài lòng   \n",
              "...     ...              ...   \n",
              "12730  None         Hài lòng   \n",
              "12731  None         Hài lòng   \n",
              "12732  None         Hài lòng   \n",
              "12733  None         Hài lòng   \n",
              "12734  None  Cực kì hài lòng   \n",
              "\n",
              "                                                 content    status  \\\n",
              "0      Có những người bước đến, họ lấp đầy hạnh phúc ...  approved   \n",
              "1      Thấy nhiều bạn chê tiki gói hàng quá, may sao ...  approved   \n",
              "2      Bìa cực xinh, tiki giao hàng nhanh, sách không...  approved   \n",
              "3      Nội dung của sách thì không phải bàn đến rồi, ...  approved   \n",
              "4      Một cuốn sách rất đáng đọc về tình yêu thương ...  approved   \n",
              "...                                                  ...       ...   \n",
              "12730                                                     approved   \n",
              "12731                                                     approved   \n",
              "12732                                                     approved   \n",
              "12733                                                     approved   \n",
              "12734                                                     approved   \n",
              "\n",
              "       comment_count  thank_count  customer_id  product_id  rating      score  \\\n",
              "0                  5          369     22051463    74021317       5   0.021633   \n",
              "1                  0           12     27791831    74021317       5   0.017529   \n",
              "2                  3           25     17748750    74021317       5   0.015487   \n",
              "3                  0           16     10149686    74021317       5   0.008848   \n",
              "4                  2            1     28545286    74021317       5   0.041920   \n",
              "...              ...          ...          ...         ...     ...        ...   \n",
              "12730              0            0     18373347    74021317       4  27.777778   \n",
              "12731              0            0      6678041    74021317       4  27.777778   \n",
              "12732              0            0      1713500    74021317       4  27.777778   \n",
              "12733              0            0      5287412    74021317       4  27.777778   \n",
              "12734              0            0      1691102    74021317       5   0.000000   \n",
              "\n",
              "       created_at  is_photo            customer_name  purchased_at  \\\n",
              "0      1633960872      True                  Vân Anh  1.631546e+09   \n",
              "1      1657206097      True       Phan Thảo Yến Nhím  1.657110e+09   \n",
              "2      1640442831      True           Trần Thị Trang  1.640014e+09   \n",
              "3      1632568671      True                 Khánh Ly  1.632483e+09   \n",
              "4      1670438913      True              Phương Linh  1.670236e+09   \n",
              "...           ...       ...                      ...           ...   \n",
              "12730  1611933609     False  Nguyễn Hoàng Minh Ngọc   1.610346e+09   \n",
              "12731  1611902169     False                  Hà Ruồi  1.611574e+09   \n",
              "12732  1610849433     False          Trương Minh Trí  1.610362e+09   \n",
              "12733  1610108850     False         Nguyen Viet Hung  1.609947e+09   \n",
              "12734  1627444939     False        hoang thanh trang  1.627267e+09   \n",
              "\n",
              "             delivery_date  review_created_date agree_vote disagree_vote  \n",
              "0      2021-09-14 10:42:24  2021-10-11 21:01:12         []            []  \n",
              "1      2022-07-07 10:43:42  2022-07-07 22:01:37         []            []  \n",
              "2      2021-12-21 09:27:12  2021-12-25 21:33:51         []            []  \n",
              "3      2021-09-25 13:26:08  2021-09-25 18:17:51         []            []  \n",
              "4      2022-12-06 15:09:24  2022-12-08 01:48:33         []            []  \n",
              "...                    ...                  ...        ...           ...  \n",
              "12730  2021-01-12 15:53:13  2021-01-29 22:20:09         []            []  \n",
              "12731  2021-01-27 19:44:23  2021-01-29 13:36:09         []            []  \n",
              "12732  2021-01-13 11:32:24  2021-01-17 09:10:33         []            []  \n",
              "12733  2021-01-08 14:00:29  2021-01-08 19:27:30         []            []  \n",
              "12734  2021-07-27 10:05:01  2021-07-28 11:02:19         []            []  \n",
              "\n",
              "[12735 rows x 18 columns]"
            ],
            "text/html": [
              "\n",
              "  <div id=\"df-932ad317-7a70-4dd7-8799-70619f6ad56a\">\n",
              "    <div class=\"colab-df-container\">\n",
              "      <div>\n",
              "<style scoped>\n",
              "    .dataframe tbody tr th:only-of-type {\n",
              "        vertical-align: middle;\n",
              "    }\n",
              "\n",
              "    .dataframe tbody tr th {\n",
              "        vertical-align: top;\n",
              "    }\n",
              "\n",
              "    .dataframe thead th {\n",
              "        text-align: right;\n",
              "    }\n",
              "</style>\n",
              "<table border=\"1\" class=\"dataframe\">\n",
              "  <thead>\n",
              "    <tr style=\"text-align: right;\">\n",
              "      <th></th>\n",
              "      <th>id</th>\n",
              "      <th>title</th>\n",
              "      <th>content</th>\n",
              "      <th>status</th>\n",
              "      <th>comment_count</th>\n",
              "      <th>thank_count</th>\n",
              "      <th>customer_id</th>\n",
              "      <th>product_id</th>\n",
              "      <th>rating</th>\n",
              "      <th>score</th>\n",
              "      <th>created_at</th>\n",
              "      <th>is_photo</th>\n",
              "      <th>customer_name</th>\n",
              "      <th>purchased_at</th>\n",
              "      <th>delivery_date</th>\n",
              "      <th>review_created_date</th>\n",
              "      <th>agree_vote</th>\n",
              "      <th>disagree_vote</th>\n",
              "    </tr>\n",
              "  </thead>\n",
              "  <tbody>\n",
              "    <tr>\n",
              "      <th>0</th>\n",
              "      <td>None</td>\n",
              "      <td>Cực kì hài lòng</td>\n",
              "      <td>Có những người bước đến, họ lấp đầy hạnh phúc ...</td>\n",
              "      <td>approved</td>\n",
              "      <td>5</td>\n",
              "      <td>369</td>\n",
              "      <td>22051463</td>\n",
              "      <td>74021317</td>\n",
              "      <td>5</td>\n",
              "      <td>0.021633</td>\n",
              "      <td>1633960872</td>\n",
              "      <td>True</td>\n",
              "      <td>Vân Anh</td>\n",
              "      <td>1.631546e+09</td>\n",
              "      <td>2021-09-14 10:42:24</td>\n",
              "      <td>2021-10-11 21:01:12</td>\n",
              "      <td>[]</td>\n",
              "      <td>[]</td>\n",
              "    </tr>\n",
              "    <tr>\n",
              "      <th>1</th>\n",
              "      <td>None</td>\n",
              "      <td>Cực kì hài lòng</td>\n",
              "      <td>Thấy nhiều bạn chê tiki gói hàng quá, may sao ...</td>\n",
              "      <td>approved</td>\n",
              "      <td>0</td>\n",
              "      <td>12</td>\n",
              "      <td>27791831</td>\n",
              "      <td>74021317</td>\n",
              "      <td>5</td>\n",
              "      <td>0.017529</td>\n",
              "      <td>1657206097</td>\n",
              "      <td>True</td>\n",
              "      <td>Phan Thảo Yến Nhím</td>\n",
              "      <td>1.657110e+09</td>\n",
              "      <td>2022-07-07 10:43:42</td>\n",
              "      <td>2022-07-07 22:01:37</td>\n",
              "      <td>[]</td>\n",
              "      <td>[]</td>\n",
              "    </tr>\n",
              "    <tr>\n",
              "      <th>2</th>\n",
              "      <td>None</td>\n",
              "      <td>Cực kì hài lòng</td>\n",
              "      <td>Bìa cực xinh, tiki giao hàng nhanh, sách không...</td>\n",
              "      <td>approved</td>\n",
              "      <td>3</td>\n",
              "      <td>25</td>\n",
              "      <td>17748750</td>\n",
              "      <td>74021317</td>\n",
              "      <td>5</td>\n",
              "      <td>0.015487</td>\n",
              "      <td>1640442831</td>\n",
              "      <td>True</td>\n",
              "      <td>Trần Thị Trang</td>\n",
              "      <td>1.640014e+09</td>\n",
              "      <td>2021-12-21 09:27:12</td>\n",
              "      <td>2021-12-25 21:33:51</td>\n",
              "      <td>[]</td>\n",
              "      <td>[]</td>\n",
              "    </tr>\n",
              "    <tr>\n",
              "      <th>3</th>\n",
              "      <td>None</td>\n",
              "      <td>Cực kì hài lòng</td>\n",
              "      <td>Nội dung của sách thì không phải bàn đến rồi, ...</td>\n",
              "      <td>approved</td>\n",
              "      <td>0</td>\n",
              "      <td>16</td>\n",
              "      <td>10149686</td>\n",
              "      <td>74021317</td>\n",
              "      <td>5</td>\n",
              "      <td>0.008848</td>\n",
              "      <td>1632568671</td>\n",
              "      <td>True</td>\n",
              "      <td>Khánh Ly</td>\n",
              "      <td>1.632483e+09</td>\n",
              "      <td>2021-09-25 13:26:08</td>\n",
              "      <td>2021-09-25 18:17:51</td>\n",
              "      <td>[]</td>\n",
              "      <td>[]</td>\n",
              "    </tr>\n",
              "    <tr>\n",
              "      <th>4</th>\n",
              "      <td>None</td>\n",
              "      <td>Cực kì hài lòng</td>\n",
              "      <td>Một cuốn sách rất đáng đọc về tình yêu thương ...</td>\n",
              "      <td>approved</td>\n",
              "      <td>2</td>\n",
              "      <td>1</td>\n",
              "      <td>28545286</td>\n",
              "      <td>74021317</td>\n",
              "      <td>5</td>\n",
              "      <td>0.041920</td>\n",
              "      <td>1670438913</td>\n",
              "      <td>True</td>\n",
              "      <td>Phương Linh</td>\n",
              "      <td>1.670236e+09</td>\n",
              "      <td>2022-12-06 15:09:24</td>\n",
              "      <td>2022-12-08 01:48:33</td>\n",
              "      <td>[]</td>\n",
              "      <td>[]</td>\n",
              "    </tr>\n",
              "    <tr>\n",
              "      <th>...</th>\n",
              "      <td>...</td>\n",
              "      <td>...</td>\n",
              "      <td>...</td>\n",
              "      <td>...</td>\n",
              "      <td>...</td>\n",
              "      <td>...</td>\n",
              "      <td>...</td>\n",
              "      <td>...</td>\n",
              "      <td>...</td>\n",
              "      <td>...</td>\n",
              "      <td>...</td>\n",
              "      <td>...</td>\n",
              "      <td>...</td>\n",
              "      <td>...</td>\n",
              "      <td>...</td>\n",
              "      <td>...</td>\n",
              "      <td>...</td>\n",
              "      <td>...</td>\n",
              "    </tr>\n",
              "    <tr>\n",
              "      <th>12730</th>\n",
              "      <td>None</td>\n",
              "      <td>Hài lòng</td>\n",
              "      <td></td>\n",
              "      <td>approved</td>\n",
              "      <td>0</td>\n",
              "      <td>0</td>\n",
              "      <td>18373347</td>\n",
              "      <td>74021317</td>\n",
              "      <td>4</td>\n",
              "      <td>27.777778</td>\n",
              "      <td>1611933609</td>\n",
              "      <td>False</td>\n",
              "      <td>Nguyễn Hoàng Minh Ngọc</td>\n",
              "      <td>1.610346e+09</td>\n",
              "      <td>2021-01-12 15:53:13</td>\n",
              "      <td>2021-01-29 22:20:09</td>\n",
              "      <td>[]</td>\n",
              "      <td>[]</td>\n",
              "    </tr>\n",
              "    <tr>\n",
              "      <th>12731</th>\n",
              "      <td>None</td>\n",
              "      <td>Hài lòng</td>\n",
              "      <td></td>\n",
              "      <td>approved</td>\n",
              "      <td>0</td>\n",
              "      <td>0</td>\n",
              "      <td>6678041</td>\n",
              "      <td>74021317</td>\n",
              "      <td>4</td>\n",
              "      <td>27.777778</td>\n",
              "      <td>1611902169</td>\n",
              "      <td>False</td>\n",
              "      <td>Hà Ruồi</td>\n",
              "      <td>1.611574e+09</td>\n",
              "      <td>2021-01-27 19:44:23</td>\n",
              "      <td>2021-01-29 13:36:09</td>\n",
              "      <td>[]</td>\n",
              "      <td>[]</td>\n",
              "    </tr>\n",
              "    <tr>\n",
              "      <th>12732</th>\n",
              "      <td>None</td>\n",
              "      <td>Hài lòng</td>\n",
              "      <td></td>\n",
              "      <td>approved</td>\n",
              "      <td>0</td>\n",
              "      <td>0</td>\n",
              "      <td>1713500</td>\n",
              "      <td>74021317</td>\n",
              "      <td>4</td>\n",
              "      <td>27.777778</td>\n",
              "      <td>1610849433</td>\n",
              "      <td>False</td>\n",
              "      <td>Trương Minh Trí</td>\n",
              "      <td>1.610362e+09</td>\n",
              "      <td>2021-01-13 11:32:24</td>\n",
              "      <td>2021-01-17 09:10:33</td>\n",
              "      <td>[]</td>\n",
              "      <td>[]</td>\n",
              "    </tr>\n",
              "    <tr>\n",
              "      <th>12733</th>\n",
              "      <td>None</td>\n",
              "      <td>Hài lòng</td>\n",
              "      <td></td>\n",
              "      <td>approved</td>\n",
              "      <td>0</td>\n",
              "      <td>0</td>\n",
              "      <td>5287412</td>\n",
              "      <td>74021317</td>\n",
              "      <td>4</td>\n",
              "      <td>27.777778</td>\n",
              "      <td>1610108850</td>\n",
              "      <td>False</td>\n",
              "      <td>Nguyen Viet Hung</td>\n",
              "      <td>1.609947e+09</td>\n",
              "      <td>2021-01-08 14:00:29</td>\n",
              "      <td>2021-01-08 19:27:30</td>\n",
              "      <td>[]</td>\n",
              "      <td>[]</td>\n",
              "    </tr>\n",
              "    <tr>\n",
              "      <th>12734</th>\n",
              "      <td>None</td>\n",
              "      <td>Cực kì hài lòng</td>\n",
              "      <td></td>\n",
              "      <td>approved</td>\n",
              "      <td>0</td>\n",
              "      <td>0</td>\n",
              "      <td>1691102</td>\n",
              "      <td>74021317</td>\n",
              "      <td>5</td>\n",
              "      <td>0.000000</td>\n",
              "      <td>1627444939</td>\n",
              "      <td>False</td>\n",
              "      <td>hoang thanh trang</td>\n",
              "      <td>1.627267e+09</td>\n",
              "      <td>2021-07-27 10:05:01</td>\n",
              "      <td>2021-07-28 11:02:19</td>\n",
              "      <td>[]</td>\n",
              "      <td>[]</td>\n",
              "    </tr>\n",
              "  </tbody>\n",
              "</table>\n",
              "<p>12735 rows × 18 columns</p>\n",
              "</div>\n",
              "      <button class=\"colab-df-convert\" onclick=\"convertToInteractive('df-932ad317-7a70-4dd7-8799-70619f6ad56a')\"\n",
              "              title=\"Convert this dataframe to an interactive table.\"\n",
              "              style=\"display:none;\">\n",
              "        \n",
              "  <svg xmlns=\"http://www.w3.org/2000/svg\" height=\"24px\"viewBox=\"0 0 24 24\"\n",
              "       width=\"24px\">\n",
              "    <path d=\"M0 0h24v24H0V0z\" fill=\"none\"/>\n",
              "    <path d=\"M18.56 5.44l.94 2.06.94-2.06 2.06-.94-2.06-.94-.94-2.06-.94 2.06-2.06.94zm-11 1L8.5 8.5l.94-2.06 2.06-.94-2.06-.94L8.5 2.5l-.94 2.06-2.06.94zm10 10l.94 2.06.94-2.06 2.06-.94-2.06-.94-.94-2.06-.94 2.06-2.06.94z\"/><path d=\"M17.41 7.96l-1.37-1.37c-.4-.4-.92-.59-1.43-.59-.52 0-1.04.2-1.43.59L10.3 9.45l-7.72 7.72c-.78.78-.78 2.05 0 2.83L4 21.41c.39.39.9.59 1.41.59.51 0 1.02-.2 1.41-.59l7.78-7.78 2.81-2.81c.8-.78.8-2.07 0-2.86zM5.41 20L4 18.59l7.72-7.72 1.47 1.35L5.41 20z\"/>\n",
              "  </svg>\n",
              "      </button>\n",
              "      \n",
              "  <style>\n",
              "    .colab-df-container {\n",
              "      display:flex;\n",
              "      flex-wrap:wrap;\n",
              "      gap: 12px;\n",
              "    }\n",
              "\n",
              "    .colab-df-convert {\n",
              "      background-color: #E8F0FE;\n",
              "      border: none;\n",
              "      border-radius: 50%;\n",
              "      cursor: pointer;\n",
              "      display: none;\n",
              "      fill: #1967D2;\n",
              "      height: 32px;\n",
              "      padding: 0 0 0 0;\n",
              "      width: 32px;\n",
              "    }\n",
              "\n",
              "    .colab-df-convert:hover {\n",
              "      background-color: #E2EBFA;\n",
              "      box-shadow: 0px 1px 2px rgba(60, 64, 67, 0.3), 0px 1px 3px 1px rgba(60, 64, 67, 0.15);\n",
              "      fill: #174EA6;\n",
              "    }\n",
              "\n",
              "    [theme=dark] .colab-df-convert {\n",
              "      background-color: #3B4455;\n",
              "      fill: #D2E3FC;\n",
              "    }\n",
              "\n",
              "    [theme=dark] .colab-df-convert:hover {\n",
              "      background-color: #434B5C;\n",
              "      box-shadow: 0px 1px 3px 1px rgba(0, 0, 0, 0.15);\n",
              "      filter: drop-shadow(0px 1px 2px rgba(0, 0, 0, 0.3));\n",
              "      fill: #FFFFFF;\n",
              "    }\n",
              "  </style>\n",
              "\n",
              "      <script>\n",
              "        const buttonEl =\n",
              "          document.querySelector('#df-932ad317-7a70-4dd7-8799-70619f6ad56a button.colab-df-convert');\n",
              "        buttonEl.style.display =\n",
              "          google.colab.kernel.accessAllowed ? 'block' : 'none';\n",
              "\n",
              "        async function convertToInteractive(key) {\n",
              "          const element = document.querySelector('#df-932ad317-7a70-4dd7-8799-70619f6ad56a');\n",
              "          const dataTable =\n",
              "            await google.colab.kernel.invokeFunction('convertToInteractive',\n",
              "                                                     [key], {});\n",
              "          if (!dataTable) return;\n",
              "\n",
              "          const docLinkHtml = 'Like what you see? Visit the ' +\n",
              "            '<a target=\"_blank\" href=https://colab.research.google.com/notebooks/data_table.ipynb>data table notebook</a>'\n",
              "            + ' to learn more about interactive tables.';\n",
              "          element.innerHTML = '';\n",
              "          dataTable['output_type'] = 'display_data';\n",
              "          await google.colab.output.renderOutput(dataTable, element);\n",
              "          const docLink = document.createElement('div');\n",
              "          docLink.innerHTML = docLinkHtml;\n",
              "          element.appendChild(docLink);\n",
              "        }\n",
              "      </script>\n",
              "    </div>\n",
              "  </div>\n",
              "  "
            ]
          },
          "metadata": {},
          "execution_count": 83
        }
      ]
    },
    {
      "cell_type": "code",
      "source": [
        "df_comment.to_csv('comment_product_data_tiki.csv', index=False)"
      ],
      "metadata": {
        "id": "si79QQUP5XkK"
      },
      "execution_count": null,
      "outputs": []
    }
  ]
}